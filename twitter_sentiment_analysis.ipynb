{
  "nbformat": 4,
  "nbformat_minor": 0,
  "metadata": {
    "kernelspec": {
      "display_name": "Python 3",
      "language": "python",
      "name": "python3"
    },
    "colab": {
      "name": "twitter-sentiment-analysis.ipynb",
      "provenance": [],
      "include_colab_link": true
    }
  },
  "cells": [
    {
      "cell_type": "markdown",
      "metadata": {
        "id": "view-in-github",
        "colab_type": "text"
      },
      "source": [
        "<a href=\"https://colab.research.google.com/github/sachinkatageri/ML_data_science/blob/master/twitter_sentiment_analysis.ipynb\" target=\"_parent\"><img src=\"https://colab.research.google.com/assets/colab-badge.svg\" alt=\"Open In Colab\"/></a>"
      ]
    },
    {
      "cell_type": "markdown",
      "metadata": {
        "_uuid": "92b885dd147dac19bd0a33db3cd0da100bd5bc23",
        "id": "pK3VHZbh5yag",
        "colab_type": "text"
      },
      "source": [
        "# Twitter Sentiment Analysis"
      ]
    },
    {
      "cell_type": "code",
      "metadata": {
        "_uuid": "70282bce8b42a51e4d44f2c7d85c4ca9567b0fd4",
        "id": "DXrl0hrv5yaj",
        "colab_type": "code",
        "colab": {
          "base_uri": "https://localhost:8080/",
          "height": 908
        },
        "outputId": "bdbbf2b2-2071-4002-e743-d3a8a3353388"
      },
      "source": [
        "!pip install gensim --upgrade\n",
        "!pip install keras --upgrade\n",
        "!pip install pandas --upgrade"
      ],
      "execution_count": 4,
      "outputs": [
        {
          "output_type": "stream",
          "text": [
            "Collecting gensim\n",
            "\u001b[?25l  Downloading https://files.pythonhosted.org/packages/2b/e0/fa6326251692056dc880a64eb22117e03269906ba55a6864864d24ec8b4e/gensim-3.8.3-cp36-cp36m-manylinux1_x86_64.whl (24.2MB)\n",
            "\u001b[K     |████████████████████████████████| 24.2MB 1.4MB/s \n",
            "\u001b[?25hRequirement already satisfied, skipping upgrade: smart-open>=1.8.1 in /usr/local/lib/python3.6/dist-packages (from gensim) (2.1.1)\n",
            "Requirement already satisfied, skipping upgrade: scipy>=0.18.1 in /usr/local/lib/python3.6/dist-packages (from gensim) (1.4.1)\n",
            "Requirement already satisfied, skipping upgrade: numpy>=1.11.3 in /usr/local/lib/python3.6/dist-packages (from gensim) (1.18.5)\n",
            "Requirement already satisfied, skipping upgrade: six>=1.5.0 in /usr/local/lib/python3.6/dist-packages (from gensim) (1.15.0)\n",
            "Requirement already satisfied, skipping upgrade: boto in /usr/local/lib/python3.6/dist-packages (from smart-open>=1.8.1->gensim) (2.49.0)\n",
            "Requirement already satisfied, skipping upgrade: boto3 in /usr/local/lib/python3.6/dist-packages (from smart-open>=1.8.1->gensim) (1.14.63)\n",
            "Requirement already satisfied, skipping upgrade: requests in /usr/local/lib/python3.6/dist-packages (from smart-open>=1.8.1->gensim) (2.23.0)\n",
            "Requirement already satisfied, skipping upgrade: botocore<1.18.0,>=1.17.63 in /usr/local/lib/python3.6/dist-packages (from boto3->smart-open>=1.8.1->gensim) (1.17.63)\n",
            "Requirement already satisfied, skipping upgrade: s3transfer<0.4.0,>=0.3.0 in /usr/local/lib/python3.6/dist-packages (from boto3->smart-open>=1.8.1->gensim) (0.3.3)\n",
            "Requirement already satisfied, skipping upgrade: jmespath<1.0.0,>=0.7.1 in /usr/local/lib/python3.6/dist-packages (from boto3->smart-open>=1.8.1->gensim) (0.10.0)\n",
            "Requirement already satisfied, skipping upgrade: chardet<4,>=3.0.2 in /usr/local/lib/python3.6/dist-packages (from requests->smart-open>=1.8.1->gensim) (3.0.4)\n",
            "Requirement already satisfied, skipping upgrade: urllib3!=1.25.0,!=1.25.1,<1.26,>=1.21.1 in /usr/local/lib/python3.6/dist-packages (from requests->smart-open>=1.8.1->gensim) (1.24.3)\n",
            "Requirement already satisfied, skipping upgrade: idna<3,>=2.5 in /usr/local/lib/python3.6/dist-packages (from requests->smart-open>=1.8.1->gensim) (2.10)\n",
            "Requirement already satisfied, skipping upgrade: certifi>=2017.4.17 in /usr/local/lib/python3.6/dist-packages (from requests->smart-open>=1.8.1->gensim) (2020.6.20)\n",
            "Requirement already satisfied, skipping upgrade: docutils<0.16,>=0.10 in /usr/local/lib/python3.6/dist-packages (from botocore<1.18.0,>=1.17.63->boto3->smart-open>=1.8.1->gensim) (0.15.2)\n",
            "Requirement already satisfied, skipping upgrade: python-dateutil<3.0.0,>=2.1 in /usr/local/lib/python3.6/dist-packages (from botocore<1.18.0,>=1.17.63->boto3->smart-open>=1.8.1->gensim) (2.8.1)\n",
            "Installing collected packages: gensim\n",
            "  Found existing installation: gensim 3.6.0\n",
            "    Uninstalling gensim-3.6.0:\n",
            "      Successfully uninstalled gensim-3.6.0\n",
            "Successfully installed gensim-3.8.3\n",
            "Requirement already up-to-date: keras in /usr/local/lib/python3.6/dist-packages (2.4.3)\n",
            "Requirement already satisfied, skipping upgrade: numpy>=1.9.1 in /usr/local/lib/python3.6/dist-packages (from keras) (1.18.5)\n",
            "Requirement already satisfied, skipping upgrade: scipy>=0.14 in /usr/local/lib/python3.6/dist-packages (from keras) (1.4.1)\n",
            "Requirement already satisfied, skipping upgrade: h5py in /usr/local/lib/python3.6/dist-packages (from keras) (2.10.0)\n",
            "Requirement already satisfied, skipping upgrade: pyyaml in /usr/local/lib/python3.6/dist-packages (from keras) (3.13)\n",
            "Requirement already satisfied, skipping upgrade: six in /usr/local/lib/python3.6/dist-packages (from h5py->keras) (1.15.0)\n",
            "Collecting pandas\n",
            "\u001b[?25l  Downloading https://files.pythonhosted.org/packages/1c/11/e1f53db0614f2721027aab297c8afd2eaf58d33d566441a97ea454541c5e/pandas-1.1.2-cp36-cp36m-manylinux1_x86_64.whl (10.5MB)\n",
            "\u001b[K     |████████████████████████████████| 10.5MB 3.3MB/s \n",
            "\u001b[?25hRequirement already satisfied, skipping upgrade: pytz>=2017.2 in /usr/local/lib/python3.6/dist-packages (from pandas) (2018.9)\n",
            "Requirement already satisfied, skipping upgrade: python-dateutil>=2.7.3 in /usr/local/lib/python3.6/dist-packages (from pandas) (2.8.1)\n",
            "Requirement already satisfied, skipping upgrade: numpy>=1.15.4 in /usr/local/lib/python3.6/dist-packages (from pandas) (1.18.5)\n",
            "Requirement already satisfied, skipping upgrade: six>=1.5 in /usr/local/lib/python3.6/dist-packages (from python-dateutil>=2.7.3->pandas) (1.15.0)\n",
            "\u001b[31mERROR: google-colab 1.0.0 has requirement pandas~=1.0.0; python_version >= \"3.0\", but you'll have pandas 1.1.2 which is incompatible.\u001b[0m\n",
            "Installing collected packages: pandas\n",
            "  Found existing installation: pandas 1.0.5\n",
            "    Uninstalling pandas-1.0.5:\n",
            "      Successfully uninstalled pandas-1.0.5\n",
            "Successfully installed pandas-1.1.2\n"
          ],
          "name": "stdout"
        },
        {
          "output_type": "display_data",
          "data": {
            "application/vnd.colab-display-data+json": {
              "pip_warning": {
                "packages": [
                  "pandas"
                ]
              }
            }
          },
          "metadata": {
            "tags": []
          }
        }
      ]
    },
    {
      "cell_type": "code",
      "metadata": {
        "_uuid": "303e72966af732ddef0bd8108a321095314e44af",
        "id": "MJ7cI_g05ya0",
        "colab_type": "code",
        "colab": {}
      },
      "source": [
        "# DataFrame\n",
        "import pandas as pd\n",
        "\n",
        "# Matplot\n",
        "import matplotlib.pyplot as plt\n",
        "%matplotlib inline\n",
        "\n",
        "# Scikit-learn\n",
        "from sklearn.model_selection import train_test_split\n",
        "from sklearn.preprocessing import LabelEncoder\n",
        "from sklearn.metrics import confusion_matrix, classification_report, accuracy_score\n",
        "from sklearn.manifold import TSNE\n",
        "from sklearn.feature_extraction.text import TfidfVectorizer\n",
        "\n",
        "# Keras\n",
        "from keras.preprocessing.text import Tokenizer\n",
        "from keras.preprocessing.sequence import pad_sequences\n",
        "from keras.models import Sequential\n",
        "from keras.layers import Activation, Dense, Dropout, Embedding, Flatten, Conv1D, MaxPooling1D, LSTM\n",
        "from keras import utils\n",
        "from keras.callbacks import ReduceLROnPlateau, EarlyStopping\n",
        "\n",
        "# nltk\n",
        "import nltk\n",
        "from nltk.corpus import stopwords\n",
        "from  nltk.stem import SnowballStemmer\n",
        "\n",
        "# Word2vec\n",
        "import gensim\n",
        "\n",
        "# Utility\n",
        "import re\n",
        "import numpy as np\n",
        "import os\n",
        "from collections import Counter\n",
        "import logging\n",
        "import time\n",
        "import pickle\n",
        "import itertools\n",
        "\n",
        "# Set log\n",
        "logging.basicConfig(format='%(asctime)s : %(levelname)s : %(message)s', level=logging.INFO)"
      ],
      "execution_count": 5,
      "outputs": []
    },
    {
      "cell_type": "code",
      "metadata": {
        "_uuid": "35e1a89dead5fd160e4c9a024a21d2e569fc89ff",
        "id": "ndFANF2w5ya-",
        "colab_type": "code",
        "colab": {
          "base_uri": "https://localhost:8080/",
          "height": 72
        },
        "outputId": "36e0c275-ad75-49a6-df5d-1271406b01c4"
      },
      "source": [
        "nltk.download('stopwords')"
      ],
      "execution_count": 6,
      "outputs": [
        {
          "output_type": "stream",
          "text": [
            "[nltk_data] Downloading package stopwords to /root/nltk_data...\n",
            "[nltk_data]   Package stopwords is already up-to-date!\n"
          ],
          "name": "stdout"
        },
        {
          "output_type": "execute_result",
          "data": {
            "text/plain": [
              "True"
            ]
          },
          "metadata": {
            "tags": []
          },
          "execution_count": 6
        }
      ]
    },
    {
      "cell_type": "markdown",
      "metadata": {
        "_uuid": "e8b01a07df001e4abcc745900336c4db06e455f3",
        "id": "LxWHRuso5ybK",
        "colab_type": "text"
      },
      "source": [
        "### Settings"
      ]
    },
    {
      "cell_type": "code",
      "metadata": {
        "_uuid": "180f0dd2a95419e4602b5c0229822b0111c826f6",
        "id": "FlUcRExE5ybN",
        "colab_type": "code",
        "colab": {}
      },
      "source": [
        "# DATASET\n",
        "DATASET_COLUMNS = [\"target\", \"ids\", \"date\", \"flag\", \"user\", \"text\"]\n",
        "DATASET_ENCODING = \"ISO-8859-1\"\n",
        "TRAIN_SIZE = 0.8\n",
        "\n",
        "# TEXT CLENAING\n",
        "TEXT_CLEANING_RE = \"@\\S+|https?:\\S+|http?:\\S|[^A-Za-z0-9]+\"\n",
        "\n",
        "# WORD2VEC \n",
        "W2V_SIZE = 300\n",
        "W2V_WINDOW = 7\n",
        "W2V_EPOCH = 32\n",
        "W2V_MIN_COUNT = 10\n",
        "\n",
        "# KERAS\n",
        "SEQUENCE_LENGTH = 300\n",
        "EPOCHS = 8\n",
        "BATCH_SIZE = 1024\n",
        "\n",
        "# SENTIMENT\n",
        "POSITIVE = \"POSITIVE\"\n",
        "NEGATIVE = \"NEGATIVE\"\n",
        "NEUTRAL = \"NEUTRAL\"\n",
        "SENTIMENT_THRESHOLDS = (0.4, 0.7)\n",
        "\n",
        "# EXPORT\n",
        "KERAS_MODEL = \"model.h5\"\n",
        "WORD2VEC_MODEL = \"model.w2v\"\n",
        "TOKENIZER_MODEL = \"tokenizer.pkl\"\n",
        "ENCODER_MODEL = \"encoder.pkl\""
      ],
      "execution_count": 7,
      "outputs": []
    },
    {
      "cell_type": "markdown",
      "metadata": {
        "_uuid": "1c3beecc618be68480b3d4f0de08d9d863da1dc1",
        "id": "QExjLxDm5ybV",
        "colab_type": "text"
      },
      "source": [
        "### Read Dataset"
      ]
    },
    {
      "cell_type": "markdown",
      "metadata": {
        "_uuid": "563b3c44f1092dba0b853747b098e00509098cca",
        "id": "j5wpN9kO5ybW",
        "colab_type": "text"
      },
      "source": [
        "### Dataset details\n",
        "* **target**: the polarity of the tweet (0 = negative, 2 = neutral, 4 = positive)\n",
        "* **ids**: The id of the tweet ( 2087)\n",
        "* **date**: the date of the tweet (Sat May 16 23:58:44 UTC 2009)\n",
        "* **flag**: The query (lyx). If there is no query, then this value is NO_QUERY.\n",
        "* **user**: the user that tweeted (robotickilldozr)\n",
        "* **text**: the text of the tweet (Lyx is cool)"
      ]
    },
    {
      "cell_type": "code",
      "metadata": {
        "id": "P_mAfNGD6Uhz",
        "colab_type": "code",
        "colab": {
          "base_uri": "https://localhost:8080/",
          "height": 35
        },
        "outputId": "42fcd7e8-5667-4be3-a0a1-2edd6c91714b"
      },
      "source": [
        "\n",
        "from google.colab import drive\n",
        "drive.mount('/content/drive')"
      ],
      "execution_count": 8,
      "outputs": [
        {
          "output_type": "stream",
          "text": [
            "Drive already mounted at /content/drive; to attempt to forcibly remount, call drive.mount(\"/content/drive\", force_remount=True).\n"
          ],
          "name": "stdout"
        }
      ]
    },
    {
      "cell_type": "code",
      "metadata": {
        "_uuid": "bba8f91cd70de4f5ea0fb0870ae2029b6e3dcc24",
        "id": "speqjwcQ5ybh",
        "colab_type": "code",
        "colab": {}
      },
      "source": [
        "path=(\"/content/drive/My Drive/Colab Notebooks/1.csv\")\n",
        "df = pd.read_csv(path, encoding =DATASET_ENCODING , names=DATASET_COLUMNS)"
      ],
      "execution_count": 9,
      "outputs": []
    },
    {
      "cell_type": "code",
      "metadata": {
        "_uuid": "936d499c00c4f1648bc16ca9d283c3b39be7fb10",
        "id": "lafz6BRR5ybq",
        "colab_type": "code",
        "colab": {
          "base_uri": "https://localhost:8080/",
          "height": 35
        },
        "outputId": "1337b8f7-a85a-495a-eca4-74dff82c39d7"
      },
      "source": [
        "print(\"Dataset size:\", len(df))"
      ],
      "execution_count": 10,
      "outputs": [
        {
          "output_type": "stream",
          "text": [
            "Dataset size: 1600000\n"
          ],
          "name": "stdout"
        }
      ]
    },
    {
      "cell_type": "code",
      "metadata": {
        "_uuid": "7486ed895b813c5246f97b31b6162b0f65ff763b",
        "id": "wsoEiGIB5ybv",
        "colab_type": "code",
        "colab": {}
      },
      "source": [
        "df.head(5)"
      ],
      "execution_count": null,
      "outputs": []
    },
    {
      "cell_type": "markdown",
      "metadata": {
        "_uuid": "3f9a7bb129e184967b13261fb5d253af451c75c5",
        "id": "ezcFHr5h5yb2",
        "colab_type": "text"
      },
      "source": [
        "### Map target label to String\n",
        "* **0** -> **NEGATIVE**\n",
        "* **2** -> **NEUTRAL**\n",
        "* **4** -> **POSITIVE**"
      ]
    },
    {
      "cell_type": "code",
      "metadata": {
        "_uuid": "14074b59106cb9550440839e48b832223fc9502f",
        "id": "E_E-oJBx5yb3",
        "colab_type": "code",
        "colab": {}
      },
      "source": [
        "decode_map = {0: \"NEGATIVE\", 2: \"NEUTRAL\", 4: \"POSITIVE\"}\n",
        "def decode_sentiment(label):\n",
        "    return decode_map[int(label)]"
      ],
      "execution_count": 12,
      "outputs": []
    },
    {
      "cell_type": "code",
      "metadata": {
        "_uuid": "4449d473187f647a195a6ac6986b009da32a7f4b",
        "id": "qhy9rQaG5yb6",
        "colab_type": "code",
        "colab": {
          "base_uri": "https://localhost:8080/",
          "height": 54
        },
        "outputId": "5159c07e-34f9-4b6f-d766-644b39c62875"
      },
      "source": [
        "%%time\n",
        "df.target = df.target.apply(lambda x: decode_sentiment(x))"
      ],
      "execution_count": 13,
      "outputs": [
        {
          "output_type": "stream",
          "text": [
            "CPU times: user 491 ms, sys: 2.92 ms, total: 494 ms\n",
            "Wall time: 498 ms\n"
          ],
          "name": "stdout"
        }
      ]
    },
    {
      "cell_type": "code",
      "metadata": {
        "_uuid": "19eb327803192f31cce3512aacb232f4d6b38715",
        "id": "b4UnzK5O5yb9",
        "colab_type": "code",
        "colab": {
          "base_uri": "https://localhost:8080/",
          "height": 517
        },
        "outputId": "d281641d-e22a-4464-cdf7-2f3e41589a47"
      },
      "source": [
        "target_cnt = Counter(df.target)\n",
        "\n",
        "plt.figure(figsize=(16,8))\n",
        "plt.bar(target_cnt.keys(), target_cnt.values())\n",
        "plt.title(\"Dataset labels distribuition\")"
      ],
      "execution_count": 14,
      "outputs": [
        {
          "output_type": "execute_result",
          "data": {
            "text/plain": [
              "Text(0.5, 1.0, 'Dataset labels distribuition')"
            ]
          },
          "metadata": {
            "tags": []
          },
          "execution_count": 14
        },
        {
          "output_type": "display_data",
          "data": {
            "image/png": "[encoded data removed]",
            "text/plain": [
              "<Figure size 1152x576 with 1 Axes>"
            ]
          },
          "metadata": {
            "tags": [],
            "needs_background": "light"
          }
        }
      ]
    },
    {
      "cell_type": "markdown",
      "metadata": {
        "_uuid": "4329b1573518b03e497213efa7676220734ebb4b",
        "id": "KcgPt7O95ycB",
        "colab_type": "text"
      },
      "source": [
        "### Pre-Process dataset"
      ]
    },
    {
      "cell_type": "code",
      "metadata": {
        "_uuid": "8aeee8b7b9ea11b749c7f91cd4787a7b50ed1a91",
        "id": "Jtnw20-p5ycB",
        "colab_type": "code",
        "colab": {}
      },
      "source": [
        "stop_words = stopwords.words(\"english\")\n",
        "stemmer = SnowballStemmer(\"english\")"
      ],
      "execution_count": 15,
      "outputs": []
    },
    {
      "cell_type": "code",
      "metadata": {
        "_uuid": "649ebcb97969b9ac4301138783704bb3d7846a49",
        "id": "agauA70L5ycH",
        "colab_type": "code",
        "colab": {}
      },
      "source": [
        "def preprocess(text, stem=False):\n",
        "    # Remove link,user and special characters\n",
        "    text = re.sub(TEXT_CLEANING_RE, ' ', str(text).lower()).strip()\n",
        "    tokens = []\n",
        "    for token in text.split():\n",
        "        if token not in stop_words:\n",
        "            if stem:\n",
        "                tokens.append(stemmer.stem(token))\n",
        "            else:\n",
        "                tokens.append(token)\n",
        "    return \" \".join(tokens)"
      ],
      "execution_count": 16,
      "outputs": []
    },
    {
      "cell_type": "code",
      "metadata": {
        "_uuid": "f7f3e77ab9291d14687c49e71ba9b2b1e3323432",
        "id": "YFh7dth25ycL",
        "colab_type": "code",
        "colab": {
          "base_uri": "https://localhost:8080/",
          "height": 54
        },
        "outputId": "0eaef41b-91a1-4cfa-95cc-1e30df5dfc8b"
      },
      "source": [
        "%%time\n",
        "df.text = df.text.apply(lambda x: preprocess(x))"
      ],
      "execution_count": 17,
      "outputs": [
        {
          "output_type": "stream",
          "text": [
            "CPU times: user 44.8 s, sys: 240 ms, total: 45 s\n",
            "Wall time: 45.2 s\n"
          ],
          "name": "stdout"
        }
      ]
    },
    {
      "cell_type": "markdown",
      "metadata": {
        "_uuid": "f5f9714a8507409bbe780eebf2855a33e8e6ba37",
        "id": "IydlctA55ycO",
        "colab_type": "text"
      },
      "source": [
        "### Split train and test"
      ]
    },
    {
      "cell_type": "code",
      "metadata": {
        "_uuid": "d2b1179c968e3f3910c790ecf0c5b2cbb34b0e68",
        "id": "YTc-a-Os5ycP",
        "colab_type": "code",
        "colab": {
          "base_uri": "https://localhost:8080/",
          "height": 54
        },
        "outputId": "4d06327e-9ad1-4ab5-eb57-3c53493bba2a"
      },
      "source": [
        "df_train, df_test = train_test_split(df, test_size=1-TRAIN_SIZE, random_state=42)\n",
        "print(\"TRAIN size:\", len(df_train))\n",
        "print(\"TEST size:\", len(df_test))"
      ],
      "execution_count": 18,
      "outputs": [
        {
          "output_type": "stream",
          "text": [
            "TRAIN size: 1280000\n",
            "TEST size: 320000\n"
          ],
          "name": "stdout"
        }
      ]
    },
    {
      "cell_type": "markdown",
      "metadata": {
        "_uuid": "f08a28aab2c3d16d8b9681a7d5d07587153a1cd6",
        "id": "qkyep4fO5ycT",
        "colab_type": "text"
      },
      "source": [
        "### Word2Vec "
      ]
    },
    {
      "cell_type": "code",
      "metadata": {
        "_uuid": "2461bf564de1b4414841933d0c1d1bee5f5cc5a6",
        "id": "gWlAx96v5ycU",
        "colab_type": "code",
        "colab": {
          "base_uri": "https://localhost:8080/",
          "height": 54
        },
        "outputId": "9de44dcd-a71a-458a-b831-f873cbf0be0a"
      },
      "source": [
        "%%time\n",
        "documents = [_text.split() for _text in df_train.text] \n",
        "import os\n",
        "path=(\"/content/drive/My Drive/Colab Notebooks/model.w2v\")\n",
        "model_exists = os.path.isfile('path')"
      ],
      "execution_count": 19,
      "outputs": [
        {
          "output_type": "stream",
          "text": [
            "CPU times: user 3.35 s, sys: 529 ms, total: 3.87 s\n",
            "Wall time: 3.91 s\n"
          ],
          "name": "stdout"
        }
      ]
    },
    {
      "cell_type": "code",
      "metadata": {
        "id": "0V0Ef458_qDd",
        "colab_type": "code",
        "colab": {}
      },
      "source": [
        "if model_exists:\n",
        "    from gensim.models import Word2Vec\n",
        "    w2v_model=Word2Vec.load(r\"/content/drive/My Drive/Colab Notebooks/model.w2v\")\n",
        "    print(\"w2v model exists, existing model loaded.\")\n",
        "else:\n",
        "    w2v_model = gensim.models.word2vec.Word2Vec(size=W2V_SIZE, \n",
        "                                            window=W2V_WINDOW, \n",
        "                                            min_count=W2V_MIN_COUNT, \n",
        "                                            workers=8)"
      ],
      "execution_count": 20,
      "outputs": []
    },
    {
      "cell_type": "code",
      "metadata": {
        "id": "YiE71ze1_WQP",
        "colab_type": "code",
        "colab": {
          "base_uri": "https://localhost:8080/",
          "height": 1000
        },
        "outputId": "7096eeee-e682-4d6d-b71c-350d1e1b75ee"
      },
      "source": [
        "if not model_exists:\n",
        "    w2v_model.build_vocab(documents)"
      ],
      "execution_count": 21,
      "outputs": [
        {
          "output_type": "stream",
          "text": [
            "2020-09-22 14:17:21,298 : INFO : collecting all words and their counts\n",
            "2020-09-22 14:17:21,300 : INFO : PROGRESS: at sentence #0, processed 0 words, keeping 0 word types\n",
            "2020-09-22 14:17:21,327 : INFO : PROGRESS: at sentence #10000, processed 72565 words, keeping 14005 word types\n",
            "2020-09-22 14:17:21,346 : INFO : PROGRESS: at sentence #20000, processed 144393 words, keeping 21587 word types\n",
            "2020-09-22 14:17:21,370 : INFO : PROGRESS: at sentence #30000, processed 215826 words, keeping 27541 word types\n",
            "2020-09-22 14:17:21,392 : INFO : PROGRESS: at sentence #40000, processed 288271 words, keeping 32764 word types\n",
            "2020-09-22 14:17:21,416 : INFO : PROGRESS: at sentence #50000, processed 359772 words, keeping 37587 word types\n",
            "2020-09-22 14:17:21,441 : INFO : PROGRESS: at sentence #60000, processed 431431 words, keeping 42198 word types\n",
            "2020-09-22 14:17:21,464 : INFO : PROGRESS: at sentence #70000, processed 503103 words, keeping 46458 word types\n",
            "2020-09-22 14:17:21,489 : INFO : PROGRESS: at sentence #80000, processed 575709 words, keeping 50476 word types\n",
            "2020-09-22 14:17:21,512 : INFO : PROGRESS: at sentence #90000, processed 647100 words, keeping 54140 word types\n",
            "2020-09-22 14:17:21,537 : INFO : PROGRESS: at sentence #100000, processed 718681 words, keeping 57777 word types\n",
            "2020-09-22 14:17:21,561 : INFO : PROGRESS: at sentence #110000, processed 790696 words, keeping 61207 word types\n",
            "2020-09-22 14:17:21,589 : INFO : PROGRESS: at sentence #120000, processed 863134 words, keeping 64583 word types\n",
            "2020-09-22 14:17:21,617 : INFO : PROGRESS: at sentence #130000, processed 935111 words, keeping 67865 word types\n",
            "2020-09-22 14:17:21,639 : INFO : PROGRESS: at sentence #140000, processed 1006668 words, keeping 70966 word types\n",
            "2020-09-22 14:17:21,665 : INFO : PROGRESS: at sentence #150000, processed 1078512 words, keeping 74119 word types\n",
            "2020-09-22 14:17:21,691 : INFO : PROGRESS: at sentence #160000, processed 1149914 words, keeping 77187 word types\n",
            "2020-09-22 14:17:21,714 : INFO : PROGRESS: at sentence #170000, processed 1222145 words, keeping 80267 word types\n",
            "2020-09-22 14:17:21,745 : INFO : PROGRESS: at sentence #180000, processed 1294708 words, keeping 83393 word types\n",
            "2020-09-22 14:17:21,773 : INFO : PROGRESS: at sentence #190000, processed 1367608 words, keeping 86329 word types\n",
            "2020-09-22 14:17:21,799 : INFO : PROGRESS: at sentence #200000, processed 1439469 words, keeping 89103 word types\n",
            "2020-09-22 14:17:21,828 : INFO : PROGRESS: at sentence #210000, processed 1512099 words, keeping 91840 word types\n",
            "2020-09-22 14:17:21,855 : INFO : PROGRESS: at sentence #220000, processed 1584149 words, keeping 94636 word types\n",
            "2020-09-22 14:17:21,880 : INFO : PROGRESS: at sentence #230000, processed 1656354 words, keeping 97353 word types\n",
            "2020-09-22 14:17:21,909 : INFO : PROGRESS: at sentence #240000, processed 1728573 words, keeping 99975 word types\n",
            "2020-09-22 14:17:21,938 : INFO : PROGRESS: at sentence #250000, processed 1801102 words, keeping 102594 word types\n",
            "2020-09-22 14:17:21,966 : INFO : PROGRESS: at sentence #260000, processed 1873103 words, keeping 105162 word types\n",
            "2020-09-22 14:17:22,009 : INFO : PROGRESS: at sentence #270000, processed 1945245 words, keeping 107626 word types\n",
            "2020-09-22 14:17:22,041 : INFO : PROGRESS: at sentence #280000, processed 2017163 words, keeping 110141 word types\n",
            "2020-09-22 14:17:22,074 : INFO : PROGRESS: at sentence #290000, processed 2089574 words, keeping 112539 word types\n",
            "2020-09-22 14:17:22,098 : INFO : PROGRESS: at sentence #300000, processed 2160996 words, keeping 114893 word types\n",
            "2020-09-22 14:17:22,126 : INFO : PROGRESS: at sentence #310000, processed 2232913 words, keeping 117298 word types\n",
            "2020-09-22 14:17:22,152 : INFO : PROGRESS: at sentence #320000, processed 2305039 words, keeping 119693 word types\n",
            "2020-09-22 14:17:22,179 : INFO : PROGRESS: at sentence #330000, processed 2377119 words, keeping 122131 word types\n",
            "2020-09-22 14:17:22,204 : INFO : PROGRESS: at sentence #340000, processed 2449370 words, keeping 124416 word types\n",
            "2020-09-22 14:17:22,231 : INFO : PROGRESS: at sentence #350000, processed 2521564 words, keeping 126669 word types\n",
            "2020-09-22 14:17:22,260 : INFO : PROGRESS: at sentence #360000, processed 2593681 words, keeping 128912 word types\n",
            "2020-09-22 14:17:22,286 : INFO : PROGRESS: at sentence #370000, processed 2665692 words, keeping 131135 word types\n",
            "2020-09-22 14:17:22,311 : INFO : PROGRESS: at sentence #380000, processed 2737859 words, keeping 133403 word types\n",
            "2020-09-22 14:17:22,336 : INFO : PROGRESS: at sentence #390000, processed 2809848 words, keeping 135551 word types\n",
            "2020-09-22 14:17:22,369 : INFO : PROGRESS: at sentence #400000, processed 2882438 words, keeping 137742 word types\n",
            "2020-09-22 14:17:22,398 : INFO : PROGRESS: at sentence #410000, processed 2954075 words, keeping 139909 word types\n",
            "2020-09-22 14:17:22,423 : INFO : PROGRESS: at sentence #420000, processed 3026247 words, keeping 142144 word types\n",
            "2020-09-22 14:17:22,452 : INFO : PROGRESS: at sentence #430000, processed 3098659 words, keeping 144364 word types\n",
            "2020-09-22 14:17:22,477 : INFO : PROGRESS: at sentence #440000, processed 3170663 words, keeping 146439 word types\n",
            "2020-09-22 14:17:22,504 : INFO : PROGRESS: at sentence #450000, processed 3243344 words, keeping 148526 word types\n",
            "2020-09-22 14:17:22,534 : INFO : PROGRESS: at sentence #460000, processed 3315466 words, keeping 150610 word types\n",
            "2020-09-22 14:17:22,568 : INFO : PROGRESS: at sentence #470000, processed 3388295 words, keeping 152737 word types\n",
            "2020-09-22 14:17:22,592 : INFO : PROGRESS: at sentence #480000, processed 3460120 words, keeping 154757 word types\n",
            "2020-09-22 14:17:22,622 : INFO : PROGRESS: at sentence #490000, processed 3531883 words, keeping 156825 word types\n",
            "2020-09-22 14:17:22,650 : INFO : PROGRESS: at sentence #500000, processed 3604217 words, keeping 158859 word types\n",
            "2020-09-22 14:17:22,674 : INFO : PROGRESS: at sentence #510000, processed 3676427 words, keeping 160852 word types\n",
            "2020-09-22 14:17:22,703 : INFO : PROGRESS: at sentence #520000, processed 3749045 words, keeping 162863 word types\n",
            "2020-09-22 14:17:22,728 : INFO : PROGRESS: at sentence #530000, processed 3821622 words, keeping 164929 word types\n",
            "2020-09-22 14:17:22,757 : INFO : PROGRESS: at sentence #540000, processed 3893627 words, keeping 166840 word types\n",
            "2020-09-22 14:17:22,780 : INFO : PROGRESS: at sentence #550000, processed 3965477 words, keeping 168799 word types\n",
            "2020-09-22 14:17:22,808 : INFO : PROGRESS: at sentence #560000, processed 4038050 words, keeping 170802 word types\n",
            "2020-09-22 14:17:22,833 : INFO : PROGRESS: at sentence #570000, processed 4110296 words, keeping 172760 word types\n",
            "2020-09-22 14:17:22,863 : INFO : PROGRESS: at sentence #580000, processed 4182385 words, keeping 174635 word types\n",
            "2020-09-22 14:17:22,899 : INFO : PROGRESS: at sentence #590000, processed 4254632 words, keeping 176470 word types\n",
            "2020-09-22 14:17:22,933 : INFO : PROGRESS: at sentence #600000, processed 4326859 words, keeping 178350 word types\n",
            "2020-09-22 14:17:22,964 : INFO : PROGRESS: at sentence #610000, processed 4399183 words, keeping 180290 word types\n",
            "2020-09-22 14:17:22,993 : INFO : PROGRESS: at sentence #620000, processed 4471343 words, keeping 182129 word types\n",
            "2020-09-22 14:17:23,023 : INFO : PROGRESS: at sentence #630000, processed 4543286 words, keeping 184005 word types\n",
            "2020-09-22 14:17:23,052 : INFO : PROGRESS: at sentence #640000, processed 4615780 words, keeping 185835 word types\n",
            "2020-09-22 14:17:23,089 : INFO : PROGRESS: at sentence #650000, processed 4688481 words, keeping 187705 word types\n",
            "2020-09-22 14:17:23,122 : INFO : PROGRESS: at sentence #660000, processed 4760481 words, keeping 189439 word types\n",
            "2020-09-22 14:17:23,153 : INFO : PROGRESS: at sentence #670000, processed 4833024 words, keeping 191232 word types\n",
            "2020-09-22 14:17:23,195 : INFO : PROGRESS: at sentence #680000, processed 4904516 words, keeping 193177 word types\n",
            "2020-09-22 14:17:23,227 : INFO : PROGRESS: at sentence #690000, processed 4976968 words, keeping 194960 word types\n",
            "2020-09-22 14:17:23,256 : INFO : PROGRESS: at sentence #700000, processed 5049412 words, keeping 196725 word types\n",
            "2020-09-22 14:17:23,286 : INFO : PROGRESS: at sentence #710000, processed 5121976 words, keeping 198516 word types\n",
            "2020-09-22 14:17:23,312 : INFO : PROGRESS: at sentence #720000, processed 5193881 words, keeping 200325 word types\n",
            "2020-09-22 14:17:23,342 : INFO : PROGRESS: at sentence #730000, processed 5265467 words, keeping 202133 word types\n",
            "2020-09-22 14:17:23,368 : INFO : PROGRESS: at sentence #740000, processed 5337518 words, keeping 203818 word types\n",
            "2020-09-22 14:17:23,396 : INFO : PROGRESS: at sentence #750000, processed 5409321 words, keeping 205535 word types\n",
            "2020-09-22 14:17:23,425 : INFO : PROGRESS: at sentence #760000, processed 5481512 words, keeping 207282 word types\n",
            "2020-09-22 14:17:23,455 : INFO : PROGRESS: at sentence #770000, processed 5554093 words, keeping 209076 word types\n",
            "2020-09-22 14:17:23,480 : INFO : PROGRESS: at sentence #780000, processed 5625382 words, keeping 210805 word types\n",
            "2020-09-22 14:17:23,511 : INFO : PROGRESS: at sentence #790000, processed 5698066 words, keeping 212618 word types\n",
            "2020-09-22 14:17:23,537 : INFO : PROGRESS: at sentence #800000, processed 5770880 words, keeping 214374 word types\n",
            "2020-09-22 14:17:23,568 : INFO : PROGRESS: at sentence #810000, processed 5843418 words, keeping 216009 word types\n",
            "2020-09-22 14:17:23,596 : INFO : PROGRESS: at sentence #820000, processed 5915628 words, keeping 217804 word types\n",
            "2020-09-22 14:17:23,632 : INFO : PROGRESS: at sentence #830000, processed 5987499 words, keeping 219585 word types\n",
            "2020-09-22 14:17:23,661 : INFO : PROGRESS: at sentence #840000, processed 6058973 words, keeping 221344 word types\n",
            "2020-09-22 14:17:23,691 : INFO : PROGRESS: at sentence #850000, processed 6131125 words, keeping 223002 word types\n",
            "2020-09-22 14:17:23,721 : INFO : PROGRESS: at sentence #860000, processed 6202951 words, keeping 224643 word types\n",
            "2020-09-22 14:17:23,749 : INFO : PROGRESS: at sentence #870000, processed 6275461 words, keeping 226362 word types\n",
            "2020-09-22 14:17:23,777 : INFO : PROGRESS: at sentence #880000, processed 6347661 words, keeping 227986 word types\n",
            "2020-09-22 14:17:23,803 : INFO : PROGRESS: at sentence #890000, processed 6419806 words, keeping 229634 word types\n",
            "2020-09-22 14:17:23,829 : INFO : PROGRESS: at sentence #900000, processed 6491644 words, keeping 231389 word types\n",
            "2020-09-22 14:17:23,857 : INFO : PROGRESS: at sentence #910000, processed 6564022 words, keeping 233050 word types\n",
            "2020-09-22 14:17:23,884 : INFO : PROGRESS: at sentence #920000, processed 6636228 words, keeping 234686 word types\n",
            "2020-09-22 14:17:23,911 : INFO : PROGRESS: at sentence #930000, processed 6708573 words, keeping 236393 word types\n",
            "2020-09-22 14:17:23,937 : INFO : PROGRESS: at sentence #940000, processed 6779956 words, keeping 238052 word types\n",
            "2020-09-22 14:17:23,964 : INFO : PROGRESS: at sentence #950000, processed 6852599 words, keeping 239716 word types\n",
            "2020-09-22 14:17:23,992 : INFO : PROGRESS: at sentence #960000, processed 6924717 words, keeping 241354 word types\n",
            "2020-09-22 14:17:24,022 : INFO : PROGRESS: at sentence #970000, processed 6996992 words, keeping 242980 word types\n",
            "2020-09-22 14:17:24,050 : INFO : PROGRESS: at sentence #980000, processed 7068402 words, keeping 244646 word types\n",
            "2020-09-22 14:17:24,086 : INFO : PROGRESS: at sentence #990000, processed 7140346 words, keeping 246186 word types\n",
            "2020-09-22 14:17:24,112 : INFO : PROGRESS: at sentence #1000000, processed 7211757 words, keeping 247726 word types\n",
            "2020-09-22 14:17:24,138 : INFO : PROGRESS: at sentence #1010000, processed 7283267 words, keeping 249288 word types\n",
            "2020-09-22 14:17:24,167 : INFO : PROGRESS: at sentence #1020000, processed 7355299 words, keeping 250860 word types\n",
            "2020-09-22 14:17:24,190 : INFO : PROGRESS: at sentence #1030000, processed 7426918 words, keeping 252366 word types\n",
            "2020-09-22 14:17:24,218 : INFO : PROGRESS: at sentence #1040000, processed 7498815 words, keeping 253930 word types\n",
            "2020-09-22 14:17:24,243 : INFO : PROGRESS: at sentence #1050000, processed 7570499 words, keeping 255471 word types\n",
            "2020-09-22 14:17:24,274 : INFO : PROGRESS: at sentence #1060000, processed 7643251 words, keeping 257035 word types\n",
            "2020-09-22 14:17:24,303 : INFO : PROGRESS: at sentence #1070000, processed 7714721 words, keeping 258509 word types\n",
            "2020-09-22 14:17:24,330 : INFO : PROGRESS: at sentence #1080000, processed 7787371 words, keeping 260071 word types\n",
            "2020-09-22 14:17:24,356 : INFO : PROGRESS: at sentence #1090000, processed 7859336 words, keeping 261683 word types\n",
            "2020-09-22 14:17:24,381 : INFO : PROGRESS: at sentence #1100000, processed 7932029 words, keeping 263278 word types\n",
            "2020-09-22 14:17:24,407 : INFO : PROGRESS: at sentence #1110000, processed 8004146 words, keeping 264800 word types\n",
            "2020-09-22 14:17:24,432 : INFO : PROGRESS: at sentence #1120000, processed 8075880 words, keeping 266309 word types\n",
            "2020-09-22 14:17:24,459 : INFO : PROGRESS: at sentence #1130000, processed 8148163 words, keeping 267826 word types\n",
            "2020-09-22 14:17:24,484 : INFO : PROGRESS: at sentence #1140000, processed 8220487 words, keeping 269391 word types\n",
            "2020-09-22 14:17:24,509 : INFO : PROGRESS: at sentence #1150000, processed 8292498 words, keeping 270894 word types\n",
            "2020-09-22 14:17:24,535 : INFO : PROGRESS: at sentence #1160000, processed 8363838 words, keeping 272400 word types\n",
            "2020-09-22 14:17:24,560 : INFO : PROGRESS: at sentence #1170000, processed 8435510 words, keeping 273970 word types\n",
            "2020-09-22 14:17:24,589 : INFO : PROGRESS: at sentence #1180000, processed 8507795 words, keeping 275521 word types\n",
            "2020-09-22 14:17:24,614 : INFO : PROGRESS: at sentence #1190000, processed 8579080 words, keeping 277007 word types\n",
            "2020-09-22 14:17:24,640 : INFO : PROGRESS: at sentence #1200000, processed 8650606 words, keeping 278457 word types\n",
            "2020-09-22 14:17:24,668 : INFO : PROGRESS: at sentence #1210000, processed 8721893 words, keeping 279959 word types\n",
            "2020-09-22 14:17:24,701 : INFO : PROGRESS: at sentence #1220000, processed 8793795 words, keeping 281427 word types\n",
            "2020-09-22 14:17:24,731 : INFO : PROGRESS: at sentence #1230000, processed 8865726 words, keeping 282981 word types\n",
            "2020-09-22 14:17:24,761 : INFO : PROGRESS: at sentence #1240000, processed 8938173 words, keeping 284542 word types\n",
            "2020-09-22 14:17:24,791 : INFO : PROGRESS: at sentence #1250000, processed 9010842 words, keeping 286064 word types\n",
            "2020-09-22 14:17:24,818 : INFO : PROGRESS: at sentence #1260000, processed 9083261 words, keeping 287521 word types\n",
            "2020-09-22 14:17:24,847 : INFO : PROGRESS: at sentence #1270000, processed 9155616 words, keeping 288987 word types\n",
            "2020-09-22 14:17:24,874 : INFO : collected 290418 word types from a corpus of 9227204 raw words and 1280000 sentences\n",
            "2020-09-22 14:17:24,877 : INFO : Loading a fresh vocabulary\n",
            "2020-09-22 14:17:25,056 : INFO : effective_min_count=10 retains 30369 unique words (10% of original 290418, drops 260049)\n",
            "2020-09-22 14:17:25,057 : INFO : effective_min_count=10 leaves 8780739 word corpus (95% of original 9227204, drops 446465)\n",
            "2020-09-22 14:17:25,174 : INFO : deleting the raw counts dictionary of 290418 items\n",
            "2020-09-22 14:17:25,184 : INFO : sample=0.001 downsamples 45 most-common words\n",
            "2020-09-22 14:17:25,185 : INFO : downsampling leaves estimated 8222658 word corpus (93.6% of prior 8780739)\n",
            "2020-09-22 14:17:25,318 : INFO : estimated required memory for 30369 words and 300 dimensions: 88070100 bytes\n",
            "2020-09-22 14:17:25,319 : INFO : resetting layer weights\n"
          ],
          "name": "stderr"
        }
      ]
    },
    {
      "cell_type": "code",
      "metadata": {
        "_uuid": "72a5628ca81fd4b8983c12d93ae0bf950b86b6ae",
        "id": "ALWGvq8n5ych",
        "colab_type": "code",
        "colab": {
          "base_uri": "https://localhost:8080/",
          "height": 35
        },
        "outputId": "8d903c50-fc82-44fe-c7ff-288fddaaa0e7"
      },
      "source": [
        "words = w2v_model.wv.vocab.keys()\n",
        "vocab_size = len(words)\n",
        "print(\"Vocab size\", vocab_size)"
      ],
      "execution_count": 22,
      "outputs": [
        {
          "output_type": "stream",
          "text": [
            "Vocab size 30369\n"
          ],
          "name": "stdout"
        }
      ]
    },
    {
      "cell_type": "code",
      "metadata": {
        "id": "PDaG4amOAttE",
        "colab_type": "code",
        "colab": {
          "base_uri": "https://localhost:8080/",
          "height": 35
        },
        "outputId": "22f81f01-9c4f-4deb-b824-8f3fff60cf97"
      },
      "source": [
        "w2v_model.wv['model'].shape"
      ],
      "execution_count": 23,
      "outputs": [
        {
          "output_type": "execute_result",
          "data": {
            "text/plain": [
              "(300,)"
            ]
          },
          "metadata": {
            "tags": []
          },
          "execution_count": 23
        }
      ]
    },
    {
      "cell_type": "code",
      "metadata": {
        "_uuid": "68c3e4a5ba07cac3dee67f78ecdd1404c7f83f14",
        "id": "GJjATba55ycl",
        "colab_type": "code",
        "colab": {
          "base_uri": "https://localhost:8080/",
          "height": 1000
        },
        "outputId": "780ad541-e4ff-418d-fe76-ff2cc949eed5"
      },
      "source": [
        "%%time\n",
        "if model_exists==False:\n",
        "    w2v_model.train(documents, total_examples=len(documents), epochs=W2V_EPOCH)\n",
        "else:\n",
        "    print(\"Trained model loaded\")"
      ],
      "execution_count": 24,
      "outputs": [
        {
          "output_type": "stream",
          "text": [
            "2020-09-22 14:17:31,446 : INFO : training model with 8 workers on 30369 vocabulary and 300 features, using sg=0 hs=0 sample=0.001 negative=5 window=7\n",
            "2020-09-22 14:17:32,471 : INFO : EPOCH 1 - PROGRESS: at 3.58% examples, 293200 words/s, in_qsize 14, out_qsize 2\n",
            "2020-09-22 14:17:33,507 : INFO : EPOCH 1 - PROGRESS: at 7.28% examples, 292706 words/s, in_qsize 15, out_qsize 0\n",
            "2020-09-22 14:17:34,546 : INFO : EPOCH 1 - PROGRESS: at 11.29% examples, 301085 words/s, in_qsize 13, out_qsize 2\n",
            "2020-09-22 14:17:35,613 : INFO : EPOCH 1 - PROGRESS: at 15.62% examples, 309475 words/s, in_qsize 13, out_qsize 2\n",
            "2020-09-22 14:17:36,672 : INFO : EPOCH 1 - PROGRESS: at 20.05% examples, 316696 words/s, in_qsize 15, out_qsize 0\n",
            "2020-09-22 14:17:37,811 : INFO : EPOCH 1 - PROGRESS: at 24.29% examples, 314617 words/s, in_qsize 15, out_qsize 0\n",
            "2020-09-22 14:17:38,867 : INFO : EPOCH 1 - PROGRESS: at 28.40% examples, 315487 words/s, in_qsize 15, out_qsize 0\n",
            "2020-09-22 14:17:39,900 : INFO : EPOCH 1 - PROGRESS: at 32.52% examples, 316993 words/s, in_qsize 15, out_qsize 0\n",
            "2020-09-22 14:17:40,937 : INFO : EPOCH 1 - PROGRESS: at 36.29% examples, 315217 words/s, in_qsize 14, out_qsize 1\n",
            "2020-09-22 14:17:41,949 : INFO : EPOCH 1 - PROGRESS: at 40.62% examples, 318771 words/s, in_qsize 15, out_qsize 0\n",
            "2020-09-22 14:17:42,975 : INFO : EPOCH 1 - PROGRESS: at 44.07% examples, 315126 words/s, in_qsize 15, out_qsize 0\n",
            "2020-09-22 14:17:44,007 : INFO : EPOCH 1 - PROGRESS: at 48.19% examples, 316177 words/s, in_qsize 16, out_qsize 1\n",
            "2020-09-22 14:17:45,049 : INFO : EPOCH 1 - PROGRESS: at 52.18% examples, 316217 words/s, in_qsize 15, out_qsize 0\n",
            "2020-09-22 14:17:46,089 : INFO : EPOCH 1 - PROGRESS: at 56.08% examples, 316109 words/s, in_qsize 15, out_qsize 0\n",
            "2020-09-22 14:17:47,075 : INFO : EPOCH 1 - PROGRESS: at 57.81% examples, 304854 words/s, in_qsize 14, out_qsize 2\n",
            "2020-09-22 14:17:48,248 : INFO : EPOCH 1 - PROGRESS: at 59.44% examples, 291815 words/s, in_qsize 16, out_qsize 6\n",
            "2020-09-22 14:17:49,308 : INFO : EPOCH 1 - PROGRESS: at 61.82% examples, 285179 words/s, in_qsize 15, out_qsize 0\n",
            "2020-09-22 14:17:50,316 : INFO : EPOCH 1 - PROGRESS: at 64.62% examples, 282208 words/s, in_qsize 16, out_qsize 2\n",
            "2020-09-22 14:17:51,324 : INFO : EPOCH 1 - PROGRESS: at 68.32% examples, 283129 words/s, in_qsize 15, out_qsize 3\n",
            "2020-09-22 14:17:52,334 : INFO : EPOCH 1 - PROGRESS: at 71.99% examples, 283939 words/s, in_qsize 10, out_qsize 5\n",
            "2020-09-22 14:17:53,436 : INFO : EPOCH 1 - PROGRESS: at 76.11% examples, 285094 words/s, in_qsize 16, out_qsize 4\n",
            "2020-09-22 14:17:54,522 : INFO : EPOCH 1 - PROGRESS: at 80.36% examples, 286726 words/s, in_qsize 16, out_qsize 1\n",
            "2020-09-22 14:17:55,626 : INFO : EPOCH 1 - PROGRESS: at 84.37% examples, 287268 words/s, in_qsize 15, out_qsize 3\n",
            "2020-09-22 14:17:56,654 : INFO : EPOCH 1 - PROGRESS: at 88.37% examples, 288618 words/s, in_qsize 15, out_qsize 0\n",
            "2020-09-22 14:17:57,665 : INFO : EPOCH 1 - PROGRESS: at 92.50% examples, 290389 words/s, in_qsize 15, out_qsize 0\n",
            "2020-09-22 14:17:58,709 : INFO : EPOCH 1 - PROGRESS: at 96.10% examples, 290043 words/s, in_qsize 13, out_qsize 5\n",
            "2020-09-22 14:17:59,492 : INFO : worker thread finished; awaiting finish of 7 more threads\n",
            "2020-09-22 14:17:59,503 : INFO : worker thread finished; awaiting finish of 6 more threads\n",
            "2020-09-22 14:17:59,505 : INFO : worker thread finished; awaiting finish of 5 more threads\n",
            "2020-09-22 14:17:59,526 : INFO : worker thread finished; awaiting finish of 4 more threads\n",
            "2020-09-22 14:17:59,532 : INFO : worker thread finished; awaiting finish of 3 more threads\n",
            "2020-09-22 14:17:59,554 : INFO : worker thread finished; awaiting finish of 2 more threads\n",
            "2020-09-22 14:17:59,566 : INFO : worker thread finished; awaiting finish of 1 more threads\n",
            "2020-09-22 14:17:59,578 : INFO : worker thread finished; awaiting finish of 0 more threads\n",
            "2020-09-22 14:17:59,580 : INFO : EPOCH - 1 : training on 9227204 raw words (8222555 effective words) took 28.1s, 292497 effective words/s\n",
            "2020-09-22 14:18:00,622 : INFO : EPOCH 2 - PROGRESS: at 3.58% examples, 287200 words/s, in_qsize 15, out_qsize 0\n",
            "2020-09-22 14:18:01,644 : INFO : EPOCH 2 - PROGRESS: at 6.95% examples, 278739 words/s, in_qsize 16, out_qsize 0\n",
            "2020-09-22 14:18:02,681 : INFO : EPOCH 2 - PROGRESS: at 10.86% examples, 289234 words/s, in_qsize 15, out_qsize 0\n",
            "2020-09-22 14:18:03,703 : INFO : EPOCH 2 - PROGRESS: at 14.86% examples, 297468 words/s, in_qsize 15, out_qsize 0\n",
            "2020-09-22 14:18:04,741 : INFO : EPOCH 2 - PROGRESS: at 18.87% examples, 303314 words/s, in_qsize 14, out_qsize 2\n",
            "2020-09-22 14:18:05,756 : INFO : EPOCH 2 - PROGRESS: at 22.54% examples, 300996 words/s, in_qsize 14, out_qsize 1\n",
            "2020-09-22 14:18:06,759 : INFO : EPOCH 2 - PROGRESS: at 26.56% examples, 304895 words/s, in_qsize 16, out_qsize 0\n",
            "2020-09-22 14:18:07,847 : INFO : EPOCH 2 - PROGRESS: at 30.13% examples, 302217 words/s, in_qsize 14, out_qsize 3\n",
            "2020-09-22 14:18:08,804 : INFO : EPOCH 2 - PROGRESS: at 34.13% examples, 304917 words/s, in_qsize 16, out_qsize 0\n",
            "2020-09-22 14:18:09,814 : INFO : EPOCH 2 - PROGRESS: at 37.92% examples, 305261 words/s, in_qsize 15, out_qsize 0\n",
            "2020-09-22 14:18:10,864 : INFO : EPOCH 2 - PROGRESS: at 41.80% examples, 305294 words/s, in_qsize 15, out_qsize 0\n",
            "2020-09-22 14:18:11,977 : INFO : EPOCH 2 - PROGRESS: at 45.70% examples, 303756 words/s, in_qsize 14, out_qsize 7\n",
            "2020-09-22 14:18:13,090 : INFO : EPOCH 2 - PROGRESS: at 50.24% examples, 306442 words/s, in_qsize 15, out_qsize 2\n",
            "2020-09-22 14:18:14,127 : INFO : EPOCH 2 - PROGRESS: at 54.56% examples, 309105 words/s, in_qsize 16, out_qsize 0\n",
            "2020-09-22 14:18:15,141 : INFO : EPOCH 2 - PROGRESS: at 58.25% examples, 308440 words/s, in_qsize 15, out_qsize 0\n",
            "2020-09-22 14:18:16,154 : INFO : EPOCH 2 - PROGRESS: at 62.03% examples, 308412 words/s, in_qsize 13, out_qsize 2\n",
            "2020-09-22 14:18:17,248 : INFO : EPOCH 2 - PROGRESS: at 66.15% examples, 308460 words/s, in_qsize 12, out_qsize 3\n",
            "2020-09-22 14:18:18,270 : INFO : EPOCH 2 - PROGRESS: at 70.26% examples, 309701 words/s, in_qsize 14, out_qsize 1\n",
            "2020-09-22 14:18:19,314 : INFO : EPOCH 2 - PROGRESS: at 74.59% examples, 311370 words/s, in_qsize 16, out_qsize 1\n",
            "2020-09-22 14:18:20,389 : INFO : EPOCH 2 - PROGRESS: at 78.73% examples, 311558 words/s, in_qsize 16, out_qsize 0\n",
            "2020-09-22 14:18:21,474 : INFO : EPOCH 2 - PROGRESS: at 83.07% examples, 312383 words/s, in_qsize 15, out_qsize 0\n",
            "2020-09-22 14:18:22,648 : INFO : EPOCH 2 - PROGRESS: at 87.28% examples, 311538 words/s, in_qsize 14, out_qsize 1\n",
            "2020-09-22 14:18:23,657 : INFO : EPOCH 2 - PROGRESS: at 91.53% examples, 312897 words/s, in_qsize 15, out_qsize 0\n",
            "2020-09-22 14:18:24,687 : INFO : EPOCH 2 - PROGRESS: at 95.23% examples, 312120 words/s, in_qsize 15, out_qsize 0\n",
            "2020-09-22 14:18:25,698 : INFO : EPOCH 2 - PROGRESS: at 99.24% examples, 312688 words/s, in_qsize 7, out_qsize 0\n",
            "2020-09-22 14:18:25,711 : INFO : worker thread finished; awaiting finish of 7 more threads\n",
            "2020-09-22 14:18:25,713 : INFO : worker thread finished; awaiting finish of 6 more threads\n",
            "2020-09-22 14:18:25,718 : INFO : worker thread finished; awaiting finish of 5 more threads\n",
            "2020-09-22 14:18:25,723 : INFO : worker thread finished; awaiting finish of 4 more threads\n",
            "2020-09-22 14:18:25,729 : INFO : worker thread finished; awaiting finish of 3 more threads\n",
            "2020-09-22 14:18:25,757 : INFO : worker thread finished; awaiting finish of 2 more threads\n",
            "2020-09-22 14:18:25,767 : INFO : worker thread finished; awaiting finish of 1 more threads\n",
            "2020-09-22 14:18:25,771 : INFO : worker thread finished; awaiting finish of 0 more threads\n",
            "2020-09-22 14:18:25,774 : INFO : EPOCH - 2 : training on 9227204 raw words (8223470 effective words) took 26.2s, 314171 effective words/s\n",
            "2020-09-22 14:18:26,803 : INFO : EPOCH 3 - PROGRESS: at 3.47% examples, 279635 words/s, in_qsize 16, out_qsize 0\n",
            "2020-09-22 14:18:27,908 : INFO : EPOCH 3 - PROGRESS: at 7.71% examples, 297657 words/s, in_qsize 15, out_qsize 3\n",
            "2020-09-22 14:18:28,951 : INFO : EPOCH 3 - PROGRESS: at 12.06% examples, 312275 words/s, in_qsize 15, out_qsize 0\n",
            "2020-09-22 14:18:29,973 : INFO : EPOCH 3 - PROGRESS: at 15.94% examples, 312580 words/s, in_qsize 15, out_qsize 0\n",
            "2020-09-22 14:18:31,013 : INFO : EPOCH 3 - PROGRESS: at 20.16% examples, 316816 words/s, in_qsize 16, out_qsize 0\n",
            "2020-09-22 14:18:32,033 : INFO : EPOCH 3 - PROGRESS: at 23.63% examples, 310746 words/s, in_qsize 13, out_qsize 5\n",
            "2020-09-22 14:18:33,175 : INFO : EPOCH 3 - PROGRESS: at 27.96% examples, 310955 words/s, in_qsize 15, out_qsize 5\n",
            "2020-09-22 14:18:34,192 : INFO : EPOCH 3 - PROGRESS: at 32.41% examples, 316806 words/s, in_qsize 15, out_qsize 0\n",
            "2020-09-22 14:18:35,209 : INFO : EPOCH 3 - PROGRESS: at 36.18% examples, 315697 words/s, in_qsize 16, out_qsize 1\n",
            "2020-09-22 14:18:36,224 : INFO : EPOCH 3 - PROGRESS: at 40.08% examples, 315738 words/s, in_qsize 15, out_qsize 0\n",
            "2020-09-22 14:18:37,235 : INFO : EPOCH 3 - PROGRESS: at 43.64% examples, 313518 words/s, in_qsize 13, out_qsize 2\n",
            "2020-09-22 14:18:38,291 : INFO : EPOCH 3 - PROGRESS: at 47.75% examples, 314126 words/s, in_qsize 16, out_qsize 0\n",
            "2020-09-22 14:18:39,426 : INFO : EPOCH 3 - PROGRESS: at 52.29% examples, 315425 words/s, in_qsize 16, out_qsize 0\n",
            "2020-09-22 14:18:40,495 : INFO : EPOCH 3 - PROGRESS: at 56.62% examples, 316758 words/s, in_qsize 15, out_qsize 0\n",
            "2020-09-22 14:18:41,542 : INFO : EPOCH 3 - PROGRESS: at 60.52% examples, 316858 words/s, in_qsize 15, out_qsize 1\n",
            "2020-09-22 14:18:42,527 : INFO : EPOCH 3 - PROGRESS: at 63.97% examples, 314482 words/s, in_qsize 14, out_qsize 1\n",
            "2020-09-22 14:18:43,544 : INFO : EPOCH 3 - PROGRESS: at 67.88% examples, 314529 words/s, in_qsize 15, out_qsize 0\n",
            "2020-09-22 14:18:44,602 : INFO : EPOCH 3 - PROGRESS: at 71.56% examples, 312933 words/s, in_qsize 15, out_qsize 0\n",
            "2020-09-22 14:18:45,642 : INFO : EPOCH 3 - PROGRESS: at 75.13% examples, 311681 words/s, in_qsize 15, out_qsize 4\n",
            "2020-09-22 14:18:46,672 : INFO : EPOCH 3 - PROGRESS: at 78.95% examples, 310898 words/s, in_qsize 15, out_qsize 4\n",
            "2020-09-22 14:18:47,687 : INFO : EPOCH 3 - PROGRESS: at 83.18% examples, 312358 words/s, in_qsize 16, out_qsize 0\n",
            "2020-09-22 14:18:48,687 : INFO : EPOCH 3 - PROGRESS: at 87.07% examples, 312700 words/s, in_qsize 15, out_qsize 0\n",
            "2020-09-22 14:18:49,694 : INFO : EPOCH 3 - PROGRESS: at 91.20% examples, 313678 words/s, in_qsize 14, out_qsize 1\n",
            "2020-09-22 14:18:50,698 : INFO : EPOCH 3 - PROGRESS: at 95.23% examples, 314260 words/s, in_qsize 15, out_qsize 0\n",
            "2020-09-22 14:18:51,685 : INFO : worker thread finished; awaiting finish of 7 more threads\n",
            "2020-09-22 14:18:51,718 : INFO : EPOCH 3 - PROGRESS: at 99.34% examples, 314990 words/s, in_qsize 6, out_qsize 1\n",
            "2020-09-22 14:18:51,720 : INFO : worker thread finished; awaiting finish of 6 more threads\n",
            "2020-09-22 14:18:51,768 : INFO : worker thread finished; awaiting finish of 5 more threads\n",
            "2020-09-22 14:18:51,770 : INFO : worker thread finished; awaiting finish of 4 more threads\n",
            "2020-09-22 14:18:51,779 : INFO : worker thread finished; awaiting finish of 3 more threads\n",
            "2020-09-22 14:18:51,808 : INFO : worker thread finished; awaiting finish of 2 more threads\n",
            "2020-09-22 14:18:51,811 : INFO : worker thread finished; awaiting finish of 1 more threads\n",
            "2020-09-22 14:18:51,813 : INFO : worker thread finished; awaiting finish of 0 more threads\n",
            "2020-09-22 14:18:51,816 : INFO : EPOCH - 3 : training on 9227204 raw words (8222568 effective words) took 26.0s, 315864 effective words/s\n",
            "2020-09-22 14:18:52,871 : INFO : EPOCH 4 - PROGRESS: at 3.58% examples, 281897 words/s, in_qsize 15, out_qsize 0\n",
            "2020-09-22 14:18:53,999 : INFO : EPOCH 4 - PROGRESS: at 7.82% examples, 295278 words/s, in_qsize 11, out_qsize 4\n",
            "2020-09-22 14:18:55,093 : INFO : EPOCH 4 - PROGRESS: at 12.50% examples, 313766 words/s, in_qsize 15, out_qsize 0\n",
            "2020-09-22 14:18:56,153 : INFO : EPOCH 4 - PROGRESS: at 16.59% examples, 315044 words/s, in_qsize 15, out_qsize 0\n",
            "2020-09-22 14:18:57,234 : INFO : EPOCH 4 - PROGRESS: at 20.59% examples, 313065 words/s, in_qsize 15, out_qsize 5\n",
            "2020-09-22 14:18:58,283 : INFO : EPOCH 4 - PROGRESS: at 24.83% examples, 316574 words/s, in_qsize 15, out_qsize 1\n",
            "2020-09-22 14:18:59,289 : INFO : EPOCH 4 - PROGRESS: at 29.26% examples, 322377 words/s, in_qsize 15, out_qsize 0\n",
            "2020-09-22 14:19:00,300 : INFO : EPOCH 4 - PROGRESS: at 32.62% examples, 316490 words/s, in_qsize 16, out_qsize 0\n",
            "2020-09-22 14:19:01,302 : INFO : EPOCH 4 - PROGRESS: at 36.51% examples, 316844 words/s, in_qsize 15, out_qsize 1\n",
            "2020-09-22 14:19:02,329 : INFO : EPOCH 4 - PROGRESS: at 40.62% examples, 318074 words/s, in_qsize 16, out_qsize 1\n",
            "2020-09-22 14:19:03,425 : INFO : EPOCH 4 - PROGRESS: at 44.62% examples, 316601 words/s, in_qsize 16, out_qsize 3\n",
            "2020-09-22 14:19:04,439 : INFO : EPOCH 4 - PROGRESS: at 48.51% examples, 316412 words/s, in_qsize 9, out_qsize 6\n",
            "2020-09-22 14:19:05,549 : INFO : EPOCH 4 - PROGRESS: at 53.05% examples, 318097 words/s, in_qsize 14, out_qsize 1\n",
            "2020-09-22 14:19:06,558 : INFO : EPOCH 4 - PROGRESS: at 56.95% examples, 318102 words/s, in_qsize 14, out_qsize 1\n",
            "2020-09-22 14:19:07,605 : INFO : EPOCH 4 - PROGRESS: at 61.39% examples, 320141 words/s, in_qsize 15, out_qsize 0\n",
            "2020-09-22 14:19:08,611 : INFO : EPOCH 4 - PROGRESS: at 65.28% examples, 320030 words/s, in_qsize 14, out_qsize 2\n",
            "2020-09-22 14:19:09,671 : INFO : EPOCH 4 - PROGRESS: at 69.07% examples, 318502 words/s, in_qsize 13, out_qsize 2\n",
            "2020-09-22 14:19:10,773 : INFO : EPOCH 4 - PROGRESS: at 73.62% examples, 319708 words/s, in_qsize 15, out_qsize 0\n",
            "2020-09-22 14:19:11,814 : INFO : EPOCH 4 - PROGRESS: at 77.53% examples, 319077 words/s, in_qsize 14, out_qsize 1\n",
            "2020-09-22 14:19:12,823 : INFO : EPOCH 4 - PROGRESS: at 81.88% examples, 320719 words/s, in_qsize 16, out_qsize 1\n",
            "2020-09-22 14:19:13,867 : INFO : EPOCH 4 - PROGRESS: at 85.66% examples, 319673 words/s, in_qsize 15, out_qsize 0\n",
            "2020-09-22 14:19:14,876 : INFO : EPOCH 4 - PROGRESS: at 90.00% examples, 321135 words/s, in_qsize 15, out_qsize 0\n",
            "2020-09-22 14:19:16,003 : INFO : EPOCH 4 - PROGRESS: at 94.25% examples, 320504 words/s, in_qsize 16, out_qsize 0\n",
            "2020-09-22 14:19:17,024 : INFO : EPOCH 4 - PROGRESS: at 98.47% examples, 321308 words/s, in_qsize 15, out_qsize 0\n",
            "2020-09-22 14:19:17,262 : INFO : worker thread finished; awaiting finish of 7 more threads\n",
            "2020-09-22 14:19:17,265 : INFO : worker thread finished; awaiting finish of 6 more threads\n",
            "2020-09-22 14:19:17,290 : INFO : worker thread finished; awaiting finish of 5 more threads\n",
            "2020-09-22 14:19:17,310 : INFO : worker thread finished; awaiting finish of 4 more threads\n",
            "2020-09-22 14:19:17,315 : INFO : worker thread finished; awaiting finish of 3 more threads\n",
            "2020-09-22 14:19:17,335 : INFO : worker thread finished; awaiting finish of 2 more threads\n",
            "2020-09-22 14:19:17,346 : INFO : worker thread finished; awaiting finish of 1 more threads\n",
            "2020-09-22 14:19:17,348 : INFO : worker thread finished; awaiting finish of 0 more threads\n",
            "2020-09-22 14:19:17,350 : INFO : EPOCH - 4 : training on 9227204 raw words (8221674 effective words) took 25.5s, 322129 effective words/s\n",
            "2020-09-22 14:19:18,445 : INFO : EPOCH 5 - PROGRESS: at 3.91% examples, 296296 words/s, in_qsize 15, out_qsize 0\n",
            "2020-09-22 14:19:19,612 : INFO : EPOCH 5 - PROGRESS: at 8.37% examples, 304885 words/s, in_qsize 15, out_qsize 2\n",
            "2020-09-22 14:19:20,624 : INFO : EPOCH 5 - PROGRESS: at 12.82% examples, 322344 words/s, in_qsize 15, out_qsize 0\n",
            "2020-09-22 14:19:21,643 : INFO : EPOCH 5 - PROGRESS: at 16.48% examples, 316328 words/s, in_qsize 15, out_qsize 0\n",
            "2020-09-22 14:19:22,654 : INFO : EPOCH 5 - PROGRESS: at 20.16% examples, 313149 words/s, in_qsize 11, out_qsize 4\n",
            "2020-09-22 14:19:23,670 : INFO : EPOCH 5 - PROGRESS: at 24.39% examples, 317857 words/s, in_qsize 14, out_qsize 1\n",
            "2020-09-22 14:19:24,685 : INFO : EPOCH 5 - PROGRESS: at 28.50% examples, 320021 words/s, in_qsize 15, out_qsize 0\n",
            "2020-09-22 14:19:25,731 : INFO : EPOCH 5 - PROGRESS: at 32.30% examples, 317276 words/s, in_qsize 16, out_qsize 2\n",
            "2020-09-22 14:19:26,771 : INFO : EPOCH 5 - PROGRESS: at 36.61% examples, 320060 words/s, in_qsize 15, out_qsize 0\n",
            "2020-09-22 14:19:27,876 : INFO : EPOCH 5 - PROGRESS: at 40.62% examples, 317770 words/s, in_qsize 16, out_qsize 4\n",
            "2020-09-22 14:19:28,904 : INFO : EPOCH 5 - PROGRESS: at 44.83% examples, 320018 words/s, in_qsize 16, out_qsize 3\n",
            "2020-09-22 14:19:29,980 : INFO : EPOCH 5 - PROGRESS: at 49.05% examples, 319824 words/s, in_qsize 14, out_qsize 1\n",
            "2020-09-22 14:19:31,002 : INFO : EPOCH 5 - PROGRESS: at 53.27% examples, 321373 words/s, in_qsize 14, out_qsize 1\n",
            "2020-09-22 14:19:32,114 : INFO : EPOCH 5 - PROGRESS: at 57.49% examples, 320719 words/s, in_qsize 15, out_qsize 0\n",
            "2020-09-22 14:19:33,262 : INFO : EPOCH 5 - PROGRESS: at 61.93% examples, 320527 words/s, in_qsize 13, out_qsize 2\n",
            "2020-09-22 14:19:34,406 : INFO : EPOCH 5 - PROGRESS: at 66.26% examples, 319921 words/s, in_qsize 15, out_qsize 7\n",
            "2020-09-22 14:19:35,422 : INFO : EPOCH 5 - PROGRESS: at 70.59% examples, 321658 words/s, in_qsize 15, out_qsize 0\n",
            "2020-09-22 14:19:36,432 : INFO : EPOCH 5 - PROGRESS: at 74.37% examples, 320957 words/s, in_qsize 15, out_qsize 0\n",
            "2020-09-22 14:19:37,474 : INFO : EPOCH 5 - PROGRESS: at 78.40% examples, 320721 words/s, in_qsize 12, out_qsize 3\n",
            "2020-09-22 14:19:38,475 : INFO : EPOCH 5 - PROGRESS: at 82.74% examples, 322408 words/s, in_qsize 15, out_qsize 0\n",
            "2020-09-22 14:19:39,493 : INFO : EPOCH 5 - PROGRESS: at 86.42% examples, 321251 words/s, in_qsize 15, out_qsize 0\n",
            "2020-09-22 14:19:40,520 : INFO : EPOCH 5 - PROGRESS: at 90.65% examples, 321993 words/s, in_qsize 13, out_qsize 2\n",
            "2020-09-22 14:19:41,537 : INFO : EPOCH 5 - PROGRESS: at 94.35% examples, 320970 words/s, in_qsize 16, out_qsize 4\n",
            "2020-09-22 14:19:42,657 : INFO : EPOCH 5 - PROGRESS: at 98.90% examples, 321534 words/s, in_qsize 11, out_qsize 0\n",
            "2020-09-22 14:19:42,721 : INFO : worker thread finished; awaiting finish of 7 more threads\n",
            "2020-09-22 14:19:42,732 : INFO : worker thread finished; awaiting finish of 6 more threads\n",
            "2020-09-22 14:19:42,739 : INFO : worker thread finished; awaiting finish of 5 more threads\n",
            "2020-09-22 14:19:42,759 : INFO : worker thread finished; awaiting finish of 4 more threads\n",
            "2020-09-22 14:19:42,767 : INFO : worker thread finished; awaiting finish of 3 more threads\n",
            "2020-09-22 14:19:42,797 : INFO : worker thread finished; awaiting finish of 2 more threads\n",
            "2020-09-22 14:19:42,806 : INFO : worker thread finished; awaiting finish of 1 more threads\n",
            "2020-09-22 14:19:42,812 : INFO : worker thread finished; awaiting finish of 0 more threads\n",
            "2020-09-22 14:19:42,813 : INFO : EPOCH - 5 : training on 9227204 raw words (8222887 effective words) took 25.5s, 323096 effective words/s\n",
            "2020-09-22 14:19:43,837 : INFO : EPOCH 6 - PROGRESS: at 3.47% examples, 282060 words/s, in_qsize 15, out_qsize 1\n",
            "2020-09-22 14:19:44,860 : INFO : EPOCH 6 - PROGRESS: at 7.05% examples, 284567 words/s, in_qsize 11, out_qsize 4\n",
            "2020-09-22 14:19:45,891 : INFO : EPOCH 6 - PROGRESS: at 11.08% examples, 296489 words/s, in_qsize 15, out_qsize 0\n",
            "2020-09-22 14:19:46,897 : INFO : EPOCH 6 - PROGRESS: at 15.30% examples, 308500 words/s, in_qsize 15, out_qsize 0\n",
            "2020-09-22 14:19:47,932 : INFO : EPOCH 6 - PROGRESS: at 19.19% examples, 308660 words/s, in_qsize 14, out_qsize 1\n",
            "2020-09-22 14:19:49,010 : INFO : EPOCH 6 - PROGRESS: at 23.42% examples, 311125 words/s, in_qsize 12, out_qsize 6\n",
            "2020-09-22 14:19:50,059 : INFO : EPOCH 6 - PROGRESS: at 27.86% examples, 316470 words/s, in_qsize 16, out_qsize 0\n",
            "2020-09-22 14:19:51,110 : INFO : EPOCH 6 - PROGRESS: at 32.08% examples, 318269 words/s, in_qsize 15, out_qsize 0\n",
            "2020-09-22 14:19:52,156 : INFO : EPOCH 6 - PROGRESS: at 36.40% examples, 321033 words/s, in_qsize 15, out_qsize 0\n",
            "2020-09-22 14:19:53,163 : INFO : EPOCH 6 - PROGRESS: at 40.08% examples, 318848 words/s, in_qsize 14, out_qsize 1\n",
            "2020-09-22 14:19:54,168 : INFO : EPOCH 6 - PROGRESS: at 44.18% examples, 320426 words/s, in_qsize 15, out_qsize 0\n",
            "2020-09-22 14:19:55,228 : INFO : EPOCH 6 - PROGRESS: at 48.30% examples, 320332 words/s, in_qsize 16, out_qsize 2\n",
            "2020-09-22 14:19:56,246 : INFO : EPOCH 6 - PROGRESS: at 52.51% examples, 321940 words/s, in_qsize 15, out_qsize 0\n",
            "2020-09-22 14:19:57,251 : INFO : EPOCH 6 - PROGRESS: at 56.51% examples, 322384 words/s, in_qsize 15, out_qsize 0\n",
            "2020-09-22 14:19:58,405 : INFO : EPOCH 6 - PROGRESS: at 60.85% examples, 321390 words/s, in_qsize 13, out_qsize 3\n",
            "2020-09-22 14:19:59,433 : INFO : EPOCH 6 - PROGRESS: at 65.06% examples, 322385 words/s, in_qsize 15, out_qsize 0\n",
            "2020-09-22 14:20:00,593 : INFO : EPOCH 6 - PROGRESS: at 69.72% examples, 322895 words/s, in_qsize 15, out_qsize 0\n",
            "2020-09-22 14:20:01,668 : INFO : EPOCH 6 - PROGRESS: at 73.94% examples, 322913 words/s, in_qsize 16, out_qsize 0\n",
            "2020-09-22 14:20:02,685 : INFO : EPOCH 6 - PROGRESS: at 77.85% examples, 322517 words/s, in_qsize 14, out_qsize 1\n",
            "2020-09-22 14:20:03,696 : INFO : EPOCH 6 - PROGRESS: at 82.32% examples, 324395 words/s, in_qsize 15, out_qsize 0\n",
            "2020-09-22 14:20:04,705 : INFO : EPOCH 6 - PROGRESS: at 86.32% examples, 324494 words/s, in_qsize 15, out_qsize 2\n",
            "2020-09-22 14:20:05,736 : INFO : EPOCH 6 - PROGRESS: at 90.10% examples, 323498 words/s, in_qsize 15, out_qsize 0\n",
            "2020-09-22 14:20:06,758 : INFO : EPOCH 6 - PROGRESS: at 94.36% examples, 324171 words/s, in_qsize 13, out_qsize 2\n",
            "2020-09-22 14:20:07,765 : INFO : EPOCH 6 - PROGRESS: at 97.93% examples, 322863 words/s, in_qsize 16, out_qsize 4\n",
            "2020-09-22 14:20:07,982 : INFO : worker thread finished; awaiting finish of 7 more threads\n",
            "2020-09-22 14:20:07,995 : INFO : worker thread finished; awaiting finish of 6 more threads\n",
            "2020-09-22 14:20:08,006 : INFO : worker thread finished; awaiting finish of 5 more threads\n",
            "2020-09-22 14:20:08,013 : INFO : worker thread finished; awaiting finish of 4 more threads\n",
            "2020-09-22 14:20:08,055 : INFO : worker thread finished; awaiting finish of 3 more threads\n",
            "2020-09-22 14:20:08,085 : INFO : worker thread finished; awaiting finish of 2 more threads\n",
            "2020-09-22 14:20:08,097 : INFO : worker thread finished; awaiting finish of 1 more threads\n",
            "2020-09-22 14:20:08,103 : INFO : worker thread finished; awaiting finish of 0 more threads\n",
            "2020-09-22 14:20:08,104 : INFO : EPOCH - 6 : training on 9227204 raw words (8222370 effective words) took 25.3s, 325273 effective words/s\n",
            "2020-09-22 14:20:09,141 : INFO : EPOCH 7 - PROGRESS: at 3.47% examples, 278340 words/s, in_qsize 16, out_qsize 0\n",
            "2020-09-22 14:20:10,218 : INFO : EPOCH 7 - PROGRESS: at 7.71% examples, 300984 words/s, in_qsize 16, out_qsize 0\n",
            "2020-09-22 14:20:11,301 : INFO : EPOCH 7 - PROGRESS: at 12.17% examples, 313408 words/s, in_qsize 16, out_qsize 0\n",
            "2020-09-22 14:20:12,475 : INFO : EPOCH 7 - PROGRESS: at 16.38% examples, 308623 words/s, in_qsize 15, out_qsize 1\n",
            "2020-09-22 14:20:13,605 : INFO : EPOCH 7 - PROGRESS: at 20.70% examples, 310030 words/s, in_qsize 11, out_qsize 4\n",
            "2020-09-22 14:20:14,643 : INFO : EPOCH 7 - PROGRESS: at 25.26% examples, 318038 words/s, in_qsize 15, out_qsize 0\n",
            "2020-09-22 14:20:15,644 : INFO : EPOCH 7 - PROGRESS: at 29.37% examples, 320721 words/s, in_qsize 15, out_qsize 0\n",
            "2020-09-22 14:20:16,655 : INFO : EPOCH 7 - PROGRESS: at 33.27% examples, 320304 words/s, in_qsize 15, out_qsize 0\n",
            "2020-09-22 14:20:17,715 : INFO : EPOCH 7 - PROGRESS: at 37.48% examples, 321123 words/s, in_qsize 15, out_qsize 0\n",
            "2020-09-22 14:20:18,766 : INFO : EPOCH 7 - PROGRESS: at 41.48% examples, 320387 words/s, in_qsize 16, out_qsize 2\n",
            "2020-09-22 14:20:19,780 : INFO : EPOCH 7 - PROGRESS: at 45.70% examples, 322300 words/s, in_qsize 15, out_qsize 0\n",
            "2020-09-22 14:20:20,854 : INFO : EPOCH 7 - PROGRESS: at 50.02% examples, 323122 words/s, in_qsize 16, out_qsize 0\n",
            "2020-09-22 14:20:21,976 : INFO : EPOCH 7 - PROGRESS: at 54.35% examples, 322710 words/s, in_qsize 15, out_qsize 0\n",
            "2020-09-22 14:20:23,155 : INFO : EPOCH 7 - PROGRESS: at 58.90% examples, 322307 words/s, in_qsize 16, out_qsize 2\n",
            "2020-09-22 14:20:24,186 : INFO : EPOCH 7 - PROGRESS: at 63.22% examples, 323804 words/s, in_qsize 15, out_qsize 0\n",
            "2020-09-22 14:20:25,228 : INFO : EPOCH 7 - PROGRESS: at 67.34% examples, 323861 words/s, in_qsize 15, out_qsize 0\n",
            "2020-09-22 14:20:26,298 : INFO : EPOCH 7 - PROGRESS: at 71.56% examples, 323977 words/s, in_qsize 15, out_qsize 1\n",
            "2020-09-22 14:20:27,383 : INFO : EPOCH 7 - PROGRESS: at 75.89% examples, 324158 words/s, in_qsize 15, out_qsize 0\n",
            "2020-09-22 14:20:28,390 : INFO : EPOCH 7 - PROGRESS: at 79.82% examples, 323854 words/s, in_qsize 16, out_qsize 0\n",
            "2020-09-22 14:20:29,463 : INFO : EPOCH 7 - PROGRESS: at 83.83% examples, 323031 words/s, in_qsize 11, out_qsize 4\n",
            "2020-09-22 14:20:30,517 : INFO : EPOCH 7 - PROGRESS: at 88.48% examples, 324924 words/s, in_qsize 15, out_qsize 0\n",
            "2020-09-22 14:20:31,569 : INFO : EPOCH 7 - PROGRESS: at 92.06% examples, 322858 words/s, in_qsize 16, out_qsize 0\n",
            "2020-09-22 14:20:32,665 : INFO : EPOCH 7 - PROGRESS: at 96.42% examples, 322956 words/s, in_qsize 14, out_qsize 1\n",
            "2020-09-22 14:20:33,306 : INFO : worker thread finished; awaiting finish of 7 more threads\n",
            "2020-09-22 14:20:33,393 : INFO : worker thread finished; awaiting finish of 6 more threads\n",
            "2020-09-22 14:20:33,400 : INFO : worker thread finished; awaiting finish of 5 more threads\n",
            "2020-09-22 14:20:33,401 : INFO : worker thread finished; awaiting finish of 4 more threads\n",
            "2020-09-22 14:20:33,423 : INFO : worker thread finished; awaiting finish of 3 more threads\n",
            "2020-09-22 14:20:33,425 : INFO : worker thread finished; awaiting finish of 2 more threads\n",
            "2020-09-22 14:20:33,425 : INFO : worker thread finished; awaiting finish of 1 more threads\n",
            "2020-09-22 14:20:33,427 : INFO : worker thread finished; awaiting finish of 0 more threads\n",
            "2020-09-22 14:20:33,429 : INFO : EPOCH - 7 : training on 9227204 raw words (8222892 effective words) took 25.3s, 324855 effective words/s\n",
            "2020-09-22 14:20:34,511 : INFO : EPOCH 8 - PROGRESS: at 3.47% examples, 268188 words/s, in_qsize 15, out_qsize 0\n",
            "2020-09-22 14:20:35,515 : INFO : EPOCH 8 - PROGRESS: at 7.71% examples, 305801 words/s, in_qsize 14, out_qsize 0\n",
            "2020-09-22 14:20:36,520 : INFO : EPOCH 8 - PROGRESS: at 11.62% examples, 310235 words/s, in_qsize 15, out_qsize 0\n",
            "2020-09-22 14:20:37,580 : INFO : EPOCH 8 - PROGRESS: at 15.41% examples, 306052 words/s, in_qsize 16, out_qsize 3\n",
            "2020-09-22 14:20:38,618 : INFO : EPOCH 8 - PROGRESS: at 19.62% examples, 311764 words/s, in_qsize 16, out_qsize 1\n",
            "2020-09-22 14:20:39,627 : INFO : EPOCH 8 - PROGRESS: at 24.06% examples, 319988 words/s, in_qsize 16, out_qsize 0\n",
            "2020-09-22 14:20:40,637 : INFO : EPOCH 8 - PROGRESS: at 27.64% examples, 315905 words/s, in_qsize 12, out_qsize 6\n",
            "2020-09-22 14:20:41,684 : INFO : EPOCH 8 - PROGRESS: at 31.86% examples, 317960 words/s, in_qsize 16, out_qsize 3\n",
            "2020-09-22 14:20:42,709 : INFO : EPOCH 8 - PROGRESS: at 36.07% examples, 320262 words/s, in_qsize 15, out_qsize 0\n",
            "2020-09-22 14:20:43,727 : INFO : EPOCH 8 - PROGRESS: at 40.19% examples, 321467 words/s, in_qsize 15, out_qsize 3\n",
            "2020-09-22 14:20:44,739 : INFO : EPOCH 8 - PROGRESS: at 44.29% examples, 322604 words/s, in_qsize 15, out_qsize 0\n",
            "2020-09-22 14:20:45,752 : INFO : EPOCH 8 - PROGRESS: at 48.08% examples, 321403 words/s, in_qsize 16, out_qsize 2\n",
            "2020-09-22 14:20:46,760 : INFO : EPOCH 8 - PROGRESS: at 52.51% examples, 324523 words/s, in_qsize 14, out_qsize 1\n",
            "2020-09-22 14:20:47,780 : INFO : EPOCH 8 - PROGRESS: at 56.18% examples, 322581 words/s, in_qsize 15, out_qsize 0\n",
            "2020-09-22 14:20:48,834 : INFO : EPOCH 8 - PROGRESS: at 60.52% examples, 323625 words/s, in_qsize 15, out_qsize 0\n",
            "2020-09-22 14:20:49,908 : INFO : EPOCH 8 - PROGRESS: at 64.40% examples, 321991 words/s, in_qsize 15, out_qsize 0\n",
            "2020-09-22 14:20:50,950 : INFO : EPOCH 8 - PROGRESS: at 68.64% examples, 322675 words/s, in_qsize 15, out_qsize 0\n",
            "2020-09-22 14:20:51,954 : INFO : EPOCH 8 - PROGRESS: at 72.54% examples, 322488 words/s, in_qsize 16, out_qsize 2\n",
            "2020-09-22 14:20:52,958 : INFO : EPOCH 8 - PROGRESS: at 76.33% examples, 321861 words/s, in_qsize 15, out_qsize 0\n",
            "2020-09-22 14:20:54,037 : INFO : EPOCH 8 - PROGRESS: at 80.36% examples, 320981 words/s, in_qsize 15, out_qsize 0\n",
            "2020-09-22 14:20:55,050 : INFO : EPOCH 8 - PROGRESS: at 84.37% examples, 321186 words/s, in_qsize 16, out_qsize 0\n",
            "2020-09-22 14:20:56,196 : INFO : EPOCH 8 - PROGRESS: at 88.48% examples, 319876 words/s, in_qsize 15, out_qsize 0\n",
            "2020-09-22 14:20:57,201 : INFO : EPOCH 8 - PROGRESS: at 92.50% examples, 320208 words/s, in_qsize 15, out_qsize 0\n",
            "2020-09-22 14:20:58,223 : INFO : EPOCH 8 - PROGRESS: at 96.10% examples, 318853 words/s, in_qsize 15, out_qsize 0\n",
            "2020-09-22 14:20:59,047 : INFO : worker thread finished; awaiting finish of 7 more threads\n",
            "2020-09-22 14:20:59,076 : INFO : worker thread finished; awaiting finish of 6 more threads\n",
            "2020-09-22 14:20:59,083 : INFO : worker thread finished; awaiting finish of 5 more threads\n",
            "2020-09-22 14:20:59,100 : INFO : worker thread finished; awaiting finish of 4 more threads\n",
            "2020-09-22 14:20:59,105 : INFO : worker thread finished; awaiting finish of 3 more threads\n",
            "2020-09-22 14:20:59,133 : INFO : worker thread finished; awaiting finish of 2 more threads\n",
            "2020-09-22 14:20:59,140 : INFO : worker thread finished; awaiting finish of 1 more threads\n",
            "2020-09-22 14:20:59,155 : INFO : worker thread finished; awaiting finish of 0 more threads\n",
            "2020-09-22 14:20:59,156 : INFO : EPOCH - 8 : training on 9227204 raw words (8221213 effective words) took 25.7s, 319785 effective words/s\n",
            "2020-09-22 14:21:00,220 : INFO : EPOCH 9 - PROGRESS: at 3.47% examples, 271294 words/s, in_qsize 16, out_qsize 0\n",
            "2020-09-22 14:21:01,244 : INFO : EPOCH 9 - PROGRESS: at 7.06% examples, 279144 words/s, in_qsize 16, out_qsize 1\n",
            "2020-09-22 14:21:02,318 : INFO : EPOCH 9 - PROGRESS: at 11.30% examples, 294297 words/s, in_qsize 14, out_qsize 1\n",
            "2020-09-22 14:21:03,324 : INFO : EPOCH 9 - PROGRESS: at 15.62% examples, 308775 words/s, in_qsize 15, out_qsize 1\n",
            "2020-09-22 14:21:04,346 : INFO : EPOCH 9 - PROGRESS: at 19.62% examples, 311487 words/s, in_qsize 14, out_qsize 1\n",
            "2020-09-22 14:21:05,358 : INFO : EPOCH 9 - PROGRESS: at 23.41% examples, 310996 words/s, in_qsize 15, out_qsize 0\n",
            "2020-09-22 14:21:06,372 : INFO : EPOCH 9 - PROGRESS: at 27.20% examples, 310958 words/s, in_qsize 15, out_qsize 1\n",
            "2020-09-22 14:21:07,505 : INFO : EPOCH 9 - PROGRESS: at 31.86% examples, 314269 words/s, in_qsize 15, out_qsize 0\n",
            "2020-09-22 14:21:08,516 : INFO : EPOCH 9 - PROGRESS: at 36.18% examples, 318383 words/s, in_qsize 15, out_qsize 0\n",
            "2020-09-22 14:21:09,532 : INFO : EPOCH 9 - PROGRESS: at 40.08% examples, 318093 words/s, in_qsize 15, out_qsize 0\n",
            "2020-09-22 14:21:10,561 : INFO : EPOCH 9 - PROGRESS: at 44.07% examples, 318306 words/s, in_qsize 15, out_qsize 0\n",
            "2020-09-22 14:21:11,561 : INFO : EPOCH 9 - PROGRESS: at 48.08% examples, 319226 words/s, in_qsize 15, out_qsize 0\n",
            "2020-09-22 14:21:12,571 : INFO : EPOCH 9 - PROGRESS: at 51.64% examples, 317114 words/s, in_qsize 13, out_qsize 2\n",
            "2020-09-22 14:21:13,683 : INFO : EPOCH 9 - PROGRESS: at 55.86% examples, 316784 words/s, in_qsize 12, out_qsize 6\n",
            "2020-09-22 14:21:14,771 : INFO : EPOCH 9 - PROGRESS: at 60.19% examples, 317520 words/s, in_qsize 12, out_qsize 7\n",
            "2020-09-22 14:21:15,786 : INFO : EPOCH 9 - PROGRESS: at 64.30% examples, 318490 words/s, in_qsize 15, out_qsize 0\n",
            "2020-09-22 14:21:16,893 : INFO : EPOCH 9 - PROGRESS: at 68.86% examples, 319717 words/s, in_qsize 15, out_qsize 0\n",
            "2020-09-22 14:21:17,960 : INFO : EPOCH 9 - PROGRESS: at 73.08% examples, 320031 words/s, in_qsize 15, out_qsize 0\n",
            "2020-09-22 14:21:19,050 : INFO : EPOCH 9 - PROGRESS: at 77.52% examples, 320848 words/s, in_qsize 15, out_qsize 0\n",
            "2020-09-22 14:21:20,095 : INFO : EPOCH 9 - PROGRESS: at 81.77% examples, 321426 words/s, in_qsize 15, out_qsize 0\n",
            "2020-09-22 14:21:21,144 : INFO : EPOCH 9 - PROGRESS: at 85.56% examples, 320259 words/s, in_qsize 13, out_qsize 2\n",
            "2020-09-22 14:21:22,234 : INFO : EPOCH 9 - PROGRESS: at 89.89% examples, 320571 words/s, in_qsize 14, out_qsize 4\n",
            "2020-09-22 14:21:23,251 : INFO : EPOCH 9 - PROGRESS: at 94.25% examples, 321810 words/s, in_qsize 15, out_qsize 0\n",
            "2020-09-22 14:21:24,315 : INFO : EPOCH 9 - PROGRESS: at 98.69% examples, 322709 words/s, in_qsize 10, out_qsize 3\n",
            "2020-09-22 14:21:24,448 : INFO : worker thread finished; awaiting finish of 7 more threads\n",
            "2020-09-22 14:21:24,450 : INFO : worker thread finished; awaiting finish of 6 more threads\n",
            "2020-09-22 14:21:24,472 : INFO : worker thread finished; awaiting finish of 5 more threads\n",
            "2020-09-22 14:21:24,484 : INFO : worker thread finished; awaiting finish of 4 more threads\n",
            "2020-09-22 14:21:24,497 : INFO : worker thread finished; awaiting finish of 3 more threads\n",
            "2020-09-22 14:21:24,505 : INFO : worker thread finished; awaiting finish of 2 more threads\n",
            "2020-09-22 14:21:24,506 : INFO : worker thread finished; awaiting finish of 1 more threads\n",
            "2020-09-22 14:21:24,522 : INFO : worker thread finished; awaiting finish of 0 more threads\n",
            "2020-09-22 14:21:24,523 : INFO : EPOCH - 9 : training on 9227204 raw words (8222672 effective words) took 25.4s, 324327 effective words/s\n",
            "2020-09-22 14:21:25,603 : INFO : EPOCH 10 - PROGRESS: at 3.69% examples, 283828 words/s, in_qsize 16, out_qsize 0\n",
            "2020-09-22 14:21:26,638 : INFO : EPOCH 10 - PROGRESS: at 7.93% examples, 312841 words/s, in_qsize 14, out_qsize 0\n",
            "2020-09-22 14:21:27,666 : INFO : EPOCH 10 - PROGRESS: at 12.17% examples, 318675 words/s, in_qsize 15, out_qsize 0\n",
            "2020-09-22 14:21:28,716 : INFO : EPOCH 10 - PROGRESS: at 15.73% examples, 308907 words/s, in_qsize 15, out_qsize 0\n",
            "2020-09-22 14:21:29,729 : INFO : EPOCH 10 - PROGRESS: at 19.73% examples, 312134 words/s, in_qsize 11, out_qsize 3\n",
            "2020-09-22 14:21:30,793 : INFO : EPOCH 10 - PROGRESS: at 23.85% examples, 313202 words/s, in_qsize 15, out_qsize 0\n",
            "2020-09-22 14:21:31,802 : INFO : EPOCH 10 - PROGRESS: at 27.64% examples, 312625 words/s, in_qsize 15, out_qsize 0\n",
            "2020-09-22 14:21:32,836 : INFO : EPOCH 10 - PROGRESS: at 31.75% examples, 315067 words/s, in_qsize 14, out_qsize 2\n",
            "2020-09-22 14:21:33,839 : INFO : EPOCH 10 - PROGRESS: at 35.64% examples, 315025 words/s, in_qsize 15, out_qsize 0\n",
            "2020-09-22 14:21:34,883 : INFO : EPOCH 10 - PROGRESS: at 39.65% examples, 315090 words/s, in_qsize 13, out_qsize 4\n",
            "2020-09-22 14:21:35,907 : INFO : EPOCH 10 - PROGRESS: at 43.75% examples, 316497 words/s, in_qsize 12, out_qsize 3\n",
            "2020-09-22 14:21:36,921 : INFO : EPOCH 10 - PROGRESS: at 47.97% examples, 318619 words/s, in_qsize 15, out_qsize 0\n",
            "2020-09-22 14:21:37,934 : INFO : EPOCH 10 - PROGRESS: at 52.29% examples, 321162 words/s, in_qsize 15, out_qsize 0\n",
            "2020-09-22 14:21:38,971 : INFO : EPOCH 10 - PROGRESS: at 56.18% examples, 320318 words/s, in_qsize 12, out_qsize 3\n",
            "2020-09-22 14:21:39,991 : INFO : EPOCH 10 - PROGRESS: at 59.77% examples, 318187 words/s, in_qsize 13, out_qsize 6\n",
            "2020-09-22 14:21:41,070 : INFO : EPOCH 10 - PROGRESS: at 64.19% examples, 319516 words/s, in_qsize 14, out_qsize 5\n",
            "2020-09-22 14:21:42,117 : INFO : EPOCH 10 - PROGRESS: at 68.54% examples, 320967 words/s, in_qsize 15, out_qsize 2\n",
            "2020-09-22 14:21:43,146 : INFO : EPOCH 10 - PROGRESS: at 72.86% examples, 322577 words/s, in_qsize 14, out_qsize 1\n",
            "2020-09-22 14:21:44,146 : INFO : EPOCH 10 - PROGRESS: at 76.88% examples, 322882 words/s, in_qsize 15, out_qsize 1\n",
            "2020-09-22 14:21:45,161 : INFO : EPOCH 10 - PROGRESS: at 81.01% examples, 323064 words/s, in_qsize 14, out_qsize 1\n",
            "2020-09-22 14:21:46,231 : INFO : EPOCH 10 - PROGRESS: at 85.23% examples, 323131 words/s, in_qsize 12, out_qsize 3\n",
            "2020-09-22 14:21:47,304 : INFO : EPOCH 10 - PROGRESS: at 89.56% examples, 323658 words/s, in_qsize 15, out_qsize 2\n",
            "2020-09-22 14:21:48,335 : INFO : EPOCH 10 - PROGRESS: at 93.81% examples, 324116 words/s, in_qsize 16, out_qsize 0\n",
            "2020-09-22 14:21:49,421 : INFO : EPOCH 10 - PROGRESS: at 98.04% examples, 323933 words/s, in_qsize 15, out_qsize 0\n",
            "2020-09-22 14:21:49,674 : INFO : worker thread finished; awaiting finish of 7 more threads\n",
            "2020-09-22 14:21:49,679 : INFO : worker thread finished; awaiting finish of 6 more threads\n",
            "2020-09-22 14:21:49,681 : INFO : worker thread finished; awaiting finish of 5 more threads\n",
            "2020-09-22 14:21:49,689 : INFO : worker thread finished; awaiting finish of 4 more threads\n",
            "2020-09-22 14:21:49,696 : INFO : worker thread finished; awaiting finish of 3 more threads\n",
            "2020-09-22 14:21:49,700 : INFO : worker thread finished; awaiting finish of 2 more threads\n",
            "2020-09-22 14:21:49,742 : INFO : worker thread finished; awaiting finish of 1 more threads\n",
            "2020-09-22 14:21:49,744 : INFO : worker thread finished; awaiting finish of 0 more threads\n",
            "2020-09-22 14:21:49,746 : INFO : EPOCH - 10 : training on 9227204 raw words (8222530 effective words) took 25.2s, 326158 effective words/s\n",
            "2020-09-22 14:21:50,807 : INFO : EPOCH 11 - PROGRESS: at 3.58% examples, 281900 words/s, in_qsize 16, out_qsize 2\n",
            "2020-09-22 14:21:51,946 : INFO : EPOCH 11 - PROGRESS: at 8.15% examples, 306149 words/s, in_qsize 14, out_qsize 1\n",
            "2020-09-22 14:21:52,955 : INFO : EPOCH 11 - PROGRESS: at 12.49% examples, 321080 words/s, in_qsize 11, out_qsize 0\n",
            "2020-09-22 14:21:54,099 : INFO : EPOCH 11 - PROGRESS: at 16.70% examples, 316344 words/s, in_qsize 14, out_qsize 1\n",
            "2020-09-22 14:21:55,122 : INFO : EPOCH 11 - PROGRESS: at 20.92% examples, 320826 words/s, in_qsize 15, out_qsize 0\n",
            "2020-09-22 14:21:56,158 : INFO : EPOCH 11 - PROGRESS: at 25.26% examples, 324601 words/s, in_qsize 15, out_qsize 0\n",
            "2020-09-22 14:21:57,226 : INFO : EPOCH 11 - PROGRESS: at 29.27% examples, 322349 words/s, in_qsize 14, out_qsize 2\n",
            "2020-09-22 14:21:58,252 : INFO : EPOCH 11 - PROGRESS: at 33.16% examples, 321141 words/s, in_qsize 15, out_qsize 0\n",
            "2020-09-22 14:21:59,281 : INFO : EPOCH 11 - PROGRESS: at 37.37% examples, 322963 words/s, in_qsize 15, out_qsize 0\n",
            "2020-09-22 14:22:00,295 : INFO : EPOCH 11 - PROGRESS: at 41.27% examples, 322290 words/s, in_qsize 15, out_qsize 2\n",
            "2020-09-22 14:22:01,296 : INFO : EPOCH 11 - PROGRESS: at 45.16% examples, 322096 words/s, in_qsize 15, out_qsize 0\n",
            "2020-09-22 14:22:02,384 : INFO : EPOCH 11 - PROGRESS: at 49.27% examples, 321163 words/s, in_qsize 13, out_qsize 2\n",
            "2020-09-22 14:22:03,391 : INFO : EPOCH 11 - PROGRESS: at 53.38% examples, 322283 words/s, in_qsize 15, out_qsize 0\n",
            "2020-09-22 14:22:04,412 : INFO : EPOCH 11 - PROGRESS: at 57.60% examples, 323553 words/s, in_qsize 15, out_qsize 0\n",
            "2020-09-22 14:22:05,538 : INFO : EPOCH 11 - PROGRESS: at 61.50% examples, 320798 words/s, in_qsize 12, out_qsize 3\n",
            "2020-09-22 14:22:06,552 : INFO : EPOCH 11 - PROGRESS: at 65.50% examples, 321058 words/s, in_qsize 14, out_qsize 1\n",
            "2020-09-22 14:22:07,581 : INFO : EPOCH 11 - PROGRESS: at 69.94% examples, 323014 words/s, in_qsize 15, out_qsize 1\n",
            "2020-09-22 14:22:08,646 : INFO : EPOCH 11 - PROGRESS: at 73.84% examples, 322082 words/s, in_qsize 15, out_qsize 2\n",
            "2020-09-22 14:22:09,650 : INFO : EPOCH 11 - PROGRESS: at 78.18% examples, 323452 words/s, in_qsize 15, out_qsize 0\n",
            "2020-09-22 14:22:10,793 : INFO : EPOCH 11 - PROGRESS: at 82.21% examples, 321540 words/s, in_qsize 15, out_qsize 7\n",
            "2020-09-22 14:22:11,811 : INFO : EPOCH 11 - PROGRESS: at 86.42% examples, 322458 words/s, in_qsize 15, out_qsize 0\n",
            "2020-09-22 14:22:12,874 : INFO : EPOCH 11 - PROGRESS: at 90.54% examples, 322265 words/s, in_qsize 12, out_qsize 3\n",
            "2020-09-22 14:22:13,921 : INFO : EPOCH 11 - PROGRESS: at 95.01% examples, 323390 words/s, in_qsize 16, out_qsize 1\n",
            "2020-09-22 14:22:14,845 : INFO : worker thread finished; awaiting finish of 7 more threads\n",
            "2020-09-22 14:22:14,870 : INFO : worker thread finished; awaiting finish of 6 more threads\n",
            "2020-09-22 14:22:14,926 : INFO : EPOCH 11 - PROGRESS: at 99.45% examples, 325030 words/s, in_qsize 5, out_qsize 0\n",
            "2020-09-22 14:22:14,932 : INFO : worker thread finished; awaiting finish of 5 more threads\n",
            "2020-09-22 14:22:14,960 : INFO : worker thread finished; awaiting finish of 4 more threads\n",
            "2020-09-22 14:22:14,979 : INFO : worker thread finished; awaiting finish of 3 more threads\n",
            "2020-09-22 14:22:14,983 : INFO : worker thread finished; awaiting finish of 2 more threads\n",
            "2020-09-22 14:22:14,996 : INFO : worker thread finished; awaiting finish of 1 more threads\n",
            "2020-09-22 14:22:15,003 : INFO : worker thread finished; awaiting finish of 0 more threads\n",
            "2020-09-22 14:22:15,004 : INFO : EPOCH - 11 : training on 9227204 raw words (8223073 effective words) took 25.2s, 325791 effective words/s\n",
            "2020-09-22 14:22:16,040 : INFO : EPOCH 12 - PROGRESS: at 3.69% examples, 295770 words/s, in_qsize 15, out_qsize 0\n",
            "2020-09-22 14:22:17,146 : INFO : EPOCH 12 - PROGRESS: at 8.04% examples, 309483 words/s, in_qsize 15, out_qsize 0\n",
            "2020-09-22 14:22:18,152 : INFO : EPOCH 12 - PROGRESS: at 12.06% examples, 315422 words/s, in_qsize 15, out_qsize 0\n",
            "2020-09-22 14:22:19,164 : INFO : EPOCH 12 - PROGRESS: at 16.38% examples, 324263 words/s, in_qsize 15, out_qsize 0\n",
            "2020-09-22 14:22:20,189 : INFO : EPOCH 12 - PROGRESS: at 20.70% examples, 328842 words/s, in_qsize 15, out_qsize 0\n",
            "2020-09-22 14:22:21,209 : INFO : EPOCH 12 - PROGRESS: at 24.61% examples, 326535 words/s, in_qsize 16, out_qsize 0\n",
            "2020-09-22 14:22:22,236 : INFO : EPOCH 12 - PROGRESS: at 28.39% examples, 323253 words/s, in_qsize 12, out_qsize 3\n",
            "2020-09-22 14:22:23,248 : INFO : EPOCH 12 - PROGRESS: at 32.62% examples, 325727 words/s, in_qsize 15, out_qsize 0\n",
            "2020-09-22 14:22:24,368 : INFO : EPOCH 12 - PROGRESS: at 37.05% examples, 325749 words/s, in_qsize 15, out_qsize 0\n",
            "2020-09-22 14:22:25,388 : INFO : EPOCH 12 - PROGRESS: at 40.94% examples, 324652 words/s, in_qsize 15, out_qsize 0\n",
            "2020-09-22 14:22:26,426 : INFO : EPOCH 12 - PROGRESS: at 45.16% examples, 325537 words/s, in_qsize 14, out_qsize 1\n",
            "2020-09-22 14:22:27,437 : INFO : EPOCH 12 - PROGRESS: at 49.27% examples, 326321 words/s, in_qsize 15, out_qsize 0\n",
            "2020-09-22 14:22:28,553 : INFO : EPOCH 12 - PROGRESS: at 53.70% examples, 326846 words/s, in_qsize 16, out_qsize 2\n",
            "2020-09-22 14:22:29,551 : INFO : EPOCH 12 - PROGRESS: at 57.49% examples, 325467 words/s, in_qsize 13, out_qsize 2\n",
            "2020-09-22 14:22:30,561 : INFO : EPOCH 12 - PROGRESS: at 61.71% examples, 326673 words/s, in_qsize 13, out_qsize 2\n",
            "2020-09-22 14:22:31,565 : INFO : EPOCH 12 - PROGRESS: at 65.72% examples, 326770 words/s, in_qsize 15, out_qsize 0\n",
            "2020-09-22 14:22:32,571 : INFO : EPOCH 12 - PROGRESS: at 69.94% examples, 327835 words/s, in_qsize 16, out_qsize 0\n",
            "2020-09-22 14:22:33,628 : INFO : EPOCH 12 - PROGRESS: at 73.41% examples, 324523 words/s, in_qsize 16, out_qsize 3\n",
            "2020-09-22 14:22:34,660 : INFO : EPOCH 12 - PROGRESS: at 77.63% examples, 325161 words/s, in_qsize 15, out_qsize 3\n",
            "2020-09-22 14:22:35,718 : INFO : EPOCH 12 - PROGRESS: at 81.88% examples, 325839 words/s, in_qsize 15, out_qsize 0\n",
            "2020-09-22 14:22:36,714 : INFO : EPOCH 12 - PROGRESS: at 85.88% examples, 325580 words/s, in_qsize 15, out_qsize 0\n",
            "2020-09-22 14:22:37,739 : INFO : EPOCH 12 - PROGRESS: at 89.67% examples, 324600 words/s, in_qsize 15, out_qsize 0\n",
            "2020-09-22 14:22:38,781 : INFO : EPOCH 12 - PROGRESS: at 93.81% examples, 324593 words/s, in_qsize 15, out_qsize 0\n",
            "2020-09-22 14:22:39,814 : INFO : EPOCH 12 - PROGRESS: at 97.72% examples, 323990 words/s, in_qsize 13, out_qsize 2\n",
            "2020-09-22 14:22:40,115 : INFO : worker thread finished; awaiting finish of 7 more threads\n",
            "2020-09-22 14:22:40,175 : INFO : worker thread finished; awaiting finish of 6 more threads\n",
            "2020-09-22 14:22:40,193 : INFO : worker thread finished; awaiting finish of 5 more threads\n",
            "2020-09-22 14:22:40,213 : INFO : worker thread finished; awaiting finish of 4 more threads\n",
            "2020-09-22 14:22:40,227 : INFO : worker thread finished; awaiting finish of 3 more threads\n",
            "2020-09-22 14:22:40,230 : INFO : worker thread finished; awaiting finish of 2 more threads\n",
            "2020-09-22 14:22:40,232 : INFO : worker thread finished; awaiting finish of 1 more threads\n",
            "2020-09-22 14:22:40,244 : INFO : worker thread finished; awaiting finish of 0 more threads\n",
            "2020-09-22 14:22:40,245 : INFO : EPOCH - 12 : training on 9227204 raw words (8222414 effective words) took 25.2s, 325925 effective words/s\n",
            "2020-09-22 14:22:41,272 : INFO : EPOCH 13 - PROGRESS: at 3.36% examples, 271894 words/s, in_qsize 12, out_qsize 1\n",
            "2020-09-22 14:22:42,327 : INFO : EPOCH 13 - PROGRESS: at 7.38% examples, 292612 words/s, in_qsize 15, out_qsize 1\n",
            "2020-09-22 14:22:43,358 : INFO : EPOCH 13 - PROGRESS: at 11.51% examples, 304581 words/s, in_qsize 15, out_qsize 0\n",
            "2020-09-22 14:22:44,403 : INFO : EPOCH 13 - PROGRESS: at 15.73% examples, 311611 words/s, in_qsize 15, out_qsize 0\n",
            "2020-09-22 14:22:45,432 : INFO : EPOCH 13 - PROGRESS: at 19.84% examples, 315025 words/s, in_qsize 15, out_qsize 0\n",
            "2020-09-22 14:22:46,478 : INFO : EPOCH 13 - PROGRESS: at 24.29% examples, 320814 words/s, in_qsize 15, out_qsize 0\n",
            "2020-09-22 14:22:47,495 : INFO : EPOCH 13 - PROGRESS: at 28.18% examples, 320027 words/s, in_qsize 15, out_qsize 0\n",
            "2020-09-22 14:22:48,497 : INFO : EPOCH 13 - PROGRESS: at 32.19% examples, 321127 words/s, in_qsize 15, out_qsize 0\n",
            "2020-09-22 14:22:49,551 : INFO : EPOCH 13 - PROGRESS: at 36.18% examples, 320170 words/s, in_qsize 16, out_qsize 0\n",
            "2020-09-22 14:22:50,583 : INFO : EPOCH 13 - PROGRESS: at 39.86% examples, 317515 words/s, in_qsize 14, out_qsize 1\n",
            "2020-09-22 14:22:51,667 : INFO : EPOCH 13 - PROGRESS: at 44.07% examples, 317804 words/s, in_qsize 15, out_qsize 0\n",
            "2020-09-22 14:22:52,691 : INFO : EPOCH 13 - PROGRESS: at 48.30% examples, 319564 words/s, in_qsize 16, out_qsize 0\n",
            "2020-09-22 14:22:53,876 : INFO : EPOCH 13 - PROGRESS: at 52.51% examples, 317291 words/s, in_qsize 16, out_qsize 4\n",
            "2020-09-22 14:22:54,889 : INFO : EPOCH 13 - PROGRESS: at 56.84% examples, 319711 words/s, in_qsize 15, out_qsize 0\n",
            "2020-09-22 14:22:55,967 : INFO : EPOCH 13 - PROGRESS: at 61.18% examples, 320448 words/s, in_qsize 15, out_qsize 0\n",
            "2020-09-22 14:22:56,973 : INFO : EPOCH 13 - PROGRESS: at 65.28% examples, 321394 words/s, in_qsize 16, out_qsize 0\n",
            "2020-09-22 14:22:58,101 : INFO : EPOCH 13 - PROGRESS: at 69.50% examples, 320572 words/s, in_qsize 16, out_qsize 0\n",
            "2020-09-22 14:22:59,138 : INFO : EPOCH 13 - PROGRESS: at 73.94% examples, 322299 words/s, in_qsize 16, out_qsize 0\n",
            "2020-09-22 14:23:00,204 : INFO : EPOCH 13 - PROGRESS: at 77.74% examples, 321097 words/s, in_qsize 15, out_qsize 4\n",
            "2020-09-22 14:23:01,231 : INFO : EPOCH 13 - PROGRESS: at 81.99% examples, 321577 words/s, in_qsize 16, out_qsize 2\n",
            "2020-09-22 14:23:02,259 : INFO : EPOCH 13 - PROGRESS: at 86.31% examples, 322708 words/s, in_qsize 16, out_qsize 0\n",
            "2020-09-22 14:23:03,371 : INFO : EPOCH 13 - PROGRESS: at 90.54% examples, 322213 words/s, in_qsize 15, out_qsize 0\n",
            "2020-09-22 14:23:04,420 : INFO : EPOCH 13 - PROGRESS: at 94.47% examples, 321486 words/s, in_qsize 13, out_qsize 6\n",
            "2020-09-22 14:23:05,534 : INFO : EPOCH 13 - PROGRESS: at 99.23% examples, 322838 words/s, in_qsize 8, out_qsize 0\n",
            "2020-09-22 14:23:05,541 : INFO : worker thread finished; awaiting finish of 7 more threads\n",
            "2020-09-22 14:23:05,544 : INFO : worker thread finished; awaiting finish of 6 more threads\n",
            "2020-09-22 14:23:05,557 : INFO : worker thread finished; awaiting finish of 5 more threads\n",
            "2020-09-22 14:23:05,559 : INFO : worker thread finished; awaiting finish of 4 more threads\n",
            "2020-09-22 14:23:05,560 : INFO : worker thread finished; awaiting finish of 3 more threads\n",
            "2020-09-22 14:23:05,570 : INFO : worker thread finished; awaiting finish of 2 more threads\n",
            "2020-09-22 14:23:05,576 : INFO : worker thread finished; awaiting finish of 1 more threads\n",
            "2020-09-22 14:23:05,590 : INFO : worker thread finished; awaiting finish of 0 more threads\n",
            "2020-09-22 14:23:05,590 : INFO : EPOCH - 13 : training on 9227204 raw words (8223438 effective words) took 25.3s, 324614 effective words/s\n",
            "2020-09-22 14:23:06,611 : INFO : EPOCH 14 - PROGRESS: at 3.36% examples, 273716 words/s, in_qsize 11, out_qsize 4\n",
            "2020-09-22 14:23:07,613 : INFO : EPOCH 14 - PROGRESS: at 7.50% examples, 305615 words/s, in_qsize 15, out_qsize 0\n",
            "2020-09-22 14:23:08,678 : INFO : EPOCH 14 - PROGRESS: at 11.84% examples, 315819 words/s, in_qsize 15, out_qsize 0\n",
            "2020-09-22 14:23:09,706 : INFO : EPOCH 14 - PROGRESS: at 15.84% examples, 316954 words/s, in_qsize 15, out_qsize 0\n",
            "2020-09-22 14:23:10,760 : INFO : EPOCH 14 - PROGRESS: at 19.84% examples, 315988 words/s, in_qsize 13, out_qsize 2\n",
            "2020-09-22 14:23:11,810 : INFO : EPOCH 14 - PROGRESS: at 23.84% examples, 315719 words/s, in_qsize 15, out_qsize 0\n",
            "2020-09-22 14:23:12,820 : INFO : EPOCH 14 - PROGRESS: at 27.64% examples, 314705 words/s, in_qsize 15, out_qsize 1\n",
            "2020-09-22 14:23:13,842 : INFO : EPOCH 14 - PROGRESS: at 31.76% examples, 316768 words/s, in_qsize 14, out_qsize 1\n",
            "2020-09-22 14:23:15,032 : INFO : EPOCH 14 - PROGRESS: at 35.53% examples, 309863 words/s, in_qsize 14, out_qsize 8\n",
            "2020-09-22 14:23:16,059 : INFO : EPOCH 14 - PROGRESS: at 39.97% examples, 314335 words/s, in_qsize 15, out_qsize 0\n",
            "2020-09-22 14:23:17,137 : INFO : EPOCH 14 - PROGRESS: at 44.18% examples, 316106 words/s, in_qsize 15, out_qsize 0\n",
            "2020-09-22 14:23:18,186 : INFO : EPOCH 14 - PROGRESS: at 47.97% examples, 313608 words/s, in_qsize 13, out_qsize 2\n",
            "2020-09-22 14:23:19,216 : INFO : EPOCH 14 - PROGRESS: at 52.07% examples, 314778 words/s, in_qsize 15, out_qsize 0\n",
            "2020-09-22 14:23:20,222 : INFO : EPOCH 14 - PROGRESS: at 55.75% examples, 313849 words/s, in_qsize 15, out_qsize 0\n",
            "2020-09-22 14:23:21,302 : INFO : EPOCH 14 - PROGRESS: at 59.98% examples, 315135 words/s, in_qsize 14, out_qsize 1\n",
            "2020-09-22 14:23:22,289 : INFO : EPOCH 14 - PROGRESS: at 64.30% examples, 317140 words/s, in_qsize 15, out_qsize 0\n",
            "2020-09-22 14:23:23,296 : INFO : EPOCH 14 - PROGRESS: at 67.77% examples, 315215 words/s, in_qsize 15, out_qsize 0\n",
            "2020-09-22 14:23:24,309 : INFO : EPOCH 14 - PROGRESS: at 71.57% examples, 314817 words/s, in_qsize 14, out_qsize 1\n",
            "2020-09-22 14:23:25,319 : INFO : EPOCH 14 - PROGRESS: at 75.46% examples, 314959 words/s, in_qsize 15, out_qsize 0\n",
            "2020-09-22 14:23:26,393 : INFO : EPOCH 14 - PROGRESS: at 79.38% examples, 314102 words/s, in_qsize 15, out_qsize 2\n",
            "2020-09-22 14:23:27,437 : INFO : EPOCH 14 - PROGRESS: at 83.40% examples, 314192 words/s, in_qsize 15, out_qsize 0\n",
            "2020-09-22 14:23:28,502 : INFO : EPOCH 14 - PROGRESS: at 87.40% examples, 313973 words/s, in_qsize 16, out_qsize 0\n",
            "2020-09-22 14:23:29,526 : INFO : EPOCH 14 - PROGRESS: at 91.52% examples, 314659 words/s, in_qsize 15, out_qsize 0\n",
            "2020-09-22 14:23:30,578 : INFO : EPOCH 14 - PROGRESS: at 95.45% examples, 314235 words/s, in_qsize 15, out_qsize 0\n",
            "2020-09-22 14:23:31,478 : INFO : worker thread finished; awaiting finish of 7 more threads\n",
            "2020-09-22 14:23:31,533 : INFO : worker thread finished; awaiting finish of 6 more threads\n",
            "2020-09-22 14:23:31,545 : INFO : worker thread finished; awaiting finish of 5 more threads\n",
            "2020-09-22 14:23:31,612 : INFO : EPOCH 14 - PROGRESS: at 99.56% examples, 314807 words/s, in_qsize 4, out_qsize 1\n",
            "2020-09-22 14:23:31,615 : INFO : worker thread finished; awaiting finish of 4 more threads\n",
            "2020-09-22 14:23:31,618 : INFO : worker thread finished; awaiting finish of 3 more threads\n",
            "2020-09-22 14:23:31,626 : INFO : worker thread finished; awaiting finish of 2 more threads\n",
            "2020-09-22 14:23:31,630 : INFO : worker thread finished; awaiting finish of 1 more threads\n",
            "2020-09-22 14:23:31,632 : INFO : worker thread finished; awaiting finish of 0 more threads\n",
            "2020-09-22 14:23:31,633 : INFO : EPOCH - 14 : training on 9227204 raw words (8223671 effective words) took 26.0s, 315919 effective words/s\n",
            "2020-09-22 14:23:32,726 : INFO : EPOCH 15 - PROGRESS: at 3.25% examples, 248125 words/s, in_qsize 12, out_qsize 3\n",
            "2020-09-22 14:23:33,742 : INFO : EPOCH 15 - PROGRESS: at 7.39% examples, 289363 words/s, in_qsize 14, out_qsize 1\n",
            "2020-09-22 14:23:34,777 : INFO : EPOCH 15 - PROGRESS: at 11.29% examples, 296127 words/s, in_qsize 13, out_qsize 2\n",
            "2020-09-22 14:23:35,831 : INFO : EPOCH 15 - PROGRESS: at 15.62% examples, 306652 words/s, in_qsize 15, out_qsize 0\n",
            "2020-09-22 14:23:36,940 : INFO : EPOCH 15 - PROGRESS: at 19.84% examples, 307999 words/s, in_qsize 15, out_qsize 0\n",
            "2020-09-22 14:23:38,014 : INFO : EPOCH 15 - PROGRESS: at 24.17% examples, 312041 words/s, in_qsize 15, out_qsize 0\n",
            "2020-09-22 14:23:39,021 : INFO : EPOCH 15 - PROGRESS: at 28.18% examples, 314148 words/s, in_qsize 16, out_qsize 0\n",
            "2020-09-22 14:23:40,077 : INFO : EPOCH 15 - PROGRESS: at 32.30% examples, 315091 words/s, in_qsize 16, out_qsize 1\n",
            "2020-09-22 14:23:41,154 : INFO : EPOCH 15 - PROGRESS: at 36.72% examples, 317614 words/s, in_qsize 16, out_qsize 0\n",
            "2020-09-22 14:23:42,164 : INFO : EPOCH 15 - PROGRESS: at 40.73% examples, 318482 words/s, in_qsize 15, out_qsize 0\n",
            "2020-09-22 14:23:43,183 : INFO : EPOCH 15 - PROGRESS: at 44.83% examples, 319680 words/s, in_qsize 15, out_qsize 0\n",
            "2020-09-22 14:23:44,270 : INFO : EPOCH 15 - PROGRESS: at 48.62% examples, 316873 words/s, in_qsize 16, out_qsize 4\n",
            "2020-09-22 14:23:45,292 : INFO : EPOCH 15 - PROGRESS: at 52.95% examples, 319286 words/s, in_qsize 15, out_qsize 1\n",
            "2020-09-22 14:23:46,413 : INFO : EPOCH 15 - PROGRESS: at 56.95% examples, 317354 words/s, in_qsize 13, out_qsize 2\n",
            "2020-09-22 14:23:47,584 : INFO : EPOCH 15 - PROGRESS: at 61.28% examples, 316391 words/s, in_qsize 16, out_qsize 2\n",
            "2020-09-22 14:23:48,615 : INFO : EPOCH 15 - PROGRESS: at 65.28% examples, 316573 words/s, in_qsize 14, out_qsize 1\n",
            "2020-09-22 14:23:49,633 : INFO : EPOCH 15 - PROGRESS: at 69.29% examples, 316981 words/s, in_qsize 13, out_qsize 0\n",
            "2020-09-22 14:23:50,656 : INFO : EPOCH 15 - PROGRESS: at 72.54% examples, 313977 words/s, in_qsize 12, out_qsize 3\n",
            "2020-09-22 14:23:51,689 : INFO : EPOCH 15 - PROGRESS: at 76.66% examples, 314672 words/s, in_qsize 16, out_qsize 0\n",
            "2020-09-22 14:23:52,749 : INFO : EPOCH 15 - PROGRESS: at 80.36% examples, 313224 words/s, in_qsize 13, out_qsize 2\n",
            "2020-09-22 14:23:53,780 : INFO : EPOCH 15 - PROGRESS: at 84.37% examples, 313530 words/s, in_qsize 15, out_qsize 0\n",
            "2020-09-22 14:23:54,786 : INFO : EPOCH 15 - PROGRESS: at 88.37% examples, 314137 words/s, in_qsize 16, out_qsize 0\n",
            "2020-09-22 14:23:55,792 : INFO : EPOCH 15 - PROGRESS: at 92.07% examples, 313578 words/s, in_qsize 13, out_qsize 1\n",
            "2020-09-22 14:23:56,823 : INFO : EPOCH 15 - PROGRESS: at 95.98% examples, 313562 words/s, in_qsize 15, out_qsize 2\n",
            "2020-09-22 14:23:57,623 : INFO : worker thread finished; awaiting finish of 7 more threads\n",
            "2020-09-22 14:23:57,635 : INFO : worker thread finished; awaiting finish of 6 more threads\n",
            "2020-09-22 14:23:57,637 : INFO : worker thread finished; awaiting finish of 5 more threads\n",
            "2020-09-22 14:23:57,676 : INFO : worker thread finished; awaiting finish of 4 more threads\n",
            "2020-09-22 14:23:57,701 : INFO : worker thread finished; awaiting finish of 3 more threads\n",
            "2020-09-22 14:23:57,708 : INFO : worker thread finished; awaiting finish of 2 more threads\n",
            "2020-09-22 14:23:57,718 : INFO : worker thread finished; awaiting finish of 1 more threads\n",
            "2020-09-22 14:23:57,734 : INFO : worker thread finished; awaiting finish of 0 more threads\n",
            "2020-09-22 14:23:57,736 : INFO : EPOCH - 15 : training on 9227204 raw words (8221601 effective words) took 26.1s, 315165 effective words/s\n",
            "2020-09-22 14:23:58,757 : INFO : EPOCH 16 - PROGRESS: at 2.93% examples, 238468 words/s, in_qsize 14, out_qsize 4\n",
            "2020-09-22 14:23:59,771 : INFO : EPOCH 16 - PROGRESS: at 6.84% examples, 277403 words/s, in_qsize 15, out_qsize 2\n",
            "2020-09-22 14:24:00,884 : INFO : EPOCH 16 - PROGRESS: at 10.97% examples, 286987 words/s, in_qsize 15, out_qsize 0\n",
            "2020-09-22 14:24:01,947 : INFO : EPOCH 16 - PROGRESS: at 15.19% examples, 297006 words/s, in_qsize 15, out_qsize 0\n",
            "2020-09-22 14:24:03,008 : INFO : EPOCH 16 - PROGRESS: at 19.08% examples, 298024 words/s, in_qsize 12, out_qsize 3\n",
            "2020-09-22 14:24:04,023 : INFO : EPOCH 16 - PROGRESS: at 23.31% examples, 305223 words/s, in_qsize 15, out_qsize 0\n",
            "2020-09-22 14:24:05,064 : INFO : EPOCH 16 - PROGRESS: at 27.53% examples, 309265 words/s, in_qsize 15, out_qsize 0\n",
            "2020-09-22 14:24:06,144 : INFO : EPOCH 16 - PROGRESS: at 31.21% examples, 305594 words/s, in_qsize 15, out_qsize 0\n",
            "2020-09-22 14:24:07,227 : INFO : EPOCH 16 - PROGRESS: at 35.32% examples, 306383 words/s, in_qsize 14, out_qsize 1\n",
            "2020-09-22 14:24:08,230 : INFO : EPOCH 16 - PROGRESS: at 39.33% examples, 308497 words/s, in_qsize 15, out_qsize 0\n",
            "2020-09-22 14:24:09,316 : INFO : EPOCH 16 - PROGRESS: at 43.32% examples, 308034 words/s, in_qsize 15, out_qsize 0\n",
            "2020-09-22 14:24:10,325 : INFO : EPOCH 16 - PROGRESS: at 47.10% examples, 308123 words/s, in_qsize 16, out_qsize 0\n",
            "2020-09-22 14:24:11,384 : INFO : EPOCH 16 - PROGRESS: at 51.10% examples, 308364 words/s, in_qsize 15, out_qsize 0\n",
            "2020-09-22 14:24:12,399 : INFO : EPOCH 16 - PROGRESS: at 55.10% examples, 309543 words/s, in_qsize 16, out_qsize 0\n",
            "2020-09-22 14:24:13,400 : INFO : EPOCH 16 - PROGRESS: at 58.90% examples, 309657 words/s, in_qsize 16, out_qsize 1\n",
            "2020-09-22 14:24:14,414 : INFO : EPOCH 16 - PROGRESS: at 62.57% examples, 309003 words/s, in_qsize 16, out_qsize 1\n",
            "2020-09-22 14:24:15,574 : INFO : EPOCH 16 - PROGRESS: at 66.47% examples, 306869 words/s, in_qsize 13, out_qsize 7\n",
            "2020-09-22 14:24:16,576 : INFO : EPOCH 16 - PROGRESS: at 70.59% examples, 308521 words/s, in_qsize 14, out_qsize 1\n",
            "2020-09-22 14:24:17,582 : INFO : EPOCH 16 - PROGRESS: at 74.81% examples, 310381 words/s, in_qsize 16, out_qsize 0\n",
            "2020-09-22 14:24:18,585 : INFO : EPOCH 16 - PROGRESS: at 78.62% examples, 310384 words/s, in_qsize 13, out_qsize 2\n",
            "2020-09-22 14:24:19,586 : INFO : EPOCH 16 - PROGRESS: at 82.31% examples, 310030 words/s, in_qsize 14, out_qsize 1\n",
            "2020-09-22 14:24:20,694 : INFO : EPOCH 16 - PROGRESS: at 86.10% examples, 308631 words/s, in_qsize 11, out_qsize 4\n",
            "2020-09-22 14:24:21,763 : INFO : EPOCH 16 - PROGRESS: at 90.33% examples, 309359 words/s, in_qsize 14, out_qsize 1\n",
            "2020-09-22 14:24:22,831 : INFO : EPOCH 16 - PROGRESS: at 94.14% examples, 308604 words/s, in_qsize 13, out_qsize 4\n",
            "2020-09-22 14:24:23,857 : INFO : EPOCH 16 - PROGRESS: at 98.36% examples, 309794 words/s, in_qsize 15, out_qsize 0\n",
            "2020-09-22 14:24:24,080 : INFO : worker thread finished; awaiting finish of 7 more threads\n",
            "2020-09-22 14:24:24,099 : INFO : worker thread finished; awaiting finish of 6 more threads\n",
            "2020-09-22 14:24:24,132 : INFO : worker thread finished; awaiting finish of 5 more threads\n",
            "2020-09-22 14:24:24,137 : INFO : worker thread finished; awaiting finish of 4 more threads\n",
            "2020-09-22 14:24:24,138 : INFO : worker thread finished; awaiting finish of 3 more threads\n",
            "2020-09-22 14:24:24,180 : INFO : worker thread finished; awaiting finish of 2 more threads\n",
            "2020-09-22 14:24:24,187 : INFO : worker thread finished; awaiting finish of 1 more threads\n",
            "2020-09-22 14:24:24,195 : INFO : worker thread finished; awaiting finish of 0 more threads\n",
            "2020-09-22 14:24:24,196 : INFO : EPOCH - 16 : training on 9227204 raw words (8222730 effective words) took 26.4s, 310912 effective words/s\n",
            "2020-09-22 14:24:25,240 : INFO : EPOCH 17 - PROGRESS: at 3.25% examples, 259584 words/s, in_qsize 15, out_qsize 0\n",
            "2020-09-22 14:24:26,240 : INFO : EPOCH 17 - PROGRESS: at 7.28% examples, 293898 words/s, in_qsize 14, out_qsize 1\n",
            "2020-09-22 14:24:27,251 : INFO : EPOCH 17 - PROGRESS: at 10.97% examples, 295883 words/s, in_qsize 15, out_qsize 0\n",
            "2020-09-22 14:24:28,355 : INFO : EPOCH 17 - PROGRESS: at 14.86% examples, 294339 words/s, in_qsize 15, out_qsize 3\n",
            "2020-09-22 14:24:29,398 : INFO : EPOCH 17 - PROGRESS: at 19.19% examples, 303805 words/s, in_qsize 15, out_qsize 0\n",
            "2020-09-22 14:24:30,426 : INFO : EPOCH 17 - PROGRESS: at 22.98% examples, 303785 words/s, in_qsize 14, out_qsize 1\n",
            "2020-09-22 14:24:31,461 : INFO : EPOCH 17 - PROGRESS: at 26.66% examples, 302182 words/s, in_qsize 15, out_qsize 0\n",
            "2020-09-22 14:24:32,503 : INFO : EPOCH 17 - PROGRESS: at 30.46% examples, 301829 words/s, in_qsize 15, out_qsize 0\n",
            "2020-09-22 14:24:33,560 : INFO : EPOCH 17 - PROGRESS: at 34.13% examples, 300066 words/s, in_qsize 11, out_qsize 4\n",
            "2020-09-22 14:24:34,698 : INFO : EPOCH 17 - PROGRESS: at 38.68% examples, 303182 words/s, in_qsize 15, out_qsize 0\n",
            "2020-09-22 14:24:35,705 : INFO : EPOCH 17 - PROGRESS: at 42.78% examples, 306069 words/s, in_qsize 12, out_qsize 2\n",
            "2020-09-22 14:24:36,830 : INFO : EPOCH 17 - PROGRESS: at 46.67% examples, 304184 words/s, in_qsize 14, out_qsize 1\n",
            "2020-09-22 14:24:37,830 : INFO : EPOCH 17 - PROGRESS: at 50.78% examples, 306695 words/s, in_qsize 14, out_qsize 1\n",
            "2020-09-22 14:24:38,890 : INFO : EPOCH 17 - PROGRESS: at 54.46% examples, 305200 words/s, in_qsize 15, out_qsize 2\n",
            "2020-09-22 14:24:40,006 : INFO : EPOCH 17 - PROGRESS: at 58.80% examples, 306193 words/s, in_qsize 11, out_qsize 4\n",
            "2020-09-22 14:24:41,051 : INFO : EPOCH 17 - PROGRESS: at 63.00% examples, 307814 words/s, in_qsize 15, out_qsize 0\n",
            "2020-09-22 14:24:42,056 : INFO : EPOCH 17 - PROGRESS: at 66.70% examples, 307462 words/s, in_qsize 10, out_qsize 5\n",
            "2020-09-22 14:24:43,142 : INFO : EPOCH 17 - PROGRESS: at 70.91% examples, 308181 words/s, in_qsize 15, out_qsize 0\n",
            "2020-09-22 14:24:44,218 : INFO : EPOCH 17 - PROGRESS: at 75.35% examples, 309843 words/s, in_qsize 15, out_qsize 0\n",
            "2020-09-22 14:24:45,245 : INFO : EPOCH 17 - PROGRESS: at 79.05% examples, 309108 words/s, in_qsize 16, out_qsize 1\n",
            "2020-09-22 14:24:46,261 : INFO : EPOCH 17 - PROGRESS: at 83.51% examples, 311428 words/s, in_qsize 15, out_qsize 0\n",
            "2020-09-22 14:24:47,270 : INFO : EPOCH 17 - PROGRESS: at 87.18% examples, 310918 words/s, in_qsize 15, out_qsize 0\n",
            "2020-09-22 14:24:48,295 : INFO : EPOCH 17 - PROGRESS: at 91.09% examples, 310988 words/s, in_qsize 16, out_qsize 1\n",
            "2020-09-22 14:24:49,339 : INFO : EPOCH 17 - PROGRESS: at 95.23% examples, 311528 words/s, in_qsize 15, out_qsize 0\n",
            "2020-09-22 14:24:50,347 : INFO : EPOCH 17 - PROGRESS: at 99.01% examples, 311448 words/s, in_qsize 10, out_qsize 0\n",
            "2020-09-22 14:24:50,369 : INFO : worker thread finished; awaiting finish of 7 more threads\n",
            "2020-09-22 14:24:50,380 : INFO : worker thread finished; awaiting finish of 6 more threads\n",
            "2020-09-22 14:24:50,381 : INFO : worker thread finished; awaiting finish of 5 more threads\n",
            "2020-09-22 14:24:50,396 : INFO : worker thread finished; awaiting finish of 4 more threads\n",
            "2020-09-22 14:24:50,413 : INFO : worker thread finished; awaiting finish of 3 more threads\n",
            "2020-09-22 14:24:50,431 : INFO : worker thread finished; awaiting finish of 2 more threads\n",
            "2020-09-22 14:24:50,457 : INFO : worker thread finished; awaiting finish of 1 more threads\n",
            "2020-09-22 14:24:50,466 : INFO : worker thread finished; awaiting finish of 0 more threads\n",
            "2020-09-22 14:24:50,467 : INFO : EPOCH - 17 : training on 9227204 raw words (8221593 effective words) took 26.3s, 313123 effective words/s\n",
            "2020-09-22 14:24:51,513 : INFO : EPOCH 18 - PROGRESS: at 3.36% examples, 268746 words/s, in_qsize 15, out_qsize 3\n",
            "2020-09-22 14:24:52,511 : INFO : EPOCH 18 - PROGRESS: at 7.50% examples, 302665 words/s, in_qsize 15, out_qsize 1\n",
            "2020-09-22 14:24:53,543 : INFO : EPOCH 18 - PROGRESS: at 11.51% examples, 308440 words/s, in_qsize 15, out_qsize 0\n",
            "2020-09-22 14:24:54,626 : INFO : EPOCH 18 - PROGRESS: at 15.08% examples, 298724 words/s, in_qsize 15, out_qsize 0\n",
            "2020-09-22 14:24:55,662 : INFO : EPOCH 18 - PROGRESS: at 18.97% examples, 300843 words/s, in_qsize 15, out_qsize 0\n",
            "2020-09-22 14:24:56,741 : INFO : EPOCH 18 - PROGRESS: at 23.42% examples, 307360 words/s, in_qsize 15, out_qsize 0\n",
            "2020-09-22 14:24:57,792 : INFO : EPOCH 18 - PROGRESS: at 27.20% examples, 305803 words/s, in_qsize 12, out_qsize 3\n",
            "2020-09-22 14:24:58,846 : INFO : EPOCH 18 - PROGRESS: at 31.10% examples, 305662 words/s, in_qsize 12, out_qsize 3\n",
            "2020-09-22 14:24:59,960 : INFO : EPOCH 18 - PROGRESS: at 35.43% examples, 307299 words/s, in_qsize 15, out_qsize 0\n",
            "2020-09-22 14:25:01,009 : INFO : EPOCH 18 - PROGRESS: at 39.54% examples, 308821 words/s, in_qsize 15, out_qsize 0\n",
            "2020-09-22 14:25:02,011 : INFO : EPOCH 18 - PROGRESS: at 43.43% examples, 309790 words/s, in_qsize 15, out_qsize 0\n",
            "2020-09-22 14:25:03,107 : INFO : EPOCH 18 - PROGRESS: at 47.75% examples, 311113 words/s, in_qsize 15, out_qsize 0\n",
            "2020-09-22 14:25:04,155 : INFO : EPOCH 18 - PROGRESS: at 51.53% examples, 310082 words/s, in_qsize 11, out_qsize 4\n",
            "2020-09-22 14:25:05,167 : INFO : EPOCH 18 - PROGRESS: at 55.42% examples, 310565 words/s, in_qsize 15, out_qsize 0\n",
            "2020-09-22 14:25:06,228 : INFO : EPOCH 18 - PROGRESS: at 59.33% examples, 310005 words/s, in_qsize 14, out_qsize 1\n",
            "2020-09-22 14:25:07,306 : INFO : EPOCH 18 - PROGRESS: at 63.54% examples, 310800 words/s, in_qsize 15, out_qsize 0\n",
            "2020-09-22 14:25:08,328 : INFO : EPOCH 18 - PROGRESS: at 67.56% examples, 311445 words/s, in_qsize 16, out_qsize 0\n",
            "2020-09-22 14:25:09,340 : INFO : EPOCH 18 - PROGRESS: at 71.02% examples, 309852 words/s, in_qsize 15, out_qsize 2\n",
            "2020-09-22 14:25:10,358 : INFO : EPOCH 18 - PROGRESS: at 75.57% examples, 312798 words/s, in_qsize 16, out_qsize 0\n",
            "2020-09-22 14:25:11,414 : INFO : EPOCH 18 - PROGRESS: at 79.05% examples, 310635 words/s, in_qsize 16, out_qsize 0\n",
            "2020-09-22 14:25:12,424 : INFO : EPOCH 18 - PROGRESS: at 82.85% examples, 310546 words/s, in_qsize 16, out_qsize 1\n",
            "2020-09-22 14:25:13,618 : INFO : EPOCH 18 - PROGRESS: at 87.18% examples, 310858 words/s, in_qsize 15, out_qsize 6\n",
            "2020-09-22 14:25:14,591 : INFO : EPOCH 18 - PROGRESS: at 91.20% examples, 311525 words/s, in_qsize 15, out_qsize 4\n",
            "2020-09-22 14:25:15,786 : INFO : EPOCH 18 - PROGRESS: at 92.83% examples, 301659 words/s, in_qsize 14, out_qsize 5\n",
            "2020-09-22 14:25:17,139 : INFO : EPOCH 18 - PROGRESS: at 95.45% examples, 294358 words/s, in_qsize 13, out_qsize 2\n",
            "2020-09-22 14:25:18,473 : INFO : EPOCH 18 - PROGRESS: at 98.04% examples, 287961 words/s, in_qsize 8, out_qsize 7\n",
            "2020-09-22 14:25:18,894 : INFO : worker thread finished; awaiting finish of 7 more threads\n",
            "2020-09-22 14:25:18,896 : INFO : worker thread finished; awaiting finish of 6 more threads\n",
            "2020-09-22 14:25:18,900 : INFO : worker thread finished; awaiting finish of 5 more threads\n",
            "2020-09-22 14:25:18,930 : INFO : worker thread finished; awaiting finish of 4 more threads\n",
            "2020-09-22 14:25:18,941 : INFO : worker thread finished; awaiting finish of 3 more threads\n",
            "2020-09-22 14:25:19,070 : INFO : worker thread finished; awaiting finish of 2 more threads\n",
            "2020-09-22 14:25:19,076 : INFO : worker thread finished; awaiting finish of 1 more threads\n",
            "2020-09-22 14:25:19,082 : INFO : worker thread finished; awaiting finish of 0 more threads\n",
            "2020-09-22 14:25:19,083 : INFO : EPOCH - 18 : training on 9227204 raw words (8222097 effective words) took 28.6s, 287460 effective words/s\n",
            "2020-09-22 14:25:20,235 : INFO : EPOCH 19 - PROGRESS: at 1.19% examples, 86942 words/s, in_qsize 15, out_qsize 4\n",
            "2020-09-22 14:25:21,259 : INFO : EPOCH 19 - PROGRESS: at 3.69% examples, 140834 words/s, in_qsize 15, out_qsize 0\n",
            "2020-09-22 14:25:22,474 : INFO : EPOCH 19 - PROGRESS: at 5.54% examples, 134928 words/s, in_qsize 15, out_qsize 0\n",
            "2020-09-22 14:25:23,496 : INFO : EPOCH 19 - PROGRESS: at 7.27% examples, 136024 words/s, in_qsize 12, out_qsize 3\n",
            "2020-09-22 14:25:24,521 : INFO : EPOCH 19 - PROGRESS: at 9.34% examples, 141570 words/s, in_qsize 14, out_qsize 1\n",
            "2020-09-22 14:25:25,726 : INFO : EPOCH 19 - PROGRESS: at 11.62% examples, 144088 words/s, in_qsize 13, out_qsize 2\n",
            "2020-09-22 14:25:26,731 : INFO : EPOCH 19 - PROGRESS: at 13.58% examples, 146086 words/s, in_qsize 15, out_qsize 0\n",
            "2020-09-22 14:25:27,889 : INFO : EPOCH 19 - PROGRESS: at 15.95% examples, 149129 words/s, in_qsize 15, out_qsize 0\n",
            "2020-09-22 14:25:28,914 : INFO : EPOCH 19 - PROGRESS: at 19.62% examples, 164408 words/s, in_qsize 16, out_qsize 0\n",
            "2020-09-22 14:25:29,942 : INFO : EPOCH 19 - PROGRESS: at 23.63% examples, 179686 words/s, in_qsize 15, out_qsize 0\n",
            "2020-09-22 14:25:30,988 : INFO : EPOCH 19 - PROGRESS: at 27.42% examples, 189720 words/s, in_qsize 15, out_qsize 0\n",
            "2020-09-22 14:25:31,998 : INFO : EPOCH 19 - PROGRESS: at 30.78% examples, 196287 words/s, in_qsize 16, out_qsize 5\n",
            "2020-09-22 14:25:33,082 : INFO : EPOCH 19 - PROGRESS: at 34.78% examples, 204641 words/s, in_qsize 11, out_qsize 4\n",
            "2020-09-22 14:25:34,082 : INFO : EPOCH 19 - PROGRESS: at 38.78% examples, 212978 words/s, in_qsize 16, out_qsize 0\n",
            "2020-09-22 14:25:35,115 : INFO : EPOCH 19 - PROGRESS: at 42.13% examples, 216496 words/s, in_qsize 16, out_qsize 5\n",
            "2020-09-22 14:25:36,157 : INFO : EPOCH 19 - PROGRESS: at 45.92% examples, 221761 words/s, in_qsize 14, out_qsize 7\n",
            "2020-09-22 14:25:37,227 : INFO : EPOCH 19 - PROGRESS: at 50.13% examples, 227644 words/s, in_qsize 15, out_qsize 0\n",
            "2020-09-22 14:25:38,241 : INFO : EPOCH 19 - PROGRESS: at 54.35% examples, 233749 words/s, in_qsize 16, out_qsize 0\n",
            "2020-09-22 14:25:39,368 : INFO : EPOCH 19 - PROGRESS: at 58.25% examples, 236591 words/s, in_qsize 13, out_qsize 2\n",
            "2020-09-22 14:25:40,426 : INFO : EPOCH 19 - PROGRESS: at 62.57% examples, 242033 words/s, in_qsize 16, out_qsize 1\n",
            "2020-09-22 14:25:41,408 : INFO : EPOCH 19 - PROGRESS: at 66.37% examples, 244910 words/s, in_qsize 15, out_qsize 0\n",
            "2020-09-22 14:25:42,418 : INFO : EPOCH 19 - PROGRESS: at 69.83% examples, 246543 words/s, in_qsize 14, out_qsize 1\n",
            "2020-09-22 14:25:43,513 : INFO : EPOCH 19 - PROGRESS: at 74.05% examples, 249713 words/s, in_qsize 15, out_qsize 0\n",
            "2020-09-22 14:25:44,575 : INFO : EPOCH 19 - PROGRESS: at 78.07% examples, 252254 words/s, in_qsize 15, out_qsize 4\n",
            "2020-09-22 14:25:45,577 : INFO : EPOCH 19 - PROGRESS: at 82.32% examples, 255815 words/s, in_qsize 15, out_qsize 1\n",
            "2020-09-22 14:25:46,629 : INFO : EPOCH 19 - PROGRESS: at 86.53% examples, 258662 words/s, in_qsize 15, out_qsize 0\n",
            "2020-09-22 14:25:47,633 : INFO : EPOCH 19 - PROGRESS: at 90.11% examples, 259853 words/s, in_qsize 13, out_qsize 2\n",
            "2020-09-22 14:25:48,744 : INFO : EPOCH 19 - PROGRESS: at 94.69% examples, 262720 words/s, in_qsize 15, out_qsize 0\n",
            "2020-09-22 14:25:49,766 : INFO : EPOCH 19 - PROGRESS: at 98.36% examples, 263841 words/s, in_qsize 15, out_qsize 1\n",
            "2020-09-22 14:25:49,932 : INFO : worker thread finished; awaiting finish of 7 more threads\n",
            "2020-09-22 14:25:49,939 : INFO : worker thread finished; awaiting finish of 6 more threads\n",
            "2020-09-22 14:25:49,957 : INFO : worker thread finished; awaiting finish of 5 more threads\n",
            "2020-09-22 14:25:49,993 : INFO : worker thread finished; awaiting finish of 4 more threads\n",
            "2020-09-22 14:25:50,010 : INFO : worker thread finished; awaiting finish of 3 more threads\n",
            "2020-09-22 14:25:50,024 : INFO : worker thread finished; awaiting finish of 2 more threads\n",
            "2020-09-22 14:25:50,036 : INFO : worker thread finished; awaiting finish of 1 more threads\n",
            "2020-09-22 14:25:50,042 : INFO : worker thread finished; awaiting finish of 0 more threads\n",
            "2020-09-22 14:25:50,044 : INFO : EPOCH - 19 : training on 9227204 raw words (8223324 effective words) took 30.9s, 265825 effective words/s\n",
            "2020-09-22 14:25:51,064 : INFO : EPOCH 20 - PROGRESS: at 3.14% examples, 256432 words/s, in_qsize 14, out_qsize 1\n",
            "2020-09-22 14:25:52,130 : INFO : EPOCH 20 - PROGRESS: at 7.17% examples, 283469 words/s, in_qsize 13, out_qsize 2\n",
            "2020-09-22 14:25:53,185 : INFO : EPOCH 20 - PROGRESS: at 10.97% examples, 287583 words/s, in_qsize 14, out_qsize 3\n",
            "2020-09-22 14:25:54,227 : INFO : EPOCH 20 - PROGRESS: at 15.19% examples, 298975 words/s, in_qsize 15, out_qsize 0\n",
            "2020-09-22 14:25:55,244 : INFO : EPOCH 20 - PROGRESS: at 19.08% examples, 302151 words/s, in_qsize 14, out_qsize 1\n",
            "2020-09-22 14:25:56,300 : INFO : EPOCH 20 - PROGRESS: at 23.31% examples, 306732 words/s, in_qsize 13, out_qsize 2\n",
            "2020-09-22 14:25:57,341 : INFO : EPOCH 20 - PROGRESS: at 27.42% examples, 310170 words/s, in_qsize 15, out_qsize 1\n",
            "2020-09-22 14:25:58,350 : INFO : EPOCH 20 - PROGRESS: at 31.54% examples, 312553 words/s, in_qsize 15, out_qsize 0\n",
            "2020-09-22 14:25:59,353 : INFO : EPOCH 20 - PROGRESS: at 35.43% examples, 313274 words/s, in_qsize 16, out_qsize 0\n",
            "2020-09-22 14:26:00,415 : INFO : EPOCH 20 - PROGRESS: at 39.11% examples, 310401 words/s, in_qsize 13, out_qsize 2\n",
            "2020-09-22 14:26:01,464 : INFO : EPOCH 20 - PROGRESS: at 43.32% examples, 312315 words/s, in_qsize 14, out_qsize 1\n",
            "2020-09-22 14:26:02,470 : INFO : EPOCH 20 - PROGRESS: at 47.21% examples, 312839 words/s, in_qsize 15, out_qsize 1\n",
            "2020-09-22 14:26:03,484 : INFO : EPOCH 20 - PROGRESS: at 50.35% examples, 308463 words/s, in_qsize 15, out_qsize 0\n",
            "2020-09-22 14:26:04,518 : INFO : EPOCH 20 - PROGRESS: at 53.70% examples, 305505 words/s, in_qsize 16, out_qsize 1\n",
            "2020-09-22 14:26:05,611 : INFO : EPOCH 20 - PROGRESS: at 57.38% examples, 304347 words/s, in_qsize 13, out_qsize 6\n",
            "2020-09-22 14:26:06,575 : INFO : EPOCH 20 - PROGRESS: at 60.96% examples, 303619 words/s, in_qsize 15, out_qsize 0\n",
            "2020-09-22 14:26:07,680 : INFO : EPOCH 20 - PROGRESS: at 64.40% examples, 300750 words/s, in_qsize 15, out_qsize 0\n",
            "2020-09-22 14:26:08,690 : INFO : EPOCH 20 - PROGRESS: at 67.88% examples, 299732 words/s, in_qsize 15, out_qsize 0\n",
            "2020-09-22 14:26:09,746 : INFO : EPOCH 20 - PROGRESS: at 71.88% examples, 300421 words/s, in_qsize 14, out_qsize 1\n",
            "2020-09-22 14:26:10,886 : INFO : EPOCH 20 - PROGRESS: at 75.57% examples, 298502 words/s, in_qsize 15, out_qsize 0\n",
            "2020-09-22 14:26:11,922 : INFO : EPOCH 20 - PROGRESS: at 79.27% examples, 298202 words/s, in_qsize 13, out_qsize 2\n",
            "2020-09-22 14:26:12,933 : INFO : EPOCH 20 - PROGRESS: at 82.96% examples, 298273 words/s, in_qsize 15, out_qsize 0\n",
            "2020-09-22 14:26:13,945 : INFO : EPOCH 20 - PROGRESS: at 86.85% examples, 299053 words/s, in_qsize 15, out_qsize 0\n",
            "2020-09-22 14:26:14,986 : INFO : EPOCH 20 - PROGRESS: at 90.54% examples, 298718 words/s, in_qsize 15, out_qsize 0\n",
            "2020-09-22 14:26:16,101 : INFO : EPOCH 20 - PROGRESS: at 94.36% examples, 297877 words/s, in_qsize 14, out_qsize 7\n",
            "2020-09-22 14:26:17,119 : INFO : EPOCH 20 - PROGRESS: at 98.68% examples, 299838 words/s, in_qsize 13, out_qsize 0\n",
            "2020-09-22 14:26:17,257 : INFO : worker thread finished; awaiting finish of 7 more threads\n",
            "2020-09-22 14:26:17,263 : INFO : worker thread finished; awaiting finish of 6 more threads\n",
            "2020-09-22 14:26:17,292 : INFO : worker thread finished; awaiting finish of 5 more threads\n",
            "2020-09-22 14:26:17,304 : INFO : worker thread finished; awaiting finish of 4 more threads\n",
            "2020-09-22 14:26:17,340 : INFO : worker thread finished; awaiting finish of 3 more threads\n",
            "2020-09-22 14:26:17,368 : INFO : worker thread finished; awaiting finish of 2 more threads\n",
            "2020-09-22 14:26:17,371 : INFO : worker thread finished; awaiting finish of 1 more threads\n",
            "2020-09-22 14:26:17,378 : INFO : worker thread finished; awaiting finish of 0 more threads\n",
            "2020-09-22 14:26:17,379 : INFO : EPOCH - 20 : training on 9227204 raw words (8222417 effective words) took 27.3s, 300931 effective words/s\n",
            "2020-09-22 14:26:18,568 : INFO : EPOCH 21 - PROGRESS: at 3.47% examples, 245257 words/s, in_qsize 8, out_qsize 7\n",
            "2020-09-22 14:26:19,599 : INFO : EPOCH 21 - PROGRESS: at 7.71% examples, 288211 words/s, in_qsize 14, out_qsize 0\n",
            "2020-09-22 14:26:20,629 : INFO : EPOCH 21 - PROGRESS: at 11.40% examples, 290179 words/s, in_qsize 15, out_qsize 0\n",
            "2020-09-22 14:26:21,666 : INFO : EPOCH 21 - PROGRESS: at 15.30% examples, 294737 words/s, in_qsize 12, out_qsize 3\n",
            "2020-09-22 14:26:22,736 : INFO : EPOCH 21 - PROGRESS: at 19.40% examples, 299064 words/s, in_qsize 15, out_qsize 0\n",
            "2020-09-22 14:26:23,796 : INFO : EPOCH 21 - PROGRESS: at 23.31% examples, 301337 words/s, in_qsize 15, out_qsize 1\n",
            "2020-09-22 14:26:24,884 : INFO : EPOCH 21 - PROGRESS: at 27.53% examples, 302544 words/s, in_qsize 15, out_qsize 0\n",
            "2020-09-22 14:26:25,892 : INFO : EPOCH 21 - PROGRESS: at 31.75% examples, 307538 words/s, in_qsize 15, out_qsize 0\n",
            "2020-09-22 14:26:26,925 : INFO : EPOCH 21 - PROGRESS: at 35.65% examples, 307832 words/s, in_qsize 15, out_qsize 0\n",
            "2020-09-22 14:26:27,970 : INFO : EPOCH 21 - PROGRESS: at 39.54% examples, 307722 words/s, in_qsize 15, out_qsize 0\n",
            "2020-09-22 14:26:29,045 : INFO : EPOCH 21 - PROGRESS: at 43.32% examples, 306081 words/s, in_qsize 13, out_qsize 4\n",
            "2020-09-22 14:26:30,066 : INFO : EPOCH 21 - PROGRESS: at 47.43% examples, 308122 words/s, in_qsize 15, out_qsize 0\n",
            "2020-09-22 14:26:31,205 : INFO : EPOCH 21 - PROGRESS: at 51.54% examples, 307227 words/s, in_qsize 14, out_qsize 1\n",
            "2020-09-22 14:26:32,213 : INFO : EPOCH 21 - PROGRESS: at 55.42% examples, 308005 words/s, in_qsize 14, out_qsize 3\n",
            "2020-09-22 14:26:33,252 : INFO : EPOCH 21 - PROGRESS: at 59.34% examples, 308063 words/s, in_qsize 13, out_qsize 2\n",
            "2020-09-22 14:26:34,279 : INFO : EPOCH 21 - PROGRESS: at 63.43% examples, 309382 words/s, in_qsize 15, out_qsize 0\n",
            "2020-09-22 14:26:35,290 : INFO : EPOCH 21 - PROGRESS: at 67.56% examples, 310818 words/s, in_qsize 15, out_qsize 0\n",
            "2020-09-22 14:26:36,316 : INFO : EPOCH 21 - PROGRESS: at 70.91% examples, 308569 words/s, in_qsize 15, out_qsize 0\n",
            "2020-09-22 14:26:37,366 : INFO : EPOCH 21 - PROGRESS: at 74.92% examples, 308832 words/s, in_qsize 13, out_qsize 2\n",
            "2020-09-22 14:26:38,372 : INFO : EPOCH 21 - PROGRESS: at 78.84% examples, 309306 words/s, in_qsize 15, out_qsize 0\n",
            "2020-09-22 14:26:39,379 : INFO : EPOCH 21 - PROGRESS: at 83.07% examples, 310935 words/s, in_qsize 13, out_qsize 0\n",
            "2020-09-22 14:26:40,392 : INFO : EPOCH 21 - PROGRESS: at 86.75% examples, 310398 words/s, in_qsize 15, out_qsize 0\n",
            "2020-09-22 14:26:41,420 : INFO : EPOCH 21 - PROGRESS: at 90.76% examples, 310826 words/s, in_qsize 14, out_qsize 3\n",
            "2020-09-22 14:26:42,433 : INFO : EPOCH 21 - PROGRESS: at 94.90% examples, 311749 words/s, in_qsize 16, out_qsize 1\n",
            "2020-09-22 14:26:43,458 : INFO : EPOCH 21 - PROGRESS: at 98.90% examples, 312136 words/s, in_qsize 10, out_qsize 1\n",
            "2020-09-22 14:26:43,474 : INFO : worker thread finished; awaiting finish of 7 more threads\n",
            "2020-09-22 14:26:43,497 : INFO : worker thread finished; awaiting finish of 6 more threads\n",
            "2020-09-22 14:26:43,537 : INFO : worker thread finished; awaiting finish of 5 more threads\n",
            "2020-09-22 14:26:43,558 : INFO : worker thread finished; awaiting finish of 4 more threads\n",
            "2020-09-22 14:26:43,564 : INFO : worker thread finished; awaiting finish of 3 more threads\n",
            "2020-09-22 14:26:43,578 : INFO : worker thread finished; awaiting finish of 2 more threads\n",
            "2020-09-22 14:26:43,585 : INFO : worker thread finished; awaiting finish of 1 more threads\n",
            "2020-09-22 14:26:43,592 : INFO : worker thread finished; awaiting finish of 0 more threads\n",
            "2020-09-22 14:26:43,594 : INFO : EPOCH - 21 : training on 9227204 raw words (8222218 effective words) took 26.2s, 313961 effective words/s\n",
            "2020-09-22 14:26:44,625 : INFO : EPOCH 22 - PROGRESS: at 3.36% examples, 270326 words/s, in_qsize 15, out_qsize 0\n",
            "2020-09-22 14:26:45,643 : INFO : EPOCH 22 - PROGRESS: at 6.84% examples, 277109 words/s, in_qsize 16, out_qsize 6\n",
            "2020-09-22 14:26:46,650 : INFO : EPOCH 22 - PROGRESS: at 11.08% examples, 298343 words/s, in_qsize 15, out_qsize 0\n",
            "2020-09-22 14:26:47,756 : INFO : EPOCH 22 - PROGRESS: at 14.65% examples, 289648 words/s, in_qsize 15, out_qsize 0\n",
            "2020-09-22 14:26:48,810 : INFO : EPOCH 22 - PROGRESS: at 18.87% examples, 297671 words/s, in_qsize 15, out_qsize 0\n",
            "2020-09-22 14:26:49,892 : INFO : EPOCH 22 - PROGRESS: at 22.76% examples, 297501 words/s, in_qsize 15, out_qsize 1\n",
            "2020-09-22 14:26:50,910 : INFO : EPOCH 22 - PROGRESS: at 26.99% examples, 303627 words/s, in_qsize 16, out_qsize 0\n",
            "2020-09-22 14:26:51,965 : INFO : EPOCH 22 - PROGRESS: at 30.89% examples, 303654 words/s, in_qsize 14, out_qsize 1\n",
            "2020-09-22 14:26:53,004 : INFO : EPOCH 22 - PROGRESS: at 34.68% examples, 303260 words/s, in_qsize 14, out_qsize 2\n",
            "2020-09-22 14:26:54,076 : INFO : EPOCH 22 - PROGRESS: at 38.68% examples, 303718 words/s, in_qsize 14, out_qsize 6\n",
            "2020-09-22 14:26:55,126 : INFO : EPOCH 22 - PROGRESS: at 42.89% examples, 306179 words/s, in_qsize 14, out_qsize 3\n",
            "2020-09-22 14:26:56,197 : INFO : EPOCH 22 - PROGRESS: at 47.32% examples, 310005 words/s, in_qsize 15, out_qsize 0\n",
            "2020-09-22 14:26:57,180 : INFO : EPOCH 22 - PROGRESS: at 50.88% examples, 308429 words/s, in_qsize 14, out_qsize 1\n",
            "2020-09-22 14:26:58,185 : INFO : EPOCH 22 - PROGRESS: at 54.89% examples, 309783 words/s, in_qsize 15, out_qsize 0\n",
            "2020-09-22 14:26:59,250 : INFO : EPOCH 22 - PROGRESS: at 58.69% examples, 308627 words/s, in_qsize 15, out_qsize 0\n",
            "2020-09-22 14:27:00,282 : INFO : EPOCH 22 - PROGRESS: at 62.68% examples, 309290 words/s, in_qsize 16, out_qsize 0\n",
            "2020-09-22 14:27:01,299 : INFO : EPOCH 22 - PROGRESS: at 66.69% examples, 310133 words/s, in_qsize 16, out_qsize 1\n",
            "2020-09-22 14:27:02,413 : INFO : EPOCH 22 - PROGRESS: at 70.59% examples, 309197 words/s, in_qsize 15, out_qsize 1\n",
            "2020-09-22 14:27:03,463 : INFO : EPOCH 22 - PROGRESS: at 74.59% examples, 309092 words/s, in_qsize 15, out_qsize 2\n",
            "2020-09-22 14:27:04,486 : INFO : EPOCH 22 - PROGRESS: at 78.51% examples, 309300 words/s, in_qsize 14, out_qsize 3\n",
            "2020-09-22 14:27:05,540 : INFO : EPOCH 22 - PROGRESS: at 82.64% examples, 309880 words/s, in_qsize 15, out_qsize 0\n",
            "2020-09-22 14:27:06,541 : INFO : EPOCH 22 - PROGRESS: at 86.75% examples, 311110 words/s, in_qsize 15, out_qsize 0\n",
            "2020-09-22 14:27:07,609 : INFO : EPOCH 22 - PROGRESS: at 90.44% examples, 309878 words/s, in_qsize 15, out_qsize 0\n",
            "2020-09-22 14:27:08,659 : INFO : EPOCH 22 - PROGRESS: at 94.69% examples, 310743 words/s, in_qsize 15, out_qsize 0\n",
            "2020-09-22 14:27:09,678 : INFO : EPOCH 22 - PROGRESS: at 98.58% examples, 310906 words/s, in_qsize 14, out_qsize 0\n",
            "2020-09-22 14:27:09,814 : INFO : worker thread finished; awaiting finish of 7 more threads\n",
            "2020-09-22 14:27:09,834 : INFO : worker thread finished; awaiting finish of 6 more threads\n",
            "2020-09-22 14:27:09,900 : INFO : worker thread finished; awaiting finish of 5 more threads\n",
            "2020-09-22 14:27:09,903 : INFO : worker thread finished; awaiting finish of 4 more threads\n",
            "2020-09-22 14:27:09,907 : INFO : worker thread finished; awaiting finish of 3 more threads\n",
            "2020-09-22 14:27:09,916 : INFO : worker thread finished; awaiting finish of 2 more threads\n",
            "2020-09-22 14:27:09,919 : INFO : worker thread finished; awaiting finish of 1 more threads\n",
            "2020-09-22 14:27:09,926 : INFO : worker thread finished; awaiting finish of 0 more threads\n",
            "2020-09-22 14:27:09,927 : INFO : EPOCH - 22 : training on 9227204 raw words (8223843 effective words) took 26.3s, 312406 effective words/s\n",
            "2020-09-22 14:27:10,988 : INFO : EPOCH 23 - PROGRESS: at 3.47% examples, 275117 words/s, in_qsize 15, out_qsize 1\n",
            "2020-09-22 14:27:11,991 : INFO : EPOCH 23 - PROGRESS: at 7.06% examples, 284281 words/s, in_qsize 15, out_qsize 1\n",
            "2020-09-22 14:27:12,985 : INFO : EPOCH 23 - PROGRESS: at 10.75% examples, 289983 words/s, in_qsize 16, out_qsize 0\n",
            "2020-09-22 14:27:13,994 : INFO : EPOCH 23 - PROGRESS: at 14.86% examples, 301254 words/s, in_qsize 15, out_qsize 0\n",
            "2020-09-22 14:27:15,017 : INFO : EPOCH 23 - PROGRESS: at 18.43% examples, 298383 words/s, in_qsize 15, out_qsize 0\n",
            "2020-09-22 14:27:16,063 : INFO : EPOCH 23 - PROGRESS: at 22.66% examples, 304234 words/s, in_qsize 15, out_qsize 0\n",
            "2020-09-22 14:27:17,166 : INFO : EPOCH 23 - PROGRESS: at 26.56% examples, 302209 words/s, in_qsize 16, out_qsize 0\n",
            "2020-09-22 14:27:18,201 : INFO : EPOCH 23 - PROGRESS: at 30.46% examples, 303158 words/s, in_qsize 15, out_qsize 0\n",
            "2020-09-22 14:27:19,210 : INFO : EPOCH 23 - PROGRESS: at 34.13% examples, 302828 words/s, in_qsize 13, out_qsize 2\n",
            "2020-09-22 14:27:20,230 : INFO : EPOCH 23 - PROGRESS: at 38.57% examples, 308289 words/s, in_qsize 15, out_qsize 0\n",
            "2020-09-22 14:27:21,246 : INFO : EPOCH 23 - PROGRESS: at 42.68% examples, 310532 words/s, in_qsize 15, out_qsize 0\n",
            "2020-09-22 14:27:22,404 : INFO : EPOCH 23 - PROGRESS: at 46.89% examples, 309871 words/s, in_qsize 15, out_qsize 5\n",
            "2020-09-22 14:27:23,401 : INFO : EPOCH 23 - PROGRESS: at 50.89% examples, 311106 words/s, in_qsize 15, out_qsize 0\n",
            "2020-09-22 14:27:24,406 : INFO : EPOCH 23 - PROGRESS: at 54.89% examples, 312305 words/s, in_qsize 16, out_qsize 0\n",
            "2020-09-22 14:27:25,413 : INFO : EPOCH 23 - PROGRESS: at 59.01% examples, 313878 words/s, in_qsize 15, out_qsize 0\n",
            "2020-09-22 14:27:26,419 : INFO : EPOCH 23 - PROGRESS: at 62.57% examples, 312537 words/s, in_qsize 15, out_qsize 0\n",
            "2020-09-22 14:27:27,517 : INFO : EPOCH 23 - PROGRESS: at 66.47% examples, 311259 words/s, in_qsize 16, out_qsize 0\n",
            "2020-09-22 14:27:28,546 : INFO : EPOCH 23 - PROGRESS: at 70.80% examples, 313205 words/s, in_qsize 12, out_qsize 1\n",
            "2020-09-22 14:27:29,549 : INFO : EPOCH 23 - PROGRESS: at 74.26% examples, 311716 words/s, in_qsize 11, out_qsize 4\n",
            "2020-09-22 14:27:30,564 : INFO : EPOCH 23 - PROGRESS: at 78.51% examples, 313249 words/s, in_qsize 16, out_qsize 0\n",
            "2020-09-22 14:27:31,649 : INFO : EPOCH 23 - PROGRESS: at 82.42% examples, 312328 words/s, in_qsize 15, out_qsize 0\n",
            "2020-09-22 14:27:32,703 : INFO : EPOCH 23 - PROGRESS: at 86.75% examples, 313517 words/s, in_qsize 15, out_qsize 0\n",
            "2020-09-22 14:27:33,774 : INFO : EPOCH 23 - PROGRESS: at 90.65% examples, 312880 words/s, in_qsize 15, out_qsize 0\n",
            "2020-09-22 14:27:34,827 : INFO : EPOCH 23 - PROGRESS: at 94.69% examples, 312865 words/s, in_qsize 15, out_qsize 0\n",
            "2020-09-22 14:27:35,834 : INFO : EPOCH 23 - PROGRESS: at 98.69% examples, 313426 words/s, in_qsize 13, out_qsize 0\n",
            "2020-09-22 14:27:35,969 : INFO : worker thread finished; awaiting finish of 7 more threads\n",
            "2020-09-22 14:27:36,001 : INFO : worker thread finished; awaiting finish of 6 more threads\n",
            "2020-09-22 14:27:36,009 : INFO : worker thread finished; awaiting finish of 5 more threads\n",
            "2020-09-22 14:27:36,025 : INFO : worker thread finished; awaiting finish of 4 more threads\n",
            "2020-09-22 14:27:36,027 : INFO : worker thread finished; awaiting finish of 3 more threads\n",
            "2020-09-22 14:27:36,051 : INFO : worker thread finished; awaiting finish of 2 more threads\n",
            "2020-09-22 14:27:36,065 : INFO : worker thread finished; awaiting finish of 1 more threads\n",
            "2020-09-22 14:27:36,078 : INFO : worker thread finished; awaiting finish of 0 more threads\n",
            "2020-09-22 14:27:36,079 : INFO : EPOCH - 23 : training on 9227204 raw words (8222683 effective words) took 26.1s, 314616 effective words/s\n",
            "2020-09-22 14:27:37,205 : INFO : EPOCH 24 - PROGRESS: at 3.58% examples, 272565 words/s, in_qsize 15, out_qsize 1\n",
            "2020-09-22 14:27:38,174 : INFO : EPOCH 24 - PROGRESS: at 7.60% examples, 299876 words/s, in_qsize 16, out_qsize 1\n",
            "2020-09-22 14:27:39,313 : INFO : EPOCH 24 - PROGRESS: at 11.30% examples, 287923 words/s, in_qsize 13, out_qsize 2\n",
            "2020-09-22 14:27:40,379 : INFO : EPOCH 24 - PROGRESS: at 15.52% examples, 297329 words/s, in_qsize 15, out_qsize 0\n",
            "2020-09-22 14:27:41,446 : INFO : EPOCH 24 - PROGRESS: at 19.62% examples, 301268 words/s, in_qsize 15, out_qsize 0\n",
            "2020-09-22 14:27:42,485 : INFO : EPOCH 24 - PROGRESS: at 24.07% examples, 309469 words/s, in_qsize 15, out_qsize 0\n",
            "2020-09-22 14:27:43,497 : INFO : EPOCH 24 - PROGRESS: at 28.07% examples, 311707 words/s, in_qsize 13, out_qsize 0\n",
            "2020-09-22 14:27:44,510 : INFO : EPOCH 24 - PROGRESS: at 31.75% examples, 310166 words/s, in_qsize 16, out_qsize 0\n",
            "2020-09-22 14:27:45,526 : INFO : EPOCH 24 - PROGRESS: at 35.54% examples, 309798 words/s, in_qsize 14, out_qsize 0\n",
            "2020-09-22 14:27:46,577 : INFO : EPOCH 24 - PROGRESS: at 39.54% examples, 310426 words/s, in_qsize 15, out_qsize 1\n",
            "2020-09-22 14:27:47,613 : INFO : EPOCH 24 - PROGRESS: at 43.43% examples, 310133 words/s, in_qsize 15, out_qsize 0\n",
            "2020-09-22 14:27:48,697 : INFO : EPOCH 24 - PROGRESS: at 47.32% examples, 308900 words/s, in_qsize 15, out_qsize 0\n",
            "2020-09-22 14:27:49,707 : INFO : EPOCH 24 - PROGRESS: at 51.43% examples, 310879 words/s, in_qsize 16, out_qsize 1\n",
            "2020-09-22 14:27:50,719 : INFO : EPOCH 24 - PROGRESS: at 55.32% examples, 311303 words/s, in_qsize 15, out_qsize 0\n",
            "2020-09-22 14:27:51,725 : INFO : EPOCH 24 - PROGRESS: at 59.23% examples, 311795 words/s, in_qsize 15, out_qsize 0\n",
            "2020-09-22 14:27:52,756 : INFO : EPOCH 24 - PROGRESS: at 63.43% examples, 313349 words/s, in_qsize 15, out_qsize 0\n",
            "2020-09-22 14:27:53,772 : INFO : EPOCH 24 - PROGRESS: at 67.34% examples, 313469 words/s, in_qsize 15, out_qsize 0\n",
            "2020-09-22 14:27:54,804 : INFO : EPOCH 24 - PROGRESS: at 71.34% examples, 313800 words/s, in_qsize 9, out_qsize 6\n",
            "2020-09-22 14:27:55,854 : INFO : EPOCH 24 - PROGRESS: at 75.78% examples, 315605 words/s, in_qsize 15, out_qsize 0\n",
            "2020-09-22 14:27:56,878 : INFO : EPOCH 24 - PROGRESS: at 79.71% examples, 315471 words/s, in_qsize 14, out_qsize 3\n",
            "2020-09-22 14:27:57,915 : INFO : EPOCH 24 - PROGRESS: at 83.62% examples, 315175 words/s, in_qsize 15, out_qsize 0\n",
            "2020-09-22 14:27:58,953 : INFO : EPOCH 24 - PROGRESS: at 87.07% examples, 313325 words/s, in_qsize 14, out_qsize 7\n",
            "2020-09-22 14:27:59,956 : INFO : EPOCH 24 - PROGRESS: at 91.31% examples, 314691 words/s, in_qsize 15, out_qsize 6\n",
            "2020-09-22 14:28:01,122 : INFO : EPOCH 24 - PROGRESS: at 95.66% examples, 314270 words/s, in_qsize 12, out_qsize 3\n",
            "2020-09-22 14:28:01,979 : INFO : worker thread finished; awaiting finish of 7 more threads\n",
            "2020-09-22 14:28:01,986 : INFO : worker thread finished; awaiting finish of 6 more threads\n",
            "2020-09-22 14:28:02,010 : INFO : worker thread finished; awaiting finish of 5 more threads\n",
            "2020-09-22 14:28:02,027 : INFO : worker thread finished; awaiting finish of 4 more threads\n",
            "2020-09-22 14:28:02,034 : INFO : worker thread finished; awaiting finish of 3 more threads\n",
            "2020-09-22 14:28:02,035 : INFO : worker thread finished; awaiting finish of 2 more threads\n",
            "2020-09-22 14:28:02,037 : INFO : worker thread finished; awaiting finish of 1 more threads\n",
            "2020-09-22 14:28:02,038 : INFO : worker thread finished; awaiting finish of 0 more threads\n",
            "2020-09-22 14:28:02,039 : INFO : EPOCH - 24 : training on 9227204 raw words (8222513 effective words) took 25.9s, 316935 effective words/s\n",
            "2020-09-22 14:28:03,137 : INFO : EPOCH 25 - PROGRESS: at 3.69% examples, 288669 words/s, in_qsize 15, out_qsize 0\n",
            "2020-09-22 14:28:04,150 : INFO : EPOCH 25 - PROGRESS: at 7.39% examples, 288733 words/s, in_qsize 12, out_qsize 3\n",
            "2020-09-22 14:28:05,150 : INFO : EPOCH 25 - PROGRESS: at 11.51% examples, 304810 words/s, in_qsize 15, out_qsize 0\n",
            "2020-09-22 14:28:06,211 : INFO : EPOCH 25 - PROGRESS: at 15.30% examples, 301906 words/s, in_qsize 14, out_qsize 1\n",
            "2020-09-22 14:28:07,227 : INFO : EPOCH 25 - PROGRESS: at 19.40% examples, 308018 words/s, in_qsize 15, out_qsize 0\n",
            "2020-09-22 14:28:08,256 : INFO : EPOCH 25 - PROGRESS: at 23.41% examples, 310102 words/s, in_qsize 16, out_qsize 0\n",
            "2020-09-22 14:28:09,270 : INFO : EPOCH 25 - PROGRESS: at 27.10% examples, 308505 words/s, in_qsize 15, out_qsize 0\n",
            "2020-09-22 14:28:10,289 : INFO : EPOCH 25 - PROGRESS: at 31.10% examples, 310356 words/s, in_qsize 15, out_qsize 0\n",
            "2020-09-22 14:28:11,308 : INFO : EPOCH 25 - PROGRESS: at 35.11% examples, 311774 words/s, in_qsize 15, out_qsize 0\n",
            "2020-09-22 14:28:12,442 : INFO : EPOCH 25 - PROGRESS: at 39.33% examples, 311170 words/s, in_qsize 15, out_qsize 0\n",
            "2020-09-22 14:28:13,480 : INFO : EPOCH 25 - PROGRESS: at 43.64% examples, 314050 words/s, in_qsize 15, out_qsize 0\n",
            "2020-09-22 14:28:14,602 : INFO : EPOCH 25 - PROGRESS: at 47.65% examples, 312228 words/s, in_qsize 14, out_qsize 1\n",
            "2020-09-22 14:28:15,613 : INFO : EPOCH 25 - PROGRESS: at 51.64% examples, 313278 words/s, in_qsize 15, out_qsize 0\n",
            "2020-09-22 14:28:16,621 : INFO : EPOCH 25 - PROGRESS: at 55.64% examples, 314256 words/s, in_qsize 16, out_qsize 1\n",
            "2020-09-22 14:28:17,667 : INFO : EPOCH 25 - PROGRESS: at 59.44% examples, 313359 words/s, in_qsize 16, out_qsize 3\n",
            "2020-09-22 14:28:18,662 : INFO : EPOCH 25 - PROGRESS: at 63.65% examples, 315343 words/s, in_qsize 15, out_qsize 2\n",
            "2020-09-22 14:28:19,666 : INFO : EPOCH 25 - PROGRESS: at 67.67% examples, 316080 words/s, in_qsize 16, out_qsize 0\n",
            "2020-09-22 14:28:20,747 : INFO : EPOCH 25 - PROGRESS: at 71.89% examples, 316408 words/s, in_qsize 16, out_qsize 0\n",
            "2020-09-22 14:28:21,768 : INFO : EPOCH 25 - PROGRESS: at 75.89% examples, 316724 words/s, in_qsize 12, out_qsize 3\n",
            "2020-09-22 14:28:22,787 : INFO : EPOCH 25 - PROGRESS: at 80.25% examples, 318345 words/s, in_qsize 16, out_qsize 0\n",
            "2020-09-22 14:28:23,829 : INFO : EPOCH 25 - PROGRESS: at 84.26% examples, 318237 words/s, in_qsize 16, out_qsize 0\n",
            "2020-09-22 14:28:24,832 : INFO : EPOCH 25 - PROGRESS: at 88.05% examples, 317900 words/s, in_qsize 15, out_qsize 0\n",
            "2020-09-22 14:28:25,899 : INFO : EPOCH 25 - PROGRESS: at 92.07% examples, 317476 words/s, in_qsize 14, out_qsize 1\n",
            "2020-09-22 14:28:26,926 : INFO : EPOCH 25 - PROGRESS: at 96.42% examples, 318694 words/s, in_qsize 16, out_qsize 0\n",
            "2020-09-22 14:28:27,643 : INFO : worker thread finished; awaiting finish of 7 more threads\n",
            "2020-09-22 14:28:27,656 : INFO : worker thread finished; awaiting finish of 6 more threads\n",
            "2020-09-22 14:28:27,658 : INFO : worker thread finished; awaiting finish of 5 more threads\n",
            "2020-09-22 14:28:27,676 : INFO : worker thread finished; awaiting finish of 4 more threads\n",
            "2020-09-22 14:28:27,688 : INFO : worker thread finished; awaiting finish of 3 more threads\n",
            "2020-09-22 14:28:27,711 : INFO : worker thread finished; awaiting finish of 2 more threads\n",
            "2020-09-22 14:28:27,730 : INFO : worker thread finished; awaiting finish of 1 more threads\n",
            "2020-09-22 14:28:27,733 : INFO : worker thread finished; awaiting finish of 0 more threads\n",
            "2020-09-22 14:28:27,735 : INFO : EPOCH - 25 : training on 9227204 raw words (8222154 effective words) took 25.7s, 320145 effective words/s\n",
            "2020-09-22 14:28:28,843 : INFO : EPOCH 26 - PROGRESS: at 3.47% examples, 264472 words/s, in_qsize 15, out_qsize 1\n",
            "2020-09-22 14:28:29,828 : INFO : EPOCH 26 - PROGRESS: at 7.82% examples, 308196 words/s, in_qsize 15, out_qsize 0\n",
            "2020-09-22 14:28:30,874 : INFO : EPOCH 26 - PROGRESS: at 11.30% examples, 296324 words/s, in_qsize 14, out_qsize 1\n",
            "2020-09-22 14:28:31,949 : INFO : EPOCH 26 - PROGRESS: at 15.52% examples, 303154 words/s, in_qsize 15, out_qsize 0\n",
            "2020-09-22 14:28:32,954 : INFO : EPOCH 26 - PROGRESS: at 19.51% examples, 307857 words/s, in_qsize 15, out_qsize 0\n",
            "2020-09-22 14:28:34,002 : INFO : EPOCH 26 - PROGRESS: at 22.87% examples, 300497 words/s, in_qsize 15, out_qsize 6\n",
            "2020-09-22 14:28:35,038 : INFO : EPOCH 26 - PROGRESS: at 27.21% examples, 306643 words/s, in_qsize 14, out_qsize 0\n",
            "2020-09-22 14:28:36,096 : INFO : EPOCH 26 - PROGRESS: at 31.21% examples, 307285 words/s, in_qsize 15, out_qsize 0\n",
            "2020-09-22 14:28:37,158 : INFO : EPOCH 26 - PROGRESS: at 35.10% examples, 306674 words/s, in_qsize 13, out_qsize 2\n",
            "2020-09-22 14:28:38,165 : INFO : EPOCH 26 - PROGRESS: at 38.68% examples, 305252 words/s, in_qsize 9, out_qsize 6\n",
            "2020-09-22 14:28:39,168 : INFO : EPOCH 26 - PROGRESS: at 42.57% examples, 306531 words/s, in_qsize 14, out_qsize 5\n",
            "2020-09-22 14:28:40,182 : INFO : EPOCH 26 - PROGRESS: at 46.67% examples, 308744 words/s, in_qsize 16, out_qsize 1\n",
            "2020-09-22 14:28:41,278 : INFO : EPOCH 26 - PROGRESS: at 50.56% examples, 307447 words/s, in_qsize 14, out_qsize 1\n",
            "2020-09-22 14:28:42,300 : INFO : EPOCH 26 - PROGRESS: at 54.45% examples, 307900 words/s, in_qsize 15, out_qsize 1\n",
            "2020-09-22 14:28:43,332 : INFO : EPOCH 26 - PROGRESS: at 58.25% examples, 307532 words/s, in_qsize 13, out_qsize 6\n",
            "2020-09-22 14:28:44,357 : INFO : EPOCH 26 - PROGRESS: at 62.46% examples, 309444 words/s, in_qsize 15, out_qsize 0\n",
            "2020-09-22 14:28:45,368 : INFO : EPOCH 26 - PROGRESS: at 66.47% examples, 310397 words/s, in_qsize 16, out_qsize 1\n",
            "2020-09-22 14:28:46,371 : INFO : EPOCH 26 - PROGRESS: at 70.15% examples, 309938 words/s, in_qsize 13, out_qsize 4\n",
            "2020-09-22 14:28:47,417 : INFO : EPOCH 26 - PROGRESS: at 74.05% examples, 309751 words/s, in_qsize 13, out_qsize 5\n",
            "2020-09-22 14:28:48,417 : INFO : EPOCH 26 - PROGRESS: at 78.51% examples, 312433 words/s, in_qsize 15, out_qsize 0\n",
            "2020-09-22 14:28:49,431 : INFO : EPOCH 26 - PROGRESS: at 81.88% examples, 310550 words/s, in_qsize 16, out_qsize 4\n",
            "2020-09-22 14:28:50,474 : INFO : EPOCH 26 - PROGRESS: at 86.21% examples, 311972 words/s, in_qsize 15, out_qsize 0\n",
            "2020-09-22 14:28:51,503 : INFO : EPOCH 26 - PROGRESS: at 89.89% examples, 311211 words/s, in_qsize 15, out_qsize 0\n",
            "2020-09-22 14:28:52,679 : INFO : EPOCH 26 - PROGRESS: at 94.35% examples, 311148 words/s, in_qsize 16, out_qsize 1\n",
            "2020-09-22 14:28:53,730 : INFO : EPOCH 26 - PROGRESS: at 98.14% examples, 310570 words/s, in_qsize 13, out_qsize 2\n",
            "2020-09-22 14:28:54,003 : INFO : worker thread finished; awaiting finish of 7 more threads\n",
            "2020-09-22 14:28:54,006 : INFO : worker thread finished; awaiting finish of 6 more threads\n",
            "2020-09-22 14:28:54,039 : INFO : worker thread finished; awaiting finish of 5 more threads\n",
            "2020-09-22 14:28:54,046 : INFO : worker thread finished; awaiting finish of 4 more threads\n",
            "2020-09-22 14:28:54,048 : INFO : worker thread finished; awaiting finish of 3 more threads\n",
            "2020-09-22 14:28:54,049 : INFO : worker thread finished; awaiting finish of 2 more threads\n",
            "2020-09-22 14:28:54,058 : INFO : worker thread finished; awaiting finish of 1 more threads\n",
            "2020-09-22 14:28:54,061 : INFO : worker thread finished; awaiting finish of 0 more threads\n",
            "2020-09-22 14:28:54,062 : INFO : EPOCH - 26 : training on 9227204 raw words (8222102 effective words) took 26.3s, 312452 effective words/s\n",
            "2020-09-22 14:28:55,137 : INFO : EPOCH 27 - PROGRESS: at 3.14% examples, 244192 words/s, in_qsize 15, out_qsize 0\n",
            "2020-09-22 14:28:56,263 : INFO : EPOCH 27 - PROGRESS: at 7.50% examples, 281344 words/s, in_qsize 14, out_qsize 3\n",
            "2020-09-22 14:28:57,321 : INFO : EPOCH 27 - PROGRESS: at 11.62% examples, 294078 words/s, in_qsize 16, out_qsize 0\n",
            "2020-09-22 14:28:58,325 : INFO : EPOCH 27 - PROGRESS: at 15.41% examples, 297931 words/s, in_qsize 15, out_qsize 0\n",
            "2020-09-22 14:28:59,355 : INFO : EPOCH 27 - PROGRESS: at 18.65% examples, 290372 words/s, in_qsize 14, out_qsize 1\n",
            "2020-09-22 14:29:00,372 : INFO : EPOCH 27 - PROGRESS: at 22.65% examples, 295896 words/s, in_qsize 16, out_qsize 1\n",
            "2020-09-22 14:29:01,408 : INFO : EPOCH 27 - PROGRESS: at 26.45% examples, 296724 words/s, in_qsize 15, out_qsize 1\n",
            "2020-09-22 14:29:02,414 : INFO : EPOCH 27 - PROGRESS: at 30.02% examples, 296114 words/s, in_qsize 14, out_qsize 2\n",
            "2020-09-22 14:29:03,422 : INFO : EPOCH 27 - PROGRESS: at 34.24% examples, 301364 words/s, in_qsize 15, out_qsize 0\n",
            "2020-09-22 14:29:04,471 : INFO : EPOCH 27 - PROGRESS: at 37.81% examples, 299231 words/s, in_qsize 15, out_qsize 0\n",
            "2020-09-22 14:29:05,547 : INFO : EPOCH 27 - PROGRESS: at 41.80% examples, 301055 words/s, in_qsize 16, out_qsize 0\n",
            "2020-09-22 14:29:06,530 : INFO : EPOCH 27 - PROGRESS: at 45.59% examples, 301233 words/s, in_qsize 13, out_qsize 2\n",
            "2020-09-22 14:29:07,610 : INFO : EPOCH 27 - PROGRESS: at 49.70% examples, 302212 words/s, in_qsize 15, out_qsize 0\n",
            "2020-09-22 14:29:08,646 : INFO : EPOCH 27 - PROGRESS: at 53.81% examples, 303974 words/s, in_qsize 14, out_qsize 1\n",
            "2020-09-22 14:29:09,700 : INFO : EPOCH 27 - PROGRESS: at 57.92% examples, 305137 words/s, in_qsize 15, out_qsize 0\n",
            "2020-09-22 14:29:10,796 : INFO : EPOCH 27 - PROGRESS: at 62.14% examples, 305905 words/s, in_qsize 16, out_qsize 1\n",
            "2020-09-22 14:29:11,836 : INFO : EPOCH 27 - PROGRESS: at 66.26% examples, 307063 words/s, in_qsize 13, out_qsize 2\n",
            "2020-09-22 14:29:12,859 : INFO : EPOCH 27 - PROGRESS: at 70.16% examples, 307407 words/s, in_qsize 14, out_qsize 1\n",
            "2020-09-22 14:29:13,903 : INFO : EPOCH 27 - PROGRESS: at 74.16% examples, 307857 words/s, in_qsize 15, out_qsize 0\n",
            "2020-09-22 14:29:15,016 : INFO : EPOCH 27 - PROGRESS: at 78.40% examples, 308079 words/s, in_qsize 15, out_qsize 0\n",
            "2020-09-22 14:29:16,050 : INFO : EPOCH 27 - PROGRESS: at 82.53% examples, 308996 words/s, in_qsize 16, out_qsize 1\n",
            "2020-09-22 14:29:17,056 : INFO : EPOCH 27 - PROGRESS: at 86.31% examples, 309019 words/s, in_qsize 16, out_qsize 0\n",
            "2020-09-22 14:29:18,114 : INFO : EPOCH 27 - PROGRESS: at 90.44% examples, 309501 words/s, in_qsize 16, out_qsize 0\n",
            "2020-09-22 14:29:19,119 : INFO : EPOCH 27 - PROGRESS: at 93.92% examples, 308501 words/s, in_qsize 16, out_qsize 4\n",
            "2020-09-22 14:29:20,163 : INFO : EPOCH 27 - PROGRESS: at 98.14% examples, 309421 words/s, in_qsize 15, out_qsize 0\n",
            "2020-09-22 14:29:20,470 : INFO : worker thread finished; awaiting finish of 7 more threads\n",
            "2020-09-22 14:29:20,478 : INFO : worker thread finished; awaiting finish of 6 more threads\n",
            "2020-09-22 14:29:20,498 : INFO : worker thread finished; awaiting finish of 5 more threads\n",
            "2020-09-22 14:29:20,517 : INFO : worker thread finished; awaiting finish of 4 more threads\n",
            "2020-09-22 14:29:20,523 : INFO : worker thread finished; awaiting finish of 3 more threads\n",
            "2020-09-22 14:29:20,525 : INFO : worker thread finished; awaiting finish of 2 more threads\n",
            "2020-09-22 14:29:20,539 : INFO : worker thread finished; awaiting finish of 1 more threads\n",
            "2020-09-22 14:29:20,545 : INFO : worker thread finished; awaiting finish of 0 more threads\n",
            "2020-09-22 14:29:20,548 : INFO : EPOCH - 27 : training on 9227204 raw words (8223852 effective words) took 26.5s, 310696 effective words/s\n",
            "2020-09-22 14:29:21,578 : INFO : EPOCH 28 - PROGRESS: at 3.14% examples, 253293 words/s, in_qsize 16, out_qsize 0\n",
            "2020-09-22 14:29:22,590 : INFO : EPOCH 28 - PROGRESS: at 6.84% examples, 276197 words/s, in_qsize 14, out_qsize 1\n",
            "2020-09-22 14:29:23,687 : INFO : EPOCH 28 - PROGRESS: at 10.86% examples, 284764 words/s, in_qsize 15, out_qsize 4\n",
            "2020-09-22 14:29:24,777 : INFO : EPOCH 28 - PROGRESS: at 15.30% examples, 297685 words/s, in_qsize 16, out_qsize 0\n",
            "2020-09-22 14:29:25,794 : INFO : EPOCH 28 - PROGRESS: at 18.97% examples, 297699 words/s, in_qsize 15, out_qsize 0\n",
            "2020-09-22 14:29:26,866 : INFO : EPOCH 28 - PROGRESS: at 23.20% examples, 302254 words/s, in_qsize 15, out_qsize 0\n",
            "2020-09-22 14:29:27,935 : INFO : EPOCH 28 - PROGRESS: at 27.53% examples, 306758 words/s, in_qsize 15, out_qsize 0\n",
            "2020-09-22 14:29:28,964 : INFO : EPOCH 28 - PROGRESS: at 31.21% examples, 305276 words/s, in_qsize 14, out_qsize 1\n",
            "2020-09-22 14:29:29,985 : INFO : EPOCH 28 - PROGRESS: at 35.32% examples, 308070 words/s, in_qsize 16, out_qsize 0\n",
            "2020-09-22 14:29:30,993 : INFO : EPOCH 28 - PROGRESS: at 39.11% examples, 308185 words/s, in_qsize 15, out_qsize 0\n",
            "2020-09-22 14:29:32,013 : INFO : EPOCH 28 - PROGRESS: at 43.10% examples, 309518 words/s, in_qsize 14, out_qsize 1\n",
            "2020-09-22 14:29:33,037 : INFO : EPOCH 28 - PROGRESS: at 46.89% examples, 309112 words/s, in_qsize 13, out_qsize 4\n",
            "2020-09-22 14:29:34,046 : INFO : EPOCH 28 - PROGRESS: at 50.99% examples, 311104 words/s, in_qsize 16, out_qsize 0\n",
            "2020-09-22 14:29:35,062 : INFO : EPOCH 28 - PROGRESS: at 54.89% examples, 311422 words/s, in_qsize 15, out_qsize 0\n",
            "2020-09-22 14:29:36,085 : INFO : EPOCH 28 - PROGRESS: at 58.58% examples, 310409 words/s, in_qsize 13, out_qsize 3\n",
            "2020-09-22 14:29:37,157 : INFO : EPOCH 28 - PROGRESS: at 62.90% examples, 311829 words/s, in_qsize 15, out_qsize 0\n",
            "2020-09-22 14:29:38,175 : INFO : EPOCH 28 - PROGRESS: at 67.12% examples, 313532 words/s, in_qsize 15, out_qsize 0\n",
            "2020-09-22 14:29:39,264 : INFO : EPOCH 28 - PROGRESS: at 70.91% examples, 311944 words/s, in_qsize 14, out_qsize 1\n",
            "2020-09-22 14:29:40,307 : INFO : EPOCH 28 - PROGRESS: at 75.03% examples, 312613 words/s, in_qsize 15, out_qsize 0\n",
            "2020-09-22 14:29:41,417 : INFO : EPOCH 28 - PROGRESS: at 79.27% examples, 312616 words/s, in_qsize 15, out_qsize 0\n",
            "2020-09-22 14:29:42,482 : INFO : EPOCH 28 - PROGRESS: at 83.73% examples, 314111 words/s, in_qsize 16, out_qsize 0\n",
            "2020-09-22 14:29:43,495 : INFO : EPOCH 28 - PROGRESS: at 87.83% examples, 314985 words/s, in_qsize 16, out_qsize 0\n",
            "2020-09-22 14:29:44,517 : INFO : EPOCH 28 - PROGRESS: at 91.31% examples, 313449 words/s, in_qsize 11, out_qsize 4\n",
            "2020-09-22 14:29:45,528 : INFO : EPOCH 28 - PROGRESS: at 95.34% examples, 313939 words/s, in_qsize 14, out_qsize 3\n",
            "2020-09-22 14:29:46,437 : INFO : worker thread finished; awaiting finish of 7 more threads\n",
            "2020-09-22 14:29:46,457 : INFO : worker thread finished; awaiting finish of 6 more threads\n",
            "2020-09-22 14:29:46,476 : INFO : worker thread finished; awaiting finish of 5 more threads\n",
            "2020-09-22 14:29:46,542 : INFO : EPOCH 28 - PROGRESS: at 99.56% examples, 315096 words/s, in_qsize 4, out_qsize 1\n",
            "2020-09-22 14:29:46,545 : INFO : worker thread finished; awaiting finish of 4 more threads\n",
            "2020-09-22 14:29:46,552 : INFO : worker thread finished; awaiting finish of 3 more threads\n",
            "2020-09-22 14:29:46,554 : INFO : worker thread finished; awaiting finish of 2 more threads\n",
            "2020-09-22 14:29:46,560 : INFO : worker thread finished; awaiting finish of 1 more threads\n",
            "2020-09-22 14:29:46,565 : INFO : worker thread finished; awaiting finish of 0 more threads\n",
            "2020-09-22 14:29:46,566 : INFO : EPOCH - 28 : training on 9227204 raw words (8223293 effective words) took 26.0s, 316184 effective words/s\n",
            "2020-09-22 14:29:47,661 : INFO : EPOCH 29 - PROGRESS: at 3.36% examples, 255439 words/s, in_qsize 16, out_qsize 1\n",
            "2020-09-22 14:29:48,719 : INFO : EPOCH 29 - PROGRESS: at 7.71% examples, 295643 words/s, in_qsize 14, out_qsize 1\n",
            "2020-09-22 14:29:49,742 : INFO : EPOCH 29 - PROGRESS: at 11.95% examples, 309958 words/s, in_qsize 14, out_qsize 1\n",
            "2020-09-22 14:29:50,769 : INFO : EPOCH 29 - PROGRESS: at 15.62% examples, 306188 words/s, in_qsize 14, out_qsize 1\n",
            "2020-09-22 14:29:51,803 : INFO : EPOCH 29 - PROGRESS: at 19.62% examples, 308644 words/s, in_qsize 16, out_qsize 0\n",
            "2020-09-22 14:29:52,862 : INFO : EPOCH 29 - PROGRESS: at 23.42% examples, 306262 words/s, in_qsize 13, out_qsize 2\n",
            "2020-09-22 14:29:53,878 : INFO : EPOCH 29 - PROGRESS: at 27.42% examples, 308772 words/s, in_qsize 14, out_qsize 1\n",
            "2020-09-22 14:29:54,968 : INFO : EPOCH 29 - PROGRESS: at 31.65% examples, 310112 words/s, in_qsize 15, out_qsize 0\n",
            "2020-09-22 14:29:56,038 : INFO : EPOCH 29 - PROGRESS: at 35.75% examples, 310812 words/s, in_qsize 15, out_qsize 0\n",
            "2020-09-22 14:29:57,150 : INFO : EPOCH 29 - PROGRESS: at 40.08% examples, 311827 words/s, in_qsize 15, out_qsize 1\n",
            "2020-09-22 14:29:58,164 : INFO : EPOCH 29 - PROGRESS: at 43.76% examples, 310695 words/s, in_qsize 11, out_qsize 4\n",
            "2020-09-22 14:29:59,204 : INFO : EPOCH 29 - PROGRESS: at 47.54% examples, 309983 words/s, in_qsize 16, out_qsize 3\n",
            "2020-09-22 14:30:00,258 : INFO : EPOCH 29 - PROGRESS: at 51.64% examples, 310689 words/s, in_qsize 15, out_qsize 0\n",
            "2020-09-22 14:30:01,329 : INFO : EPOCH 29 - PROGRESS: at 55.97% examples, 312297 words/s, in_qsize 15, out_qsize 0\n",
            "2020-09-22 14:30:02,361 : INFO : EPOCH 29 - PROGRESS: at 59.77% examples, 311636 words/s, in_qsize 16, out_qsize 0\n",
            "2020-09-22 14:30:03,395 : INFO : EPOCH 29 - PROGRESS: at 63.54% examples, 310987 words/s, in_qsize 14, out_qsize 1\n",
            "2020-09-22 14:30:04,444 : INFO : EPOCH 29 - PROGRESS: at 67.56% examples, 311651 words/s, in_qsize 15, out_qsize 2\n",
            "2020-09-22 14:30:05,491 : INFO : EPOCH 29 - PROGRESS: at 71.99% examples, 313257 words/s, in_qsize 16, out_qsize 2\n",
            "2020-09-22 14:30:06,509 : INFO : EPOCH 29 - PROGRESS: at 75.35% examples, 311111 words/s, in_qsize 11, out_qsize 4\n",
            "2020-09-22 14:30:07,530 : INFO : EPOCH 29 - PROGRESS: at 79.81% examples, 313377 words/s, in_qsize 15, out_qsize 0\n",
            "2020-09-22 14:30:08,550 : INFO : EPOCH 29 - PROGRESS: at 83.72% examples, 313438 words/s, in_qsize 15, out_qsize 0\n",
            "2020-09-22 14:30:09,575 : INFO : EPOCH 29 - PROGRESS: at 87.40% examples, 312620 words/s, in_qsize 15, out_qsize 1\n",
            "2020-09-22 14:30:10,638 : INFO : EPOCH 29 - PROGRESS: at 91.53% examples, 312859 words/s, in_qsize 15, out_qsize 0\n",
            "2020-09-22 14:30:11,665 : INFO : EPOCH 29 - PROGRESS: at 95.88% examples, 314256 words/s, in_qsize 15, out_qsize 0\n",
            "2020-09-22 14:30:12,561 : INFO : worker thread finished; awaiting finish of 7 more threads\n",
            "2020-09-22 14:30:12,580 : INFO : worker thread finished; awaiting finish of 6 more threads\n",
            "2020-09-22 14:30:12,592 : INFO : worker thread finished; awaiting finish of 5 more threads\n",
            "2020-09-22 14:30:12,594 : INFO : worker thread finished; awaiting finish of 4 more threads\n",
            "2020-09-22 14:30:12,598 : INFO : worker thread finished; awaiting finish of 3 more threads\n",
            "2020-09-22 14:30:12,628 : INFO : worker thread finished; awaiting finish of 2 more threads\n",
            "2020-09-22 14:30:12,642 : INFO : worker thread finished; awaiting finish of 1 more threads\n",
            "2020-09-22 14:30:12,652 : INFO : worker thread finished; awaiting finish of 0 more threads\n",
            "2020-09-22 14:30:12,653 : INFO : EPOCH - 29 : training on 9227204 raw words (8222757 effective words) took 26.1s, 315367 effective words/s\n",
            "2020-09-22 14:30:13,673 : INFO : EPOCH 30 - PROGRESS: at 3.47% examples, 282903 words/s, in_qsize 15, out_qsize 0\n",
            "2020-09-22 14:30:14,693 : INFO : EPOCH 30 - PROGRESS: at 7.38% examples, 298753 words/s, in_qsize 14, out_qsize 1\n",
            "2020-09-22 14:30:15,775 : INFO : EPOCH 30 - PROGRESS: at 11.51% examples, 309366 words/s, in_qsize 13, out_qsize 3\n",
            "2020-09-22 14:30:16,719 : INFO : EPOCH 30 - PROGRESS: at 15.08% examples, 305421 words/s, in_qsize 14, out_qsize 1\n",
            "2020-09-22 14:30:17,798 : INFO : EPOCH 30 - PROGRESS: at 18.76% examples, 300208 words/s, in_qsize 15, out_qsize 0\n",
            "2020-09-22 14:30:18,862 : INFO : EPOCH 30 - PROGRESS: at 22.76% examples, 303467 words/s, in_qsize 15, out_qsize 0\n",
            "2020-09-22 14:30:19,953 : INFO : EPOCH 30 - PROGRESS: at 26.78% examples, 301971 words/s, in_qsize 12, out_qsize 3\n",
            "2020-09-22 14:30:20,994 : INFO : EPOCH 30 - PROGRESS: at 30.99% examples, 305968 words/s, in_qsize 15, out_qsize 0\n",
            "2020-09-22 14:30:22,087 : INFO : EPOCH 30 - PROGRESS: at 34.68% examples, 302586 words/s, in_qsize 14, out_qsize 6\n",
            "2020-09-22 14:30:23,108 : INFO : EPOCH 30 - PROGRESS: at 39.00% examples, 307120 words/s, in_qsize 16, out_qsize 0\n",
            "2020-09-22 14:30:24,114 : INFO : EPOCH 30 - PROGRESS: at 43.21% examples, 310489 words/s, in_qsize 15, out_qsize 0\n",
            "2020-09-22 14:30:25,159 : INFO : EPOCH 30 - PROGRESS: at 46.67% examples, 307352 words/s, in_qsize 16, out_qsize 1\n",
            "2020-09-22 14:30:26,194 : INFO : EPOCH 30 - PROGRESS: at 50.88% examples, 309797 words/s, in_qsize 15, out_qsize 1\n",
            "2020-09-22 14:30:27,322 : INFO : EPOCH 30 - PROGRESS: at 55.10% examples, 309430 words/s, in_qsize 10, out_qsize 5\n",
            "2020-09-22 14:30:28,348 : INFO : EPOCH 30 - PROGRESS: at 59.34% examples, 311341 words/s, in_qsize 15, out_qsize 0\n",
            "2020-09-22 14:30:29,373 : INFO : EPOCH 30 - PROGRESS: at 63.22% examples, 311457 words/s, in_qsize 12, out_qsize 2\n",
            "2020-09-22 14:30:30,474 : INFO : EPOCH 30 - PROGRESS: at 67.56% examples, 312196 words/s, in_qsize 16, out_qsize 0\n",
            "2020-09-22 14:30:31,514 : INFO : EPOCH 30 - PROGRESS: at 71.56% examples, 312460 words/s, in_qsize 14, out_qsize 0\n",
            "2020-09-22 14:30:32,631 : INFO : EPOCH 30 - PROGRESS: at 75.89% examples, 312814 words/s, in_qsize 15, out_qsize 0\n",
            "2020-09-22 14:30:33,677 : INFO : EPOCH 30 - PROGRESS: at 80.14% examples, 313789 words/s, in_qsize 15, out_qsize 0\n",
            "2020-09-22 14:30:34,714 : INFO : EPOCH 30 - PROGRESS: at 84.04% examples, 313575 words/s, in_qsize 15, out_qsize 0\n",
            "2020-09-22 14:30:35,829 : INFO : EPOCH 30 - PROGRESS: at 88.37% examples, 313868 words/s, in_qsize 15, out_qsize 0\n",
            "2020-09-22 14:30:36,857 : INFO : EPOCH 30 - PROGRESS: at 92.50% examples, 314515 words/s, in_qsize 16, out_qsize 0\n",
            "2020-09-22 14:30:37,900 : INFO : EPOCH 30 - PROGRESS: at 96.75% examples, 315268 words/s, in_qsize 15, out_qsize 0\n",
            "2020-09-22 14:30:38,442 : INFO : worker thread finished; awaiting finish of 7 more threads\n",
            "2020-09-22 14:30:38,462 : INFO : worker thread finished; awaiting finish of 6 more threads\n",
            "2020-09-22 14:30:38,534 : INFO : worker thread finished; awaiting finish of 5 more threads\n",
            "2020-09-22 14:30:38,536 : INFO : worker thread finished; awaiting finish of 4 more threads\n",
            "2020-09-22 14:30:38,551 : INFO : worker thread finished; awaiting finish of 3 more threads\n",
            "2020-09-22 14:30:38,563 : INFO : worker thread finished; awaiting finish of 2 more threads\n",
            "2020-09-22 14:30:38,574 : INFO : worker thread finished; awaiting finish of 1 more threads\n",
            "2020-09-22 14:30:38,580 : INFO : worker thread finished; awaiting finish of 0 more threads\n",
            "2020-09-22 14:30:38,581 : INFO : EPOCH - 30 : training on 9227204 raw words (8223987 effective words) took 25.9s, 317342 effective words/s\n",
            "2020-09-22 14:30:39,639 : INFO : EPOCH 31 - PROGRESS: at 3.58% examples, 281433 words/s, in_qsize 15, out_qsize 0\n",
            "2020-09-22 14:30:40,758 : INFO : EPOCH 31 - PROGRESS: at 7.82% examples, 296456 words/s, in_qsize 15, out_qsize 0\n",
            "2020-09-22 14:30:41,865 : INFO : EPOCH 31 - PROGRESS: at 12.39% examples, 310434 words/s, in_qsize 16, out_qsize 0\n",
            "2020-09-22 14:30:42,918 : INFO : EPOCH 31 - PROGRESS: at 16.38% examples, 311010 words/s, in_qsize 11, out_qsize 4\n",
            "2020-09-22 14:30:43,973 : INFO : EPOCH 31 - PROGRESS: at 20.48% examples, 312913 words/s, in_qsize 13, out_qsize 2\n",
            "2020-09-22 14:30:45,003 : INFO : EPOCH 31 - PROGRESS: at 25.04% examples, 321007 words/s, in_qsize 14, out_qsize 1\n",
            "2020-09-22 14:30:46,019 : INFO : EPOCH 31 - PROGRESS: at 28.61% examples, 316724 words/s, in_qsize 13, out_qsize 3\n",
            "2020-09-22 14:30:47,133 : INFO : EPOCH 31 - PROGRESS: at 33.38% examples, 321298 words/s, in_qsize 15, out_qsize 0\n",
            "2020-09-22 14:30:48,140 : INFO : EPOCH 31 - PROGRESS: at 37.59% examples, 323791 words/s, in_qsize 15, out_qsize 2\n",
            "2020-09-22 14:30:49,145 : INFO : EPOCH 31 - PROGRESS: at 41.48% examples, 323333 words/s, in_qsize 15, out_qsize 0\n",
            "2020-09-22 14:30:50,210 : INFO : EPOCH 31 - PROGRESS: at 45.81% examples, 324388 words/s, in_qsize 15, out_qsize 0\n",
            "2020-09-22 14:30:51,283 : INFO : EPOCH 31 - PROGRESS: at 49.70% examples, 322242 words/s, in_qsize 12, out_qsize 7\n",
            "2020-09-22 14:30:52,286 : INFO : EPOCH 31 - PROGRESS: at 54.03% examples, 324681 words/s, in_qsize 15, out_qsize 1\n",
            "2020-09-22 14:30:53,294 : INFO : EPOCH 31 - PROGRESS: at 57.92% examples, 324214 words/s, in_qsize 15, out_qsize 0\n",
            "2020-09-22 14:30:54,424 : INFO : EPOCH 31 - PROGRESS: at 62.14% examples, 323025 words/s, in_qsize 14, out_qsize 2\n",
            "2020-09-22 14:30:55,429 : INFO : EPOCH 31 - PROGRESS: at 66.15% examples, 323316 words/s, in_qsize 15, out_qsize 0\n",
            "2020-09-22 14:30:56,431 : INFO : EPOCH 31 - PROGRESS: at 70.37% examples, 324624 words/s, in_qsize 15, out_qsize 0\n",
            "2020-09-22 14:30:57,431 : INFO : EPOCH 31 - PROGRESS: at 74.37% examples, 324885 words/s, in_qsize 13, out_qsize 2\n",
            "2020-09-22 14:30:58,505 : INFO : EPOCH 31 - PROGRESS: at 78.40% examples, 324587 words/s, in_qsize 16, out_qsize 0\n",
            "2020-09-22 14:30:59,493 : INFO : EPOCH 31 - PROGRESS: at 82.31% examples, 323944 words/s, in_qsize 15, out_qsize 0\n",
            "2020-09-22 14:31:00,531 : INFO : EPOCH 31 - PROGRESS: at 86.21% examples, 323486 words/s, in_qsize 14, out_qsize 4\n",
            "2020-09-22 14:31:01,523 : INFO : EPOCH 31 - PROGRESS: at 90.43% examples, 324387 words/s, in_qsize 15, out_qsize 0\n",
            "2020-09-22 14:31:02,531 : INFO : EPOCH 31 - PROGRESS: at 94.04% examples, 322999 words/s, in_qsize 15, out_qsize 0\n",
            "2020-09-22 14:31:03,594 : INFO : EPOCH 31 - PROGRESS: at 98.04% examples, 322444 words/s, in_qsize 16, out_qsize 2\n",
            "2020-09-22 14:31:03,818 : INFO : worker thread finished; awaiting finish of 7 more threads\n",
            "2020-09-22 14:31:03,842 : INFO : worker thread finished; awaiting finish of 6 more threads\n",
            "2020-09-22 14:31:03,878 : INFO : worker thread finished; awaiting finish of 5 more threads\n",
            "2020-09-22 14:31:03,896 : INFO : worker thread finished; awaiting finish of 4 more threads\n",
            "2020-09-22 14:31:03,911 : INFO : worker thread finished; awaiting finish of 3 more threads\n",
            "2020-09-22 14:31:03,934 : INFO : worker thread finished; awaiting finish of 2 more threads\n",
            "2020-09-22 14:31:03,955 : INFO : worker thread finished; awaiting finish of 1 more threads\n",
            "2020-09-22 14:31:03,961 : INFO : worker thread finished; awaiting finish of 0 more threads\n",
            "2020-09-22 14:31:03,962 : INFO : EPOCH - 31 : training on 9227204 raw words (8222206 effective words) took 25.4s, 324122 effective words/s\n",
            "2020-09-22 14:31:05,099 : INFO : EPOCH 32 - PROGRESS: at 3.47% examples, 253759 words/s, in_qsize 14, out_qsize 1\n",
            "2020-09-22 14:31:06,115 : INFO : EPOCH 32 - PROGRESS: at 7.50% examples, 287306 words/s, in_qsize 14, out_qsize 1\n",
            "2020-09-22 14:31:07,142 : INFO : EPOCH 32 - PROGRESS: at 11.62% examples, 301083 words/s, in_qsize 16, out_qsize 1\n",
            "2020-09-22 14:31:08,266 : INFO : EPOCH 32 - PROGRESS: at 15.62% examples, 298985 words/s, in_qsize 15, out_qsize 0\n",
            "2020-09-22 14:31:09,308 : INFO : EPOCH 32 - PROGRESS: at 20.05% examples, 309018 words/s, in_qsize 15, out_qsize 0\n",
            "2020-09-22 14:31:10,320 : INFO : EPOCH 32 - PROGRESS: at 23.85% examples, 308863 words/s, in_qsize 14, out_qsize 1\n",
            "2020-09-22 14:31:11,354 : INFO : EPOCH 32 - PROGRESS: at 27.42% examples, 305399 words/s, in_qsize 11, out_qsize 4\n",
            "2020-09-22 14:31:12,470 : INFO : EPOCH 32 - PROGRESS: at 31.97% examples, 309432 words/s, in_qsize 15, out_qsize 1\n",
            "2020-09-22 14:31:13,517 : INFO : EPOCH 32 - PROGRESS: at 35.97% examples, 310369 words/s, in_qsize 15, out_qsize 1\n",
            "2020-09-22 14:31:14,573 : INFO : EPOCH 32 - PROGRESS: at 40.40% examples, 313537 words/s, in_qsize 16, out_qsize 0\n",
            "2020-09-22 14:31:15,653 : INFO : EPOCH 32 - PROGRESS: at 44.18% examples, 311234 words/s, in_qsize 15, out_qsize 1\n",
            "2020-09-22 14:31:16,667 : INFO : EPOCH 32 - PROGRESS: at 48.08% examples, 311633 words/s, in_qsize 15, out_qsize 0\n",
            "2020-09-22 14:31:17,698 : INFO : EPOCH 32 - PROGRESS: at 51.97% examples, 311600 words/s, in_qsize 14, out_qsize 1\n",
            "2020-09-22 14:31:18,745 : INFO : EPOCH 32 - PROGRESS: at 55.75% examples, 310645 words/s, in_qsize 15, out_qsize 1\n",
            "2020-09-22 14:31:19,747 : INFO : EPOCH 32 - PROGRESS: at 60.09% examples, 313519 words/s, in_qsize 16, out_qsize 0\n",
            "2020-09-22 14:31:20,799 : INFO : EPOCH 32 - PROGRESS: at 63.65% examples, 311375 words/s, in_qsize 13, out_qsize 2\n",
            "2020-09-22 14:31:21,879 : INFO : EPOCH 32 - PROGRESS: at 67.77% examples, 311489 words/s, in_qsize 14, out_qsize 1\n",
            "2020-09-22 14:31:22,954 : INFO : EPOCH 32 - PROGRESS: at 72.21% examples, 313387 words/s, in_qsize 15, out_qsize 0\n",
            "2020-09-22 14:31:23,937 : INFO : EPOCH 32 - PROGRESS: at 75.78% examples, 312386 words/s, in_qsize 15, out_qsize 0\n",
            "2020-09-22 14:31:24,949 : INFO : EPOCH 32 - PROGRESS: at 79.60% examples, 312182 words/s, in_qsize 16, out_qsize 2\n",
            "2020-09-22 14:31:26,039 : INFO : EPOCH 32 - PROGRESS: at 84.15% examples, 313719 words/s, in_qsize 15, out_qsize 0\n",
            "2020-09-22 14:31:27,058 : INFO : EPOCH 32 - PROGRESS: at 88.26% examples, 314533 words/s, in_qsize 15, out_qsize 0\n",
            "2020-09-22 14:31:28,107 : INFO : EPOCH 32 - PROGRESS: at 92.50% examples, 315246 words/s, in_qsize 16, out_qsize 0\n",
            "2020-09-22 14:31:29,159 : INFO : EPOCH 32 - PROGRESS: at 96.64% examples, 316144 words/s, in_qsize 14, out_qsize 3\n",
            "2020-09-22 14:31:29,753 : INFO : worker thread finished; awaiting finish of 7 more threads\n",
            "2020-09-22 14:31:29,762 : INFO : worker thread finished; awaiting finish of 6 more threads\n",
            "2020-09-22 14:31:29,778 : INFO : worker thread finished; awaiting finish of 5 more threads\n",
            "2020-09-22 14:31:29,814 : INFO : worker thread finished; awaiting finish of 4 more threads\n",
            "2020-09-22 14:31:29,816 : INFO : worker thread finished; awaiting finish of 3 more threads\n",
            "2020-09-22 14:31:29,822 : INFO : worker thread finished; awaiting finish of 2 more threads\n",
            "2020-09-22 14:31:29,823 : INFO : worker thread finished; awaiting finish of 1 more threads\n",
            "2020-09-22 14:31:29,836 : INFO : worker thread finished; awaiting finish of 0 more threads\n",
            "2020-09-22 14:31:29,837 : INFO : EPOCH - 32 : training on 9227204 raw words (8222610 effective words) took 25.9s, 317962 effective words/s\n",
            "2020-09-22 14:31:29,838 : INFO : training on a 295270528 raw words (263125407 effective words) took 838.4s, 313845 effective words/s\n"
          ],
          "name": "stderr"
        },
        {
          "output_type": "stream",
          "text": [
            "CPU times: user 26min 43s, sys: 7.27 s, total: 26min 50s\n",
            "Wall time: 13min 58s\n"
          ],
          "name": "stdout"
        }
      ]
    },
    {
      "cell_type": "code",
      "metadata": {
        "_uuid": "27cc2651c74227115d8bfd8c40e5618048e05edd",
        "id": "DNxQK-hB5ycp",
        "colab_type": "code",
        "colab": {
          "base_uri": "https://localhost:8080/",
          "height": 274
        },
        "outputId": "c54c9ec9-20c9-46e4-c455-da649db04f9f"
      },
      "source": [
        "w2v_model.most_similar(\"love\")"
      ],
      "execution_count": 25,
      "outputs": [
        {
          "output_type": "stream",
          "text": [
            "/usr/local/lib/python3.6/dist-packages/ipykernel_launcher.py:1: DeprecationWarning: Call to deprecated `most_similar` (Method will be removed in 4.0.0, use self.wv.most_similar() instead).\n",
            "  \"\"\"Entry point for launching an IPython kernel.\n",
            "2020-09-22 14:31:29,853 : INFO : precomputing L2-norms of word weight vectors\n"
          ],
          "name": "stderr"
        },
        {
          "output_type": "execute_result",
          "data": {
            "text/plain": [
              "[('luv', 0.5678699016571045),\n",
              " ('loves', 0.5621431469917297),\n",
              " ('loved', 0.5401937365531921),\n",
              " ('adore', 0.511475145816803),\n",
              " ('amazing', 0.5003690719604492),\n",
              " ('looove', 0.46993404626846313),\n",
              " ('loveee', 0.4694328010082245),\n",
              " ('awesome', 0.46727606654167175),\n",
              " ('loooove', 0.45734792947769165),\n",
              " ('lovee', 0.4394315183162689)]"
            ]
          },
          "metadata": {
            "tags": []
          },
          "execution_count": 25
        }
      ]
    },
    {
      "cell_type": "markdown",
      "metadata": {
        "_uuid": "e13563644468037258598637b49373ca96b9b879",
        "id": "Ud_GuD_05ycs",
        "colab_type": "text"
      },
      "source": [
        "### Tokenize Text"
      ]
    },
    {
      "cell_type": "code",
      "metadata": {
        "_uuid": "6852bc709a7cd20173cbeeb218505078f8f37c57",
        "id": "hBvZW9VT5ycs",
        "colab_type": "code",
        "colab": {
          "base_uri": "https://localhost:8080/",
          "height": 72
        },
        "outputId": "60139bed-4db1-4628-86cd-902a2ba94f36"
      },
      "source": [
        "%%time\n",
        "tokenizer = Tokenizer()\n",
        "tokenizer.fit_on_texts(df_train.text)\n",
        "\n",
        "vocab_size = len(tokenizer.word_index) + 1\n",
        "print(\"Total words\", vocab_size)"
      ],
      "execution_count": 26,
      "outputs": [
        {
          "output_type": "stream",
          "text": [
            "Total words 290419\n",
            "CPU times: user 18.9 s, sys: 250 ms, total: 19.2 s\n",
            "Wall time: 19.1 s\n"
          ],
          "name": "stdout"
        }
      ]
    },
    {
      "cell_type": "code",
      "metadata": {
        "_uuid": "45de439df3015030c71f84c2d170346936a1d68f",
        "id": "mg3wHbW55ycv",
        "colab_type": "code",
        "colab": {
          "base_uri": "https://localhost:8080/",
          "height": 54
        },
        "outputId": "bf1f572d-13f7-4bb7-d8cb-7166f2c249b4"
      },
      "source": [
        "%%time\n",
        "x_train = pad_sequences(tokenizer.texts_to_sequences(df_train.text), maxlen=SEQUENCE_LENGTH)\n",
        "x_test = pad_sequences(tokenizer.texts_to_sequences(df_test.text), maxlen=SEQUENCE_LENGTH)"
      ],
      "execution_count": 27,
      "outputs": [
        {
          "output_type": "stream",
          "text": [
            "CPU times: user 26.8 s, sys: 1.49 s, total: 28.3 s\n",
            "Wall time: 28.4 s\n"
          ],
          "name": "stdout"
        }
      ]
    },
    {
      "cell_type": "markdown",
      "metadata": {
        "_uuid": "03b35903fc6260e190d6928d240ef7432de117fc",
        "id": "0Jr_HzPT5ycz",
        "colab_type": "text"
      },
      "source": [
        "### Label Encoder "
      ]
    },
    {
      "cell_type": "code",
      "metadata": {
        "_uuid": "33676e0efa39e97d89bd650b8b4eae933a22fbf0",
        "id": "HFD-VXG95yc0",
        "colab_type": "code",
        "colab": {
          "base_uri": "https://localhost:8080/",
          "height": 35
        },
        "outputId": "d89c5ebb-59c8-4cac-f3bd-813784254139"
      },
      "source": [
        "labels = df_train.target.unique().tolist()\n",
        "labels.append(NEUTRAL)\n",
        "labels"
      ],
      "execution_count": 28,
      "outputs": [
        {
          "output_type": "execute_result",
          "data": {
            "text/plain": [
              "['POSITIVE', 'NEGATIVE', 'NEUTRAL']"
            ]
          },
          "metadata": {
            "tags": []
          },
          "execution_count": 28
        }
      ]
    },
    {
      "cell_type": "code",
      "metadata": {
        "_uuid": "04239a9bef76e7922fd86098a5601dfde8ee4665",
        "id": "YzK386Gp5yc4",
        "colab_type": "code",
        "colab": {
          "base_uri": "https://localhost:8080/",
          "height": 54
        },
        "outputId": "00d84c10-f9dc-4945-f5ac-675f7c654451"
      },
      "source": [
        "encoder = LabelEncoder()\n",
        "encoder.fit(df_train.target.tolist())\n",
        "\n",
        "y_train = encoder.transform(df_train.target.tolist())\n",
        "y_test = encoder.transform(df_test.target.tolist())\n",
        "\n",
        "y_train = y_train.reshape(-1,1)\n",
        "y_test = y_test.reshape(-1,1)\n",
        "\n",
        "print(\"y_train\",y_train.shape)\n",
        "print(\"y_test\",y_test.shape)"
      ],
      "execution_count": 29,
      "outputs": [
        {
          "output_type": "stream",
          "text": [
            "y_train (1280000, 1)\n",
            "y_test (320000, 1)\n"
          ],
          "name": "stdout"
        }
      ]
    },
    {
      "cell_type": "code",
      "metadata": {
        "_uuid": "04299c886911ca135583ab64878f213939a2990c",
        "id": "tfsZibZ95yc-",
        "colab_type": "code",
        "colab": {
          "base_uri": "https://localhost:8080/",
          "height": 108
        },
        "outputId": "baed7c4d-9908-4cfd-f3cc-3652f5f34e6a"
      },
      "source": [
        "print(\"x_train\", x_train.shape)\n",
        "print(\"y_train\", y_train.shape)\n",
        "print()\n",
        "print(\"x_test\", x_test.shape)\n",
        "print(\"y_test\", y_test.shape)"
      ],
      "execution_count": 30,
      "outputs": [
        {
          "output_type": "stream",
          "text": [
            "x_train (1280000, 300)\n",
            "y_train (1280000, 1)\n",
            "\n",
            "x_test (320000, 300)\n",
            "y_test (320000, 1)\n"
          ],
          "name": "stdout"
        }
      ]
    },
    {
      "cell_type": "code",
      "metadata": {
        "_uuid": "232533fb27b7be99d9b8c2f8fb22c9c6bf121a6f",
        "id": "6dfSQOJV5ydB",
        "colab_type": "code",
        "colab": {
          "base_uri": "https://localhost:8080/",
          "height": 199
        },
        "outputId": "c356e73e-9000-497f-bd82-e67d0506ae27"
      },
      "source": [
        "y_train[:10]"
      ],
      "execution_count": 31,
      "outputs": [
        {
          "output_type": "execute_result",
          "data": {
            "text/plain": [
              "array([[1],\n",
              "       [1],\n",
              "       [1],\n",
              "       [0],\n",
              "       [1],\n",
              "       [1],\n",
              "       [1],\n",
              "       [1],\n",
              "       [1],\n",
              "       [1]])"
            ]
          },
          "metadata": {
            "tags": []
          },
          "execution_count": 31
        }
      ]
    },
    {
      "cell_type": "markdown",
      "metadata": {
        "_uuid": "233c0ea94055a03e2e7df3e2a13d036ec963484f",
        "id": "G5HqrCdi5ydE",
        "colab_type": "text"
      },
      "source": [
        "### Embedding layer"
      ]
    },
    {
      "cell_type": "code",
      "metadata": {
        "_uuid": "9ab488374b59e3f30f8b1ea92767d853c4846bac",
        "id": "N-Tr1wRI5ydE",
        "colab_type": "code",
        "colab": {
          "base_uri": "https://localhost:8080/",
          "height": 35
        },
        "outputId": "ad80d1ad-8778-4514-dd46-d73f6a8a1619"
      },
      "source": [
        "embedding_matrix = np.zeros((vocab_size, W2V_SIZE))\n",
        "for word, i in tokenizer.word_index.items():\n",
        "  if word in w2v_model.wv:\n",
        "    embedding_matrix[i] = w2v_model.wv[word]\n",
        "print(embedding_matrix.shape)"
      ],
      "execution_count": 32,
      "outputs": [
        {
          "output_type": "stream",
          "text": [
            "(290419, 300)\n"
          ],
          "name": "stdout"
        }
      ]
    },
    {
      "cell_type": "code",
      "metadata": {
        "_uuid": "833279d91e4286065968237fb5f2a0c2dd4d246c",
        "id": "FrssyEfi5ydH",
        "colab_type": "code",
        "colab": {}
      },
      "source": [
        "embedding_layer = Embedding(vocab_size, W2V_SIZE, weights=[embedding_matrix], input_length=SEQUENCE_LENGTH, trainable=False)"
      ],
      "execution_count": 33,
      "outputs": []
    },
    {
      "cell_type": "markdown",
      "metadata": {
        "_uuid": "b299ef78f94c2085942c993a2d58753a7476305a",
        "id": "qR6SCw7g5ydK",
        "colab_type": "text"
      },
      "source": [
        "### Build Model"
      ]
    },
    {
      "cell_type": "code",
      "metadata": {
        "_uuid": "e775ef4f1b74e6412457181383c39f2df554ef3f",
        "id": "7NiEpkb05ydM",
        "colab_type": "code",
        "colab": {
          "base_uri": "https://localhost:8080/",
          "height": 326
        },
        "outputId": "aab157cf-44d6-43fa-8e6b-88e9903ac66b"
      },
      "source": [
        "model_exists=os.path.isfile('/content/drive/My Drive/Colab Notebooks/model.h5')\n",
        "if model_exists:\n",
        "    from keras.models import load_model\n",
        "    model = load_model('/content/drive/My Drive/Colab Notebooks/model.h5')\n",
        "    print(\"Keras model file found and loaded.\")\n",
        "else:\n",
        "    model = Sequential()\n",
        "    model.add(embedding_layer)\n",
        "    model.add(Dropout(0.5))\n",
        "    model.add(LSTM(100, dropout=0.2, recurrent_dropout=0.2))\n",
        "    model.add(Dense(1, activation='sigmoid'))\n",
        "\n",
        "model.summary()"
      ],
      "execution_count": 34,
      "outputs": [
        {
          "output_type": "stream",
          "text": [
            "Keras model file found and loaded.\n",
            "Model: \"sequential_1\"\n",
            "_________________________________________________________________\n",
            "Layer (type)                 Output Shape              Param #   \n",
            "=================================================================\n",
            "embedding_1 (Embedding)      (None, 300, 300)          87125700  \n",
            "_________________________________________________________________\n",
            "dropout_1 (Dropout)          (None, 300, 300)          0         \n",
            "_________________________________________________________________\n",
            "lstm_1 (LSTM)                (None, 100)               160400    \n",
            "_________________________________________________________________\n",
            "dense_1 (Dense)              (None, 1)                 101       \n",
            "=================================================================\n",
            "Total params: 87,286,201\n",
            "Trainable params: 160,501\n",
            "Non-trainable params: 87,125,700\n",
            "_________________________________________________________________\n"
          ],
          "name": "stdout"
        }
      ]
    },
    {
      "cell_type": "markdown",
      "metadata": {
        "_uuid": "28d22eafd0c7d798dcf3d742bc92fb8577939e6c",
        "id": "PdKXkROU5ydR",
        "colab_type": "text"
      },
      "source": [
        "### Compile model"
      ]
    },
    {
      "cell_type": "code",
      "metadata": {
        "_uuid": "1331e08d590bb2aa2033706c8faca217afc0f1c3",
        "id": "bXkV36DM5ydR",
        "colab_type": "code",
        "colab": {
          "base_uri": "https://localhost:8080/",
          "height": 35
        },
        "outputId": "36052100-c727-4c20-a089-621114ede95a"
      },
      "source": [
        "if not model_exists:\n",
        "    model.compile(loss='binary_crossentropy',\n",
        "                  optimizer=\"adam\",\n",
        "                  metrics=['accuracy'])\n",
        "else:\n",
        "    print(\"Compiled Model Loaded.\")"
      ],
      "execution_count": 35,
      "outputs": [
        {
          "output_type": "stream",
          "text": [
            "Compiled Model Loaded.\n"
          ],
          "name": "stdout"
        }
      ]
    },
    {
      "cell_type": "markdown",
      "metadata": {
        "_uuid": "c7733127cb8b380e0c807268903bf4d03ef92542",
        "id": "q7g3wazi5ydU",
        "colab_type": "text"
      },
      "source": [
        "### Callbacks"
      ]
    },
    {
      "cell_type": "code",
      "metadata": {
        "_uuid": "a688df590386f5748da6fe00b01904fe6c71619e",
        "id": "kmG-Jp9A5ydV",
        "colab_type": "code",
        "colab": {}
      },
      "source": [
        "callbacks = [ ReduceLROnPlateau(monitor='val_loss', patience=5, cooldown=0),\n",
        "              EarlyStopping(monitor='val_acc', min_delta=1e-4, patience=5)]"
      ],
      "execution_count": 36,
      "outputs": []
    },
    {
      "cell_type": "markdown",
      "metadata": {
        "_uuid": "8d0873633dd49179c8cae17377641b97d323ef3b",
        "id": "MVWAXq_s5ydY",
        "colab_type": "text"
      },
      "source": [
        "### Train"
      ]
    },
    {
      "cell_type": "code",
      "metadata": {
        "_uuid": "2b659d390c6577dc5cdb6b6297934279b4e801d5",
        "id": "lYzhZfLy5ydZ",
        "colab_type": "code",
        "colab": {
          "base_uri": "https://localhost:8080/",
          "height": 54
        },
        "outputId": "5449ff39-1c37-4c99-a924-b9926e3b5cc7"
      },
      "source": [
        "%%time\n",
        "if not model_exists:#if model doesn't exist, fit the model on the training set\n",
        "    from keras.callbacks import CSVLogger\n",
        "\n",
        "    csv_logger = CSVLogger('training.log', separator=',', append=False)\n",
        "    history = model.fit(x_train, y_train,\n",
        "                        batch_size=BATCH_SIZE,\n",
        "                        epochs=EPOCHS,\n",
        "                        validation_split=0.1,\n",
        "                        verbose=1,\n",
        "                        callbacks=callbacks)\n",
        "    #storing history for visualization\n",
        "    pickle_out = open(\"../input/trained-model/history.pickle\",\"wb\")\n",
        "    pickle.dump(history.histpry, pickle_out)\n",
        "    pickle_out.close()\n",
        "else:\n",
        "    if os.path.isfile('../input/trained-model/history.pickle'):\n",
        "        history=pickle.load('../input/trained-model/history.pickle')\n",
        "        print(\"History file found and loaded.\")"
      ],
      "execution_count": 37,
      "outputs": [
        {
          "output_type": "stream",
          "text": [
            "CPU times: user 607 µs, sys: 5 µs, total: 612 µs\n",
            "Wall time: 369 µs\n"
          ],
          "name": "stdout"
        }
      ]
    },
    {
      "cell_type": "markdown",
      "metadata": {
        "_uuid": "267258196d96796ac69a7b8c466314bcf5d6ee42",
        "id": "toSANz2R5ydb",
        "colab_type": "text"
      },
      "source": [
        "### Evaluate"
      ]
    },
    {
      "cell_type": "code",
      "metadata": {
        "_uuid": "98ecd8f1b8b74594c3ea775dd68a094e92458022",
        "id": "luabHg3e5ydc",
        "colab_type": "code",
        "colab": {
          "base_uri": "https://localhost:8080/",
          "height": 126
        },
        "outputId": "d67e9b52-bf47-417a-a98e-03d0a2d19f40"
      },
      "source": [
        "%%time\n",
        "score = model.evaluate(x_test, y_test, batch_size=BATCH_SIZE)\n",
        "print()\n",
        "print(\"ACCURACY:\",score[1])\n",
        "print(\"LOSS:\",score[0])"
      ],
      "execution_count": 38,
      "outputs": [
        {
          "output_type": "stream",
          "text": [
            "313/313 [==============================] - 1204s 4s/step - loss: 0.4443 - accuracy: 0.7911\n",
            "\n",
            "ACCURACY: 0.7911343574523926\n",
            "LOSS: 0.44429531693458557\n",
            "CPU times: user 27min 43s, sys: 7min 11s, total: 34min 55s\n",
            "Wall time: 20min 9s\n"
          ],
          "name": "stdout"
        }
      ]
    },
    {
      "cell_type": "markdown",
      "metadata": {
        "_uuid": "6bdfc0f6a6af5bebc0271d83dd7432c91001409b",
        "id": "ywQ48_Zh5ydi",
        "colab_type": "text"
      },
      "source": [
        "### Predict"
      ]
    },
    {
      "cell_type": "code",
      "metadata": {
        "_uuid": "f0b0fa3d4b1bb14b3f5e3d169a369f3ebef29ae1",
        "id": "WQyx01XD5ydi",
        "colab_type": "code",
        "colab": {}
      },
      "source": [
        "def decode_sentiment(score, include_neutral=True):\n",
        "    if include_neutral:        \n",
        "        label = NEUTRAL\n",
        "        if score <= SENTIMENT_THRESHOLDS[0]:\n",
        "            label = NEGATIVE\n",
        "        elif score >= SENTIMENT_THRESHOLDS[1]:\n",
        "            label = POSITIVE\n",
        "\n",
        "        return label\n",
        "    else:\n",
        "        return NEGATIVE if score < 0.5 else POSITIVE"
      ],
      "execution_count": 53,
      "outputs": []
    },
    {
      "cell_type": "code",
      "metadata": {
        "_uuid": "ed4086d651f2f8cbed11d3c909a8873607d29a06",
        "id": "Yfps6thj5ydl",
        "colab_type": "code",
        "colab": {}
      },
      "source": [
        "def predict(text, include_neutral=True):\n",
        "    start_at = time.time()\n",
        "    # Tokenize text\n",
        "    x_test = pad_sequences(tokenizer.texts_to_sequences([text]), maxlen=SEQUENCE_LENGTH)\n",
        "    # Predict\n",
        "    score = model.predict([x_test])[0]\n",
        "    # Decode sentiment\n",
        "    label = decode_sentiment(score, include_neutral=include_neutral)\n",
        "\n",
        "    return {\"label\": label, \"score\": float(score),\n",
        "       \"elapsed_time\": time.time()-start_at}  "
      ],
      "execution_count": 41,
      "outputs": []
    },
    {
      "cell_type": "code",
      "metadata": {
        "_uuid": "ca38b1e6c9b5acfed7467de2cf02a78333108872",
        "id": "V5WcOFK45ydo",
        "colab_type": "code",
        "colab": {
          "base_uri": "https://localhost:8080/",
          "height": 72
        },
        "outputId": "300ad914-c4d6-4229-a237-f1af9de79ea2"
      },
      "source": [
        "predict(\"I love the music\")"
      ],
      "execution_count": 42,
      "outputs": [
        {
          "output_type": "execute_result",
          "data": {
            "text/plain": [
              "{'elapsed_time': 0.4169013500213623,\n",
              " 'label': 'POSITIVE',\n",
              " 'score': 0.9656286239624023}"
            ]
          },
          "metadata": {
            "tags": []
          },
          "execution_count": 42
        }
      ]
    },
    {
      "cell_type": "code",
      "metadata": {
        "_uuid": "0e5fe647533be0148850de349fea6ef6f71303d1",
        "id": "JufMgVmO5yds",
        "colab_type": "code",
        "colab": {
          "base_uri": "https://localhost:8080/",
          "height": 72
        },
        "outputId": "99ff5946-f99e-40ea-e28a-b0f80fab8d10"
      },
      "source": [
        "predict(\"I hate the rain\")"
      ],
      "execution_count": 43,
      "outputs": [
        {
          "output_type": "execute_result",
          "data": {
            "text/plain": [
              "{'elapsed_time': 0.09292912483215332,\n",
              " 'label': 'NEGATIVE',\n",
              " 'score': 0.01075369119644165}"
            ]
          },
          "metadata": {
            "tags": []
          },
          "execution_count": 43
        }
      ]
    },
    {
      "cell_type": "code",
      "metadata": {
        "_uuid": "37064dffcc8920d34ccd54fac7c8b50e583a8269",
        "id": "I3nCUHkW5yd0",
        "colab_type": "code",
        "colab": {
          "base_uri": "https://localhost:8080/",
          "height": 72
        },
        "outputId": "15189260-e13a-49b8-a14d-3fcd814ab596"
      },
      "source": [
        "predict(\"i don't know what i'm doing\")"
      ],
      "execution_count": 44,
      "outputs": [
        {
          "output_type": "execute_result",
          "data": {
            "text/plain": [
              "{'elapsed_time': 0.08787775039672852,\n",
              " 'label': 'NEGATIVE',\n",
              " 'score': 0.2742375135421753}"
            ]
          },
          "metadata": {
            "tags": []
          },
          "execution_count": 44
        }
      ]
    },
    {
      "cell_type": "code",
      "metadata": {
        "id": "o9l2ZEatJ7YM",
        "colab_type": "code",
        "colab": {
          "base_uri": "https://localhost:8080/",
          "height": 72
        },
        "outputId": "3f53dfc9-0993-41b2-abbe-1d1e7204e5c8"
      },
      "source": [
        "predict(\"teju likes to dance\")"
      ],
      "execution_count": 45,
      "outputs": [
        {
          "output_type": "execute_result",
          "data": {
            "text/plain": [
              "{'elapsed_time': 0.08898138999938965,\n",
              " 'label': 'POSITIVE',\n",
              " 'score': 0.8790203332901001}"
            ]
          },
          "metadata": {
            "tags": []
          },
          "execution_count": 45
        }
      ]
    },
    {
      "cell_type": "code",
      "metadata": {
        "id": "qqU3weDCKBr7",
        "colab_type": "code",
        "colab": {
          "base_uri": "https://localhost:8080/",
          "height": 72
        },
        "outputId": "ec2ba227-e275-4552-e35b-8c6fe1aa95ca"
      },
      "source": [
        "predict(\"rekha hates slow internet connection\")"
      ],
      "execution_count": 46,
      "outputs": [
        {
          "output_type": "execute_result",
          "data": {
            "text/plain": [
              "{'elapsed_time': 0.09118843078613281,\n",
              " 'label': 'NEGATIVE',\n",
              " 'score': 0.013744771480560303}"
            ]
          },
          "metadata": {
            "tags": []
          },
          "execution_count": 46
        }
      ]
    },
    {
      "cell_type": "markdown",
      "metadata": {
        "_uuid": "3ee72e47f84b6dbc32e02a783de5ec1661f157e1",
        "id": "PXtpKgFF5yd5",
        "colab_type": "text"
      },
      "source": [
        "### Confusion Matrix"
      ]
    },
    {
      "cell_type": "code",
      "metadata": {
        "_uuid": "0e920173eb05f04aecdd735bc5dff0f5be5f8d15",
        "id": "E8Adxcn45yd5",
        "colab_type": "code",
        "colab": {
          "base_uri": "https://localhost:8080/",
          "height": 72
        },
        "outputId": "11968868-3d55-4cc2-d611-2c452e0f94ad"
      },
      "source": [
        "%%time\n",
        "y_pred_1d = []\n",
        "y_test_1d = list(df_test.target)\n",
        "scores = model.predict(x_test, verbose=1, batch_size=8000)\n",
        "y_pred_1d = [decode_sentiment(score, include_neutral=False) for score in scores]"
      ],
      "execution_count": 47,
      "outputs": [
        {
          "output_type": "stream",
          "text": [
            "40/40 [==============================] - 1080s 27s/step\n",
            "CPU times: user 26min 17s, sys: 8min 14s, total: 34min 32s\n",
            "Wall time: 18min 28s\n"
          ],
          "name": "stdout"
        }
      ]
    },
    {
      "cell_type": "code",
      "metadata": {
        "_uuid": "b3575191bb425ab871f3f41e83812ee84bb7e595",
        "id": "cg8HjzMq5yeB",
        "colab_type": "code",
        "colab": {}
      },
      "source": [
        "def plot_confusion_matrix(cm, classes,\n",
        "                          title='Confusion matrix',\n",
        "                          cmap=plt.cm.Blues):\n",
        "    \"\"\"\n",
        "    This function prints and plots the confusion matrix.\n",
        "    Normalization can be applied by setting `normalize=True`.\n",
        "    \"\"\"\n",
        "\n",
        "    cm = cm.astype('float') / cm.sum(axis=1)[:, np.newaxis]\n",
        "\n",
        "    plt.imshow(cm, interpolation='nearest', cmap=cmap)\n",
        "    plt.title(title, fontsize=30)\n",
        "    plt.colorbar()\n",
        "    tick_marks = np.arange(len(classes))\n",
        "    plt.xticks(tick_marks, classes, rotation=90, fontsize=22)\n",
        "    plt.yticks(tick_marks, classes, fontsize=22)\n",
        "\n",
        "    fmt = '.2f'\n",
        "    thresh = cm.max() / 2.\n",
        "    for i, j in itertools.product(range(cm.shape[0]), range(cm.shape[1])):\n",
        "        plt.text(j, i, format(cm[i, j], fmt),\n",
        "                 horizontalalignment=\"center\",\n",
        "                 color=\"white\" if cm[i, j] > thresh else \"black\")\n",
        "\n",
        "    plt.ylabel('True label', fontsize=25)\n",
        "    plt.xlabel('Predicted label', fontsize=25)"
      ],
      "execution_count": 48,
      "outputs": []
    },
    {
      "cell_type": "code",
      "metadata": {
        "_uuid": "a57dc6f6211c144491a70f533225edfa95a2dc66",
        "id": "dNA2yTu65yeI",
        "colab_type": "code",
        "colab": {
          "base_uri": "https://localhost:8080/",
          "height": 805
        },
        "outputId": "4c233d1d-6097-4094-eed6-9ebed3a2496f"
      },
      "source": [
        "%%time\n",
        "\n",
        "cnf_matrix = confusion_matrix(y_test_1d, y_pred_1d)\n",
        "plt.figure(figsize=(12,12))\n",
        "plot_confusion_matrix(cnf_matrix, classes=df_train.target.unique(), title=\"Confusion matrix\")\n",
        "plt.show()"
      ],
      "execution_count": 49,
      "outputs": [
        {
          "output_type": "display_data",
          "data": {
            "image/png": "[encoded data removed]",
            "text/plain": [
              "<Figure size 864x864 with 2 Axes>"
            ]
          },
          "metadata": {
            "tags": [],
            "needs_background": "light"
          }
        },
        {
          "output_type": "stream",
          "text": [
            "CPU times: user 1.24 s, sys: 23.2 ms, total: 1.26 s\n",
            "Wall time: 1.39 s\n"
          ],
          "name": "stdout"
        }
      ]
    },
    {
      "cell_type": "markdown",
      "metadata": {
        "_uuid": "e23b957348dcc084249d3cc7538b972da471c2cd",
        "id": "Jrighkh55yeO",
        "colab_type": "text"
      },
      "source": [
        "### Classification Report"
      ]
    },
    {
      "cell_type": "code",
      "metadata": {
        "_uuid": "a7fe05b7caa1c984ff1deb0be2f7c6bc043df9f5",
        "id": "veewudLq5yeP",
        "colab_type": "code",
        "colab": {
          "base_uri": "https://localhost:8080/",
          "height": 181
        },
        "outputId": "c0cd31f1-1eb5-4431-9e08-15226a0b15c8"
      },
      "source": [
        "print(classification_report(y_test_1d, y_pred_1d))"
      ],
      "execution_count": 50,
      "outputs": [
        {
          "output_type": "stream",
          "text": [
            "              precision    recall  f1-score   support\n",
            "\n",
            "    NEGATIVE       0.79      0.79      0.79    159494\n",
            "    POSITIVE       0.79      0.80      0.79    160506\n",
            "\n",
            "    accuracy                           0.79    320000\n",
            "   macro avg       0.79      0.79      0.79    320000\n",
            "weighted avg       0.79      0.79      0.79    320000\n",
            "\n"
          ],
          "name": "stdout"
        }
      ]
    },
    {
      "cell_type": "markdown",
      "metadata": {
        "_uuid": "4eb300f0c6693a618587c7dcf32f77f5416cbfb9",
        "id": "YTqIUgSN5yeS",
        "colab_type": "text"
      },
      "source": [
        "### Accuracy Score"
      ]
    },
    {
      "cell_type": "code",
      "metadata": {
        "_uuid": "5cf76e6e09f8a60ed25947932b94c772eda44d23",
        "id": "MebSDnJw5yeT",
        "colab_type": "code",
        "colab": {
          "base_uri": "https://localhost:8080/",
          "height": 35
        },
        "outputId": "549f8701-5c3c-423d-d379-5d981bbb56d3"
      },
      "source": [
        "accuracy_score(y_test_1d, y_pred_1d)"
      ],
      "execution_count": 51,
      "outputs": [
        {
          "output_type": "execute_result",
          "data": {
            "text/plain": [
              "0.791134375"
            ]
          },
          "metadata": {
            "tags": []
          },
          "execution_count": 51
        }
      ]
    },
    {
      "cell_type": "markdown",
      "metadata": {
        "_uuid": "4f014c32f3833db282e1a075c526604f34e3158c",
        "id": "IJl5vCQo5yeW",
        "colab_type": "text"
      },
      "source": [
        "### Save model"
      ]
    },
    {
      "cell_type": "code",
      "metadata": {
        "_uuid": "3b2b3ad5b592977b404acfa1c9ad303a62837255",
        "id": "nGphHQmD5yeW",
        "colab_type": "code",
        "colab": {
          "base_uri": "https://localhost:8080/",
          "height": 90
        },
        "outputId": "072775d7-360a-48fb-844f-a6c788ef299a"
      },
      "source": [
        "model.save(KERAS_MODEL)\n",
        "w2v_model.save(WORD2VEC_MODEL)\n",
        "pickle.dump(tokenizer, open(TOKENIZER_MODEL, \"wb\"), protocol=0)\n",
        "pickle.dump(encoder, open(ENCODER_MODEL, \"wb\"), protocol=0)"
      ],
      "execution_count": 52,
      "outputs": [
        {
          "output_type": "stream",
          "text": [
            "2020-09-22 15:11:13,523 : INFO : saving Word2Vec object under model.w2v, separately None\n",
            "2020-09-22 15:11:13,551 : INFO : not storing attribute vectors_norm\n",
            "2020-09-22 15:11:13,561 : INFO : not storing attribute cum_table\n",
            "2020-09-22 15:11:14,679 : INFO : saved model.w2v\n"
          ],
          "name": "stderr"
        }
      ]
    },
    {
      "cell_type": "code",
      "metadata": {
        "_uuid": "cc363c54782894757f5ea8820c6a170f2e16ef93",
        "id": "CHNdHEJp5yea",
        "colab_type": "code",
        "colab": {}
      },
      "source": [
        ""
      ],
      "execution_count": 52,
      "outputs": []
    }
  ]
}