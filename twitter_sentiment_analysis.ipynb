{
  "nbformat": 4,
  "nbformat_minor": 0,
  "metadata": {
    "kernelspec": {
      "name": "python3",
      "display_name": "Python 3",
      "language": "python"
    },
    "language_info": {
      "name": "python",
      "version": "3.7.6",
      "mimetype": "text/x-python",
      "codemirror_mode": {
        "name": "ipython",
        "version": 3
      },
      "pygments_lexer": "ipython3",
      "nbconvert_exporter": "python",
      "file_extension": ".py"
    },
    "colab": {
      "name": "twitter-sentiment-analysis (1).ipynb",
      "provenance": [],
      "include_colab_link": true
    }
  },
  "cells": [
    {
      "cell_type": "markdown",
      "metadata": {
        "id": "view-in-github",
        "colab_type": "text"
      },
      "source": [
        "<a href=\"https://colab.research.google.com/github/sachinkatageri/ML_data_science/blob/master/twitter_sentiment_analysis.ipynb\" target=\"_parent\"><img src=\"https://colab.research.google.com/assets/colab-badge.svg\" alt=\"Open In Colab\"/></a>"
      ]
    },
    {
      "cell_type": "markdown",
      "metadata": {
        "_uuid": "92b885dd147dac19bd0a33db3cd0da100bd5bc23",
        "id": "ik8C3CxhA58T",
        "colab_type": "text"
      },
      "source": [
        "# Twitter Sentiment Analysis"
      ]
    },
    {
      "cell_type": "code",
      "metadata": {
        "trusted": true,
        "_uuid": "70282bce8b42a51e4d44f2c7d85c4ca9567b0fd4",
        "id": "-TWOHBSOA58V",
        "colab_type": "code",
        "colab": {},
        "outputId": "926048dd-3a45-4845-f431-0529dd8a8972"
      },
      "source": [
        "!pip install gensim --upgrade\n",
        "!pip install keras --upgrade\n",
        "!pip install pandas --upgrade"
      ],
      "execution_count": null,
      "outputs": [
        {
          "output_type": "stream",
          "text": [
            "Requirement already up-to-date: gensim in /opt/conda/lib/python3.7/site-packages (3.8.3)\n",
            "Requirement already satisfied, skipping upgrade: smart-open>=1.8.1 in /opt/conda/lib/python3.7/site-packages (from gensim) (2.1.1)\n",
            "Requirement already satisfied, skipping upgrade: six>=1.5.0 in /opt/conda/lib/python3.7/site-packages (from gensim) (1.14.0)\n",
            "Requirement already satisfied, skipping upgrade: numpy>=1.11.3 in /opt/conda/lib/python3.7/site-packages (from gensim) (1.18.5)\n",
            "Requirement already satisfied, skipping upgrade: scipy>=0.18.1 in /opt/conda/lib/python3.7/site-packages (from gensim) (1.4.1)\n",
            "Requirement already satisfied, skipping upgrade: requests in /opt/conda/lib/python3.7/site-packages (from smart-open>=1.8.1->gensim) (2.23.0)\n",
            "Requirement already satisfied, skipping upgrade: boto3 in /opt/conda/lib/python3.7/site-packages (from smart-open>=1.8.1->gensim) (1.14.56)\n",
            "Requirement already satisfied, skipping upgrade: boto in /opt/conda/lib/python3.7/site-packages (from smart-open>=1.8.1->gensim) (2.49.0)\n",
            "Requirement already satisfied, skipping upgrade: urllib3!=1.25.0,!=1.25.1,<1.26,>=1.21.1 in /opt/conda/lib/python3.7/site-packages (from requests->smart-open>=1.8.1->gensim) (1.24.3)\n",
            "Requirement already satisfied, skipping upgrade: chardet<4,>=3.0.2 in /opt/conda/lib/python3.7/site-packages (from requests->smart-open>=1.8.1->gensim) (3.0.4)\n",
            "Requirement already satisfied, skipping upgrade: idna<3,>=2.5 in /opt/conda/lib/python3.7/site-packages (from requests->smart-open>=1.8.1->gensim) (2.9)\n",
            "Requirement already satisfied, skipping upgrade: certifi>=2017.4.17 in /opt/conda/lib/python3.7/site-packages (from requests->smart-open>=1.8.1->gensim) (2020.6.20)\n",
            "Requirement already satisfied, skipping upgrade: jmespath<1.0.0,>=0.7.1 in /opt/conda/lib/python3.7/site-packages (from boto3->smart-open>=1.8.1->gensim) (0.10.0)\n",
            "Requirement already satisfied, skipping upgrade: botocore<1.18.0,>=1.17.56 in /opt/conda/lib/python3.7/site-packages (from boto3->smart-open>=1.8.1->gensim) (1.17.56)\n",
            "Requirement already satisfied, skipping upgrade: s3transfer<0.4.0,>=0.3.0 in /opt/conda/lib/python3.7/site-packages (from boto3->smart-open>=1.8.1->gensim) (0.3.3)\n",
            "Requirement already satisfied, skipping upgrade: python-dateutil<3.0.0,>=2.1 in /opt/conda/lib/python3.7/site-packages (from botocore<1.18.0,>=1.17.56->boto3->smart-open>=1.8.1->gensim) (2.8.1)\n",
            "Requirement already satisfied, skipping upgrade: docutils<0.16,>=0.10 in /opt/conda/lib/python3.7/site-packages (from botocore<1.18.0,>=1.17.56->boto3->smart-open>=1.8.1->gensim) (0.15.2)\n",
            "\u001b[33mWARNING: You are using pip version 20.2.2; however, version 20.2.3 is available.\n",
            "You should consider upgrading via the '/opt/conda/bin/python3.7 -m pip install --upgrade pip' command.\u001b[0m\n",
            "Requirement already up-to-date: keras in /opt/conda/lib/python3.7/site-packages (2.4.3)\n",
            "Requirement already satisfied, skipping upgrade: scipy>=0.14 in /opt/conda/lib/python3.7/site-packages (from keras) (1.4.1)\n",
            "Requirement already satisfied, skipping upgrade: numpy>=1.9.1 in /opt/conda/lib/python3.7/site-packages (from keras) (1.18.5)\n",
            "Requirement already satisfied, skipping upgrade: pyyaml in /opt/conda/lib/python3.7/site-packages (from keras) (5.3.1)\n",
            "Requirement already satisfied, skipping upgrade: h5py in /opt/conda/lib/python3.7/site-packages (from keras) (2.10.0)\n",
            "Requirement already satisfied, skipping upgrade: six in /opt/conda/lib/python3.7/site-packages (from h5py->keras) (1.14.0)\n",
            "\u001b[33mWARNING: You are using pip version 20.2.2; however, version 20.2.3 is available.\n",
            "You should consider upgrading via the '/opt/conda/bin/python3.7 -m pip install --upgrade pip' command.\u001b[0m\n",
            "Requirement already up-to-date: pandas in /opt/conda/lib/python3.7/site-packages (1.1.2)\n",
            "Requirement already satisfied, skipping upgrade: numpy>=1.15.4 in /opt/conda/lib/python3.7/site-packages (from pandas) (1.18.5)\n",
            "Requirement already satisfied, skipping upgrade: python-dateutil>=2.7.3 in /opt/conda/lib/python3.7/site-packages (from pandas) (2.8.1)\n",
            "Requirement already satisfied, skipping upgrade: pytz>=2017.2 in /opt/conda/lib/python3.7/site-packages (from pandas) (2019.3)\n",
            "Requirement already satisfied, skipping upgrade: six>=1.5 in /opt/conda/lib/python3.7/site-packages (from python-dateutil>=2.7.3->pandas) (1.14.0)\n",
            "\u001b[33mWARNING: You are using pip version 20.2.2; however, version 20.2.3 is available.\n",
            "You should consider upgrading via the '/opt/conda/bin/python3.7 -m pip install --upgrade pip' command.\u001b[0m\n"
          ],
          "name": "stdout"
        }
      ]
    },
    {
      "cell_type": "code",
      "metadata": {
        "trusted": true,
        "_uuid": "303e72966af732ddef0bd8108a321095314e44af",
        "id": "dyhtdSm5A58d",
        "colab_type": "code",
        "colab": {}
      },
      "source": [
        "# DataFrame\n",
        "import pandas as pd\n",
        "\n",
        "# Matplot\n",
        "import matplotlib.pyplot as plt\n",
        "%matplotlib inline\n",
        "\n",
        "# Scikit-learn\n",
        "from sklearn.model_selection import train_test_split\n",
        "from sklearn.preprocessing import LabelEncoder\n",
        "from sklearn.metrics import confusion_matrix, classification_report, accuracy_score\n",
        "from sklearn.manifold import TSNE\n",
        "from sklearn.feature_extraction.text import TfidfVectorizer\n",
        "\n",
        "# Keras\n",
        "from keras.preprocessing.text import Tokenizer\n",
        "from keras.preprocessing.sequence import pad_sequences\n",
        "from keras.models import Sequential\n",
        "from keras.layers import Activation, Dense, Dropout, Embedding, Flatten, Conv1D, MaxPooling1D, LSTM\n",
        "from keras import utils\n",
        "from keras.callbacks import ReduceLROnPlateau, EarlyStopping\n",
        "\n",
        "# nltk\n",
        "import nltk\n",
        "from nltk.corpus import stopwords\n",
        "from  nltk.stem import SnowballStemmer\n",
        "\n",
        "# Word2vec\n",
        "import gensim\n",
        "\n",
        "# Utility\n",
        "import re\n",
        "import numpy as np\n",
        "import os\n",
        "from collections import Counter\n",
        "import logging\n",
        "import time\n",
        "import pickle\n",
        "import itertools\n",
        "\n",
        "# Set log\n",
        "logging.basicConfig(format='%(asctime)s : %(levelname)s : %(message)s', level=logging.INFO)"
      ],
      "execution_count": 2,
      "outputs": []
    },
    {
      "cell_type": "code",
      "metadata": {
        "trusted": true,
        "_uuid": "35e1a89dead5fd160e4c9a024a21d2e569fc89ff",
        "id": "8qbJzgGNA58j",
        "colab_type": "code",
        "colab": {
          "base_uri": "https://localhost:8080/",
          "height": 72
        },
        "outputId": "44b5660a-ce46-4aea-94e8-3cd505dd7b4d"
      },
      "source": [
        "nltk.download('stopwords')"
      ],
      "execution_count": 3,
      "outputs": [
        {
          "output_type": "stream",
          "text": [
            "[nltk_data] Downloading package stopwords to /root/nltk_data...\n",
            "[nltk_data]   Unzipping corpora/stopwords.zip.\n"
          ],
          "name": "stdout"
        },
        {
          "output_type": "execute_result",
          "data": {
            "text/plain": [
              "True"
            ]
          },
          "metadata": {
            "tags": []
          },
          "execution_count": 3
        }
      ]
    },
    {
      "cell_type": "markdown",
      "metadata": {
        "_uuid": "e8b01a07df001e4abcc745900336c4db06e455f3",
        "id": "zUq1RMg5A58n",
        "colab_type": "text"
      },
      "source": [
        "### Settings"
      ]
    },
    {
      "cell_type": "code",
      "metadata": {
        "trusted": true,
        "_uuid": "180f0dd2a95419e4602b5c0229822b0111c826f6",
        "id": "UeRUKe2TA58o",
        "colab_type": "code",
        "colab": {}
      },
      "source": [
        "# DATASET\n",
        "DATASET_COLUMNS = [\"target\", \"ids\", \"date\", \"flag\", \"user\", \"text\"]\n",
        "DATASET_ENCODING = \"ISO-8859-1\"\n",
        "TRAIN_SIZE = 0.8\n",
        "\n",
        "# TEXT CLENAING\n",
        "TEXT_CLEANING_RE = \"@\\S+|https?:\\S+|http?:\\S|[^A-Za-z0-9]+\"\n",
        "\n",
        "# WORD2VEC \n",
        "W2V_SIZE = 300\n",
        "W2V_WINDOW = 7\n",
        "W2V_EPOCH = 32\n",
        "W2V_MIN_COUNT = 10\n",
        "\n",
        "# KERAS\n",
        "SEQUENCE_LENGTH = 300\n",
        "EPOCHS = 8\n",
        "BATCH_SIZE = 1024\n",
        "\n",
        "# SENTIMENT\n",
        "POSITIVE = \"POSITIVE\"\n",
        "NEGATIVE = \"NEGATIVE\"\n",
        "NEUTRAL = \"NEUTRAL\"\n",
        "SENTIMENT_THRESHOLDS = (0.4, 0.7)\n",
        "\n",
        "# EXPORT\n",
        "KERAS_MODEL = \"model.h5\"\n",
        "WORD2VEC_MODEL = \"model.w2v\"\n",
        "TOKENIZER_MODEL = \"tokenizer.pkl\"\n",
        "ENCODER_MODEL = \"encoder.pkl\""
      ],
      "execution_count": 4,
      "outputs": []
    },
    {
      "cell_type": "markdown",
      "metadata": {
        "_uuid": "1c3beecc618be68480b3d4f0de08d9d863da1dc1",
        "id": "ZyMRrMJ2A58s",
        "colab_type": "text"
      },
      "source": [
        "### Read Dataset"
      ]
    },
    {
      "cell_type": "markdown",
      "metadata": {
        "_uuid": "563b3c44f1092dba0b853747b098e00509098cca",
        "id": "ovNM_KYwA58t",
        "colab_type": "text"
      },
      "source": [
        "### Dataset details\n",
        "* **target**: the polarity of the tweet (0 = negative, 2 = neutral, 4 = positive)\n",
        "* **ids**: The id of the tweet ( 2087)\n",
        "* **date**: the date of the tweet (Sat May 16 23:58:44 UTC 2009)\n",
        "* **flag**: The query (lyx). If there is no query, then this value is NO_QUERY.\n",
        "* **user**: the user that tweeted (robotickilldozr)\n",
        "* **text**: the text of the tweet (Lyx is cool)"
      ]
    },
    {
      "cell_type": "code",
      "metadata": {
        "id": "qx17quD4A-xv",
        "colab_type": "code",
        "colab": {
          "base_uri": "https://localhost:8080/",
          "height": 35
        },
        "outputId": "69e36843-5bb2-4b07-f804-de03c2e02750"
      },
      "source": [
        "from google.colab import drive\n",
        "drive.mount('/content/drive')"
      ],
      "execution_count": 1,
      "outputs": [
        {
          "output_type": "stream",
          "text": [
            "Mounted at /content/drive\n"
          ],
          "name": "stdout"
        }
      ]
    },
    {
      "cell_type": "code",
      "metadata": {
        "trusted": true,
        "_uuid": "bba8f91cd70de4f5ea0fb0870ae2029b6e3dcc24",
        "id": "3bqhcz2GA58u",
        "colab_type": "code",
        "colab": {}
      },
      "source": [
        "path=(\"/content/drive/My Drive/Colab Notebooks/1.csv\")\n",
        "df = pd.read_csv(path, encoding =DATASET_ENCODING , names=DATASET_COLUMNS)\n"
      ],
      "execution_count": 5,
      "outputs": []
    },
    {
      "cell_type": "code",
      "metadata": {
        "trusted": true,
        "_uuid": "936d499c00c4f1648bc16ca9d283c3b39be7fb10",
        "id": "4LVVRCxyA58y",
        "colab_type": "code",
        "colab": {
          "base_uri": "https://localhost:8080/",
          "height": 35
        },
        "outputId": "1ce0f3e4-14a1-4eba-f697-5216f44650f9"
      },
      "source": [
        "print(\"Dataset size:\", len(df))"
      ],
      "execution_count": 6,
      "outputs": [
        {
          "output_type": "stream",
          "text": [
            "Dataset size: 1600000\n"
          ],
          "name": "stdout"
        }
      ]
    },
    {
      "cell_type": "code",
      "metadata": {
        "trusted": true,
        "_uuid": "7486ed895b813c5246f97b31b6162b0f65ff763b",
        "id": "X_oH006EA582",
        "colab_type": "code",
        "colab": {},
        "outputId": "acc6aa68-0a5a-4325-c4a5-dbd3dc8e727d"
      },
      "source": [
        "df.head(5)"
      ],
      "execution_count": null,
      "outputs": [
        {
          "output_type": "execute_result",
          "data": {
            "text/plain": [
              "   target         ids                          date      flag  \\\n",
              "0       0  1467810369  Mon Apr 06 22:19:45 PDT 2009  NO_QUERY   \n",
              "1       0  1467810672  Mon Apr 06 22:19:49 PDT 2009  NO_QUERY   \n",
              "2       0  1467810917  Mon Apr 06 22:19:53 PDT 2009  NO_QUERY   \n",
              "3       0  1467811184  Mon Apr 06 22:19:57 PDT 2009  NO_QUERY   \n",
              "4       0  1467811193  Mon Apr 06 22:19:57 PDT 2009  NO_QUERY   \n",
              "\n",
              "              user                                               text  \n",
              "0  _TheSpecialOne_  @switchfoot http://twitpic.com/2y1zl - Awww, t...  \n",
              "1    scotthamilton  is upset that he can't update his Facebook by ...  \n",
              "2         mattycus  @Kenichan I dived many times for the ball. Man...  \n",
              "3          ElleCTF    my whole body feels itchy and like its on fire   \n",
              "4           Karoli  @nationwideclass no, it's not behaving at all....  "
            ],
            "text/html": [
              "<div>\n",
              "<style scoped>\n",
              "    .dataframe tbody tr th:only-of-type {\n",
              "        vertical-align: middle;\n",
              "    }\n",
              "\n",
              "    .dataframe tbody tr th {\n",
              "        vertical-align: top;\n",
              "    }\n",
              "\n",
              "    .dataframe thead th {\n",
              "        text-align: right;\n",
              "    }\n",
              "</style>\n",
              "<table border=\"1\" class=\"dataframe\">\n",
              "  <thead>\n",
              "    <tr style=\"text-align: right;\">\n",
              "      <th></th>\n",
              "      <th>target</th>\n",
              "      <th>ids</th>\n",
              "      <th>date</th>\n",
              "      <th>flag</th>\n",
              "      <th>user</th>\n",
              "      <th>text</th>\n",
              "    </tr>\n",
              "  </thead>\n",
              "  <tbody>\n",
              "    <tr>\n",
              "      <th>0</th>\n",
              "      <td>0</td>\n",
              "      <td>1467810369</td>\n",
              "      <td>Mon Apr 06 22:19:45 PDT 2009</td>\n",
              "      <td>NO_QUERY</td>\n",
              "      <td>_TheSpecialOne_</td>\n",
              "      <td>@switchfoot http://twitpic.com/2y1zl - Awww, t...</td>\n",
              "    </tr>\n",
              "    <tr>\n",
              "      <th>1</th>\n",
              "      <td>0</td>\n",
              "      <td>1467810672</td>\n",
              "      <td>Mon Apr 06 22:19:49 PDT 2009</td>\n",
              "      <td>NO_QUERY</td>\n",
              "      <td>scotthamilton</td>\n",
              "      <td>is upset that he can't update his Facebook by ...</td>\n",
              "    </tr>\n",
              "    <tr>\n",
              "      <th>2</th>\n",
              "      <td>0</td>\n",
              "      <td>1467810917</td>\n",
              "      <td>Mon Apr 06 22:19:53 PDT 2009</td>\n",
              "      <td>NO_QUERY</td>\n",
              "      <td>mattycus</td>\n",
              "      <td>@Kenichan I dived many times for the ball. Man...</td>\n",
              "    </tr>\n",
              "    <tr>\n",
              "      <th>3</th>\n",
              "      <td>0</td>\n",
              "      <td>1467811184</td>\n",
              "      <td>Mon Apr 06 22:19:57 PDT 2009</td>\n",
              "      <td>NO_QUERY</td>\n",
              "      <td>ElleCTF</td>\n",
              "      <td>my whole body feels itchy and like its on fire</td>\n",
              "    </tr>\n",
              "    <tr>\n",
              "      <th>4</th>\n",
              "      <td>0</td>\n",
              "      <td>1467811193</td>\n",
              "      <td>Mon Apr 06 22:19:57 PDT 2009</td>\n",
              "      <td>NO_QUERY</td>\n",
              "      <td>Karoli</td>\n",
              "      <td>@nationwideclass no, it's not behaving at all....</td>\n",
              "    </tr>\n",
              "  </tbody>\n",
              "</table>\n",
              "</div>"
            ]
          },
          "metadata": {
            "tags": []
          },
          "execution_count": 43
        }
      ]
    },
    {
      "cell_type": "markdown",
      "metadata": {
        "_uuid": "3f9a7bb129e184967b13261fb5d253af451c75c5",
        "id": "DkzQP82tA589",
        "colab_type": "text"
      },
      "source": [
        "### Map target label to String\n",
        "* **0** -> **NEGATIVE**\n",
        "* **2** -> **NEUTRAL**\n",
        "* **4** -> **POSITIVE**"
      ]
    },
    {
      "cell_type": "code",
      "metadata": {
        "trusted": true,
        "_uuid": "14074b59106cb9550440839e48b832223fc9502f",
        "id": "2SyCEjGFA58-",
        "colab_type": "code",
        "colab": {}
      },
      "source": [
        "decode_map = {0: \"NEGATIVE\", 2: \"NEUTRAL\", 4: \"POSITIVE\"}\n",
        "def decode_sentiment(label):\n",
        "    return decode_map[int(label)]"
      ],
      "execution_count": 7,
      "outputs": []
    },
    {
      "cell_type": "code",
      "metadata": {
        "trusted": true,
        "_uuid": "4449d473187f647a195a6ac6986b009da32a7f4b",
        "id": "ffo-8LS0A59D",
        "colab_type": "code",
        "colab": {
          "base_uri": "https://localhost:8080/",
          "height": 54
        },
        "outputId": "074a9ae9-e0f8-423e-84aa-540f42a7a036"
      },
      "source": [
        "%%time\n",
        "df.target = df.target.apply(lambda x: decode_sentiment(x))"
      ],
      "execution_count": 8,
      "outputs": [
        {
          "output_type": "stream",
          "text": [
            "CPU times: user 497 ms, sys: 2.65 ms, total: 500 ms\n",
            "Wall time: 504 ms\n"
          ],
          "name": "stdout"
        }
      ]
    },
    {
      "cell_type": "code",
      "metadata": {
        "trusted": true,
        "_uuid": "19eb327803192f31cce3512aacb232f4d6b38715",
        "id": "gSRo-jofA59H",
        "colab_type": "code",
        "colab": {
          "base_uri": "https://localhost:8080/",
          "height": 517
        },
        "outputId": "2b7efadd-9c48-4184-968e-07d1fe4224ff"
      },
      "source": [
        "target_cnt = Counter(df.target)\n",
        "\n",
        "plt.figure(figsize=(16,8))\n",
        "plt.bar(target_cnt.keys(), target_cnt.values())\n",
        "plt.title(\"Dataset labels distribuition\")"
      ],
      "execution_count": 9,
      "outputs": [
        {
          "output_type": "execute_result",
          "data": {
            "text/plain": [
              "Text(0.5, 1.0, 'Dataset labels distribuition')"
            ]
          },
          "metadata": {
            "tags": []
          },
          "execution_count": 9
        },
        {
          "output_type": "display_data",
          "data": {
            "image/png": "[encoded data removed]",
            "text/plain": [
              "<Figure size 1152x576 with 1 Axes>"
            ]
          },
          "metadata": {
            "tags": [],
            "needs_background": "light"
          }
        }
      ]
    },
    {
      "cell_type": "markdown",
      "metadata": {
        "_uuid": "4329b1573518b03e497213efa7676220734ebb4b",
        "id": "FwqyPO9tA59K",
        "colab_type": "text"
      },
      "source": [
        "### Pre-Process dataset"
      ]
    },
    {
      "cell_type": "code",
      "metadata": {
        "trusted": true,
        "_uuid": "8aeee8b7b9ea11b749c7f91cd4787a7b50ed1a91",
        "id": "pJoFBonSA59L",
        "colab_type": "code",
        "colab": {}
      },
      "source": [
        "stop_words = stopwords.words(\"english\")\n",
        "stemmer = SnowballStemmer(\"english\")"
      ],
      "execution_count": 10,
      "outputs": []
    },
    {
      "cell_type": "code",
      "metadata": {
        "trusted": true,
        "_uuid": "649ebcb97969b9ac4301138783704bb3d7846a49",
        "id": "N3CEfUGGA59P",
        "colab_type": "code",
        "colab": {}
      },
      "source": [
        "def preprocess(text, stem=False):\n",
        "    # Remove link,user and special characters\n",
        "    text = re.sub(TEXT_CLEANING_RE, ' ', str(text).lower()).strip()\n",
        "    tokens = []\n",
        "    for token in text.split():\n",
        "        if token not in stop_words:\n",
        "            if stem:\n",
        "                tokens.append(stemmer.stem(token))\n",
        "            else:\n",
        "                tokens.append(token)\n",
        "    return \" \".join(tokens)"
      ],
      "execution_count": 11,
      "outputs": []
    },
    {
      "cell_type": "code",
      "metadata": {
        "trusted": true,
        "_uuid": "f7f3e77ab9291d14687c49e71ba9b2b1e3323432",
        "id": "lwS-8_C4A59T",
        "colab_type": "code",
        "colab": {
          "base_uri": "https://localhost:8080/",
          "height": 54
        },
        "outputId": "c666d49d-c935-4938-d706-03d55371b114"
      },
      "source": [
        "%%time\n",
        "df.text = df.text.apply(lambda x: preprocess(x))"
      ],
      "execution_count": 12,
      "outputs": [
        {
          "output_type": "stream",
          "text": [
            "CPU times: user 43.9 s, sys: 163 ms, total: 44.1 s\n",
            "Wall time: 44.1 s\n"
          ],
          "name": "stdout"
        }
      ]
    },
    {
      "cell_type": "markdown",
      "metadata": {
        "trusted": true,
        "_uuid": "f5f9714a8507409bbe780eebf2855a33e8e6ba37",
        "id": "OkstlIX-A59W",
        "colab_type": "text"
      },
      "source": [
        "### Split train and test"
      ]
    },
    {
      "cell_type": "code",
      "metadata": {
        "trusted": true,
        "_uuid": "d2b1179c968e3f3910c790ecf0c5b2cbb34b0e68",
        "id": "KRn3NFWrA59X",
        "colab_type": "code",
        "colab": {
          "base_uri": "https://localhost:8080/",
          "height": 54
        },
        "outputId": "de782129-890b-49a5-85c7-189cdd44bea6"
      },
      "source": [
        "df_train, df_test = train_test_split(df, test_size=1-TRAIN_SIZE, random_state=42)\n",
        "print(\"TRAIN size:\", len(df_train))\n",
        "print(\"TEST size:\", len(df_test))"
      ],
      "execution_count": 13,
      "outputs": [
        {
          "output_type": "stream",
          "text": [
            "TRAIN size: 1280000\n",
            "TEST size: 320000\n"
          ],
          "name": "stdout"
        }
      ]
    },
    {
      "cell_type": "markdown",
      "metadata": {
        "_uuid": "f08a28aab2c3d16d8b9681a7d5d07587153a1cd6",
        "id": "ZFCJ6d7PA59b",
        "colab_type": "text"
      },
      "source": [
        "### Word2Vec "
      ]
    },
    {
      "cell_type": "code",
      "metadata": {
        "trusted": true,
        "_uuid": "2461bf564de1b4414841933d0c1d1bee5f5cc5a6",
        "id": "4LWiev7KA59b",
        "colab_type": "code",
        "colab": {
          "base_uri": "https://localhost:8080/",
          "height": 54
        },
        "outputId": "b69bde34-2852-48db-c10e-570868cb5263"
      },
      "source": [
        "%%time\n",
        "documents = [_text.split() for _text in df_train.text] "
      ],
      "execution_count": 14,
      "outputs": [
        {
          "output_type": "stream",
          "text": [
            "CPU times: user 3.05 s, sys: 483 ms, total: 3.53 s\n",
            "Wall time: 3.54 s\n"
          ],
          "name": "stdout"
        }
      ]
    },
    {
      "cell_type": "code",
      "metadata": {
        "trusted": true,
        "_uuid": "8e19b9f25801ba86420decc266d2b3e6fb44f1ea",
        "id": "75OnO6AEA59f",
        "colab_type": "code",
        "colab": {}
      },
      "source": [
        "w2v_model = gensim.models.word2vec.Word2Vec(size=W2V_SIZE, \n",
        "                                            window=W2V_WINDOW, \n",
        "                                            min_count=W2V_MIN_COUNT, \n",
        "                                            workers=8)"
      ],
      "execution_count": 21,
      "outputs": []
    },
    {
      "cell_type": "code",
      "metadata": {
        "trusted": true,
        "_uuid": "58d655af07653c594bec6bebcfb302a973b0ad9c",
        "id": "KByq8kbuA59i",
        "colab_type": "code",
        "colab": {
          "base_uri": "https://localhost:8080/",
          "height": 1000
        },
        "outputId": "7a26125d-2295-410b-99a4-e830f44831d5"
      },
      "source": [
        "w2v_model.build_vocab(documents)"
      ],
      "execution_count": 22,
      "outputs": [
        {
          "output_type": "stream",
          "text": [
            "2020-09-21 14:22:37,943 : INFO : collecting all words and their counts\n",
            "2020-09-21 14:22:37,944 : INFO : PROGRESS: at sentence #0, processed 0 words, keeping 0 word types\n",
            "2020-09-21 14:22:37,974 : INFO : PROGRESS: at sentence #10000, processed 72565 words, keeping 14005 word types\n",
            "2020-09-21 14:22:37,997 : INFO : PROGRESS: at sentence #20000, processed 144393 words, keeping 21587 word types\n",
            "2020-09-21 14:22:38,018 : INFO : PROGRESS: at sentence #30000, processed 215826 words, keeping 27541 word types\n",
            "2020-09-21 14:22:38,043 : INFO : PROGRESS: at sentence #40000, processed 288271 words, keeping 32764 word types\n",
            "2020-09-21 14:22:38,065 : INFO : PROGRESS: at sentence #50000, processed 359772 words, keeping 37587 word types\n",
            "2020-09-21 14:22:38,084 : INFO : PROGRESS: at sentence #60000, processed 431431 words, keeping 42198 word types\n",
            "2020-09-21 14:22:38,110 : INFO : PROGRESS: at sentence #70000, processed 503103 words, keeping 46458 word types\n",
            "2020-09-21 14:22:38,132 : INFO : PROGRESS: at sentence #80000, processed 575709 words, keeping 50476 word types\n",
            "2020-09-21 14:22:38,157 : INFO : PROGRESS: at sentence #90000, processed 647100 words, keeping 54140 word types\n",
            "2020-09-21 14:22:38,180 : INFO : PROGRESS: at sentence #100000, processed 718681 words, keeping 57777 word types\n",
            "2020-09-21 14:22:38,201 : INFO : PROGRESS: at sentence #110000, processed 790696 words, keeping 61207 word types\n",
            "2020-09-21 14:22:38,226 : INFO : PROGRESS: at sentence #120000, processed 863134 words, keeping 64583 word types\n",
            "2020-09-21 14:22:38,247 : INFO : PROGRESS: at sentence #130000, processed 935111 words, keeping 67865 word types\n",
            "2020-09-21 14:22:38,270 : INFO : PROGRESS: at sentence #140000, processed 1006668 words, keeping 70966 word types\n",
            "2020-09-21 14:22:38,290 : INFO : PROGRESS: at sentence #150000, processed 1078512 words, keeping 74119 word types\n",
            "2020-09-21 14:22:38,314 : INFO : PROGRESS: at sentence #160000, processed 1149914 words, keeping 77187 word types\n",
            "2020-09-21 14:22:38,335 : INFO : PROGRESS: at sentence #170000, processed 1222145 words, keeping 80267 word types\n",
            "2020-09-21 14:22:38,359 : INFO : PROGRESS: at sentence #180000, processed 1294708 words, keeping 83393 word types\n",
            "2020-09-21 14:22:38,389 : INFO : PROGRESS: at sentence #190000, processed 1367608 words, keeping 86329 word types\n",
            "2020-09-21 14:22:38,413 : INFO : PROGRESS: at sentence #200000, processed 1439469 words, keeping 89103 word types\n",
            "2020-09-21 14:22:38,437 : INFO : PROGRESS: at sentence #210000, processed 1512099 words, keeping 91840 word types\n",
            "2020-09-21 14:22:38,460 : INFO : PROGRESS: at sentence #220000, processed 1584149 words, keeping 94636 word types\n",
            "2020-09-21 14:22:38,482 : INFO : PROGRESS: at sentence #230000, processed 1656354 words, keeping 97353 word types\n",
            "2020-09-21 14:22:38,507 : INFO : PROGRESS: at sentence #240000, processed 1728573 words, keeping 99975 word types\n",
            "2020-09-21 14:22:38,538 : INFO : PROGRESS: at sentence #250000, processed 1801102 words, keeping 102594 word types\n",
            "2020-09-21 14:22:38,562 : INFO : PROGRESS: at sentence #260000, processed 1873103 words, keeping 105162 word types\n",
            "2020-09-21 14:22:38,584 : INFO : PROGRESS: at sentence #270000, processed 1945245 words, keeping 107626 word types\n",
            "2020-09-21 14:22:38,607 : INFO : PROGRESS: at sentence #280000, processed 2017163 words, keeping 110141 word types\n",
            "2020-09-21 14:22:38,631 : INFO : PROGRESS: at sentence #290000, processed 2089574 words, keeping 112539 word types\n",
            "2020-09-21 14:22:38,655 : INFO : PROGRESS: at sentence #300000, processed 2160996 words, keeping 114893 word types\n",
            "2020-09-21 14:22:38,680 : INFO : PROGRESS: at sentence #310000, processed 2232913 words, keeping 117298 word types\n",
            "2020-09-21 14:22:38,703 : INFO : PROGRESS: at sentence #320000, processed 2305039 words, keeping 119693 word types\n",
            "2020-09-21 14:22:38,727 : INFO : PROGRESS: at sentence #330000, processed 2377119 words, keeping 122131 word types\n",
            "2020-09-21 14:22:38,751 : INFO : PROGRESS: at sentence #340000, processed 2449370 words, keeping 124416 word types\n",
            "2020-09-21 14:22:38,778 : INFO : PROGRESS: at sentence #350000, processed 2521564 words, keeping 126669 word types\n",
            "2020-09-21 14:22:38,801 : INFO : PROGRESS: at sentence #360000, processed 2593681 words, keeping 128912 word types\n",
            "2020-09-21 14:22:38,826 : INFO : PROGRESS: at sentence #370000, processed 2665692 words, keeping 131135 word types\n",
            "2020-09-21 14:22:38,849 : INFO : PROGRESS: at sentence #380000, processed 2737859 words, keeping 133403 word types\n",
            "2020-09-21 14:22:38,872 : INFO : PROGRESS: at sentence #390000, processed 2809848 words, keeping 135551 word types\n",
            "2020-09-21 14:22:38,894 : INFO : PROGRESS: at sentence #400000, processed 2882438 words, keeping 137742 word types\n",
            "2020-09-21 14:22:38,917 : INFO : PROGRESS: at sentence #410000, processed 2954075 words, keeping 139909 word types\n",
            "2020-09-21 14:22:38,940 : INFO : PROGRESS: at sentence #420000, processed 3026247 words, keeping 142144 word types\n",
            "2020-09-21 14:22:38,964 : INFO : PROGRESS: at sentence #430000, processed 3098659 words, keeping 144364 word types\n",
            "2020-09-21 14:22:38,989 : INFO : PROGRESS: at sentence #440000, processed 3170663 words, keeping 146439 word types\n",
            "2020-09-21 14:22:39,011 : INFO : PROGRESS: at sentence #450000, processed 3243344 words, keeping 148526 word types\n",
            "2020-09-21 14:22:39,034 : INFO : PROGRESS: at sentence #460000, processed 3315466 words, keeping 150610 word types\n",
            "2020-09-21 14:22:39,060 : INFO : PROGRESS: at sentence #470000, processed 3388295 words, keeping 152737 word types\n",
            "2020-09-21 14:22:39,081 : INFO : PROGRESS: at sentence #480000, processed 3460120 words, keeping 154757 word types\n",
            "2020-09-21 14:22:39,108 : INFO : PROGRESS: at sentence #490000, processed 3531883 words, keeping 156825 word types\n",
            "2020-09-21 14:22:39,130 : INFO : PROGRESS: at sentence #500000, processed 3604217 words, keeping 158859 word types\n",
            "2020-09-21 14:22:39,153 : INFO : PROGRESS: at sentence #510000, processed 3676427 words, keeping 160852 word types\n",
            "2020-09-21 14:22:39,177 : INFO : PROGRESS: at sentence #520000, processed 3749045 words, keeping 162863 word types\n",
            "2020-09-21 14:22:39,204 : INFO : PROGRESS: at sentence #530000, processed 3821622 words, keeping 164929 word types\n",
            "2020-09-21 14:22:39,228 : INFO : PROGRESS: at sentence #540000, processed 3893627 words, keeping 166840 word types\n",
            "2020-09-21 14:22:39,252 : INFO : PROGRESS: at sentence #550000, processed 3965477 words, keeping 168799 word types\n",
            "2020-09-21 14:22:39,278 : INFO : PROGRESS: at sentence #560000, processed 4038050 words, keeping 170802 word types\n",
            "2020-09-21 14:22:39,304 : INFO : PROGRESS: at sentence #570000, processed 4110296 words, keeping 172760 word types\n",
            "2020-09-21 14:22:39,328 : INFO : PROGRESS: at sentence #580000, processed 4182385 words, keeping 174635 word types\n",
            "2020-09-21 14:22:39,360 : INFO : PROGRESS: at sentence #590000, processed 4254632 words, keeping 176470 word types\n",
            "2020-09-21 14:22:39,381 : INFO : PROGRESS: at sentence #600000, processed 4326859 words, keeping 178350 word types\n",
            "2020-09-21 14:22:39,405 : INFO : PROGRESS: at sentence #610000, processed 4399183 words, keeping 180290 word types\n",
            "2020-09-21 14:22:39,428 : INFO : PROGRESS: at sentence #620000, processed 4471343 words, keeping 182129 word types\n",
            "2020-09-21 14:22:39,450 : INFO : PROGRESS: at sentence #630000, processed 4543286 words, keeping 184005 word types\n",
            "2020-09-21 14:22:39,472 : INFO : PROGRESS: at sentence #640000, processed 4615780 words, keeping 185835 word types\n",
            "2020-09-21 14:22:39,496 : INFO : PROGRESS: at sentence #650000, processed 4688481 words, keeping 187705 word types\n",
            "2020-09-21 14:22:39,519 : INFO : PROGRESS: at sentence #660000, processed 4760481 words, keeping 189439 word types\n",
            "2020-09-21 14:22:39,542 : INFO : PROGRESS: at sentence #670000, processed 4833024 words, keeping 191232 word types\n",
            "2020-09-21 14:22:39,571 : INFO : PROGRESS: at sentence #680000, processed 4904516 words, keeping 193177 word types\n",
            "2020-09-21 14:22:39,595 : INFO : PROGRESS: at sentence #690000, processed 4976968 words, keeping 194960 word types\n",
            "2020-09-21 14:22:39,616 : INFO : PROGRESS: at sentence #700000, processed 5049412 words, keeping 196725 word types\n",
            "2020-09-21 14:22:39,638 : INFO : PROGRESS: at sentence #710000, processed 5121976 words, keeping 198516 word types\n",
            "2020-09-21 14:22:39,663 : INFO : PROGRESS: at sentence #720000, processed 5193881 words, keeping 200325 word types\n",
            "2020-09-21 14:22:39,687 : INFO : PROGRESS: at sentence #730000, processed 5265467 words, keeping 202133 word types\n",
            "2020-09-21 14:22:39,708 : INFO : PROGRESS: at sentence #740000, processed 5337518 words, keeping 203818 word types\n",
            "2020-09-21 14:22:39,731 : INFO : PROGRESS: at sentence #750000, processed 5409321 words, keeping 205535 word types\n",
            "2020-09-21 14:22:39,756 : INFO : PROGRESS: at sentence #760000, processed 5481512 words, keeping 207282 word types\n",
            "2020-09-21 14:22:39,780 : INFO : PROGRESS: at sentence #770000, processed 5554093 words, keeping 209076 word types\n",
            "2020-09-21 14:22:39,809 : INFO : PROGRESS: at sentence #780000, processed 5625382 words, keeping 210805 word types\n",
            "2020-09-21 14:22:39,830 : INFO : PROGRESS: at sentence #790000, processed 5698066 words, keeping 212618 word types\n",
            "2020-09-21 14:22:39,855 : INFO : PROGRESS: at sentence #800000, processed 5770880 words, keeping 214374 word types\n",
            "2020-09-21 14:22:39,876 : INFO : PROGRESS: at sentence #810000, processed 5843418 words, keeping 216009 word types\n",
            "2020-09-21 14:22:39,902 : INFO : PROGRESS: at sentence #820000, processed 5915628 words, keeping 217804 word types\n",
            "2020-09-21 14:22:39,923 : INFO : PROGRESS: at sentence #830000, processed 5987499 words, keeping 219585 word types\n",
            "2020-09-21 14:22:39,945 : INFO : PROGRESS: at sentence #840000, processed 6058973 words, keeping 221344 word types\n",
            "2020-09-21 14:22:39,971 : INFO : PROGRESS: at sentence #850000, processed 6131125 words, keeping 223002 word types\n",
            "2020-09-21 14:22:39,995 : INFO : PROGRESS: at sentence #860000, processed 6202951 words, keeping 224643 word types\n",
            "2020-09-21 14:22:40,020 : INFO : PROGRESS: at sentence #870000, processed 6275461 words, keeping 226362 word types\n",
            "2020-09-21 14:22:40,041 : INFO : PROGRESS: at sentence #880000, processed 6347661 words, keeping 227986 word types\n",
            "2020-09-21 14:22:40,064 : INFO : PROGRESS: at sentence #890000, processed 6419806 words, keeping 229634 word types\n",
            "2020-09-21 14:22:40,086 : INFO : PROGRESS: at sentence #900000, processed 6491644 words, keeping 231389 word types\n",
            "2020-09-21 14:22:40,111 : INFO : PROGRESS: at sentence #910000, processed 6564022 words, keeping 233050 word types\n",
            "2020-09-21 14:22:40,132 : INFO : PROGRESS: at sentence #920000, processed 6636228 words, keeping 234686 word types\n",
            "2020-09-21 14:22:40,158 : INFO : PROGRESS: at sentence #930000, processed 6708573 words, keeping 236393 word types\n",
            "2020-09-21 14:22:40,185 : INFO : PROGRESS: at sentence #940000, processed 6779956 words, keeping 238052 word types\n",
            "2020-09-21 14:22:40,210 : INFO : PROGRESS: at sentence #950000, processed 6852599 words, keeping 239716 word types\n",
            "2020-09-21 14:22:40,233 : INFO : PROGRESS: at sentence #960000, processed 6924717 words, keeping 241354 word types\n",
            "2020-09-21 14:22:40,257 : INFO : PROGRESS: at sentence #970000, processed 6996992 words, keeping 242980 word types\n",
            "2020-09-21 14:22:40,280 : INFO : PROGRESS: at sentence #980000, processed 7068402 words, keeping 244646 word types\n",
            "2020-09-21 14:22:40,302 : INFO : PROGRESS: at sentence #990000, processed 7140346 words, keeping 246186 word types\n",
            "2020-09-21 14:22:40,325 : INFO : PROGRESS: at sentence #1000000, processed 7211757 words, keeping 247726 word types\n",
            "2020-09-21 14:22:40,368 : INFO : PROGRESS: at sentence #1010000, processed 7283267 words, keeping 249288 word types\n",
            "2020-09-21 14:22:40,391 : INFO : PROGRESS: at sentence #1020000, processed 7355299 words, keeping 250860 word types\n",
            "2020-09-21 14:22:40,416 : INFO : PROGRESS: at sentence #1030000, processed 7426918 words, keeping 252366 word types\n",
            "2020-09-21 14:22:40,440 : INFO : PROGRESS: at sentence #1040000, processed 7498815 words, keeping 253930 word types\n",
            "2020-09-21 14:22:40,463 : INFO : PROGRESS: at sentence #1050000, processed 7570499 words, keeping 255471 word types\n",
            "2020-09-21 14:22:40,486 : INFO : PROGRESS: at sentence #1060000, processed 7643251 words, keeping 257035 word types\n",
            "2020-09-21 14:22:40,510 : INFO : PROGRESS: at sentence #1070000, processed 7714721 words, keeping 258509 word types\n",
            "2020-09-21 14:22:40,533 : INFO : PROGRESS: at sentence #1080000, processed 7787371 words, keeping 260071 word types\n",
            "2020-09-21 14:22:40,560 : INFO : PROGRESS: at sentence #1090000, processed 7859336 words, keeping 261683 word types\n",
            "2020-09-21 14:22:40,588 : INFO : PROGRESS: at sentence #1100000, processed 7932029 words, keeping 263278 word types\n",
            "2020-09-21 14:22:40,619 : INFO : PROGRESS: at sentence #1110000, processed 8004146 words, keeping 264800 word types\n",
            "2020-09-21 14:22:40,645 : INFO : PROGRESS: at sentence #1120000, processed 8075880 words, keeping 266309 word types\n",
            "2020-09-21 14:22:40,667 : INFO : PROGRESS: at sentence #1130000, processed 8148163 words, keeping 267826 word types\n",
            "2020-09-21 14:22:40,692 : INFO : PROGRESS: at sentence #1140000, processed 8220487 words, keeping 269391 word types\n",
            "2020-09-21 14:22:40,718 : INFO : PROGRESS: at sentence #1150000, processed 8292498 words, keeping 270894 word types\n",
            "2020-09-21 14:22:40,741 : INFO : PROGRESS: at sentence #1160000, processed 8363838 words, keeping 272400 word types\n",
            "2020-09-21 14:22:40,765 : INFO : PROGRESS: at sentence #1170000, processed 8435510 words, keeping 273970 word types\n",
            "2020-09-21 14:22:40,792 : INFO : PROGRESS: at sentence #1180000, processed 8507795 words, keeping 275521 word types\n",
            "2020-09-21 14:22:40,818 : INFO : PROGRESS: at sentence #1190000, processed 8579080 words, keeping 277007 word types\n",
            "2020-09-21 14:22:40,843 : INFO : PROGRESS: at sentence #1200000, processed 8650606 words, keeping 278457 word types\n",
            "2020-09-21 14:22:40,867 : INFO : PROGRESS: at sentence #1210000, processed 8721893 words, keeping 279959 word types\n",
            "2020-09-21 14:22:40,891 : INFO : PROGRESS: at sentence #1220000, processed 8793795 words, keeping 281427 word types\n",
            "2020-09-21 14:22:40,912 : INFO : PROGRESS: at sentence #1230000, processed 8865726 words, keeping 282981 word types\n",
            "2020-09-21 14:22:40,936 : INFO : PROGRESS: at sentence #1240000, processed 8938173 words, keeping 284542 word types\n",
            "2020-09-21 14:22:40,965 : INFO : PROGRESS: at sentence #1250000, processed 9010842 words, keeping 286064 word types\n",
            "2020-09-21 14:22:40,990 : INFO : PROGRESS: at sentence #1260000, processed 9083261 words, keeping 287521 word types\n",
            "2020-09-21 14:22:41,014 : INFO : PROGRESS: at sentence #1270000, processed 9155616 words, keeping 288987 word types\n",
            "2020-09-21 14:22:41,040 : INFO : collected 290418 word types from a corpus of 9227204 raw words and 1280000 sentences\n",
            "2020-09-21 14:22:41,041 : INFO : Loading a fresh vocabulary\n",
            "2020-09-21 14:22:41,203 : INFO : effective_min_count=10 retains 30369 unique words (10% of original 290418, drops 260049)\n",
            "2020-09-21 14:22:41,204 : INFO : effective_min_count=10 leaves 8780739 word corpus (95% of original 9227204, drops 446465)\n",
            "2020-09-21 14:22:41,306 : INFO : deleting the raw counts dictionary of 290418 items\n",
            "2020-09-21 14:22:41,314 : INFO : sample=0.001 downsamples 45 most-common words\n",
            "2020-09-21 14:22:41,315 : INFO : downsampling leaves estimated 8222658 word corpus (93.6% of prior 8780739)\n",
            "2020-09-21 14:22:41,436 : INFO : estimated required memory for 30369 words and 300 dimensions: 88070100 bytes\n",
            "2020-09-21 14:22:41,436 : INFO : resetting layer weights\n"
          ],
          "name": "stderr"
        }
      ]
    },
    {
      "cell_type": "code",
      "metadata": {
        "trusted": true,
        "_uuid": "72a5628ca81fd4b8983c12d93ae0bf950b86b6ae",
        "id": "A1RdMG1DA59m",
        "colab_type": "code",
        "colab": {
          "base_uri": "https://localhost:8080/",
          "height": 35
        },
        "outputId": "87db3b81-6a7e-4698-ff13-4e459f3f8b84"
      },
      "source": [
        "words = w2v_model.wv.vocab.keys()\n",
        "vocab_size = len(words)\n",
        "print(\"Vocab size\", vocab_size)"
      ],
      "execution_count": 23,
      "outputs": [
        {
          "output_type": "stream",
          "text": [
            "Vocab size 30369\n"
          ],
          "name": "stdout"
        }
      ]
    },
    {
      "cell_type": "code",
      "metadata": {
        "trusted": true,
        "_uuid": "68c3e4a5ba07cac3dee67f78ecdd1404c7f83f14",
        "id": "lGhqunOcA59p",
        "colab_type": "code",
        "colab": {
          "base_uri": "https://localhost:8080/",
          "height": 1000
        },
        "outputId": "83633a5a-d248-4812-cb7f-ea75e846bab4"
      },
      "source": [
        "%%time\n",
        "w2v_model.train(documents, total_examples=len(documents), epochs=W2V_EPOCH)"
      ],
      "execution_count": 24,
      "outputs": [
        {
          "output_type": "stream",
          "text": [
            "2020-09-21 14:22:56,430 : INFO : training model with 8 workers on 30369 vocabulary and 300 features, using sg=0 hs=0 sample=0.001 negative=5 window=7\n",
            "2020-09-21 14:22:57,489 : INFO : EPOCH 1 - PROGRESS: at 3.58% examples, 282610 words/s, in_qsize 15, out_qsize 1\n",
            "2020-09-21 14:22:58,529 : INFO : EPOCH 1 - PROGRESS: at 8.15% examples, 321153 words/s, in_qsize 15, out_qsize 0\n",
            "2020-09-21 14:22:59,529 : INFO : EPOCH 1 - PROGRESS: at 12.06% examples, 321067 words/s, in_qsize 14, out_qsize 1\n",
            "2020-09-21 14:23:00,614 : INFO : EPOCH 1 - PROGRESS: at 16.70% examples, 329355 words/s, in_qsize 15, out_qsize 0\n",
            "2020-09-21 14:23:01,615 : INFO : EPOCH 1 - PROGRESS: at 21.14% examples, 336238 words/s, in_qsize 15, out_qsize 0\n",
            "2020-09-21 14:23:02,653 : INFO : EPOCH 1 - PROGRESS: at 25.26% examples, 334593 words/s, in_qsize 15, out_qsize 0\n",
            "2020-09-21 14:23:03,664 : INFO : EPOCH 1 - PROGRESS: at 29.26% examples, 333393 words/s, in_qsize 16, out_qsize 0\n",
            "2020-09-21 14:23:04,730 : INFO : EPOCH 1 - PROGRESS: at 33.49% examples, 332414 words/s, in_qsize 16, out_qsize 0\n",
            "2020-09-21 14:23:05,750 : INFO : EPOCH 1 - PROGRESS: at 37.70% examples, 333333 words/s, in_qsize 15, out_qsize 0\n",
            "2020-09-21 14:23:06,818 : INFO : EPOCH 1 - PROGRESS: at 42.24% examples, 335070 words/s, in_qsize 15, out_qsize 0\n",
            "2020-09-21 14:23:07,827 : INFO : EPOCH 1 - PROGRESS: at 46.24% examples, 334328 words/s, in_qsize 15, out_qsize 0\n",
            "2020-09-21 14:23:08,839 : INFO : EPOCH 1 - PROGRESS: at 50.35% examples, 334349 words/s, in_qsize 16, out_qsize 3\n",
            "2020-09-21 14:23:09,898 : INFO : EPOCH 1 - PROGRESS: at 54.67% examples, 334520 words/s, in_qsize 16, out_qsize 3\n",
            "2020-09-21 14:23:10,925 : INFO : EPOCH 1 - PROGRESS: at 59.12% examples, 336046 words/s, in_qsize 15, out_qsize 0\n",
            "2020-09-21 14:23:11,927 : INFO : EPOCH 1 - PROGRESS: at 63.22% examples, 336146 words/s, in_qsize 15, out_qsize 0\n",
            "2020-09-21 14:23:12,983 : INFO : EPOCH 1 - PROGRESS: at 67.56% examples, 336235 words/s, in_qsize 16, out_qsize 0\n",
            "2020-09-21 14:23:14,070 : INFO : EPOCH 1 - PROGRESS: at 71.78% examples, 335202 words/s, in_qsize 16, out_qsize 3\n",
            "2020-09-21 14:23:15,087 : INFO : EPOCH 1 - PROGRESS: at 76.22% examples, 336500 words/s, in_qsize 15, out_qsize 0\n",
            "2020-09-21 14:23:16,089 : INFO : EPOCH 1 - PROGRESS: at 80.36% examples, 336567 words/s, in_qsize 13, out_qsize 2\n",
            "2020-09-21 14:23:17,244 : INFO : EPOCH 1 - PROGRESS: at 85.02% examples, 336305 words/s, in_qsize 15, out_qsize 0\n",
            "2020-09-21 14:23:18,263 : INFO : EPOCH 1 - PROGRESS: at 89.34% examples, 336905 words/s, in_qsize 15, out_qsize 0\n",
            "2020-09-21 14:23:19,294 : INFO : EPOCH 1 - PROGRESS: at 93.59% examples, 336893 words/s, in_qsize 16, out_qsize 0\n",
            "2020-09-21 14:23:20,384 : INFO : EPOCH 1 - PROGRESS: at 97.82% examples, 336051 words/s, in_qsize 14, out_qsize 3\n",
            "2020-09-21 14:23:20,658 : INFO : worker thread finished; awaiting finish of 7 more threads\n",
            "2020-09-21 14:23:20,666 : INFO : worker thread finished; awaiting finish of 6 more threads\n",
            "2020-09-21 14:23:20,675 : INFO : worker thread finished; awaiting finish of 5 more threads\n",
            "2020-09-21 14:23:20,714 : INFO : worker thread finished; awaiting finish of 4 more threads\n",
            "2020-09-21 14:23:20,722 : INFO : worker thread finished; awaiting finish of 3 more threads\n",
            "2020-09-21 14:23:20,728 : INFO : worker thread finished; awaiting finish of 2 more threads\n",
            "2020-09-21 14:23:20,748 : INFO : worker thread finished; awaiting finish of 1 more threads\n",
            "2020-09-21 14:23:20,749 : INFO : worker thread finished; awaiting finish of 0 more threads\n",
            "2020-09-21 14:23:20,750 : INFO : EPOCH - 1 : training on 9227204 raw words (8222594 effective words) took 24.3s, 338360 effective words/s\n",
            "2020-09-21 14:23:21,800 : INFO : EPOCH 2 - PROGRESS: at 3.47% examples, 276222 words/s, in_qsize 14, out_qsize 1\n",
            "2020-09-21 14:23:22,878 : INFO : EPOCH 2 - PROGRESS: at 8.04% examples, 312361 words/s, in_qsize 15, out_qsize 0\n",
            "2020-09-21 14:23:23,935 : INFO : EPOCH 2 - PROGRESS: at 12.17% examples, 314970 words/s, in_qsize 13, out_qsize 2\n",
            "2020-09-21 14:23:24,936 : INFO : EPOCH 2 - PROGRESS: at 16.48% examples, 324663 words/s, in_qsize 15, out_qsize 0\n",
            "2020-09-21 14:23:25,975 : INFO : EPOCH 2 - PROGRESS: at 20.38% examples, 321518 words/s, in_qsize 13, out_qsize 2\n",
            "2020-09-21 14:23:27,078 : INFO : EPOCH 2 - PROGRESS: at 24.83% examples, 323209 words/s, in_qsize 9, out_qsize 6\n",
            "2020-09-21 14:23:28,082 : INFO : EPOCH 2 - PROGRESS: at 29.05% examples, 326353 words/s, in_qsize 10, out_qsize 5\n",
            "2020-09-21 14:23:29,109 : INFO : EPOCH 2 - PROGRESS: at 33.37% examples, 328860 words/s, in_qsize 16, out_qsize 1\n",
            "2020-09-21 14:23:30,235 : INFO : EPOCH 2 - PROGRESS: at 37.81% examples, 328316 words/s, in_qsize 14, out_qsize 1\n",
            "2020-09-21 14:23:31,357 : INFO : EPOCH 2 - PROGRESS: at 42.46% examples, 329700 words/s, in_qsize 15, out_qsize 0\n",
            "2020-09-21 14:23:32,375 : INFO : EPOCH 2 - PROGRESS: at 46.89% examples, 332248 words/s, in_qsize 15, out_qsize 0\n",
            "2020-09-21 14:23:33,441 : INFO : EPOCH 2 - PROGRESS: at 51.21% examples, 332463 words/s, in_qsize 15, out_qsize 0\n",
            "2020-09-21 14:23:34,487 : INFO : EPOCH 2 - PROGRESS: at 55.42% examples, 332449 words/s, in_qsize 15, out_qsize 0\n",
            "2020-09-21 14:23:35,524 : INFO : EPOCH 2 - PROGRESS: at 59.76% examples, 333237 words/s, in_qsize 16, out_qsize 0\n",
            "2020-09-21 14:23:36,569 : INFO : EPOCH 2 - PROGRESS: at 63.87% examples, 332638 words/s, in_qsize 16, out_qsize 2\n",
            "2020-09-21 14:23:37,596 : INFO : EPOCH 2 - PROGRESS: at 68.21% examples, 333515 words/s, in_qsize 13, out_qsize 3\n",
            "2020-09-21 14:23:38,605 : INFO : EPOCH 2 - PROGRESS: at 72.54% examples, 334614 words/s, in_qsize 15, out_qsize 0\n",
            "2020-09-21 14:23:39,634 : INFO : EPOCH 2 - PROGRESS: at 76.77% examples, 334774 words/s, in_qsize 14, out_qsize 1\n",
            "2020-09-21 14:23:40,685 : INFO : EPOCH 2 - PROGRESS: at 81.23% examples, 335453 words/s, in_qsize 15, out_qsize 0\n",
            "2020-09-21 14:23:41,716 : INFO : EPOCH 2 - PROGRESS: at 85.45% examples, 335518 words/s, in_qsize 15, out_qsize 0\n",
            "2020-09-21 14:23:42,838 : INFO : EPOCH 2 - PROGRESS: at 90.00% examples, 335402 words/s, in_qsize 15, out_qsize 0\n",
            "2020-09-21 14:23:43,874 : INFO : EPOCH 2 - PROGRESS: at 94.68% examples, 336931 words/s, in_qsize 16, out_qsize 0\n",
            "2020-09-21 14:23:44,954 : INFO : EPOCH 2 - PROGRESS: at 98.90% examples, 336253 words/s, in_qsize 11, out_qsize 0\n",
            "2020-09-21 14:23:45,000 : INFO : worker thread finished; awaiting finish of 7 more threads\n",
            "2020-09-21 14:23:45,007 : INFO : worker thread finished; awaiting finish of 6 more threads\n",
            "2020-09-21 14:23:45,028 : INFO : worker thread finished; awaiting finish of 5 more threads\n",
            "2020-09-21 14:23:45,037 : INFO : worker thread finished; awaiting finish of 4 more threads\n",
            "2020-09-21 14:23:45,046 : INFO : worker thread finished; awaiting finish of 3 more threads\n",
            "2020-09-21 14:23:45,068 : INFO : worker thread finished; awaiting finish of 2 more threads\n",
            "2020-09-21 14:23:45,091 : INFO : worker thread finished; awaiting finish of 1 more threads\n",
            "2020-09-21 14:23:45,094 : INFO : worker thread finished; awaiting finish of 0 more threads\n",
            "2020-09-21 14:23:45,096 : INFO : EPOCH - 2 : training on 9227204 raw words (8222691 effective words) took 24.3s, 337996 effective words/s\n",
            "2020-09-21 14:23:46,192 : INFO : EPOCH 3 - PROGRESS: at 4.02% examples, 304074 words/s, in_qsize 15, out_qsize 0\n",
            "2020-09-21 14:23:47,204 : INFO : EPOCH 3 - PROGRESS: at 8.36% examples, 327343 words/s, in_qsize 15, out_qsize 0\n",
            "2020-09-21 14:23:48,206 : INFO : EPOCH 3 - PROGRESS: at 12.60% examples, 333580 words/s, in_qsize 15, out_qsize 0\n",
            "2020-09-21 14:23:49,386 : INFO : EPOCH 3 - PROGRESS: at 16.92% examples, 324830 words/s, in_qsize 15, out_qsize 4\n",
            "2020-09-21 14:23:50,434 : INFO : EPOCH 3 - PROGRESS: at 21.46% examples, 331144 words/s, in_qsize 14, out_qsize 1\n",
            "2020-09-21 14:23:51,449 : INFO : EPOCH 3 - PROGRESS: at 25.80% examples, 334382 words/s, in_qsize 15, out_qsize 0\n",
            "2020-09-21 14:23:52,561 : INFO : EPOCH 3 - PROGRESS: at 30.13% examples, 332279 words/s, in_qsize 14, out_qsize 2\n",
            "2020-09-21 14:23:53,632 : INFO : EPOCH 3 - PROGRESS: at 34.68% examples, 335396 words/s, in_qsize 15, out_qsize 1\n",
            "2020-09-21 14:23:54,634 : INFO : EPOCH 3 - PROGRESS: at 39.00% examples, 336623 words/s, in_qsize 15, out_qsize 0\n",
            "2020-09-21 14:23:55,666 : INFO : EPOCH 3 - PROGRESS: at 42.89% examples, 334078 words/s, in_qsize 15, out_qsize 0\n",
            "2020-09-21 14:23:56,667 : INFO : EPOCH 3 - PROGRESS: at 47.22% examples, 335963 words/s, in_qsize 15, out_qsize 0\n",
            "2020-09-21 14:23:57,781 : INFO : EPOCH 3 - PROGRESS: at 51.32% examples, 333200 words/s, in_qsize 10, out_qsize 5\n",
            "2020-09-21 14:23:58,785 : INFO : EPOCH 3 - PROGRESS: at 55.86% examples, 336131 words/s, in_qsize 14, out_qsize 0\n",
            "2020-09-21 14:23:59,883 : INFO : EPOCH 3 - PROGRESS: at 60.41% examples, 336494 words/s, in_qsize 15, out_qsize 0\n",
            "2020-09-21 14:24:00,904 : INFO : EPOCH 3 - PROGRESS: at 64.62% examples, 336725 words/s, in_qsize 15, out_qsize 0\n",
            "2020-09-21 14:24:01,927 : INFO : EPOCH 3 - PROGRESS: at 68.85% examples, 336906 words/s, in_qsize 15, out_qsize 0\n",
            "2020-09-21 14:24:03,020 : INFO : EPOCH 3 - PROGRESS: at 73.08% examples, 336324 words/s, in_qsize 16, out_qsize 4\n",
            "2020-09-21 14:24:04,056 : INFO : EPOCH 3 - PROGRESS: at 77.53% examples, 336645 words/s, in_qsize 14, out_qsize 3\n",
            "2020-09-21 14:24:05,060 : INFO : EPOCH 3 - PROGRESS: at 82.21% examples, 338911 words/s, in_qsize 15, out_qsize 0\n",
            "2020-09-21 14:24:06,089 : INFO : EPOCH 3 - PROGRESS: at 86.53% examples, 339272 words/s, in_qsize 15, out_qsize 0\n",
            "2020-09-21 14:24:07,153 : INFO : EPOCH 3 - PROGRESS: at 90.65% examples, 338243 words/s, in_qsize 16, out_qsize 0\n",
            "2020-09-21 14:24:08,263 : INFO : EPOCH 3 - PROGRESS: at 94.90% examples, 337448 words/s, in_qsize 15, out_qsize 1\n",
            "2020-09-21 14:24:09,188 : INFO : worker thread finished; awaiting finish of 7 more threads\n",
            "2020-09-21 14:24:09,229 : INFO : worker thread finished; awaiting finish of 6 more threads\n",
            "2020-09-21 14:24:09,270 : INFO : EPOCH 3 - PROGRESS: at 99.45% examples, 338499 words/s, in_qsize 5, out_qsize 1\n",
            "2020-09-21 14:24:09,275 : INFO : worker thread finished; awaiting finish of 5 more threads\n",
            "2020-09-21 14:24:09,294 : INFO : worker thread finished; awaiting finish of 4 more threads\n",
            "2020-09-21 14:24:09,314 : INFO : worker thread finished; awaiting finish of 3 more threads\n",
            "2020-09-21 14:24:09,319 : INFO : worker thread finished; awaiting finish of 2 more threads\n",
            "2020-09-21 14:24:09,320 : INFO : worker thread finished; awaiting finish of 1 more threads\n",
            "2020-09-21 14:24:09,322 : INFO : worker thread finished; awaiting finish of 0 more threads\n",
            "2020-09-21 14:24:09,323 : INFO : EPOCH - 3 : training on 9227204 raw words (8223306 effective words) took 24.2s, 339594 effective words/s\n",
            "2020-09-21 14:24:10,373 : INFO : EPOCH 4 - PROGRESS: at 3.58% examples, 283783 words/s, in_qsize 13, out_qsize 2\n",
            "2020-09-21 14:24:11,464 : INFO : EPOCH 4 - PROGRESS: at 8.15% examples, 313925 words/s, in_qsize 15, out_qsize 0\n",
            "2020-09-21 14:24:12,482 : INFO : EPOCH 4 - PROGRESS: at 12.39% examples, 322803 words/s, in_qsize 16, out_qsize 0\n",
            "2020-09-21 14:24:13,518 : INFO : EPOCH 4 - PROGRESS: at 16.59% examples, 325849 words/s, in_qsize 15, out_qsize 0\n",
            "2020-09-21 14:24:14,549 : INFO : EPOCH 4 - PROGRESS: at 21.35% examples, 336657 words/s, in_qsize 16, out_qsize 0\n",
            "2020-09-21 14:24:15,556 : INFO : EPOCH 4 - PROGRESS: at 25.15% examples, 332281 words/s, in_qsize 15, out_qsize 0\n",
            "2020-09-21 14:24:16,600 : INFO : EPOCH 4 - PROGRESS: at 29.48% examples, 333584 words/s, in_qsize 15, out_qsize 0\n",
            "2020-09-21 14:24:17,627 : INFO : EPOCH 4 - PROGRESS: at 33.59% examples, 333129 words/s, in_qsize 15, out_qsize 0\n",
            "2020-09-21 14:24:18,631 : INFO : EPOCH 4 - PROGRESS: at 38.03% examples, 336411 words/s, in_qsize 15, out_qsize 0\n",
            "2020-09-21 14:24:19,727 : INFO : EPOCH 4 - PROGRESS: at 42.24% examples, 334976 words/s, in_qsize 15, out_qsize 1\n",
            "2020-09-21 14:24:20,719 : INFO : EPOCH 4 - PROGRESS: at 46.24% examples, 334190 words/s, in_qsize 11, out_qsize 4\n",
            "2020-09-21 14:24:21,736 : INFO : EPOCH 4 - PROGRESS: at 50.56% examples, 335547 words/s, in_qsize 15, out_qsize 0\n",
            "2020-09-21 14:24:22,826 : INFO : EPOCH 4 - PROGRESS: at 54.99% examples, 335533 words/s, in_qsize 15, out_qsize 1\n",
            "2020-09-21 14:24:23,855 : INFO : EPOCH 4 - PROGRESS: at 59.34% examples, 336287 words/s, in_qsize 15, out_qsize 0\n",
            "2020-09-21 14:24:24,907 : INFO : EPOCH 4 - PROGRESS: at 63.75% examples, 337014 words/s, in_qsize 14, out_qsize 1\n",
            "2020-09-21 14:24:25,990 : INFO : EPOCH 4 - PROGRESS: at 68.32% examples, 337564 words/s, in_qsize 15, out_qsize 0\n",
            "2020-09-21 14:24:27,086 : INFO : EPOCH 4 - PROGRESS: at 72.53% examples, 336283 words/s, in_qsize 16, out_qsize 3\n",
            "2020-09-21 14:24:28,140 : INFO : EPOCH 4 - PROGRESS: at 76.88% examples, 336375 words/s, in_qsize 14, out_qsize 1\n",
            "2020-09-21 14:24:29,162 : INFO : EPOCH 4 - PROGRESS: at 81.34% examples, 337467 words/s, in_qsize 16, out_qsize 0\n",
            "2020-09-21 14:24:30,181 : INFO : EPOCH 4 - PROGRESS: at 85.55% examples, 337622 words/s, in_qsize 15, out_qsize 0\n",
            "2020-09-21 14:24:31,225 : INFO : EPOCH 4 - PROGRESS: at 89.67% examples, 336974 words/s, in_qsize 14, out_qsize 1\n",
            "2020-09-21 14:24:32,330 : INFO : EPOCH 4 - PROGRESS: at 94.25% examples, 337032 words/s, in_qsize 15, out_qsize 0\n",
            "2020-09-21 14:24:33,398 : INFO : EPOCH 4 - PROGRESS: at 98.58% examples, 337097 words/s, in_qsize 13, out_qsize 2\n",
            "2020-09-21 14:24:33,484 : INFO : worker thread finished; awaiting finish of 7 more threads\n",
            "2020-09-21 14:24:33,525 : INFO : worker thread finished; awaiting finish of 6 more threads\n",
            "2020-09-21 14:24:33,531 : INFO : worker thread finished; awaiting finish of 5 more threads\n",
            "2020-09-21 14:24:33,532 : INFO : worker thread finished; awaiting finish of 4 more threads\n",
            "2020-09-21 14:24:33,535 : INFO : worker thread finished; awaiting finish of 3 more threads\n",
            "2020-09-21 14:24:33,557 : INFO : worker thread finished; awaiting finish of 2 more threads\n",
            "2020-09-21 14:24:33,590 : INFO : worker thread finished; awaiting finish of 1 more threads\n",
            "2020-09-21 14:24:33,593 : INFO : worker thread finished; awaiting finish of 0 more threads\n",
            "2020-09-21 14:24:33,595 : INFO : EPOCH - 4 : training on 9227204 raw words (8222743 effective words) took 24.3s, 338968 effective words/s\n",
            "2020-09-21 14:24:34,621 : INFO : EPOCH 5 - PROGRESS: at 3.47% examples, 281121 words/s, in_qsize 15, out_qsize 0\n",
            "2020-09-21 14:24:35,663 : INFO : EPOCH 5 - PROGRESS: at 7.71% examples, 307589 words/s, in_qsize 11, out_qsize 4\n",
            "2020-09-21 14:24:36,682 : INFO : EPOCH 5 - PROGRESS: at 12.17% examples, 324475 words/s, in_qsize 15, out_qsize 0\n",
            "2020-09-21 14:24:37,830 : INFO : EPOCH 5 - PROGRESS: at 16.70% examples, 324745 words/s, in_qsize 15, out_qsize 0\n",
            "2020-09-21 14:24:38,896 : INFO : EPOCH 5 - PROGRESS: at 21.25% examples, 330047 words/s, in_qsize 16, out_qsize 0\n",
            "2020-09-21 14:24:39,897 : INFO : EPOCH 5 - PROGRESS: at 25.48% examples, 332807 words/s, in_qsize 15, out_qsize 0\n",
            "2020-09-21 14:24:40,927 : INFO : EPOCH 5 - PROGRESS: at 29.70% examples, 333491 words/s, in_qsize 15, out_qsize 0\n",
            "2020-09-21 14:24:41,956 : INFO : EPOCH 5 - PROGRESS: at 34.13% examples, 336149 words/s, in_qsize 16, out_qsize 0\n",
            "2020-09-21 14:24:42,962 : INFO : EPOCH 5 - PROGRESS: at 37.81% examples, 332358 words/s, in_qsize 16, out_qsize 1\n",
            "2020-09-21 14:24:43,978 : INFO : EPOCH 5 - PROGRESS: at 42.13% examples, 334135 words/s, in_qsize 16, out_qsize 1\n",
            "2020-09-21 14:24:45,066 : INFO : EPOCH 5 - PROGRESS: at 46.67% examples, 335064 words/s, in_qsize 15, out_qsize 0\n",
            "2020-09-21 14:24:46,146 : INFO : EPOCH 5 - PROGRESS: at 51.21% examples, 336855 words/s, in_qsize 16, out_qsize 1\n",
            "2020-09-21 14:24:47,143 : INFO : EPOCH 5 - PROGRESS: at 55.21% examples, 335681 words/s, in_qsize 16, out_qsize 1\n",
            "2020-09-21 14:24:48,173 : INFO : EPOCH 5 - PROGRESS: at 59.55% examples, 336405 words/s, in_qsize 14, out_qsize 1\n",
            "2020-09-21 14:24:49,179 : INFO : EPOCH 5 - PROGRESS: at 63.97% examples, 338127 words/s, in_qsize 15, out_qsize 0\n",
            "2020-09-21 14:24:50,182 : INFO : EPOCH 5 - PROGRESS: at 68.21% examples, 338615 words/s, in_qsize 15, out_qsize 1\n",
            "2020-09-21 14:24:51,192 : INFO : EPOCH 5 - PROGRESS: at 71.89% examples, 336396 words/s, in_qsize 12, out_qsize 3\n",
            "2020-09-21 14:24:52,212 : INFO : EPOCH 5 - PROGRESS: at 76.33% examples, 337553 words/s, in_qsize 14, out_qsize 1\n",
            "2020-09-21 14:24:53,253 : INFO : EPOCH 5 - PROGRESS: at 80.90% examples, 338722 words/s, in_qsize 14, out_qsize 0\n",
            "2020-09-21 14:24:54,276 : INFO : EPOCH 5 - PROGRESS: at 84.80% examples, 337467 words/s, in_qsize 14, out_qsize 1\n",
            "2020-09-21 14:24:55,281 : INFO : EPOCH 5 - PROGRESS: at 88.80% examples, 337015 words/s, in_qsize 15, out_qsize 0\n",
            "2020-09-21 14:24:56,462 : INFO : EPOCH 5 - PROGRESS: at 93.37% examples, 335942 words/s, in_qsize 13, out_qsize 5\n",
            "2020-09-21 14:24:57,480 : INFO : EPOCH 5 - PROGRESS: at 98.04% examples, 337666 words/s, in_qsize 15, out_qsize 0\n",
            "2020-09-21 14:24:57,726 : INFO : worker thread finished; awaiting finish of 7 more threads\n",
            "2020-09-21 14:24:57,767 : INFO : worker thread finished; awaiting finish of 6 more threads\n",
            "2020-09-21 14:24:57,781 : INFO : worker thread finished; awaiting finish of 5 more threads\n",
            "2020-09-21 14:24:57,802 : INFO : worker thread finished; awaiting finish of 4 more threads\n",
            "2020-09-21 14:24:57,809 : INFO : worker thread finished; awaiting finish of 3 more threads\n",
            "2020-09-21 14:24:57,819 : INFO : worker thread finished; awaiting finish of 2 more threads\n",
            "2020-09-21 14:24:57,835 : INFO : worker thread finished; awaiting finish of 1 more threads\n",
            "2020-09-21 14:24:57,837 : INFO : worker thread finished; awaiting finish of 0 more threads\n",
            "2020-09-21 14:24:57,837 : INFO : EPOCH - 5 : training on 9227204 raw words (8222705 effective words) took 24.2s, 339349 effective words/s\n",
            "2020-09-21 14:24:58,862 : INFO : EPOCH 6 - PROGRESS: at 3.36% examples, 273641 words/s, in_qsize 16, out_qsize 3\n",
            "2020-09-21 14:24:59,882 : INFO : EPOCH 6 - PROGRESS: at 7.60% examples, 307262 words/s, in_qsize 15, out_qsize 0\n",
            "2020-09-21 14:25:00,919 : INFO : EPOCH 6 - PROGRESS: at 11.84% examples, 320517 words/s, in_qsize 14, out_qsize 2\n",
            "2020-09-21 14:25:01,884 : INFO : EPOCH 6 - PROGRESS: at 15.84% examples, 322563 words/s, in_qsize 14, out_qsize 1\n",
            "2020-09-21 14:25:02,914 : INFO : EPOCH 6 - PROGRESS: at 20.16% examples, 328040 words/s, in_qsize 16, out_qsize 1\n",
            "2020-09-21 14:25:03,911 : INFO : EPOCH 6 - PROGRESS: at 24.07% examples, 326487 words/s, in_qsize 16, out_qsize 1\n",
            "2020-09-21 14:25:04,944 : INFO : EPOCH 6 - PROGRESS: at 28.61% examples, 331680 words/s, in_qsize 15, out_qsize 0\n",
            "2020-09-21 14:25:06,008 : INFO : EPOCH 6 - PROGRESS: at 32.95% examples, 332094 words/s, in_qsize 16, out_qsize 0\n",
            "2020-09-21 14:25:07,044 : INFO : EPOCH 6 - PROGRESS: at 37.37% examples, 334396 words/s, in_qsize 15, out_qsize 0\n",
            "2020-09-21 14:25:08,058 : INFO : EPOCH 6 - PROGRESS: at 41.37% examples, 333433 words/s, in_qsize 12, out_qsize 3\n",
            "2020-09-21 14:25:09,078 : INFO : EPOCH 6 - PROGRESS: at 45.92% examples, 336461 words/s, in_qsize 13, out_qsize 1\n",
            "2020-09-21 14:25:10,097 : INFO : EPOCH 6 - PROGRESS: at 49.81% examples, 334680 words/s, in_qsize 13, out_qsize 2\n",
            "2020-09-21 14:25:11,118 : INFO : EPOCH 6 - PROGRESS: at 54.03% examples, 335093 words/s, in_qsize 14, out_qsize 1\n",
            "2020-09-21 14:25:12,132 : INFO : EPOCH 6 - PROGRESS: at 58.58% examples, 337539 words/s, in_qsize 16, out_qsize 1\n",
            "2020-09-21 14:25:13,132 : INFO : EPOCH 6 - PROGRESS: at 62.79% examples, 338184 words/s, in_qsize 14, out_qsize 1\n",
            "2020-09-21 14:25:14,148 : INFO : EPOCH 6 - PROGRESS: at 66.69% examples, 336757 words/s, in_qsize 16, out_qsize 4\n",
            "2020-09-21 14:25:15,197 : INFO : EPOCH 6 - PROGRESS: at 71.24% examples, 337963 words/s, in_qsize 15, out_qsize 1\n",
            "2020-09-21 14:25:16,272 : INFO : EPOCH 6 - PROGRESS: at 75.35% examples, 337367 words/s, in_qsize 16, out_qsize 4\n",
            "2020-09-21 14:25:17,271 : INFO : EPOCH 6 - PROGRESS: at 79.92% examples, 339115 words/s, in_qsize 15, out_qsize 0\n",
            "2020-09-21 14:25:18,251 : INFO : EPOCH 6 - PROGRESS: at 83.94% examples, 338460 words/s, in_qsize 15, out_qsize 0\n",
            "2020-09-21 14:25:19,270 : INFO : EPOCH 6 - PROGRESS: at 88.26% examples, 338980 words/s, in_qsize 15, out_qsize 1\n",
            "2020-09-21 14:25:20,310 : INFO : EPOCH 6 - PROGRESS: at 92.61% examples, 339129 words/s, in_qsize 14, out_qsize 1\n",
            "2020-09-21 14:25:21,350 : INFO : EPOCH 6 - PROGRESS: at 96.96% examples, 339273 words/s, in_qsize 15, out_qsize 0\n",
            "2020-09-21 14:25:21,873 : INFO : worker thread finished; awaiting finish of 7 more threads\n",
            "2020-09-21 14:25:21,877 : INFO : worker thread finished; awaiting finish of 6 more threads\n",
            "2020-09-21 14:25:21,878 : INFO : worker thread finished; awaiting finish of 5 more threads\n",
            "2020-09-21 14:25:21,885 : INFO : worker thread finished; awaiting finish of 4 more threads\n",
            "2020-09-21 14:25:21,889 : INFO : worker thread finished; awaiting finish of 3 more threads\n",
            "2020-09-21 14:25:21,911 : INFO : worker thread finished; awaiting finish of 2 more threads\n",
            "2020-09-21 14:25:21,928 : INFO : worker thread finished; awaiting finish of 1 more threads\n",
            "2020-09-21 14:25:21,938 : INFO : worker thread finished; awaiting finish of 0 more threads\n",
            "2020-09-21 14:25:21,939 : INFO : EPOCH - 6 : training on 9227204 raw words (8222372 effective words) took 24.1s, 341360 effective words/s\n",
            "2020-09-21 14:25:23,005 : INFO : EPOCH 7 - PROGRESS: at 3.69% examples, 287587 words/s, in_qsize 13, out_qsize 2\n",
            "2020-09-21 14:25:24,021 : INFO : EPOCH 7 - PROGRESS: at 7.93% examples, 314221 words/s, in_qsize 15, out_qsize 0\n",
            "2020-09-21 14:25:25,027 : INFO : EPOCH 7 - PROGRESS: at 12.06% examples, 321579 words/s, in_qsize 12, out_qsize 3\n",
            "2020-09-21 14:25:26,072 : INFO : EPOCH 7 - PROGRESS: at 16.59% examples, 330803 words/s, in_qsize 15, out_qsize 0\n",
            "2020-09-21 14:25:27,101 : INFO : EPOCH 7 - PROGRESS: at 21.14% examples, 337371 words/s, in_qsize 15, out_qsize 0\n",
            "2020-09-21 14:25:28,107 : INFO : EPOCH 7 - PROGRESS: at 24.72% examples, 330024 words/s, in_qsize 12, out_qsize 3\n",
            "2020-09-21 14:25:29,108 : INFO : EPOCH 7 - PROGRESS: at 28.94% examples, 332391 words/s, in_qsize 15, out_qsize 0\n",
            "2020-09-21 14:25:30,179 : INFO : EPOCH 7 - PROGRESS: at 33.05% examples, 330255 words/s, in_qsize 14, out_qsize 1\n",
            "2020-09-21 14:25:31,227 : INFO : EPOCH 7 - PROGRESS: at 37.70% examples, 334219 words/s, in_qsize 15, out_qsize 0\n",
            "2020-09-21 14:25:32,266 : INFO : EPOCH 7 - PROGRESS: at 41.48% examples, 330772 words/s, in_qsize 16, out_qsize 1\n",
            "2020-09-21 14:25:33,307 : INFO : EPOCH 7 - PROGRESS: at 45.59% examples, 330266 words/s, in_qsize 14, out_qsize 1\n",
            "2020-09-21 14:25:34,355 : INFO : EPOCH 7 - PROGRESS: at 49.92% examples, 331105 words/s, in_qsize 14, out_qsize 1\n",
            "2020-09-21 14:25:35,415 : INFO : EPOCH 7 - PROGRESS: at 54.67% examples, 334155 words/s, in_qsize 16, out_qsize 0\n",
            "2020-09-21 14:25:36,502 : INFO : EPOCH 7 - PROGRESS: at 58.68% examples, 331857 words/s, in_qsize 10, out_qsize 5\n",
            "2020-09-21 14:25:37,519 : INFO : EPOCH 7 - PROGRESS: at 63.43% examples, 335373 words/s, in_qsize 16, out_qsize 0\n",
            "2020-09-21 14:25:38,589 : INFO : EPOCH 7 - PROGRESS: at 67.45% examples, 333588 words/s, in_qsize 15, out_qsize 0\n",
            "2020-09-21 14:25:39,589 : INFO : EPOCH 7 - PROGRESS: at 71.67% examples, 334364 words/s, in_qsize 15, out_qsize 0\n",
            "2020-09-21 14:25:40,652 : INFO : EPOCH 7 - PROGRESS: at 76.00% examples, 334409 words/s, in_qsize 14, out_qsize 1\n",
            "2020-09-21 14:25:41,653 : INFO : EPOCH 7 - PROGRESS: at 80.46% examples, 335949 words/s, in_qsize 16, out_qsize 0\n",
            "2020-09-21 14:25:42,671 : INFO : EPOCH 7 - PROGRESS: at 84.48% examples, 335360 words/s, in_qsize 15, out_qsize 0\n",
            "2020-09-21 14:25:43,692 : INFO : EPOCH 7 - PROGRESS: at 88.59% examples, 335167 words/s, in_qsize 15, out_qsize 1\n",
            "2020-09-21 14:25:44,769 : INFO : EPOCH 7 - PROGRESS: at 93.26% examples, 336111 words/s, in_qsize 15, out_qsize 0\n",
            "2020-09-21 14:25:45,769 : INFO : EPOCH 7 - PROGRESS: at 97.50% examples, 336575 words/s, in_qsize 15, out_qsize 0\n",
            "2020-09-21 14:25:46,115 : INFO : worker thread finished; awaiting finish of 7 more threads\n",
            "2020-09-21 14:25:46,157 : INFO : worker thread finished; awaiting finish of 6 more threads\n",
            "2020-09-21 14:25:46,184 : INFO : worker thread finished; awaiting finish of 5 more threads\n",
            "2020-09-21 14:25:46,215 : INFO : worker thread finished; awaiting finish of 4 more threads\n",
            "2020-09-21 14:25:46,224 : INFO : worker thread finished; awaiting finish of 3 more threads\n",
            "2020-09-21 14:25:46,242 : INFO : worker thread finished; awaiting finish of 2 more threads\n",
            "2020-09-21 14:25:46,248 : INFO : worker thread finished; awaiting finish of 1 more threads\n",
            "2020-09-21 14:25:46,253 : INFO : worker thread finished; awaiting finish of 0 more threads\n",
            "2020-09-21 14:25:46,254 : INFO : EPOCH - 7 : training on 9227204 raw words (8222226 effective words) took 24.3s, 338334 effective words/s\n",
            "2020-09-21 14:25:47,322 : INFO : EPOCH 8 - PROGRESS: at 3.58% examples, 278287 words/s, in_qsize 12, out_qsize 4\n",
            "2020-09-21 14:25:48,348 : INFO : EPOCH 8 - PROGRESS: at 7.93% examples, 312295 words/s, in_qsize 14, out_qsize 1\n",
            "2020-09-21 14:25:49,377 : INFO : EPOCH 8 - PROGRESS: at 12.28% examples, 323602 words/s, in_qsize 15, out_qsize 0\n",
            "2020-09-21 14:25:50,455 : INFO : EPOCH 8 - PROGRESS: at 16.70% examples, 327416 words/s, in_qsize 15, out_qsize 0\n",
            "2020-09-21 14:25:51,463 : INFO : EPOCH 8 - PROGRESS: at 21.03% examples, 332430 words/s, in_qsize 15, out_qsize 0\n",
            "2020-09-21 14:25:52,494 : INFO : EPOCH 8 - PROGRESS: at 24.94% examples, 328955 words/s, in_qsize 16, out_qsize 4\n",
            "2020-09-21 14:25:53,514 : INFO : EPOCH 8 - PROGRESS: at 29.59% examples, 335504 words/s, in_qsize 15, out_qsize 0\n",
            "2020-09-21 14:25:54,555 : INFO : EPOCH 8 - PROGRESS: at 33.92% examples, 336384 words/s, in_qsize 15, out_qsize 2\n",
            "2020-09-21 14:25:55,606 : INFO : EPOCH 8 - PROGRESS: at 37.92% examples, 333787 words/s, in_qsize 14, out_qsize 4\n",
            "2020-09-21 14:25:56,630 : INFO : EPOCH 8 - PROGRESS: at 42.46% examples, 336889 words/s, in_qsize 16, out_qsize 0\n",
            "2020-09-21 14:25:57,657 : INFO : EPOCH 8 - PROGRESS: at 46.99% examples, 339390 words/s, in_qsize 15, out_qsize 0\n",
            "2020-09-21 14:25:58,667 : INFO : EPOCH 8 - PROGRESS: at 51.10% examples, 339064 words/s, in_qsize 16, out_qsize 0\n",
            "2020-09-21 14:25:59,819 : INFO : EPOCH 8 - PROGRESS: at 55.43% examples, 336824 words/s, in_qsize 15, out_qsize 2\n",
            "2020-09-21 14:26:00,825 : INFO : EPOCH 8 - PROGRESS: at 59.65% examples, 337184 words/s, in_qsize 10, out_qsize 5\n",
            "2020-09-21 14:26:01,913 : INFO : EPOCH 8 - PROGRESS: at 63.97% examples, 337411 words/s, in_qsize 16, out_qsize 5\n",
            "2020-09-21 14:26:02,891 : INFO : EPOCH 8 - PROGRESS: at 68.53% examples, 339223 words/s, in_qsize 15, out_qsize 0\n",
            "2020-09-21 14:26:03,927 : INFO : EPOCH 8 - PROGRESS: at 72.75% examples, 338966 words/s, in_qsize 15, out_qsize 1\n",
            "2020-09-21 14:26:04,937 : INFO : EPOCH 8 - PROGRESS: at 77.09% examples, 339709 words/s, in_qsize 15, out_qsize 0\n",
            "2020-09-21 14:26:05,956 : INFO : EPOCH 8 - PROGRESS: at 81.23% examples, 339315 words/s, in_qsize 13, out_qsize 2\n",
            "2020-09-21 14:26:06,968 : INFO : EPOCH 8 - PROGRESS: at 85.55% examples, 339941 words/s, in_qsize 15, out_qsize 0\n",
            "2020-09-21 14:26:07,968 : INFO : EPOCH 8 - PROGRESS: at 89.78% examples, 340275 words/s, in_qsize 14, out_qsize 5\n",
            "2020-09-21 14:26:08,994 : INFO : EPOCH 8 - PROGRESS: at 94.36% examples, 341371 words/s, in_qsize 15, out_qsize 0\n",
            "2020-09-21 14:26:10,030 : INFO : EPOCH 8 - PROGRESS: at 98.25% examples, 340129 words/s, in_qsize 15, out_qsize 5\n",
            "2020-09-21 14:26:10,215 : INFO : worker thread finished; awaiting finish of 7 more threads\n",
            "2020-09-21 14:26:10,220 : INFO : worker thread finished; awaiting finish of 6 more threads\n",
            "2020-09-21 14:26:10,226 : INFO : worker thread finished; awaiting finish of 5 more threads\n",
            "2020-09-21 14:26:10,228 : INFO : worker thread finished; awaiting finish of 4 more threads\n",
            "2020-09-21 14:26:10,233 : INFO : worker thread finished; awaiting finish of 3 more threads\n",
            "2020-09-21 14:26:10,237 : INFO : worker thread finished; awaiting finish of 2 more threads\n",
            "2020-09-21 14:26:10,251 : INFO : worker thread finished; awaiting finish of 1 more threads\n",
            "2020-09-21 14:26:10,267 : INFO : worker thread finished; awaiting finish of 0 more threads\n",
            "2020-09-21 14:26:10,268 : INFO : EPOCH - 8 : training on 9227204 raw words (8222630 effective words) took 24.0s, 342585 effective words/s\n",
            "2020-09-21 14:26:11,364 : INFO : EPOCH 9 - PROGRESS: at 3.80% examples, 287480 words/s, in_qsize 16, out_qsize 3\n",
            "2020-09-21 14:26:12,421 : INFO : EPOCH 9 - PROGRESS: at 8.26% examples, 316247 words/s, in_qsize 15, out_qsize 0\n",
            "2020-09-21 14:26:13,456 : INFO : EPOCH 9 - PROGRESS: at 12.71% examples, 328219 words/s, in_qsize 13, out_qsize 2\n",
            "2020-09-21 14:26:14,563 : INFO : EPOCH 9 - PROGRESS: at 17.24% examples, 332194 words/s, in_qsize 15, out_qsize 1\n",
            "2020-09-21 14:26:15,584 : INFO : EPOCH 9 - PROGRESS: at 21.68% examples, 335824 words/s, in_qsize 15, out_qsize 0\n",
            "2020-09-21 14:26:16,756 : INFO : EPOCH 9 - PROGRESS: at 26.34% examples, 334227 words/s, in_qsize 14, out_qsize 1\n",
            "2020-09-21 14:26:17,777 : INFO : EPOCH 9 - PROGRESS: at 30.67% examples, 336251 words/s, in_qsize 15, out_qsize 0\n",
            "2020-09-21 14:26:18,800 : INFO : EPOCH 9 - PROGRESS: at 35.00% examples, 337680 words/s, in_qsize 15, out_qsize 0\n",
            "2020-09-21 14:26:19,807 : INFO : EPOCH 9 - PROGRESS: at 39.11% examples, 337508 words/s, in_qsize 13, out_qsize 2\n",
            "2020-09-21 14:26:20,812 : INFO : EPOCH 9 - PROGRESS: at 43.43% examples, 339139 words/s, in_qsize 16, out_qsize 0\n",
            "2020-09-21 14:26:21,852 : INFO : EPOCH 9 - PROGRESS: at 47.65% examples, 338673 words/s, in_qsize 16, out_qsize 0\n",
            "2020-09-21 14:26:22,859 : INFO : EPOCH 9 - PROGRESS: at 51.86% examples, 339211 words/s, in_qsize 15, out_qsize 0\n",
            "2020-09-21 14:26:23,943 : INFO : EPOCH 9 - PROGRESS: at 56.29% examples, 339025 words/s, in_qsize 13, out_qsize 2\n",
            "2020-09-21 14:26:25,061 : INFO : EPOCH 9 - PROGRESS: at 61.07% examples, 339893 words/s, in_qsize 15, out_qsize 0\n",
            "2020-09-21 14:26:26,096 : INFO : EPOCH 9 - PROGRESS: at 65.28% examples, 339610 words/s, in_qsize 14, out_qsize 1\n",
            "2020-09-21 14:26:27,104 : INFO : EPOCH 9 - PROGRESS: at 69.72% examples, 340984 words/s, in_qsize 15, out_qsize 0\n",
            "2020-09-21 14:26:28,159 : INFO : EPOCH 9 - PROGRESS: at 74.16% examples, 341267 words/s, in_qsize 15, out_qsize 0\n",
            "2020-09-21 14:26:29,284 : INFO : EPOCH 9 - PROGRESS: at 78.73% examples, 340745 words/s, in_qsize 15, out_qsize 0\n",
            "2020-09-21 14:26:30,304 : INFO : EPOCH 9 - PROGRESS: at 83.07% examples, 341202 words/s, in_qsize 15, out_qsize 0\n",
            "2020-09-21 14:26:31,482 : INFO : EPOCH 9 - PROGRESS: at 87.72% examples, 340301 words/s, in_qsize 14, out_qsize 4\n",
            "2020-09-21 14:26:32,544 : INFO : EPOCH 9 - PROGRESS: at 92.28% examples, 340862 words/s, in_qsize 15, out_qsize 0\n",
            "2020-09-21 14:26:33,632 : INFO : EPOCH 9 - PROGRESS: at 96.75% examples, 340610 words/s, in_qsize 15, out_qsize 3\n",
            "2020-09-21 14:26:34,179 : INFO : worker thread finished; awaiting finish of 7 more threads\n",
            "2020-09-21 14:26:34,180 : INFO : worker thread finished; awaiting finish of 6 more threads\n",
            "2020-09-21 14:26:34,189 : INFO : worker thread finished; awaiting finish of 5 more threads\n",
            "2020-09-21 14:26:34,224 : INFO : worker thread finished; awaiting finish of 4 more threads\n",
            "2020-09-21 14:26:34,231 : INFO : worker thread finished; awaiting finish of 3 more threads\n",
            "2020-09-21 14:26:34,236 : INFO : worker thread finished; awaiting finish of 2 more threads\n",
            "2020-09-21 14:26:34,247 : INFO : worker thread finished; awaiting finish of 1 more threads\n",
            "2020-09-21 14:26:34,257 : INFO : worker thread finished; awaiting finish of 0 more threads\n",
            "2020-09-21 14:26:34,258 : INFO : EPOCH - 9 : training on 9227204 raw words (8222200 effective words) took 24.0s, 342911 effective words/s\n",
            "2020-09-21 14:26:35,317 : INFO : EPOCH 10 - PROGRESS: at 3.69% examples, 289125 words/s, in_qsize 15, out_qsize 0\n",
            "2020-09-21 14:26:36,354 : INFO : EPOCH 10 - PROGRESS: at 7.93% examples, 311894 words/s, in_qsize 16, out_qsize 3\n",
            "2020-09-21 14:26:37,473 : INFO : EPOCH 10 - PROGRESS: at 12.82% examples, 328141 words/s, in_qsize 16, out_qsize 1\n",
            "2020-09-21 14:26:38,512 : INFO : EPOCH 10 - PROGRESS: at 17.13% examples, 331669 words/s, in_qsize 15, out_qsize 0\n",
            "2020-09-21 14:26:39,513 : INFO : EPOCH 10 - PROGRESS: at 21.35% examples, 334607 words/s, in_qsize 14, out_qsize 1\n",
            "2020-09-21 14:26:40,534 : INFO : EPOCH 10 - PROGRESS: at 25.69% examples, 337015 words/s, in_qsize 14, out_qsize 1\n",
            "2020-09-21 14:26:41,585 : INFO : EPOCH 10 - PROGRESS: at 30.02% examples, 337294 words/s, in_qsize 14, out_qsize 1\n",
            "2020-09-21 14:26:42,600 : INFO : EPOCH 10 - PROGRESS: at 34.46% examples, 340004 words/s, in_qsize 15, out_qsize 0\n",
            "2020-09-21 14:26:43,611 : INFO : EPOCH 10 - PROGRESS: at 38.35% examples, 337559 words/s, in_qsize 16, out_qsize 0\n",
            "2020-09-21 14:26:44,676 : INFO : EPOCH 10 - PROGRESS: at 42.68% examples, 337238 words/s, in_qsize 16, out_qsize 0\n",
            "2020-09-21 14:26:45,728 : INFO : EPOCH 10 - PROGRESS: at 47.00% examples, 337371 words/s, in_qsize 15, out_qsize 0\n",
            "2020-09-21 14:26:46,737 : INFO : EPOCH 10 - PROGRESS: at 51.10% examples, 337250 words/s, in_qsize 15, out_qsize 1\n",
            "2020-09-21 14:26:47,747 : INFO : EPOCH 10 - PROGRESS: at 55.32% examples, 337774 words/s, in_qsize 16, out_qsize 1\n",
            "2020-09-21 14:26:48,820 : INFO : EPOCH 10 - PROGRESS: at 59.87% examples, 338599 words/s, in_qsize 15, out_qsize 0\n",
            "2020-09-21 14:26:49,858 : INFO : EPOCH 10 - PROGRESS: at 64.19% examples, 338892 words/s, in_qsize 15, out_qsize 0\n",
            "2020-09-21 14:26:50,901 : INFO : EPOCH 10 - PROGRESS: at 68.64% examples, 339610 words/s, in_qsize 16, out_qsize 1\n",
            "2020-09-21 14:26:51,973 : INFO : EPOCH 10 - PROGRESS: at 72.53% examples, 337149 words/s, in_qsize 15, out_qsize 3\n",
            "2020-09-21 14:26:52,983 : INFO : EPOCH 10 - PROGRESS: at 77.09% examples, 338950 words/s, in_qsize 13, out_qsize 2\n",
            "2020-09-21 14:26:54,016 : INFO : EPOCH 10 - PROGRESS: at 80.90% examples, 337020 words/s, in_qsize 8, out_qsize 7\n",
            "2020-09-21 14:26:55,028 : INFO : EPOCH 10 - PROGRESS: at 85.34% examples, 338190 words/s, in_qsize 15, out_qsize 0\n",
            "2020-09-21 14:26:56,054 : INFO : EPOCH 10 - PROGRESS: at 89.56% examples, 338206 words/s, in_qsize 15, out_qsize 0\n",
            "2020-09-21 14:26:57,065 : INFO : EPOCH 10 - PROGRESS: at 93.92% examples, 338818 words/s, in_qsize 16, out_qsize 0\n",
            "2020-09-21 14:26:58,104 : INFO : EPOCH 10 - PROGRESS: at 98.25% examples, 339004 words/s, in_qsize 15, out_qsize 0\n",
            "2020-09-21 14:26:58,334 : INFO : worker thread finished; awaiting finish of 7 more threads\n",
            "2020-09-21 14:26:58,362 : INFO : worker thread finished; awaiting finish of 6 more threads\n",
            "2020-09-21 14:26:58,379 : INFO : worker thread finished; awaiting finish of 5 more threads\n",
            "2020-09-21 14:26:58,381 : INFO : worker thread finished; awaiting finish of 4 more threads\n",
            "2020-09-21 14:26:58,392 : INFO : worker thread finished; awaiting finish of 3 more threads\n",
            "2020-09-21 14:26:58,395 : INFO : worker thread finished; awaiting finish of 2 more threads\n",
            "2020-09-21 14:26:58,400 : INFO : worker thread finished; awaiting finish of 1 more threads\n",
            "2020-09-21 14:26:58,425 : INFO : worker thread finished; awaiting finish of 0 more threads\n",
            "2020-09-21 14:26:58,426 : INFO : EPOCH - 10 : training on 9227204 raw words (8223472 effective words) took 24.2s, 340422 effective words/s\n",
            "2020-09-21 14:26:59,442 : INFO : EPOCH 11 - PROGRESS: at 3.91% examples, 319490 words/s, in_qsize 14, out_qsize 1\n",
            "2020-09-21 14:27:00,467 : INFO : EPOCH 11 - PROGRESS: at 7.93% examples, 320468 words/s, in_qsize 14, out_qsize 1\n",
            "2020-09-21 14:27:01,482 : INFO : EPOCH 11 - PROGRESS: at 12.28% examples, 330660 words/s, in_qsize 16, out_qsize 0\n",
            "2020-09-21 14:27:02,488 : INFO : EPOCH 11 - PROGRESS: at 16.16% examples, 327704 words/s, in_qsize 15, out_qsize 3\n",
            "2020-09-21 14:27:03,509 : INFO : EPOCH 11 - PROGRESS: at 20.59% examples, 333766 words/s, in_qsize 14, out_qsize 1\n",
            "2020-09-21 14:27:04,587 : INFO : EPOCH 11 - PROGRESS: at 24.72% examples, 330355 words/s, in_qsize 14, out_qsize 6\n",
            "2020-09-21 14:27:05,662 : INFO : EPOCH 11 - PROGRESS: at 29.26% examples, 332943 words/s, in_qsize 14, out_qsize 1\n",
            "2020-09-21 14:27:06,673 : INFO : EPOCH 11 - PROGRESS: at 33.48% examples, 334235 words/s, in_qsize 15, out_qsize 0\n",
            "2020-09-21 14:27:07,735 : INFO : EPOCH 11 - PROGRESS: at 37.81% examples, 334388 words/s, in_qsize 15, out_qsize 0\n",
            "2020-09-21 14:27:08,775 : INFO : EPOCH 11 - PROGRESS: at 42.13% examples, 335188 words/s, in_qsize 13, out_qsize 2\n",
            "2020-09-21 14:27:09,803 : INFO : EPOCH 11 - PROGRESS: at 46.78% examples, 338591 words/s, in_qsize 14, out_qsize 1\n",
            "2020-09-21 14:27:10,878 : INFO : EPOCH 11 - PROGRESS: at 51.10% examples, 337973 words/s, in_qsize 15, out_qsize 0\n",
            "2020-09-21 14:27:11,881 : INFO : EPOCH 11 - PROGRESS: at 55.21% examples, 337954 words/s, in_qsize 16, out_qsize 0\n",
            "2020-09-21 14:27:12,885 : INFO : EPOCH 11 - PROGRESS: at 59.44% examples, 338528 words/s, in_qsize 15, out_qsize 0\n",
            "2020-09-21 14:27:13,918 : INFO : EPOCH 11 - PROGRESS: at 63.87% examples, 339521 words/s, in_qsize 16, out_qsize 0\n",
            "2020-09-21 14:27:14,919 : INFO : EPOCH 11 - PROGRESS: at 68.10% examples, 339980 words/s, in_qsize 15, out_qsize 0\n",
            "2020-09-21 14:27:15,965 : INFO : EPOCH 11 - PROGRESS: at 72.21% examples, 339006 words/s, in_qsize 14, out_qsize 1\n",
            "2020-09-21 14:27:16,985 : INFO : EPOCH 11 - PROGRESS: at 76.11% examples, 337634 words/s, in_qsize 12, out_qsize 3\n",
            "2020-09-21 14:27:18,039 : INFO : EPOCH 11 - PROGRESS: at 80.68% examples, 338564 words/s, in_qsize 12, out_qsize 3\n",
            "2020-09-21 14:27:19,050 : INFO : EPOCH 11 - PROGRESS: at 85.45% examples, 340966 words/s, in_qsize 16, out_qsize 0\n",
            "2020-09-21 14:27:20,072 : INFO : EPOCH 11 - PROGRESS: at 88.91% examples, 338022 words/s, in_qsize 15, out_qsize 4\n",
            "2020-09-21 14:27:21,111 : INFO : EPOCH 11 - PROGRESS: at 93.70% examples, 339800 words/s, in_qsize 15, out_qsize 0\n",
            "2020-09-21 14:27:22,193 : INFO : EPOCH 11 - PROGRESS: at 98.25% examples, 340071 words/s, in_qsize 16, out_qsize 0\n",
            "2020-09-21 14:27:22,449 : INFO : worker thread finished; awaiting finish of 7 more threads\n",
            "2020-09-21 14:27:22,454 : INFO : worker thread finished; awaiting finish of 6 more threads\n",
            "2020-09-21 14:27:22,456 : INFO : worker thread finished; awaiting finish of 5 more threads\n",
            "2020-09-21 14:27:22,458 : INFO : worker thread finished; awaiting finish of 4 more threads\n",
            "2020-09-21 14:27:22,464 : INFO : worker thread finished; awaiting finish of 3 more threads\n",
            "2020-09-21 14:27:22,477 : INFO : worker thread finished; awaiting finish of 2 more threads\n",
            "2020-09-21 14:27:22,485 : INFO : worker thread finished; awaiting finish of 1 more threads\n",
            "2020-09-21 14:27:22,493 : INFO : worker thread finished; awaiting finish of 0 more threads\n",
            "2020-09-21 14:27:22,494 : INFO : EPOCH - 11 : training on 9227204 raw words (8222063 effective words) took 24.1s, 341779 effective words/s\n",
            "2020-09-21 14:27:23,530 : INFO : EPOCH 12 - PROGRESS: at 4.02% examples, 321881 words/s, in_qsize 16, out_qsize 0\n",
            "2020-09-21 14:27:24,564 : INFO : EPOCH 12 - PROGRESS: at 7.71% examples, 307237 words/s, in_qsize 16, out_qsize 2\n",
            "2020-09-21 14:27:25,626 : INFO : EPOCH 12 - PROGRESS: at 12.39% examples, 325548 words/s, in_qsize 15, out_qsize 0\n",
            "2020-09-21 14:27:26,656 : INFO : EPOCH 12 - PROGRESS: at 16.81% examples, 332636 words/s, in_qsize 16, out_qsize 0\n",
            "2020-09-21 14:27:27,758 : INFO : EPOCH 12 - PROGRESS: at 21.14% examples, 330738 words/s, in_qsize 11, out_qsize 4\n",
            "2020-09-21 14:27:28,855 : INFO : EPOCH 12 - PROGRESS: at 26.02% examples, 336789 words/s, in_qsize 16, out_qsize 0\n",
            "2020-09-21 14:27:29,858 : INFO : EPOCH 12 - PROGRESS: at 30.13% examples, 336908 words/s, in_qsize 16, out_qsize 0\n",
            "2020-09-21 14:27:30,866 : INFO : EPOCH 12 - PROGRESS: at 34.13% examples, 335700 words/s, in_qsize 12, out_qsize 3\n",
            "2020-09-21 14:27:31,932 : INFO : EPOCH 12 - PROGRESS: at 38.57% examples, 336468 words/s, in_qsize 15, out_qsize 0\n",
            "2020-09-21 14:27:32,940 : INFO : EPOCH 12 - PROGRESS: at 42.78% examples, 337254 words/s, in_qsize 13, out_qsize 2\n",
            "2020-09-21 14:27:33,941 : INFO : EPOCH 12 - PROGRESS: at 47.21% examples, 339669 words/s, in_qsize 15, out_qsize 0\n",
            "2020-09-21 14:27:34,955 : INFO : EPOCH 12 - PROGRESS: at 51.53% examples, 340638 words/s, in_qsize 16, out_qsize 0\n",
            "2020-09-21 14:27:35,994 : INFO : EPOCH 12 - PROGRESS: at 55.64% examples, 339522 words/s, in_qsize 15, out_qsize 2\n",
            "2020-09-21 14:27:37,001 : INFO : EPOCH 12 - PROGRESS: at 59.87% examples, 339891 words/s, in_qsize 14, out_qsize 3\n",
            "2020-09-21 14:27:38,092 : INFO : EPOCH 12 - PROGRESS: at 64.51% examples, 340693 words/s, in_qsize 16, out_qsize 0\n",
            "2020-09-21 14:27:39,107 : INFO : EPOCH 12 - PROGRESS: at 68.75% examples, 340790 words/s, in_qsize 16, out_qsize 0\n",
            "2020-09-21 14:27:40,112 : INFO : EPOCH 12 - PROGRESS: at 72.97% examples, 341051 words/s, in_qsize 16, out_qsize 0\n",
            "2020-09-21 14:27:41,116 : INFO : EPOCH 12 - PROGRESS: at 77.20% examples, 341314 words/s, in_qsize 15, out_qsize 0\n",
            "2020-09-21 14:27:42,160 : INFO : EPOCH 12 - PROGRESS: at 81.12% examples, 339540 words/s, in_qsize 16, out_qsize 5\n",
            "2020-09-21 14:27:43,285 : INFO : EPOCH 12 - PROGRESS: at 85.88% examples, 339981 words/s, in_qsize 15, out_qsize 0\n",
            "2020-09-21 14:27:44,298 : INFO : EPOCH 12 - PROGRESS: at 90.33% examples, 340934 words/s, in_qsize 16, out_qsize 0\n",
            "2020-09-21 14:27:45,369 : INFO : EPOCH 12 - PROGRESS: at 94.36% examples, 339366 words/s, in_qsize 13, out_qsize 6\n",
            "2020-09-21 14:27:46,371 : INFO : EPOCH 12 - PROGRESS: at 98.68% examples, 340055 words/s, in_qsize 9, out_qsize 4\n",
            "2020-09-21 14:27:46,382 : INFO : worker thread finished; awaiting finish of 7 more threads\n",
            "2020-09-21 14:27:46,386 : INFO : worker thread finished; awaiting finish of 6 more threads\n",
            "2020-09-21 14:27:46,407 : INFO : worker thread finished; awaiting finish of 5 more threads\n",
            "2020-09-21 14:27:46,476 : INFO : worker thread finished; awaiting finish of 4 more threads\n",
            "2020-09-21 14:27:46,478 : INFO : worker thread finished; awaiting finish of 3 more threads\n",
            "2020-09-21 14:27:46,500 : INFO : worker thread finished; awaiting finish of 2 more threads\n",
            "2020-09-21 14:27:46,512 : INFO : worker thread finished; awaiting finish of 1 more threads\n",
            "2020-09-21 14:27:46,513 : INFO : worker thread finished; awaiting finish of 0 more threads\n",
            "2020-09-21 14:27:46,515 : INFO : EPOCH - 12 : training on 9227204 raw words (8223523 effective words) took 24.0s, 342510 effective words/s\n",
            "2020-09-21 14:27:47,572 : INFO : EPOCH 13 - PROGRESS: at 3.69% examples, 290059 words/s, in_qsize 15, out_qsize 0\n",
            "2020-09-21 14:27:48,576 : INFO : EPOCH 13 - PROGRESS: at 8.37% examples, 334897 words/s, in_qsize 16, out_qsize 1\n",
            "2020-09-21 14:27:49,580 : INFO : EPOCH 13 - PROGRESS: at 12.39% examples, 332809 words/s, in_qsize 16, out_qsize 3\n",
            "2020-09-21 14:27:50,584 : INFO : EPOCH 13 - PROGRESS: at 16.27% examples, 329349 words/s, in_qsize 15, out_qsize 2\n",
            "2020-09-21 14:27:51,669 : INFO : EPOCH 13 - PROGRESS: at 20.92% examples, 335556 words/s, in_qsize 16, out_qsize 1\n",
            "2020-09-21 14:27:52,724 : INFO : EPOCH 13 - PROGRESS: at 25.48% examples, 337845 words/s, in_qsize 15, out_qsize 0\n",
            "2020-09-21 14:27:53,848 : INFO : EPOCH 13 - PROGRESS: at 29.91% examples, 335907 words/s, in_qsize 15, out_qsize 1\n",
            "2020-09-21 14:27:54,891 : INFO : EPOCH 13 - PROGRESS: at 34.46% examples, 340043 words/s, in_qsize 15, out_qsize 0\n",
            "2020-09-21 14:27:55,861 : INFO : EPOCH 13 - PROGRESS: at 39.00% examples, 343607 words/s, in_qsize 16, out_qsize 0\n",
            "2020-09-21 14:27:56,888 : INFO : EPOCH 13 - PROGRESS: at 42.68% examples, 338780 words/s, in_qsize 16, out_qsize 4\n",
            "2020-09-21 14:27:57,916 : INFO : EPOCH 13 - PROGRESS: at 47.21% examples, 341061 words/s, in_qsize 15, out_qsize 0\n",
            "2020-09-21 14:27:58,943 : INFO : EPOCH 13 - PROGRESS: at 51.10% examples, 338712 words/s, in_qsize 14, out_qsize 1\n",
            "2020-09-21 14:27:59,967 : INFO : EPOCH 13 - PROGRESS: at 55.42% examples, 339423 words/s, in_qsize 16, out_qsize 0\n",
            "2020-09-21 14:28:01,027 : INFO : EPOCH 13 - PROGRESS: at 59.98% examples, 340431 words/s, in_qsize 15, out_qsize 0\n",
            "2020-09-21 14:28:02,034 : INFO : EPOCH 13 - PROGRESS: at 64.19% examples, 340720 words/s, in_qsize 16, out_qsize 0\n",
            "2020-09-21 14:28:03,034 : INFO : EPOCH 13 - PROGRESS: at 68.53% examples, 341648 words/s, in_qsize 16, out_qsize 0\n",
            "2020-09-21 14:28:04,130 : INFO : EPOCH 13 - PROGRESS: at 72.86% examples, 340631 words/s, in_qsize 15, out_qsize 0\n",
            "2020-09-21 14:28:05,165 : INFO : EPOCH 13 - PROGRESS: at 77.20% examples, 340816 words/s, in_qsize 15, out_qsize 0\n",
            "2020-09-21 14:28:06,243 : INFO : EPOCH 13 - PROGRESS: at 81.66% examples, 341033 words/s, in_qsize 15, out_qsize 2\n",
            "2020-09-21 14:28:07,270 : INFO : EPOCH 13 - PROGRESS: at 86.10% examples, 341451 words/s, in_qsize 15, out_qsize 0\n",
            "2020-09-21 14:28:08,289 : INFO : EPOCH 13 - PROGRESS: at 90.11% examples, 340596 words/s, in_qsize 15, out_qsize 0\n",
            "2020-09-21 14:28:09,455 : INFO : EPOCH 13 - PROGRESS: at 94.90% examples, 340354 words/s, in_qsize 14, out_qsize 5\n",
            "2020-09-21 14:28:10,384 : INFO : worker thread finished; awaiting finish of 7 more threads\n",
            "2020-09-21 14:28:10,408 : INFO : worker thread finished; awaiting finish of 6 more threads\n",
            "2020-09-21 14:28:10,413 : INFO : worker thread finished; awaiting finish of 5 more threads\n",
            "2020-09-21 14:28:10,441 : INFO : worker thread finished; awaiting finish of 4 more threads\n",
            "2020-09-21 14:28:10,449 : INFO : worker thread finished; awaiting finish of 3 more threads\n",
            "2020-09-21 14:28:10,461 : INFO : EPOCH 13 - PROGRESS: at 99.78% examples, 342855 words/s, in_qsize 2, out_qsize 1\n",
            "2020-09-21 14:28:10,466 : INFO : worker thread finished; awaiting finish of 2 more threads\n",
            "2020-09-21 14:28:10,480 : INFO : worker thread finished; awaiting finish of 1 more threads\n",
            "2020-09-21 14:28:10,492 : INFO : worker thread finished; awaiting finish of 0 more threads\n",
            "2020-09-21 14:28:10,493 : INFO : EPOCH - 13 : training on 9227204 raw words (8223403 effective words) took 24.0s, 343137 effective words/s\n",
            "2020-09-21 14:28:11,569 : INFO : EPOCH 14 - PROGRESS: at 3.80% examples, 293608 words/s, in_qsize 14, out_qsize 1\n",
            "2020-09-21 14:28:12,590 : INFO : EPOCH 14 - PROGRESS: at 8.15% examples, 320731 words/s, in_qsize 14, out_qsize 1\n",
            "2020-09-21 14:28:13,629 : INFO : EPOCH 14 - PROGRESS: at 12.49% examples, 328266 words/s, in_qsize 15, out_qsize 0\n",
            "2020-09-21 14:28:14,665 : INFO : EPOCH 14 - PROGRESS: at 16.70% examples, 329937 words/s, in_qsize 16, out_qsize 0\n",
            "2020-09-21 14:28:15,674 : INFO : EPOCH 14 - PROGRESS: at 21.03% examples, 334485 words/s, in_qsize 14, out_qsize 1\n",
            "2020-09-21 14:28:16,728 : INFO : EPOCH 14 - PROGRESS: at 25.37% examples, 335155 words/s, in_qsize 16, out_qsize 0\n",
            "2020-09-21 14:28:17,895 : INFO : EPOCH 14 - PROGRESS: at 29.91% examples, 332863 words/s, in_qsize 13, out_qsize 6\n",
            "2020-09-21 14:28:18,899 : INFO : EPOCH 14 - PROGRESS: at 34.57% examples, 338659 words/s, in_qsize 13, out_qsize 1\n",
            "2020-09-21 14:28:20,038 : INFO : EPOCH 14 - PROGRESS: at 38.78% examples, 334646 words/s, in_qsize 12, out_qsize 3\n",
            "2020-09-21 14:28:21,104 : INFO : EPOCH 14 - PROGRESS: at 43.43% examples, 337113 words/s, in_qsize 13, out_qsize 2\n",
            "2020-09-21 14:28:22,122 : INFO : EPOCH 14 - PROGRESS: at 47.65% examples, 337466 words/s, in_qsize 11, out_qsize 3\n",
            "2020-09-21 14:28:23,178 : INFO : EPOCH 14 - PROGRESS: at 51.97% examples, 338583 words/s, in_qsize 15, out_qsize 0\n",
            "2020-09-21 14:28:24,169 : INFO : EPOCH 14 - PROGRESS: at 56.08% examples, 337812 words/s, in_qsize 16, out_qsize 2\n",
            "2020-09-21 14:28:25,175 : INFO : EPOCH 14 - PROGRESS: at 60.52% examples, 339549 words/s, in_qsize 15, out_qsize 0\n",
            "2020-09-21 14:28:26,197 : INFO : EPOCH 14 - PROGRESS: at 64.62% examples, 339008 words/s, in_qsize 14, out_qsize 1\n",
            "2020-09-21 14:28:27,228 : INFO : EPOCH 14 - PROGRESS: at 68.86% examples, 338892 words/s, in_qsize 15, out_qsize 1\n",
            "2020-09-21 14:28:28,286 : INFO : EPOCH 14 - PROGRESS: at 73.30% examples, 339247 words/s, in_qsize 15, out_qsize 0\n",
            "2020-09-21 14:28:29,381 : INFO : EPOCH 14 - PROGRESS: at 77.63% examples, 338431 words/s, in_qsize 15, out_qsize 0\n",
            "2020-09-21 14:28:30,454 : INFO : EPOCH 14 - PROGRESS: at 81.99% examples, 338442 words/s, in_qsize 15, out_qsize 3\n",
            "2020-09-21 14:28:31,462 : INFO : EPOCH 14 - PROGRESS: at 86.42% examples, 339239 words/s, in_qsize 15, out_qsize 0\n",
            "2020-09-21 14:28:32,496 : INFO : EPOCH 14 - PROGRESS: at 90.65% examples, 339087 words/s, in_qsize 15, out_qsize 0\n",
            "2020-09-21 14:28:33,528 : INFO : EPOCH 14 - PROGRESS: at 94.91% examples, 338952 words/s, in_qsize 15, out_qsize 0\n",
            "2020-09-21 14:28:34,568 : INFO : EPOCH 14 - PROGRESS: at 99.01% examples, 338380 words/s, in_qsize 10, out_qsize 0\n",
            "2020-09-21 14:28:34,589 : INFO : worker thread finished; awaiting finish of 7 more threads\n",
            "2020-09-21 14:28:34,594 : INFO : worker thread finished; awaiting finish of 6 more threads\n",
            "2020-09-21 14:28:34,604 : INFO : worker thread finished; awaiting finish of 5 more threads\n",
            "2020-09-21 14:28:34,605 : INFO : worker thread finished; awaiting finish of 4 more threads\n",
            "2020-09-21 14:28:34,606 : INFO : worker thread finished; awaiting finish of 3 more threads\n",
            "2020-09-21 14:28:34,614 : INFO : worker thread finished; awaiting finish of 2 more threads\n",
            "2020-09-21 14:28:34,646 : INFO : worker thread finished; awaiting finish of 1 more threads\n",
            "2020-09-21 14:28:34,659 : INFO : worker thread finished; awaiting finish of 0 more threads\n",
            "2020-09-21 14:28:34,660 : INFO : EPOCH - 14 : training on 9227204 raw words (8222798 effective words) took 24.2s, 340452 effective words/s\n",
            "2020-09-21 14:28:35,713 : INFO : EPOCH 15 - PROGRESS: at 3.58% examples, 282626 words/s, in_qsize 15, out_qsize 0\n",
            "2020-09-21 14:28:36,767 : INFO : EPOCH 15 - PROGRESS: at 7.82% examples, 306163 words/s, in_qsize 16, out_qsize 1\n",
            "2020-09-21 14:28:37,776 : INFO : EPOCH 15 - PROGRESS: at 12.39% examples, 327223 words/s, in_qsize 15, out_qsize 0\n",
            "2020-09-21 14:28:38,892 : INFO : EPOCH 15 - PROGRESS: at 16.48% examples, 320814 words/s, in_qsize 15, out_qsize 0\n",
            "2020-09-21 14:28:39,918 : INFO : EPOCH 15 - PROGRESS: at 20.70% examples, 324314 words/s, in_qsize 15, out_qsize 0\n",
            "2020-09-21 14:28:41,037 : INFO : EPOCH 15 - PROGRESS: at 25.37% examples, 329529 words/s, in_qsize 16, out_qsize 1\n",
            "2020-09-21 14:28:42,017 : INFO : EPOCH 15 - PROGRESS: at 29.16% examples, 326238 words/s, in_qsize 16, out_qsize 5\n",
            "2020-09-21 14:28:43,177 : INFO : EPOCH 15 - PROGRESS: at 33.92% examples, 327775 words/s, in_qsize 12, out_qsize 3\n",
            "2020-09-21 14:28:44,198 : INFO : EPOCH 15 - PROGRESS: at 38.24% examples, 330066 words/s, in_qsize 16, out_qsize 0\n",
            "2020-09-21 14:28:45,259 : INFO : EPOCH 15 - PROGRESS: at 42.56% examples, 332104 words/s, in_qsize 12, out_qsize 2\n",
            "2020-09-21 14:28:46,261 : INFO : EPOCH 15 - PROGRESS: at 46.56% examples, 330512 words/s, in_qsize 14, out_qsize 1\n",
            "2020-09-21 14:28:47,282 : INFO : EPOCH 15 - PROGRESS: at 50.89% examples, 332024 words/s, in_qsize 15, out_qsize 0\n",
            "2020-09-21 14:28:48,379 : INFO : EPOCH 15 - PROGRESS: at 54.99% examples, 330757 words/s, in_qsize 15, out_qsize 5\n",
            "2020-09-21 14:28:49,407 : INFO : EPOCH 15 - PROGRESS: at 59.44% examples, 331925 words/s, in_qsize 12, out_qsize 3\n",
            "2020-09-21 14:28:50,464 : INFO : EPOCH 15 - PROGRESS: at 63.87% examples, 332808 words/s, in_qsize 14, out_qsize 1\n",
            "2020-09-21 14:28:51,497 : INFO : EPOCH 15 - PROGRESS: at 67.99% examples, 332507 words/s, in_qsize 15, out_qsize 1\n",
            "2020-09-21 14:28:52,503 : INFO : EPOCH 15 - PROGRESS: at 72.32% examples, 333719 words/s, in_qsize 15, out_qsize 0\n",
            "2020-09-21 14:28:53,612 : INFO : EPOCH 15 - PROGRESS: at 76.88% examples, 333918 words/s, in_qsize 14, out_qsize 1\n",
            "2020-09-21 14:28:54,620 : INFO : EPOCH 15 - PROGRESS: at 81.23% examples, 334917 words/s, in_qsize 15, out_qsize 0\n",
            "2020-09-21 14:28:55,737 : INFO : EPOCH 15 - PROGRESS: at 85.66% examples, 334471 words/s, in_qsize 14, out_qsize 1\n",
            "2020-09-21 14:28:56,745 : INFO : EPOCH 15 - PROGRESS: at 90.11% examples, 335738 words/s, in_qsize 15, out_qsize 0\n",
            "2020-09-21 14:28:57,803 : INFO : EPOCH 15 - PROGRESS: at 94.47% examples, 335759 words/s, in_qsize 15, out_qsize 1\n",
            "2020-09-21 14:28:58,829 : INFO : EPOCH 15 - PROGRESS: at 98.79% examples, 336244 words/s, in_qsize 12, out_qsize 0\n",
            "2020-09-21 14:28:58,925 : INFO : worker thread finished; awaiting finish of 7 more threads\n",
            "2020-09-21 14:28:58,929 : INFO : worker thread finished; awaiting finish of 6 more threads\n",
            "2020-09-21 14:28:58,934 : INFO : worker thread finished; awaiting finish of 5 more threads\n",
            "2020-09-21 14:28:58,938 : INFO : worker thread finished; awaiting finish of 4 more threads\n",
            "2020-09-21 14:28:58,973 : INFO : worker thread finished; awaiting finish of 3 more threads\n",
            "2020-09-21 14:28:58,982 : INFO : worker thread finished; awaiting finish of 2 more threads\n",
            "2020-09-21 14:28:58,998 : INFO : worker thread finished; awaiting finish of 1 more threads\n",
            "2020-09-21 14:28:59,003 : INFO : worker thread finished; awaiting finish of 0 more threads\n",
            "2020-09-21 14:28:59,005 : INFO : EPOCH - 15 : training on 9227204 raw words (8221506 effective words) took 24.3s, 337887 effective words/s\n",
            "2020-09-21 14:29:00,026 : INFO : EPOCH 16 - PROGRESS: at 3.47% examples, 282415 words/s, in_qsize 15, out_qsize 2\n",
            "2020-09-21 14:29:01,080 : INFO : EPOCH 16 - PROGRESS: at 8.04% examples, 319569 words/s, in_qsize 16, out_qsize 2\n",
            "2020-09-21 14:29:02,129 : INFO : EPOCH 16 - PROGRESS: at 12.49% examples, 329199 words/s, in_qsize 15, out_qsize 0\n",
            "2020-09-21 14:29:03,152 : INFO : EPOCH 16 - PROGRESS: at 16.49% examples, 327406 words/s, in_qsize 12, out_qsize 3\n",
            "2020-09-21 14:29:04,221 : INFO : EPOCH 16 - PROGRESS: at 21.03% examples, 332056 words/s, in_qsize 15, out_qsize 0\n",
            "2020-09-21 14:29:05,271 : INFO : EPOCH 16 - PROGRESS: at 25.80% examples, 339049 words/s, in_qsize 15, out_qsize 0\n",
            "2020-09-21 14:29:06,334 : INFO : EPOCH 16 - PROGRESS: at 30.35% examples, 340936 words/s, in_qsize 15, out_qsize 0\n",
            "2020-09-21 14:29:07,338 : INFO : EPOCH 16 - PROGRESS: at 34.35% examples, 339368 words/s, in_qsize 15, out_qsize 0\n",
            "2020-09-21 14:29:08,342 : INFO : EPOCH 16 - PROGRESS: at 38.57% examples, 340096 words/s, in_qsize 15, out_qsize 0\n",
            "2020-09-21 14:29:09,350 : INFO : EPOCH 16 - PROGRESS: at 42.78% examples, 340529 words/s, in_qsize 15, out_qsize 0\n",
            "2020-09-21 14:29:10,413 : INFO : EPOCH 16 - PROGRESS: at 46.89% examples, 338476 words/s, in_qsize 15, out_qsize 3\n",
            "2020-09-21 14:29:11,452 : INFO : EPOCH 16 - PROGRESS: at 51.21% examples, 338836 words/s, in_qsize 16, out_qsize 1\n",
            "2020-09-21 14:29:12,475 : INFO : EPOCH 16 - PROGRESS: at 55.97% examples, 342248 words/s, in_qsize 15, out_qsize 0\n",
            "2020-09-21 14:29:13,487 : INFO : EPOCH 16 - PROGRESS: at 60.09% examples, 341688 words/s, in_qsize 15, out_qsize 2\n",
            "2020-09-21 14:29:14,524 : INFO : EPOCH 16 - PROGRESS: at 64.08% examples, 340329 words/s, in_qsize 15, out_qsize 1\n",
            "2020-09-21 14:29:15,534 : INFO : EPOCH 16 - PROGRESS: at 68.20% examples, 339786 words/s, in_qsize 16, out_qsize 4\n",
            "2020-09-21 14:29:16,538 : INFO : EPOCH 16 - PROGRESS: at 72.86% examples, 342184 words/s, in_qsize 15, out_qsize 0\n",
            "2020-09-21 14:29:17,571 : INFO : EPOCH 16 - PROGRESS: at 76.77% examples, 340411 words/s, in_qsize 11, out_qsize 4\n",
            "2020-09-21 14:29:18,572 : INFO : EPOCH 16 - PROGRESS: at 80.90% examples, 340291 words/s, in_qsize 16, out_qsize 3\n",
            "2020-09-21 14:29:19,575 : INFO : EPOCH 16 - PROGRESS: at 85.45% examples, 341884 words/s, in_qsize 16, out_qsize 1\n",
            "2020-09-21 14:29:20,577 : INFO : EPOCH 16 - PROGRESS: at 89.78% examples, 342517 words/s, in_qsize 16, out_qsize 0\n",
            "2020-09-21 14:29:21,635 : INFO : EPOCH 16 - PROGRESS: at 93.59% examples, 340519 words/s, in_qsize 16, out_qsize 6\n",
            "2020-09-21 14:29:22,748 : INFO : EPOCH 16 - PROGRESS: at 98.58% examples, 341570 words/s, in_qsize 14, out_qsize 0\n",
            "2020-09-21 14:29:22,837 : INFO : worker thread finished; awaiting finish of 7 more threads\n",
            "2020-09-21 14:29:22,848 : INFO : worker thread finished; awaiting finish of 6 more threads\n",
            "2020-09-21 14:29:22,867 : INFO : worker thread finished; awaiting finish of 5 more threads\n",
            "2020-09-21 14:29:22,892 : INFO : worker thread finished; awaiting finish of 4 more threads\n",
            "2020-09-21 14:29:22,926 : INFO : worker thread finished; awaiting finish of 3 more threads\n",
            "2020-09-21 14:29:22,947 : INFO : worker thread finished; awaiting finish of 2 more threads\n",
            "2020-09-21 14:29:22,954 : INFO : worker thread finished; awaiting finish of 1 more threads\n",
            "2020-09-21 14:29:22,959 : INFO : worker thread finished; awaiting finish of 0 more threads\n",
            "2020-09-21 14:29:22,960 : INFO : EPOCH - 16 : training on 9227204 raw words (8222647 effective words) took 23.9s, 343417 effective words/s\n",
            "2020-09-21 14:29:23,972 : INFO : EPOCH 17 - PROGRESS: at 3.91% examples, 320067 words/s, in_qsize 15, out_qsize 0\n",
            "2020-09-21 14:29:24,990 : INFO : EPOCH 17 - PROGRESS: at 8.15% examples, 330740 words/s, in_qsize 16, out_qsize 0\n",
            "2020-09-21 14:29:25,992 : INFO : EPOCH 17 - PROGRESS: at 12.17% examples, 330240 words/s, in_qsize 14, out_qsize 1\n",
            "2020-09-21 14:29:27,001 : INFO : EPOCH 17 - PROGRESS: at 16.05% examples, 327025 words/s, in_qsize 13, out_qsize 2\n",
            "2020-09-21 14:29:28,007 : INFO : EPOCH 17 - PROGRESS: at 20.48% examples, 334216 words/s, in_qsize 15, out_qsize 0\n",
            "2020-09-21 14:29:29,013 : INFO : EPOCH 17 - PROGRESS: at 24.94% examples, 339042 words/s, in_qsize 15, out_qsize 0\n",
            "2020-09-21 14:29:30,038 : INFO : EPOCH 17 - PROGRESS: at 28.94% examples, 337034 words/s, in_qsize 16, out_qsize 2\n",
            "2020-09-21 14:29:31,047 : INFO : EPOCH 17 - PROGRESS: at 33.16% examples, 337472 words/s, in_qsize 16, out_qsize 1\n",
            "2020-09-21 14:29:32,145 : INFO : EPOCH 17 - PROGRESS: at 37.70% examples, 337875 words/s, in_qsize 15, out_qsize 0\n",
            "2020-09-21 14:29:33,166 : INFO : EPOCH 17 - PROGRESS: at 42.13% examples, 339873 words/s, in_qsize 14, out_qsize 1\n",
            "2020-09-21 14:29:34,239 : INFO : EPOCH 17 - PROGRESS: at 46.46% examples, 339114 words/s, in_qsize 15, out_qsize 0\n",
            "2020-09-21 14:29:35,360 : INFO : EPOCH 17 - PROGRESS: at 50.88% examples, 337941 words/s, in_qsize 15, out_qsize 0\n",
            "2020-09-21 14:29:36,377 : INFO : EPOCH 17 - PROGRESS: at 55.10% examples, 338233 words/s, in_qsize 12, out_qsize 3\n",
            "2020-09-21 14:29:37,388 : INFO : EPOCH 17 - PROGRESS: at 59.44% examples, 339245 words/s, in_qsize 15, out_qsize 0\n",
            "2020-09-21 14:29:38,463 : INFO : EPOCH 17 - PROGRESS: at 63.76% examples, 338689 words/s, in_qsize 12, out_qsize 3\n",
            "2020-09-21 14:29:39,497 : INFO : EPOCH 17 - PROGRESS: at 67.99% examples, 338530 words/s, in_qsize 14, out_qsize 1\n",
            "2020-09-21 14:29:40,544 : INFO : EPOCH 17 - PROGRESS: at 72.43% examples, 339698 words/s, in_qsize 15, out_qsize 1\n",
            "2020-09-21 14:29:41,583 : INFO : EPOCH 17 - PROGRESS: at 76.77% examples, 339687 words/s, in_qsize 15, out_qsize 2\n",
            "2020-09-21 14:29:42,608 : INFO : EPOCH 17 - PROGRESS: at 81.34% examples, 340662 words/s, in_qsize 15, out_qsize 0\n",
            "2020-09-21 14:29:43,621 : INFO : EPOCH 17 - PROGRESS: at 85.66% examples, 341215 words/s, in_qsize 14, out_qsize 0\n",
            "2020-09-21 14:29:44,645 : INFO : EPOCH 17 - PROGRESS: at 89.78% examples, 340708 words/s, in_qsize 15, out_qsize 0\n",
            "2020-09-21 14:29:45,705 : INFO : EPOCH 17 - PROGRESS: at 94.25% examples, 340870 words/s, in_qsize 14, out_qsize 1\n",
            "2020-09-21 14:29:46,706 : INFO : EPOCH 17 - PROGRESS: at 98.58% examples, 341508 words/s, in_qsize 14, out_qsize 0\n",
            "2020-09-21 14:29:46,855 : INFO : worker thread finished; awaiting finish of 7 more threads\n",
            "2020-09-21 14:29:46,857 : INFO : worker thread finished; awaiting finish of 6 more threads\n",
            "2020-09-21 14:29:46,871 : INFO : worker thread finished; awaiting finish of 5 more threads\n",
            "2020-09-21 14:29:46,898 : INFO : worker thread finished; awaiting finish of 4 more threads\n",
            "2020-09-21 14:29:46,919 : INFO : worker thread finished; awaiting finish of 3 more threads\n",
            "2020-09-21 14:29:46,928 : INFO : worker thread finished; awaiting finish of 2 more threads\n",
            "2020-09-21 14:29:46,953 : INFO : worker thread finished; awaiting finish of 1 more threads\n",
            "2020-09-21 14:29:46,954 : INFO : worker thread finished; awaiting finish of 0 more threads\n",
            "2020-09-21 14:29:46,955 : INFO : EPOCH - 17 : training on 9227204 raw words (8222500 effective words) took 24.0s, 342825 effective words/s\n",
            "2020-09-21 14:29:48,016 : INFO : EPOCH 18 - PROGRESS: at 3.58% examples, 280746 words/s, in_qsize 11, out_qsize 5\n",
            "2020-09-21 14:29:49,026 : INFO : EPOCH 18 - PROGRESS: at 7.93% examples, 316066 words/s, in_qsize 16, out_qsize 2\n",
            "2020-09-21 14:29:50,082 : INFO : EPOCH 18 - PROGRESS: at 12.49% examples, 329123 words/s, in_qsize 15, out_qsize 0\n",
            "2020-09-21 14:29:51,180 : INFO : EPOCH 18 - PROGRESS: at 16.81% examples, 327794 words/s, in_qsize 14, out_qsize 1\n",
            "2020-09-21 14:29:52,215 : INFO : EPOCH 18 - PROGRESS: at 21.46% examples, 336174 words/s, in_qsize 15, out_qsize 0\n",
            "2020-09-21 14:29:53,277 : INFO : EPOCH 18 - PROGRESS: at 25.48% examples, 331817 words/s, in_qsize 14, out_qsize 1\n",
            "2020-09-21 14:29:54,282 : INFO : EPOCH 18 - PROGRESS: at 29.81% examples, 334991 words/s, in_qsize 16, out_qsize 0\n",
            "2020-09-21 14:29:55,323 : INFO : EPOCH 18 - PROGRESS: at 34.03% examples, 334793 words/s, in_qsize 15, out_qsize 1\n",
            "2020-09-21 14:29:56,325 : INFO : EPOCH 18 - PROGRESS: at 38.35% examples, 337038 words/s, in_qsize 15, out_qsize 0\n",
            "2020-09-21 14:29:57,351 : INFO : EPOCH 18 - PROGRESS: at 42.57% examples, 337174 words/s, in_qsize 15, out_qsize 0\n",
            "2020-09-21 14:29:58,422 : INFO : EPOCH 18 - PROGRESS: at 46.89% examples, 336770 words/s, in_qsize 13, out_qsize 2\n",
            "2020-09-21 14:29:59,485 : INFO : EPOCH 18 - PROGRESS: at 51.43% examples, 338888 words/s, in_qsize 14, out_qsize 2\n",
            "2020-09-21 14:30:00,546 : INFO : EPOCH 18 - PROGRESS: at 55.75% examples, 337963 words/s, in_qsize 14, out_qsize 2\n",
            "2020-09-21 14:30:01,554 : INFO : EPOCH 18 - PROGRESS: at 60.09% examples, 339044 words/s, in_qsize 13, out_qsize 2\n",
            "2020-09-21 14:30:02,620 : INFO : EPOCH 18 - PROGRESS: at 64.40% examples, 338713 words/s, in_qsize 15, out_qsize 1\n",
            "2020-09-21 14:30:03,709 : INFO : EPOCH 18 - PROGRESS: at 69.07% examples, 339542 words/s, in_qsize 14, out_qsize 1\n",
            "2020-09-21 14:30:04,731 : INFO : EPOCH 18 - PROGRESS: at 73.62% examples, 341070 words/s, in_qsize 13, out_qsize 2\n",
            "2020-09-21 14:30:05,732 : INFO : EPOCH 18 - PROGRESS: at 77.63% examples, 340420 words/s, in_qsize 15, out_qsize 0\n",
            "2020-09-21 14:30:06,770 : INFO : EPOCH 18 - PROGRESS: at 81.88% examples, 340112 words/s, in_qsize 15, out_qsize 0\n",
            "2020-09-21 14:30:07,807 : INFO : EPOCH 18 - PROGRESS: at 86.21% examples, 340285 words/s, in_qsize 14, out_qsize 1\n",
            "2020-09-21 14:30:08,839 : INFO : EPOCH 18 - PROGRESS: at 90.54% examples, 340515 words/s, in_qsize 15, out_qsize 0\n",
            "2020-09-21 14:30:09,841 : INFO : EPOCH 18 - PROGRESS: at 94.90% examples, 341171 words/s, in_qsize 14, out_qsize 1\n",
            "2020-09-21 14:30:10,824 : INFO : worker thread finished; awaiting finish of 7 more threads\n",
            "2020-09-21 14:30:10,848 : INFO : EPOCH 18 - PROGRESS: at 99.44% examples, 342439 words/s, in_qsize 6, out_qsize 1\n",
            "2020-09-21 14:30:10,850 : INFO : worker thread finished; awaiting finish of 6 more threads\n",
            "2020-09-21 14:30:10,861 : INFO : worker thread finished; awaiting finish of 5 more threads\n",
            "2020-09-21 14:30:10,880 : INFO : worker thread finished; awaiting finish of 4 more threads\n",
            "2020-09-21 14:30:10,901 : INFO : worker thread finished; awaiting finish of 3 more threads\n",
            "2020-09-21 14:30:10,928 : INFO : worker thread finished; awaiting finish of 2 more threads\n",
            "2020-09-21 14:30:10,944 : INFO : worker thread finished; awaiting finish of 1 more threads\n",
            "2020-09-21 14:30:10,953 : INFO : worker thread finished; awaiting finish of 0 more threads\n",
            "2020-09-21 14:30:10,954 : INFO : EPOCH - 18 : training on 9227204 raw words (8222724 effective words) took 24.0s, 342829 effective words/s\n",
            "2020-09-21 14:30:11,981 : INFO : EPOCH 19 - PROGRESS: at 3.58% examples, 289586 words/s, in_qsize 14, out_qsize 1\n",
            "2020-09-21 14:30:13,033 : INFO : EPOCH 19 - PROGRESS: at 7.71% examples, 305823 words/s, in_qsize 11, out_qsize 4\n",
            "2020-09-21 14:30:14,072 : INFO : EPOCH 19 - PROGRESS: at 12.49% examples, 329877 words/s, in_qsize 16, out_qsize 0\n",
            "2020-09-21 14:30:15,171 : INFO : EPOCH 19 - PROGRESS: at 17.03% examples, 332503 words/s, in_qsize 15, out_qsize 0\n",
            "2020-09-21 14:30:16,285 : INFO : EPOCH 19 - PROGRESS: at 21.57% examples, 333231 words/s, in_qsize 15, out_qsize 0\n",
            "2020-09-21 14:30:17,296 : INFO : EPOCH 19 - PROGRESS: at 25.91% examples, 336321 words/s, in_qsize 15, out_qsize 0\n",
            "2020-09-21 14:30:18,303 : INFO : EPOCH 19 - PROGRESS: at 30.24% examples, 338738 words/s, in_qsize 16, out_qsize 0\n",
            "2020-09-21 14:30:19,316 : INFO : EPOCH 19 - PROGRESS: at 34.02% examples, 334939 words/s, in_qsize 16, out_qsize 3\n",
            "2020-09-21 14:30:20,318 : INFO : EPOCH 19 - PROGRESS: at 38.35% examples, 337161 words/s, in_qsize 15, out_qsize 0\n",
            "2020-09-21 14:30:21,351 : INFO : EPOCH 19 - PROGRESS: at 42.68% examples, 337907 words/s, in_qsize 14, out_qsize 1\n",
            "2020-09-21 14:30:22,381 : INFO : EPOCH 19 - PROGRESS: at 47.00% examples, 338643 words/s, in_qsize 15, out_qsize 0\n",
            "2020-09-21 14:30:23,385 : INFO : EPOCH 19 - PROGRESS: at 51.21% examples, 339269 words/s, in_qsize 15, out_qsize 0\n",
            "2020-09-21 14:30:24,389 : INFO : EPOCH 19 - PROGRESS: at 55.32% examples, 339125 words/s, in_qsize 12, out_qsize 0\n",
            "2020-09-21 14:30:25,437 : INFO : EPOCH 19 - PROGRESS: at 59.76% examples, 339845 words/s, in_qsize 16, out_qsize 0\n",
            "2020-09-21 14:30:26,452 : INFO : EPOCH 19 - PROGRESS: at 63.75% examples, 338831 words/s, in_qsize 16, out_qsize 1\n",
            "2020-09-21 14:30:27,482 : INFO : EPOCH 19 - PROGRESS: at 68.10% examples, 339273 words/s, in_qsize 15, out_qsize 0\n",
            "2020-09-21 14:30:28,562 : INFO : EPOCH 19 - PROGRESS: at 72.53% examples, 339811 words/s, in_qsize 16, out_qsize 3\n",
            "2020-09-21 14:30:29,541 : INFO : EPOCH 19 - PROGRESS: at 76.77% examples, 340007 words/s, in_qsize 15, out_qsize 0\n",
            "2020-09-21 14:30:30,578 : INFO : EPOCH 19 - PROGRESS: at 81.23% examples, 340655 words/s, in_qsize 15, out_qsize 0\n",
            "2020-09-21 14:30:31,588 : INFO : EPOCH 19 - PROGRESS: at 85.34% examples, 340380 words/s, in_qsize 15, out_qsize 0\n",
            "2020-09-21 14:30:32,591 : INFO : EPOCH 19 - PROGRESS: at 89.45% examples, 340235 words/s, in_qsize 15, out_qsize 0\n",
            "2020-09-21 14:30:33,740 : INFO : EPOCH 19 - PROGRESS: at 94.25% examples, 340261 words/s, in_qsize 15, out_qsize 0\n",
            "2020-09-21 14:30:34,788 : INFO : EPOCH 19 - PROGRESS: at 98.47% examples, 340165 words/s, in_qsize 15, out_qsize 2\n",
            "2020-09-21 14:30:34,835 : INFO : worker thread finished; awaiting finish of 7 more threads\n",
            "2020-09-21 14:30:34,892 : INFO : worker thread finished; awaiting finish of 6 more threads\n",
            "2020-09-21 14:30:34,943 : INFO : worker thread finished; awaiting finish of 5 more threads\n",
            "2020-09-21 14:30:34,949 : INFO : worker thread finished; awaiting finish of 4 more threads\n",
            "2020-09-21 14:30:34,954 : INFO : worker thread finished; awaiting finish of 3 more threads\n",
            "2020-09-21 14:30:34,971 : INFO : worker thread finished; awaiting finish of 2 more threads\n",
            "2020-09-21 14:30:34,976 : INFO : worker thread finished; awaiting finish of 1 more threads\n",
            "2020-09-21 14:30:34,977 : INFO : worker thread finished; awaiting finish of 0 more threads\n",
            "2020-09-21 14:30:34,978 : INFO : EPOCH - 19 : training on 9227204 raw words (8222432 effective words) took 24.0s, 342435 effective words/s\n",
            "2020-09-21 14:30:36,037 : INFO : EPOCH 20 - PROGRESS: at 3.36% examples, 264150 words/s, in_qsize 16, out_qsize 2\n",
            "2020-09-21 14:30:37,052 : INFO : EPOCH 20 - PROGRESS: at 7.93% examples, 315555 words/s, in_qsize 15, out_qsize 0\n",
            "2020-09-21 14:30:38,150 : INFO : EPOCH 20 - PROGRESS: at 11.84% examples, 307454 words/s, in_qsize 12, out_qsize 5\n",
            "2020-09-21 14:30:39,153 : INFO : EPOCH 20 - PROGRESS: at 16.38% examples, 323135 words/s, in_qsize 15, out_qsize 0\n",
            "2020-09-21 14:30:40,174 : INFO : EPOCH 20 - PROGRESS: at 20.70% examples, 328235 words/s, in_qsize 15, out_qsize 0\n",
            "2020-09-21 14:30:41,236 : INFO : EPOCH 20 - PROGRESS: at 25.04% examples, 329525 words/s, in_qsize 16, out_qsize 0\n",
            "2020-09-21 14:30:42,294 : INFO : EPOCH 20 - PROGRESS: at 29.26% examples, 329389 words/s, in_qsize 13, out_qsize 2\n",
            "2020-09-21 14:30:43,303 : INFO : EPOCH 20 - PROGRESS: at 33.81% examples, 334383 words/s, in_qsize 15, out_qsize 0\n",
            "2020-09-21 14:30:44,306 : INFO : EPOCH 20 - PROGRESS: at 38.03% examples, 335694 words/s, in_qsize 16, out_qsize 1\n",
            "2020-09-21 14:30:45,336 : INFO : EPOCH 20 - PROGRESS: at 41.91% examples, 333586 words/s, in_qsize 15, out_qsize 0\n",
            "2020-09-21 14:30:46,338 : INFO : EPOCH 20 - PROGRESS: at 46.35% examples, 335996 words/s, in_qsize 15, out_qsize 0\n",
            "2020-09-21 14:30:47,359 : INFO : EPOCH 20 - PROGRESS: at 50.13% examples, 333502 words/s, in_qsize 13, out_qsize 2\n",
            "2020-09-21 14:30:48,359 : INFO : EPOCH 20 - PROGRESS: at 54.56% examples, 335894 words/s, in_qsize 15, out_qsize 0\n",
            "2020-09-21 14:30:49,378 : INFO : EPOCH 20 - PROGRESS: at 58.80% examples, 336276 words/s, in_qsize 15, out_qsize 0\n",
            "2020-09-21 14:30:50,389 : INFO : EPOCH 20 - PROGRESS: at 63.32% examples, 338485 words/s, in_qsize 15, out_qsize 0\n",
            "2020-09-21 14:30:51,401 : INFO : EPOCH 20 - PROGRESS: at 67.45% examples, 338234 words/s, in_qsize 16, out_qsize 1\n",
            "2020-09-21 14:30:52,403 : INFO : EPOCH 20 - PROGRESS: at 71.56% examples, 338204 words/s, in_qsize 14, out_qsize 1\n",
            "2020-09-21 14:30:53,439 : INFO : EPOCH 20 - PROGRESS: at 75.67% examples, 337541 words/s, in_qsize 15, out_qsize 0\n",
            "2020-09-21 14:30:54,572 : INFO : EPOCH 20 - PROGRESS: at 80.36% examples, 337546 words/s, in_qsize 15, out_qsize 0\n",
            "2020-09-21 14:30:55,614 : INFO : EPOCH 20 - PROGRESS: at 84.80% examples, 338203 words/s, in_qsize 15, out_qsize 0\n",
            "2020-09-21 14:30:56,638 : INFO : EPOCH 20 - PROGRESS: at 89.13% examples, 338660 words/s, in_qsize 16, out_qsize 0\n",
            "2020-09-21 14:30:57,643 : INFO : EPOCH 20 - PROGRESS: at 93.38% examples, 338944 words/s, in_qsize 15, out_qsize 0\n",
            "2020-09-21 14:30:58,677 : INFO : EPOCH 20 - PROGRESS: at 97.61% examples, 338798 words/s, in_qsize 12, out_qsize 3\n",
            "2020-09-21 14:30:59,008 : INFO : worker thread finished; awaiting finish of 7 more threads\n",
            "2020-09-21 14:30:59,035 : INFO : worker thread finished; awaiting finish of 6 more threads\n",
            "2020-09-21 14:30:59,044 : INFO : worker thread finished; awaiting finish of 5 more threads\n",
            "2020-09-21 14:30:59,065 : INFO : worker thread finished; awaiting finish of 4 more threads\n",
            "2020-09-21 14:30:59,072 : INFO : worker thread finished; awaiting finish of 3 more threads\n",
            "2020-09-21 14:30:59,076 : INFO : worker thread finished; awaiting finish of 2 more threads\n",
            "2020-09-21 14:30:59,084 : INFO : worker thread finished; awaiting finish of 1 more threads\n",
            "2020-09-21 14:30:59,095 : INFO : worker thread finished; awaiting finish of 0 more threads\n",
            "2020-09-21 14:30:59,096 : INFO : EPOCH - 20 : training on 9227204 raw words (8222018 effective words) took 24.1s, 341089 effective words/s\n",
            "2020-09-21 14:31:00,188 : INFO : EPOCH 21 - PROGRESS: at 3.80% examples, 288599 words/s, in_qsize 14, out_qsize 4\n",
            "2020-09-21 14:31:01,225 : INFO : EPOCH 21 - PROGRESS: at 8.25% examples, 319747 words/s, in_qsize 13, out_qsize 2\n",
            "2020-09-21 14:31:02,251 : INFO : EPOCH 21 - PROGRESS: at 12.60% examples, 330466 words/s, in_qsize 15, out_qsize 2\n",
            "2020-09-21 14:31:03,266 : INFO : EPOCH 21 - PROGRESS: at 16.92% examples, 334196 words/s, in_qsize 15, out_qsize 0\n",
            "2020-09-21 14:31:04,306 : INFO : EPOCH 21 - PROGRESS: at 21.35% examples, 337587 words/s, in_qsize 16, out_qsize 1\n",
            "2020-09-21 14:31:05,366 : INFO : EPOCH 21 - PROGRESS: at 25.91% examples, 340192 words/s, in_qsize 15, out_qsize 0\n",
            "2020-09-21 14:31:06,371 : INFO : EPOCH 21 - PROGRESS: at 29.80% examples, 337264 words/s, in_qsize 15, out_qsize 0\n",
            "2020-09-21 14:31:07,375 : INFO : EPOCH 21 - PROGRESS: at 33.81% examples, 336179 words/s, in_qsize 15, out_qsize 0\n",
            "2020-09-21 14:31:08,378 : INFO : EPOCH 21 - PROGRESS: at 38.03% examples, 337281 words/s, in_qsize 15, out_qsize 0\n",
            "2020-09-21 14:31:09,397 : INFO : EPOCH 21 - PROGRESS: at 42.35% examples, 338515 words/s, in_qsize 15, out_qsize 1\n",
            "2020-09-21 14:31:10,509 : INFO : EPOCH 21 - PROGRESS: at 47.11% examples, 339907 words/s, in_qsize 15, out_qsize 0\n",
            "2020-09-21 14:31:11,560 : INFO : EPOCH 21 - PROGRESS: at 51.31% examples, 339121 words/s, in_qsize 13, out_qsize 2\n",
            "2020-09-21 14:31:12,593 : INFO : EPOCH 21 - PROGRESS: at 55.53% examples, 338937 words/s, in_qsize 12, out_qsize 4\n",
            "2020-09-21 14:31:13,629 : INFO : EPOCH 21 - PROGRESS: at 60.09% examples, 341236 words/s, in_qsize 15, out_qsize 0\n",
            "2020-09-21 14:31:14,651 : INFO : EPOCH 21 - PROGRESS: at 64.30% examples, 340485 words/s, in_qsize 15, out_qsize 0\n",
            "2020-09-21 14:31:15,754 : INFO : EPOCH 21 - PROGRESS: at 68.75% examples, 339861 words/s, in_qsize 13, out_qsize 2\n",
            "2020-09-21 14:31:16,758 : INFO : EPOCH 21 - PROGRESS: at 73.19% examples, 341214 words/s, in_qsize 15, out_qsize 0\n",
            "2020-09-21 14:31:17,812 : INFO : EPOCH 21 - PROGRESS: at 77.52% examples, 341019 words/s, in_qsize 15, out_qsize 3\n",
            "2020-09-21 14:31:18,855 : INFO : EPOCH 21 - PROGRESS: at 81.99% examples, 341500 words/s, in_qsize 15, out_qsize 1\n",
            "2020-09-21 14:31:19,922 : INFO : EPOCH 21 - PROGRESS: at 86.42% examples, 341541 words/s, in_qsize 15, out_qsize 0\n",
            "2020-09-21 14:31:20,977 : INFO : EPOCH 21 - PROGRESS: at 90.87% examples, 341759 words/s, in_qsize 15, out_qsize 0\n",
            "2020-09-21 14:31:22,011 : INFO : EPOCH 21 - PROGRESS: at 95.56% examples, 343050 words/s, in_qsize 15, out_qsize 0\n",
            "2020-09-21 14:31:22,909 : INFO : worker thread finished; awaiting finish of 7 more threads\n",
            "2020-09-21 14:31:22,913 : INFO : worker thread finished; awaiting finish of 6 more threads\n",
            "2020-09-21 14:31:22,960 : INFO : worker thread finished; awaiting finish of 5 more threads\n",
            "2020-09-21 14:31:22,972 : INFO : worker thread finished; awaiting finish of 4 more threads\n",
            "2020-09-21 14:31:22,979 : INFO : worker thread finished; awaiting finish of 3 more threads\n",
            "2020-09-21 14:31:23,002 : INFO : worker thread finished; awaiting finish of 2 more threads\n",
            "2020-09-21 14:31:23,017 : INFO : EPOCH 21 - PROGRESS: at 99.89% examples, 343559 words/s, in_qsize 1, out_qsize 1\n",
            "2020-09-21 14:31:23,018 : INFO : worker thread finished; awaiting finish of 1 more threads\n",
            "2020-09-21 14:31:23,019 : INFO : worker thread finished; awaiting finish of 0 more threads\n",
            "2020-09-21 14:31:23,021 : INFO : EPOCH - 21 : training on 9227204 raw words (8222881 effective words) took 23.9s, 343870 effective words/s\n",
            "2020-09-21 14:31:24,069 : INFO : EPOCH 22 - PROGRESS: at 3.69% examples, 293246 words/s, in_qsize 15, out_qsize 0\n",
            "2020-09-21 14:31:25,148 : INFO : EPOCH 22 - PROGRESS: at 8.26% examples, 320646 words/s, in_qsize 12, out_qsize 3\n",
            "2020-09-21 14:31:26,209 : INFO : EPOCH 22 - PROGRESS: at 12.71% examples, 328580 words/s, in_qsize 13, out_qsize 2\n",
            "2020-09-21 14:31:27,213 : INFO : EPOCH 22 - PROGRESS: at 17.46% examples, 343342 words/s, in_qsize 12, out_qsize 0\n",
            "2020-09-21 14:31:28,235 : INFO : EPOCH 22 - PROGRESS: at 21.24% examples, 335824 words/s, in_qsize 14, out_qsize 1\n",
            "2020-09-21 14:31:29,256 : INFO : EPOCH 22 - PROGRESS: at 25.59% examples, 338935 words/s, in_qsize 15, out_qsize 0\n",
            "2020-09-21 14:31:30,251 : INFO : EPOCH 22 - PROGRESS: at 29.59% examples, 337075 words/s, in_qsize 16, out_qsize 0\n",
            "2020-09-21 14:31:31,265 : INFO : EPOCH 22 - PROGRESS: at 33.81% examples, 337769 words/s, in_qsize 15, out_qsize 0\n",
            "2020-09-21 14:31:32,266 : INFO : EPOCH 22 - PROGRESS: at 38.14% examples, 339749 words/s, in_qsize 14, out_qsize 0\n",
            "2020-09-21 14:31:33,282 : INFO : EPOCH 22 - PROGRESS: at 41.92% examples, 336451 words/s, in_qsize 16, out_qsize 1\n",
            "2020-09-21 14:31:34,324 : INFO : EPOCH 22 - PROGRESS: at 46.46% examples, 338549 words/s, in_qsize 15, out_qsize 0\n",
            "2020-09-21 14:31:35,375 : INFO : EPOCH 22 - PROGRESS: at 50.78% examples, 338630 words/s, in_qsize 14, out_qsize 1\n",
            "2020-09-21 14:31:36,420 : INFO : EPOCH 22 - PROGRESS: at 55.10% examples, 339888 words/s, in_qsize 15, out_qsize 3\n",
            "2020-09-21 14:31:37,394 : INFO : EPOCH 22 - PROGRESS: at 59.44% examples, 340664 words/s, in_qsize 15, out_qsize 1\n",
            "2020-09-21 14:31:38,407 : INFO : EPOCH 22 - PROGRESS: at 63.75% examples, 341393 words/s, in_qsize 15, out_qsize 0\n",
            "2020-09-21 14:31:39,501 : INFO : EPOCH 22 - PROGRESS: at 68.10% examples, 340341 words/s, in_qsize 15, out_qsize 0\n",
            "2020-09-21 14:31:40,544 : INFO : EPOCH 22 - PROGRESS: at 72.43% examples, 340423 words/s, in_qsize 15, out_qsize 0\n",
            "2020-09-21 14:31:41,567 : INFO : EPOCH 22 - PROGRESS: at 76.55% examples, 339866 words/s, in_qsize 14, out_qsize 1\n",
            "2020-09-21 14:31:42,606 : INFO : EPOCH 22 - PROGRESS: at 80.80% examples, 339572 words/s, in_qsize 11, out_qsize 4\n",
            "2020-09-21 14:31:43,767 : INFO : EPOCH 22 - PROGRESS: at 85.66% examples, 339894 words/s, in_qsize 14, out_qsize 1\n",
            "2020-09-21 14:31:44,798 : INFO : EPOCH 22 - PROGRESS: at 90.33% examples, 341383 words/s, in_qsize 16, out_qsize 0\n",
            "2020-09-21 14:31:45,799 : INFO : EPOCH 22 - PROGRESS: at 94.14% examples, 340065 words/s, in_qsize 15, out_qsize 0\n",
            "2020-09-21 14:31:46,801 : INFO : EPOCH 22 - PROGRESS: at 98.69% examples, 341464 words/s, in_qsize 13, out_qsize 0\n",
            "2020-09-21 14:31:46,954 : INFO : worker thread finished; awaiting finish of 7 more threads\n",
            "2020-09-21 14:31:46,962 : INFO : worker thread finished; awaiting finish of 6 more threads\n",
            "2020-09-21 14:31:46,964 : INFO : worker thread finished; awaiting finish of 5 more threads\n",
            "2020-09-21 14:31:46,967 : INFO : worker thread finished; awaiting finish of 4 more threads\n",
            "2020-09-21 14:31:47,028 : INFO : worker thread finished; awaiting finish of 3 more threads\n",
            "2020-09-21 14:31:47,034 : INFO : worker thread finished; awaiting finish of 2 more threads\n",
            "2020-09-21 14:31:47,041 : INFO : worker thread finished; awaiting finish of 1 more threads\n",
            "2020-09-21 14:31:47,045 : INFO : worker thread finished; awaiting finish of 0 more threads\n",
            "2020-09-21 14:31:47,046 : INFO : EPOCH - 22 : training on 9227204 raw words (8222550 effective words) took 24.0s, 342473 effective words/s\n",
            "2020-09-21 14:31:48,064 : INFO : EPOCH 23 - PROGRESS: at 3.58% examples, 292420 words/s, in_qsize 15, out_qsize 0\n",
            "2020-09-21 14:31:49,137 : INFO : EPOCH 23 - PROGRESS: at 8.04% examples, 322931 words/s, in_qsize 15, out_qsize 0\n",
            "2020-09-21 14:31:50,124 : INFO : EPOCH 23 - PROGRESS: at 12.28% examples, 328401 words/s, in_qsize 15, out_qsize 0\n",
            "2020-09-21 14:31:51,125 : INFO : EPOCH 23 - PROGRESS: at 16.16% examples, 326468 words/s, in_qsize 15, out_qsize 3\n",
            "2020-09-21 14:31:52,255 : INFO : EPOCH 23 - PROGRESS: at 21.14% examples, 334319 words/s, in_qsize 15, out_qsize 0\n",
            "2020-09-21 14:31:53,256 : INFO : EPOCH 23 - PROGRESS: at 25.69% examples, 340724 words/s, in_qsize 14, out_qsize 0\n",
            "2020-09-21 14:31:54,273 : INFO : EPOCH 23 - PROGRESS: at 29.48% examples, 335933 words/s, in_qsize 14, out_qsize 4\n",
            "2020-09-21 14:31:55,282 : INFO : EPOCH 23 - PROGRESS: at 33.81% examples, 338053 words/s, in_qsize 11, out_qsize 3\n",
            "2020-09-21 14:31:56,288 : INFO : EPOCH 23 - PROGRESS: at 38.14% examples, 339861 words/s, in_qsize 16, out_qsize 0\n",
            "2020-09-21 14:31:57,345 : INFO : EPOCH 23 - PROGRESS: at 42.68% examples, 341272 words/s, in_qsize 15, out_qsize 0\n",
            "2020-09-21 14:31:58,480 : INFO : EPOCH 23 - PROGRESS: at 47.00% examples, 338582 words/s, in_qsize 15, out_qsize 0\n",
            "2020-09-21 14:31:59,571 : INFO : EPOCH 23 - PROGRESS: at 51.53% examples, 338970 words/s, in_qsize 15, out_qsize 0\n",
            "2020-09-21 14:32:00,577 : INFO : EPOCH 23 - PROGRESS: at 55.86% examples, 340134 words/s, in_qsize 15, out_qsize 0\n",
            "2020-09-21 14:32:01,610 : INFO : EPOCH 23 - PROGRESS: at 60.09% examples, 339861 words/s, in_qsize 13, out_qsize 3\n",
            "2020-09-21 14:32:02,736 : INFO : EPOCH 23 - PROGRESS: at 64.95% examples, 341011 words/s, in_qsize 15, out_qsize 2\n",
            "2020-09-21 14:32:03,786 : INFO : EPOCH 23 - PROGRESS: at 69.40% examples, 341438 words/s, in_qsize 14, out_qsize 2\n",
            "2020-09-21 14:32:04,791 : INFO : EPOCH 23 - PROGRESS: at 73.40% examples, 340674 words/s, in_qsize 16, out_qsize 3\n",
            "2020-09-21 14:32:05,799 : INFO : EPOCH 23 - PROGRESS: at 77.85% examples, 341827 words/s, in_qsize 14, out_qsize 1\n",
            "2020-09-21 14:32:06,804 : INFO : EPOCH 23 - PROGRESS: at 82.53% examples, 343809 words/s, in_qsize 15, out_qsize 0\n",
            "2020-09-21 14:32:07,808 : INFO : EPOCH 23 - PROGRESS: at 86.20% examples, 341765 words/s, in_qsize 15, out_qsize 2\n",
            "2020-09-21 14:32:08,929 : INFO : EPOCH 23 - PROGRESS: at 90.98% examples, 342159 words/s, in_qsize 14, out_qsize 1\n",
            "2020-09-21 14:32:09,934 : INFO : EPOCH 23 - PROGRESS: at 95.56% examples, 343471 words/s, in_qsize 14, out_qsize 1\n",
            "2020-09-21 14:32:10,863 : INFO : worker thread finished; awaiting finish of 7 more threads\n",
            "2020-09-21 14:32:10,871 : INFO : worker thread finished; awaiting finish of 6 more threads\n",
            "2020-09-21 14:32:10,873 : INFO : worker thread finished; awaiting finish of 5 more threads\n",
            "2020-09-21 14:32:10,882 : INFO : worker thread finished; awaiting finish of 4 more threads\n",
            "2020-09-21 14:32:10,901 : INFO : worker thread finished; awaiting finish of 3 more threads\n",
            "2020-09-21 14:32:10,904 : INFO : worker thread finished; awaiting finish of 2 more threads\n",
            "2020-09-21 14:32:10,917 : INFO : worker thread finished; awaiting finish of 1 more threads\n",
            "2020-09-21 14:32:10,928 : INFO : worker thread finished; awaiting finish of 0 more threads\n",
            "2020-09-21 14:32:10,929 : INFO : EPOCH - 23 : training on 9227204 raw words (8223211 effective words) took 23.9s, 344496 effective words/s\n",
            "2020-09-21 14:32:11,945 : INFO : EPOCH 24 - PROGRESS: at 4.01% examples, 328454 words/s, in_qsize 16, out_qsize 0\n",
            "2020-09-21 14:32:13,025 : INFO : EPOCH 24 - PROGRESS: at 8.26% examples, 325073 words/s, in_qsize 15, out_qsize 0\n",
            "2020-09-21 14:32:14,132 : INFO : EPOCH 24 - PROGRESS: at 12.82% examples, 329646 words/s, in_qsize 13, out_qsize 2\n",
            "2020-09-21 14:32:15,145 : INFO : EPOCH 24 - PROGRESS: at 17.24% examples, 337018 words/s, in_qsize 16, out_qsize 0\n",
            "2020-09-21 14:32:16,178 : INFO : EPOCH 24 - PROGRESS: at 21.35% examples, 335215 words/s, in_qsize 14, out_qsize 1\n",
            "2020-09-21 14:32:17,190 : INFO : EPOCH 24 - PROGRESS: at 25.80% examples, 339343 words/s, in_qsize 15, out_qsize 0\n",
            "2020-09-21 14:32:18,242 : INFO : EPOCH 24 - PROGRESS: at 30.13% examples, 339337 words/s, in_qsize 16, out_qsize 2\n",
            "2020-09-21 14:32:19,347 : INFO : EPOCH 24 - PROGRESS: at 34.68% examples, 339237 words/s, in_qsize 14, out_qsize 1\n",
            "2020-09-21 14:32:20,348 : INFO : EPOCH 24 - PROGRESS: at 38.89% examples, 340058 words/s, in_qsize 15, out_qsize 0\n",
            "2020-09-21 14:32:21,423 : INFO : EPOCH 24 - PROGRESS: at 43.54% examples, 341733 words/s, in_qsize 13, out_qsize 2\n",
            "2020-09-21 14:32:22,448 : INFO : EPOCH 24 - PROGRESS: at 47.86% examples, 342269 words/s, in_qsize 15, out_qsize 0\n",
            "2020-09-21 14:32:23,480 : INFO : EPOCH 24 - PROGRESS: at 51.96% examples, 341121 words/s, in_qsize 15, out_qsize 0\n",
            "2020-09-21 14:32:24,480 : INFO : EPOCH 24 - PROGRESS: at 56.51% examples, 343573 words/s, in_qsize 15, out_qsize 0\n",
            "2020-09-21 14:32:25,498 : INFO : EPOCH 24 - PROGRESS: at 60.30% examples, 340979 words/s, in_qsize 14, out_qsize 1\n",
            "2020-09-21 14:32:26,539 : INFO : EPOCH 24 - PROGRESS: at 64.73% examples, 341624 words/s, in_qsize 14, out_qsize 1\n",
            "2020-09-21 14:32:27,572 : INFO : EPOCH 24 - PROGRESS: at 69.07% examples, 341834 words/s, in_qsize 15, out_qsize 0\n",
            "2020-09-21 14:32:28,643 : INFO : EPOCH 24 - PROGRESS: at 73.51% examples, 341769 words/s, in_qsize 15, out_qsize 0\n",
            "2020-09-21 14:32:29,647 : INFO : EPOCH 24 - PROGRESS: at 77.74% examples, 341981 words/s, in_qsize 16, out_qsize 0\n",
            "2020-09-21 14:32:30,686 : INFO : EPOCH 24 - PROGRESS: at 82.10% examples, 342039 words/s, in_qsize 15, out_qsize 0\n",
            "2020-09-21 14:32:31,688 : INFO : EPOCH 24 - PROGRESS: at 86.42% examples, 342690 words/s, in_qsize 15, out_qsize 0\n",
            "2020-09-21 14:32:32,707 : INFO : EPOCH 24 - PROGRESS: at 90.54% examples, 342189 words/s, in_qsize 15, out_qsize 0\n",
            "2020-09-21 14:32:33,748 : INFO : EPOCH 24 - PROGRESS: at 94.79% examples, 341790 words/s, in_qsize 14, out_qsize 1\n",
            "2020-09-21 14:32:34,734 : INFO : worker thread finished; awaiting finish of 7 more threads\n",
            "2020-09-21 14:32:34,753 : INFO : EPOCH 24 - PROGRESS: at 99.34% examples, 343120 words/s, in_qsize 6, out_qsize 1\n",
            "2020-09-21 14:32:34,757 : INFO : worker thread finished; awaiting finish of 6 more threads\n",
            "2020-09-21 14:32:34,765 : INFO : worker thread finished; awaiting finish of 5 more threads\n",
            "2020-09-21 14:32:34,788 : INFO : worker thread finished; awaiting finish of 4 more threads\n",
            "2020-09-21 14:32:34,817 : INFO : worker thread finished; awaiting finish of 3 more threads\n",
            "2020-09-21 14:32:34,828 : INFO : worker thread finished; awaiting finish of 2 more threads\n",
            "2020-09-21 14:32:34,840 : INFO : worker thread finished; awaiting finish of 1 more threads\n",
            "2020-09-21 14:32:34,846 : INFO : worker thread finished; awaiting finish of 0 more threads\n",
            "2020-09-21 14:32:34,847 : INFO : EPOCH - 24 : training on 9227204 raw words (8223355 effective words) took 23.9s, 344012 effective words/s\n",
            "2020-09-21 14:32:35,864 : INFO : EPOCH 25 - PROGRESS: at 3.69% examples, 301400 words/s, in_qsize 16, out_qsize 1\n",
            "2020-09-21 14:32:36,869 : INFO : EPOCH 25 - PROGRESS: at 8.04% examples, 328001 words/s, in_qsize 16, out_qsize 1\n",
            "2020-09-21 14:32:37,965 : INFO : EPOCH 25 - PROGRESS: at 12.39% examples, 327048 words/s, in_qsize 15, out_qsize 0\n",
            "2020-09-21 14:32:38,983 : INFO : EPOCH 25 - PROGRESS: at 16.60% examples, 330507 words/s, in_qsize 14, out_qsize 1\n",
            "2020-09-21 14:32:40,039 : INFO : EPOCH 25 - PROGRESS: at 21.03% examples, 333625 words/s, in_qsize 16, out_qsize 0\n",
            "2020-09-21 14:32:41,103 : INFO : EPOCH 25 - PROGRESS: at 25.48% examples, 335312 words/s, in_qsize 15, out_qsize 0\n",
            "2020-09-21 14:32:42,191 : INFO : EPOCH 25 - PROGRESS: at 29.91% examples, 335372 words/s, in_qsize 15, out_qsize 0\n",
            "2020-09-21 14:32:43,242 : INFO : EPOCH 25 - PROGRESS: at 34.35% examples, 337865 words/s, in_qsize 15, out_qsize 1\n",
            "2020-09-21 14:32:44,220 : INFO : EPOCH 25 - PROGRESS: at 38.78% examples, 340732 words/s, in_qsize 15, out_qsize 0\n",
            "2020-09-21 14:32:45,264 : INFO : EPOCH 25 - PROGRESS: at 42.89% examples, 339083 words/s, in_qsize 15, out_qsize 0\n",
            "2020-09-21 14:32:46,283 : INFO : EPOCH 25 - PROGRESS: at 46.89% examples, 337669 words/s, in_qsize 13, out_qsize 2\n",
            "2020-09-21 14:32:47,341 : INFO : EPOCH 25 - PROGRESS: at 51.43% examples, 339057 words/s, in_qsize 14, out_qsize 1\n",
            "2020-09-21 14:32:48,426 : INFO : EPOCH 25 - PROGRESS: at 55.64% examples, 337562 words/s, in_qsize 10, out_qsize 5\n",
            "2020-09-21 14:32:49,443 : INFO : EPOCH 25 - PROGRESS: at 60.30% examples, 340301 words/s, in_qsize 15, out_qsize 0\n",
            "2020-09-21 14:32:50,453 : INFO : EPOCH 25 - PROGRESS: at 64.19% examples, 338797 words/s, in_qsize 15, out_qsize 0\n",
            "2020-09-21 14:32:51,510 : INFO : EPOCH 25 - PROGRESS: at 68.85% examples, 340302 words/s, in_qsize 15, out_qsize 0\n",
            "2020-09-21 14:32:52,542 : INFO : EPOCH 25 - PROGRESS: at 73.19% examples, 340557 words/s, in_qsize 15, out_qsize 0\n",
            "2020-09-21 14:32:53,570 : INFO : EPOCH 25 - PROGRESS: at 77.09% examples, 338978 words/s, in_qsize 15, out_qsize 0\n",
            "2020-09-21 14:32:54,591 : INFO : EPOCH 25 - PROGRESS: at 81.55% examples, 339951 words/s, in_qsize 16, out_qsize 0\n",
            "2020-09-21 14:32:55,647 : INFO : EPOCH 25 - PROGRESS: at 85.66% examples, 338951 words/s, in_qsize 15, out_qsize 2\n",
            "2020-09-21 14:32:56,652 : INFO : EPOCH 25 - PROGRESS: at 90.11% examples, 340074 words/s, in_qsize 15, out_qsize 0\n",
            "2020-09-21 14:32:57,661 : INFO : EPOCH 25 - PROGRESS: at 94.14% examples, 339473 words/s, in_qsize 14, out_qsize 2\n",
            "2020-09-21 14:32:58,720 : INFO : EPOCH 25 - PROGRESS: at 98.47% examples, 339357 words/s, in_qsize 15, out_qsize 0\n",
            "2020-09-21 14:32:58,817 : INFO : worker thread finished; awaiting finish of 7 more threads\n",
            "2020-09-21 14:32:58,841 : INFO : worker thread finished; awaiting finish of 6 more threads\n",
            "2020-09-21 14:32:58,883 : INFO : worker thread finished; awaiting finish of 5 more threads\n",
            "2020-09-21 14:32:58,890 : INFO : worker thread finished; awaiting finish of 4 more threads\n",
            "2020-09-21 14:32:58,898 : INFO : worker thread finished; awaiting finish of 3 more threads\n",
            "2020-09-21 14:32:58,907 : INFO : worker thread finished; awaiting finish of 2 more threads\n",
            "2020-09-21 14:32:58,918 : INFO : worker thread finished; awaiting finish of 1 more threads\n",
            "2020-09-21 14:32:58,924 : INFO : worker thread finished; awaiting finish of 0 more threads\n",
            "2020-09-21 14:32:58,925 : INFO : EPOCH - 25 : training on 9227204 raw words (8222980 effective words) took 24.1s, 341688 effective words/s\n",
            "2020-09-21 14:32:59,970 : INFO : EPOCH 26 - PROGRESS: at 3.69% examples, 294526 words/s, in_qsize 15, out_qsize 0\n",
            "2020-09-21 14:33:01,021 : INFO : EPOCH 26 - PROGRESS: at 8.26% examples, 325693 words/s, in_qsize 14, out_qsize 1\n",
            "2020-09-21 14:33:02,084 : INFO : EPOCH 26 - PROGRESS: at 12.39% examples, 323293 words/s, in_qsize 12, out_qsize 3\n",
            "2020-09-21 14:33:03,146 : INFO : EPOCH 26 - PROGRESS: at 16.81% examples, 328457 words/s, in_qsize 14, out_qsize 2\n",
            "2020-09-21 14:33:04,159 : INFO : EPOCH 26 - PROGRESS: at 21.35% examples, 336365 words/s, in_qsize 15, out_qsize 0\n",
            "2020-09-21 14:33:05,187 : INFO : EPOCH 26 - PROGRESS: at 25.80% examples, 339506 words/s, in_qsize 16, out_qsize 0\n",
            "2020-09-21 14:33:06,202 : INFO : EPOCH 26 - PROGRESS: at 29.80% examples, 337430 words/s, in_qsize 15, out_qsize 0\n",
            "2020-09-21 14:33:07,283 : INFO : EPOCH 26 - PROGRESS: at 33.92% examples, 334262 words/s, in_qsize 13, out_qsize 6\n",
            "2020-09-21 14:33:08,331 : INFO : EPOCH 26 - PROGRESS: at 38.46% examples, 336856 words/s, in_qsize 15, out_qsize 0\n",
            "2020-09-21 14:33:09,335 : INFO : EPOCH 26 - PROGRESS: at 42.78% examples, 338579 words/s, in_qsize 16, out_qsize 0\n",
            "2020-09-21 14:33:10,365 : INFO : EPOCH 26 - PROGRESS: at 46.89% examples, 337683 words/s, in_qsize 16, out_qsize 2\n",
            "2020-09-21 14:33:11,388 : INFO : EPOCH 26 - PROGRESS: at 51.32% examples, 339303 words/s, in_qsize 15, out_qsize 0\n",
            "2020-09-21 14:33:12,465 : INFO : EPOCH 26 - PROGRESS: at 55.64% examples, 338659 words/s, in_qsize 15, out_qsize 0\n",
            "2020-09-21 14:33:13,500 : INFO : EPOCH 26 - PROGRESS: at 60.09% examples, 339683 words/s, in_qsize 15, out_qsize 0\n",
            "2020-09-21 14:33:14,523 : INFO : EPOCH 26 - PROGRESS: at 64.40% examples, 340248 words/s, in_qsize 14, out_qsize 1\n",
            "2020-09-21 14:33:15,549 : INFO : EPOCH 26 - PROGRESS: at 68.75% examples, 340700 words/s, in_qsize 15, out_qsize 1\n",
            "2020-09-21 14:33:16,602 : INFO : EPOCH 26 - PROGRESS: at 73.08% examples, 340562 words/s, in_qsize 16, out_qsize 0\n",
            "2020-09-21 14:33:17,628 : INFO : EPOCH 26 - PROGRESS: at 77.31% examples, 340443 words/s, in_qsize 14, out_qsize 1\n",
            "2020-09-21 14:33:18,682 : INFO : EPOCH 26 - PROGRESS: at 82.10% examples, 342124 words/s, in_qsize 15, out_qsize 0\n",
            "2020-09-21 14:33:19,781 : INFO : EPOCH 26 - PROGRESS: at 86.21% examples, 340327 words/s, in_qsize 16, out_qsize 0\n",
            "2020-09-21 14:33:20,809 : INFO : EPOCH 26 - PROGRESS: at 90.54% examples, 340606 words/s, in_qsize 16, out_qsize 1\n",
            "2020-09-21 14:33:21,814 : INFO : EPOCH 26 - PROGRESS: at 95.01% examples, 341590 words/s, in_qsize 13, out_qsize 3\n",
            "2020-09-21 14:33:22,748 : INFO : worker thread finished; awaiting finish of 7 more threads\n",
            "2020-09-21 14:33:22,791 : INFO : worker thread finished; awaiting finish of 6 more threads\n",
            "2020-09-21 14:33:22,848 : INFO : EPOCH 26 - PROGRESS: at 99.45% examples, 342132 words/s, in_qsize 5, out_qsize 1\n",
            "2020-09-21 14:33:22,850 : INFO : worker thread finished; awaiting finish of 5 more threads\n",
            "2020-09-21 14:33:22,859 : INFO : worker thread finished; awaiting finish of 4 more threads\n",
            "2020-09-21 14:33:22,861 : INFO : worker thread finished; awaiting finish of 3 more threads\n",
            "2020-09-21 14:33:22,883 : INFO : worker thread finished; awaiting finish of 2 more threads\n",
            "2020-09-21 14:33:22,885 : INFO : worker thread finished; awaiting finish of 1 more threads\n",
            "2020-09-21 14:33:22,893 : INFO : worker thread finished; awaiting finish of 0 more threads\n",
            "2020-09-21 14:33:22,894 : INFO : EPOCH - 26 : training on 9227204 raw words (8223773 effective words) took 24.0s, 343335 effective words/s\n",
            "2020-09-21 14:33:24,021 : INFO : EPOCH 27 - PROGRESS: at 3.91% examples, 287554 words/s, in_qsize 15, out_qsize 0\n",
            "2020-09-21 14:33:25,051 : INFO : EPOCH 27 - PROGRESS: at 8.25% examples, 315649 words/s, in_qsize 16, out_qsize 0\n",
            "2020-09-21 14:33:26,087 : INFO : EPOCH 27 - PROGRESS: at 12.60% examples, 324886 words/s, in_qsize 14, out_qsize 1\n",
            "2020-09-21 14:33:27,143 : INFO : EPOCH 27 - PROGRESS: at 16.81% examples, 325870 words/s, in_qsize 15, out_qsize 7\n",
            "2020-09-21 14:33:28,167 : INFO : EPOCH 27 - PROGRESS: at 21.14% examples, 330202 words/s, in_qsize 15, out_qsize 3\n",
            "2020-09-21 14:33:29,193 : INFO : EPOCH 27 - PROGRESS: at 25.59% examples, 334445 words/s, in_qsize 14, out_qsize 1\n",
            "2020-09-21 14:33:30,212 : INFO : EPOCH 27 - PROGRESS: at 29.48% examples, 331686 words/s, in_qsize 13, out_qsize 5\n",
            "2020-09-21 14:33:31,246 : INFO : EPOCH 27 - PROGRESS: at 34.13% examples, 336470 words/s, in_qsize 16, out_qsize 0\n",
            "2020-09-21 14:33:32,263 : INFO : EPOCH 27 - PROGRESS: at 38.25% examples, 336070 words/s, in_qsize 15, out_qsize 0\n",
            "2020-09-21 14:33:33,263 : INFO : EPOCH 27 - PROGRESS: at 42.57% examples, 338016 words/s, in_qsize 16, out_qsize 0\n",
            "2020-09-21 14:33:34,280 : INFO : EPOCH 27 - PROGRESS: at 46.89% examples, 339107 words/s, in_qsize 16, out_qsize 0\n",
            "2020-09-21 14:33:35,369 : INFO : EPOCH 27 - PROGRESS: at 51.10% examples, 337361 words/s, in_qsize 16, out_qsize 2\n",
            "2020-09-21 14:33:36,453 : INFO : EPOCH 27 - PROGRESS: at 55.86% examples, 339359 words/s, in_qsize 15, out_qsize 0\n",
            "2020-09-21 14:33:37,476 : INFO : EPOCH 27 - PROGRESS: at 60.09% examples, 339400 words/s, in_qsize 12, out_qsize 3\n",
            "2020-09-21 14:33:38,484 : INFO : EPOCH 27 - PROGRESS: at 64.19% examples, 339155 words/s, in_qsize 15, out_qsize 2\n",
            "2020-09-21 14:33:39,498 : INFO : EPOCH 27 - PROGRESS: at 68.85% examples, 341531 words/s, in_qsize 15, out_qsize 0\n",
            "2020-09-21 14:33:40,506 : INFO : EPOCH 27 - PROGRESS: at 72.97% examples, 341189 words/s, in_qsize 15, out_qsize 0\n",
            "2020-09-21 14:33:41,518 : INFO : EPOCH 27 - PROGRESS: at 77.09% examples, 340829 words/s, in_qsize 15, out_qsize 0\n",
            "2020-09-21 14:33:42,526 : INFO : EPOCH 27 - PROGRESS: at 81.34% examples, 341033 words/s, in_qsize 15, out_qsize 1\n",
            "2020-09-21 14:33:43,528 : INFO : EPOCH 27 - PROGRESS: at 85.34% examples, 340442 words/s, in_qsize 13, out_qsize 6\n",
            "2020-09-21 14:33:44,580 : INFO : EPOCH 27 - PROGRESS: at 90.11% examples, 341980 words/s, in_qsize 15, out_qsize 0\n",
            "2020-09-21 14:33:45,619 : INFO : EPOCH 27 - PROGRESS: at 94.46% examples, 342006 words/s, in_qsize 15, out_qsize 0\n",
            "2020-09-21 14:33:46,670 : INFO : EPOCH 27 - PROGRESS: at 98.69% examples, 341497 words/s, in_qsize 13, out_qsize 0\n",
            "2020-09-21 14:33:46,733 : INFO : worker thread finished; awaiting finish of 7 more threads\n",
            "2020-09-21 14:33:46,738 : INFO : worker thread finished; awaiting finish of 6 more threads\n",
            "2020-09-21 14:33:46,744 : INFO : worker thread finished; awaiting finish of 5 more threads\n",
            "2020-09-21 14:33:46,771 : INFO : worker thread finished; awaiting finish of 4 more threads\n",
            "2020-09-21 14:33:46,790 : INFO : worker thread finished; awaiting finish of 3 more threads\n",
            "2020-09-21 14:33:46,815 : INFO : worker thread finished; awaiting finish of 2 more threads\n",
            "2020-09-21 14:33:46,822 : INFO : worker thread finished; awaiting finish of 1 more threads\n",
            "2020-09-21 14:33:46,824 : INFO : worker thread finished; awaiting finish of 0 more threads\n",
            "2020-09-21 14:33:46,826 : INFO : EPOCH - 27 : training on 9227204 raw words (8223406 effective words) took 23.9s, 343791 effective words/s\n",
            "2020-09-21 14:33:47,844 : INFO : EPOCH 28 - PROGRESS: at 3.91% examples, 318569 words/s, in_qsize 15, out_qsize 0\n",
            "2020-09-21 14:33:48,915 : INFO : EPOCH 28 - PROGRESS: at 8.26% examples, 325892 words/s, in_qsize 15, out_qsize 0\n",
            "2020-09-21 14:33:49,961 : INFO : EPOCH 28 - PROGRESS: at 12.50% examples, 328022 words/s, in_qsize 15, out_qsize 0\n",
            "2020-09-21 14:33:50,964 : INFO : EPOCH 28 - PROGRESS: at 16.70% examples, 332406 words/s, in_qsize 14, out_qsize 1\n",
            "2020-09-21 14:33:52,063 : INFO : EPOCH 28 - PROGRESS: at 21.03% examples, 330709 words/s, in_qsize 16, out_qsize 7\n",
            "2020-09-21 14:33:53,118 : INFO : EPOCH 28 - PROGRESS: at 25.59% examples, 334754 words/s, in_qsize 15, out_qsize 0\n",
            "2020-09-21 14:33:54,138 : INFO : EPOCH 28 - PROGRESS: at 29.80% examples, 335584 words/s, in_qsize 16, out_qsize 0\n",
            "2020-09-21 14:33:55,148 : INFO : EPOCH 28 - PROGRESS: at 34.02% examples, 336613 words/s, in_qsize 15, out_qsize 0\n",
            "2020-09-21 14:33:56,227 : INFO : EPOCH 28 - PROGRESS: at 38.35% examples, 335864 words/s, in_qsize 15, out_qsize 0\n",
            "2020-09-21 14:33:57,239 : INFO : EPOCH 28 - PROGRESS: at 42.68% examples, 337409 words/s, in_qsize 13, out_qsize 2\n",
            "2020-09-21 14:33:58,270 : INFO : EPOCH 28 - PROGRESS: at 46.35% examples, 333474 words/s, in_qsize 15, out_qsize 4\n",
            "2020-09-21 14:33:59,304 : INFO : EPOCH 28 - PROGRESS: at 50.89% examples, 336698 words/s, in_qsize 15, out_qsize 1\n",
            "2020-09-21 14:34:00,297 : INFO : EPOCH 28 - PROGRESS: at 54.99% examples, 336238 words/s, in_qsize 16, out_qsize 0\n",
            "2020-09-21 14:34:01,308 : INFO : EPOCH 28 - PROGRESS: at 59.12% examples, 336164 words/s, in_qsize 15, out_qsize 0\n",
            "2020-09-21 14:34:02,312 : INFO : EPOCH 28 - PROGRESS: at 63.54% examples, 337947 words/s, in_qsize 15, out_qsize 0\n",
            "2020-09-21 14:34:03,420 : INFO : EPOCH 28 - PROGRESS: at 67.56% examples, 336007 words/s, in_qsize 15, out_qsize 0\n",
            "2020-09-21 14:34:04,438 : INFO : EPOCH 28 - PROGRESS: at 71.99% examples, 336617 words/s, in_qsize 15, out_qsize 0\n",
            "2020-09-21 14:34:05,444 : INFO : EPOCH 28 - PROGRESS: at 76.11% examples, 336585 words/s, in_qsize 15, out_qsize 0\n",
            "2020-09-21 14:34:06,541 : INFO : EPOCH 28 - PROGRESS: at 80.35% examples, 335482 words/s, in_qsize 15, out_qsize 0\n",
            "2020-09-21 14:34:07,585 : INFO : EPOCH 28 - PROGRESS: at 84.80% examples, 336219 words/s, in_qsize 15, out_qsize 0\n",
            "2020-09-21 14:34:08,612 : INFO : EPOCH 28 - PROGRESS: at 89.23% examples, 337122 words/s, in_qsize 16, out_qsize 0\n",
            "2020-09-21 14:34:09,677 : INFO : EPOCH 28 - PROGRESS: at 93.26% examples, 335813 words/s, in_qsize 15, out_qsize 0\n",
            "2020-09-21 14:34:10,691 : INFO : EPOCH 28 - PROGRESS: at 97.39% examples, 335719 words/s, in_qsize 13, out_qsize 2\n",
            "2020-09-21 14:34:11,066 : INFO : worker thread finished; awaiting finish of 7 more threads\n",
            "2020-09-21 14:34:11,087 : INFO : worker thread finished; awaiting finish of 6 more threads\n",
            "2020-09-21 14:34:11,104 : INFO : worker thread finished; awaiting finish of 5 more threads\n",
            "2020-09-21 14:34:11,147 : INFO : worker thread finished; awaiting finish of 4 more threads\n",
            "2020-09-21 14:34:11,152 : INFO : worker thread finished; awaiting finish of 3 more threads\n",
            "2020-09-21 14:34:11,158 : INFO : worker thread finished; awaiting finish of 2 more threads\n",
            "2020-09-21 14:34:11,166 : INFO : worker thread finished; awaiting finish of 1 more threads\n",
            "2020-09-21 14:34:11,167 : INFO : worker thread finished; awaiting finish of 0 more threads\n",
            "2020-09-21 14:34:11,169 : INFO : EPOCH - 28 : training on 9227204 raw words (8223066 effective words) took 24.3s, 337964 effective words/s\n",
            "2020-09-21 14:34:12,213 : INFO : EPOCH 29 - PROGRESS: at 3.47% examples, 278308 words/s, in_qsize 13, out_qsize 2\n",
            "2020-09-21 14:34:13,292 : INFO : EPOCH 29 - PROGRESS: at 7.93% examples, 309170 words/s, in_qsize 14, out_qsize 2\n",
            "2020-09-21 14:34:14,307 : INFO : EPOCH 29 - PROGRESS: at 12.17% examples, 319985 words/s, in_qsize 15, out_qsize 0\n",
            "2020-09-21 14:34:15,440 : INFO : EPOCH 29 - PROGRESS: at 16.81% examples, 324694 words/s, in_qsize 15, out_qsize 0\n",
            "2020-09-21 14:34:16,442 : INFO : EPOCH 29 - PROGRESS: at 21.03% examples, 328996 words/s, in_qsize 15, out_qsize 0\n",
            "2020-09-21 14:34:17,485 : INFO : EPOCH 29 - PROGRESS: at 25.15% examples, 328294 words/s, in_qsize 15, out_qsize 3\n",
            "2020-09-21 14:34:18,488 : INFO : EPOCH 29 - PROGRESS: at 29.70% examples, 334454 words/s, in_qsize 16, out_qsize 0\n",
            "2020-09-21 14:34:19,489 : INFO : EPOCH 29 - PROGRESS: at 33.92% examples, 335928 words/s, in_qsize 16, out_qsize 0\n",
            "2020-09-21 14:34:20,502 : INFO : EPOCH 29 - PROGRESS: at 38.25% examples, 337651 words/s, in_qsize 15, out_qsize 0\n",
            "2020-09-21 14:34:21,544 : INFO : EPOCH 29 - PROGRESS: at 42.24% examples, 336573 words/s, in_qsize 16, out_qsize 1\n",
            "2020-09-21 14:34:22,520 : INFO : EPOCH 29 - PROGRESS: at 46.13% examples, 334879 words/s, in_qsize 12, out_qsize 4\n",
            "2020-09-21 14:34:23,600 : INFO : EPOCH 29 - PROGRESS: at 50.56% examples, 336379 words/s, in_qsize 15, out_qsize 3\n",
            "2020-09-21 14:34:24,593 : INFO : EPOCH 29 - PROGRESS: at 54.89% examples, 336974 words/s, in_qsize 15, out_qsize 3\n",
            "2020-09-21 14:34:25,605 : INFO : EPOCH 29 - PROGRESS: at 59.12% examples, 337432 words/s, in_qsize 15, out_qsize 0\n",
            "2020-09-21 14:34:26,639 : INFO : EPOCH 29 - PROGRESS: at 63.22% examples, 336778 words/s, in_qsize 14, out_qsize 1\n",
            "2020-09-21 14:34:27,646 : INFO : EPOCH 29 - PROGRESS: at 67.88% examples, 339449 words/s, in_qsize 13, out_qsize 2\n",
            "2020-09-21 14:34:28,674 : INFO : EPOCH 29 - PROGRESS: at 71.67% examples, 337312 words/s, in_qsize 13, out_qsize 2\n",
            "2020-09-21 14:34:29,696 : INFO : EPOCH 29 - PROGRESS: at 76.33% examples, 339375 words/s, in_qsize 15, out_qsize 0\n",
            "2020-09-21 14:34:30,708 : INFO : EPOCH 29 - PROGRESS: at 80.36% examples, 338655 words/s, in_qsize 15, out_qsize 0\n",
            "2020-09-21 14:34:31,741 : INFO : EPOCH 29 - PROGRESS: at 84.48% examples, 338103 words/s, in_qsize 14, out_qsize 1\n",
            "2020-09-21 14:34:32,752 : INFO : EPOCH 29 - PROGRESS: at 88.70% examples, 338367 words/s, in_qsize 15, out_qsize 0\n",
            "2020-09-21 14:34:33,801 : INFO : EPOCH 29 - PROGRESS: at 93.05% examples, 338399 words/s, in_qsize 16, out_qsize 2\n",
            "2020-09-21 14:34:34,929 : INFO : EPOCH 29 - PROGRESS: at 97.72% examples, 338458 words/s, in_qsize 14, out_qsize 1\n",
            "2020-09-21 14:34:35,234 : INFO : worker thread finished; awaiting finish of 7 more threads\n",
            "2020-09-21 14:34:35,246 : INFO : worker thread finished; awaiting finish of 6 more threads\n",
            "2020-09-21 14:34:35,256 : INFO : worker thread finished; awaiting finish of 5 more threads\n",
            "2020-09-21 14:34:35,258 : INFO : worker thread finished; awaiting finish of 4 more threads\n",
            "2020-09-21 14:34:35,270 : INFO : worker thread finished; awaiting finish of 3 more threads\n",
            "2020-09-21 14:34:35,291 : INFO : worker thread finished; awaiting finish of 2 more threads\n",
            "2020-09-21 14:34:35,316 : INFO : worker thread finished; awaiting finish of 1 more threads\n",
            "2020-09-21 14:34:35,322 : INFO : worker thread finished; awaiting finish of 0 more threads\n",
            "2020-09-21 14:34:35,323 : INFO : EPOCH - 29 : training on 9227204 raw words (8223523 effective words) took 24.1s, 340736 effective words/s\n",
            "2020-09-21 14:34:36,399 : INFO : EPOCH 30 - PROGRESS: at 3.80% examples, 292646 words/s, in_qsize 15, out_qsize 0\n",
            "2020-09-21 14:34:37,436 : INFO : EPOCH 30 - PROGRESS: at 8.04% examples, 313639 words/s, in_qsize 12, out_qsize 3\n",
            "2020-09-21 14:34:38,450 : INFO : EPOCH 30 - PROGRESS: at 12.71% examples, 335063 words/s, in_qsize 14, out_qsize 1\n",
            "2020-09-21 14:34:39,547 : INFO : EPOCH 30 - PROGRESS: at 16.92% examples, 329823 words/s, in_qsize 14, out_qsize 1\n",
            "2020-09-21 14:34:40,559 : INFO : EPOCH 30 - PROGRESS: at 21.25% examples, 334157 words/s, in_qsize 16, out_qsize 0\n",
            "2020-09-21 14:34:41,575 : INFO : EPOCH 30 - PROGRESS: at 25.59% examples, 336863 words/s, in_qsize 16, out_qsize 0\n",
            "2020-09-21 14:34:42,579 : INFO : EPOCH 30 - PROGRESS: at 29.80% examples, 338180 words/s, in_qsize 16, out_qsize 0\n",
            "2020-09-21 14:34:43,678 : INFO : EPOCH 30 - PROGRESS: at 34.02% examples, 335283 words/s, in_qsize 10, out_qsize 5\n",
            "2020-09-21 14:34:44,761 : INFO : EPOCH 30 - PROGRESS: at 38.67% examples, 337387 words/s, in_qsize 14, out_qsize 1\n",
            "2020-09-21 14:34:45,762 : INFO : EPOCH 30 - PROGRESS: at 43.00% examples, 339169 words/s, in_qsize 13, out_qsize 1\n",
            "2020-09-21 14:34:46,767 : INFO : EPOCH 30 - PROGRESS: at 47.43% examples, 341280 words/s, in_qsize 15, out_qsize 0\n",
            "2020-09-21 14:34:47,803 : INFO : EPOCH 30 - PROGRESS: at 51.21% examples, 337970 words/s, in_qsize 14, out_qsize 1\n",
            "2020-09-21 14:34:48,832 : INFO : EPOCH 30 - PROGRESS: at 55.42% examples, 337928 words/s, in_qsize 12, out_qsize 3\n",
            "2020-09-21 14:34:49,861 : INFO : EPOCH 30 - PROGRESS: at 59.97% examples, 339753 words/s, in_qsize 15, out_qsize 0\n",
            "2020-09-21 14:34:50,873 : INFO : EPOCH 30 - PROGRESS: at 63.97% examples, 338824 words/s, in_qsize 13, out_qsize 2\n",
            "2020-09-21 14:34:51,902 : INFO : EPOCH 30 - PROGRESS: at 68.32% examples, 339292 words/s, in_qsize 16, out_qsize 1\n",
            "2020-09-21 14:34:52,915 : INFO : EPOCH 30 - PROGRESS: at 72.43% examples, 338993 words/s, in_qsize 10, out_qsize 5\n",
            "2020-09-21 14:34:53,923 : INFO : EPOCH 30 - PROGRESS: at 76.88% examples, 340241 words/s, in_qsize 15, out_qsize 0\n",
            "2020-09-21 14:34:54,948 : INFO : EPOCH 30 - PROGRESS: at 81.12% examples, 340169 words/s, in_qsize 13, out_qsize 2\n",
            "2020-09-21 14:34:56,019 : INFO : EPOCH 30 - PROGRESS: at 85.66% examples, 340641 words/s, in_qsize 16, out_qsize 0\n",
            "2020-09-21 14:34:57,145 : INFO : EPOCH 30 - PROGRESS: at 90.33% examples, 340607 words/s, in_qsize 16, out_qsize 1\n",
            "2020-09-21 14:34:58,175 : INFO : EPOCH 30 - PROGRESS: at 94.69% examples, 340840 words/s, in_qsize 15, out_qsize 0\n",
            "2020-09-21 14:34:59,207 : INFO : EPOCH 30 - PROGRESS: at 98.58% examples, 339531 words/s, in_qsize 11, out_qsize 3\n",
            "2020-09-21 14:34:59,250 : INFO : worker thread finished; awaiting finish of 7 more threads\n",
            "2020-09-21 14:34:59,267 : INFO : worker thread finished; awaiting finish of 6 more threads\n",
            "2020-09-21 14:34:59,297 : INFO : worker thread finished; awaiting finish of 5 more threads\n",
            "2020-09-21 14:34:59,313 : INFO : worker thread finished; awaiting finish of 4 more threads\n",
            "2020-09-21 14:34:59,338 : INFO : worker thread finished; awaiting finish of 3 more threads\n",
            "2020-09-21 14:34:59,342 : INFO : worker thread finished; awaiting finish of 2 more threads\n",
            "2020-09-21 14:34:59,354 : INFO : worker thread finished; awaiting finish of 1 more threads\n",
            "2020-09-21 14:34:59,355 : INFO : worker thread finished; awaiting finish of 0 more threads\n",
            "2020-09-21 14:34:59,356 : INFO : EPOCH - 30 : training on 9227204 raw words (8222202 effective words) took 24.0s, 342289 effective words/s\n",
            "2020-09-21 14:35:00,399 : INFO : EPOCH 31 - PROGRESS: at 3.69% examples, 294497 words/s, in_qsize 15, out_qsize 0\n",
            "2020-09-21 14:35:01,407 : INFO : EPOCH 31 - PROGRESS: at 7.93% examples, 319416 words/s, in_qsize 16, out_qsize 0\n",
            "2020-09-21 14:35:02,455 : INFO : EPOCH 31 - PROGRESS: at 12.17% examples, 323571 words/s, in_qsize 14, out_qsize 1\n",
            "2020-09-21 14:35:03,456 : INFO : EPOCH 31 - PROGRESS: at 16.70% examples, 335730 words/s, in_qsize 16, out_qsize 0\n",
            "2020-09-21 14:35:04,470 : INFO : EPOCH 31 - PROGRESS: at 20.59% examples, 331831 words/s, in_qsize 14, out_qsize 1\n",
            "2020-09-21 14:35:05,516 : INFO : EPOCH 31 - PROGRESS: at 24.94% examples, 333349 words/s, in_qsize 14, out_qsize 2\n",
            "2020-09-21 14:35:06,603 : INFO : EPOCH 31 - PROGRESS: at 29.26% examples, 332544 words/s, in_qsize 15, out_qsize 3\n",
            "2020-09-21 14:35:07,709 : INFO : EPOCH 31 - PROGRESS: at 33.81% examples, 334763 words/s, in_qsize 16, out_qsize 2\n",
            "2020-09-21 14:35:08,765 : INFO : EPOCH 31 - PROGRESS: at 38.46% examples, 336568 words/s, in_qsize 15, out_qsize 0\n",
            "2020-09-21 14:35:09,785 : INFO : EPOCH 31 - PROGRESS: at 42.25% examples, 334122 words/s, in_qsize 13, out_qsize 6\n",
            "2020-09-21 14:35:10,802 : INFO : EPOCH 31 - PROGRESS: at 46.78% examples, 336590 words/s, in_qsize 16, out_qsize 0\n",
            "2020-09-21 14:35:11,862 : INFO : EPOCH 31 - PROGRESS: at 51.10% examples, 336805 words/s, in_qsize 15, out_qsize 2\n",
            "2020-09-21 14:35:12,857 : INFO : EPOCH 31 - PROGRESS: at 55.21% examples, 336873 words/s, in_qsize 15, out_qsize 0\n",
            "2020-09-21 14:35:13,862 : INFO : EPOCH 31 - PROGRESS: at 59.44% examples, 337508 words/s, in_qsize 14, out_qsize 1\n",
            "2020-09-21 14:35:14,881 : INFO : EPOCH 31 - PROGRESS: at 63.65% examples, 337705 words/s, in_qsize 15, out_qsize 0\n",
            "2020-09-21 14:35:15,968 : INFO : EPOCH 31 - PROGRESS: at 68.21% examples, 338143 words/s, in_qsize 14, out_qsize 1\n",
            "2020-09-21 14:35:17,095 : INFO : EPOCH 31 - PROGRESS: at 72.97% examples, 338726 words/s, in_qsize 15, out_qsize 0\n",
            "2020-09-21 14:35:18,102 : INFO : EPOCH 31 - PROGRESS: at 77.31% examples, 339542 words/s, in_qsize 16, out_qsize 0\n",
            "2020-09-21 14:35:19,110 : INFO : EPOCH 31 - PROGRESS: at 81.55% examples, 339802 words/s, in_qsize 15, out_qsize 0\n",
            "2020-09-21 14:35:20,157 : INFO : EPOCH 31 - PROGRESS: at 85.77% examples, 339392 words/s, in_qsize 14, out_qsize 1\n",
            "2020-09-21 14:35:21,191 : INFO : EPOCH 31 - PROGRESS: at 89.89% examples, 338829 words/s, in_qsize 15, out_qsize 0\n",
            "2020-09-21 14:35:22,238 : INFO : EPOCH 31 - PROGRESS: at 94.69% examples, 340427 words/s, in_qsize 15, out_qsize 0\n",
            "2020-09-21 14:35:23,321 : INFO : EPOCH 31 - PROGRESS: at 98.69% examples, 339244 words/s, in_qsize 13, out_qsize 2\n",
            "2020-09-21 14:35:23,377 : INFO : worker thread finished; awaiting finish of 7 more threads\n",
            "2020-09-21 14:35:23,386 : INFO : worker thread finished; awaiting finish of 6 more threads\n",
            "2020-09-21 14:35:23,401 : INFO : worker thread finished; awaiting finish of 5 more threads\n",
            "2020-09-21 14:35:23,424 : INFO : worker thread finished; awaiting finish of 4 more threads\n",
            "2020-09-21 14:35:23,459 : INFO : worker thread finished; awaiting finish of 3 more threads\n",
            "2020-09-21 14:35:23,466 : INFO : worker thread finished; awaiting finish of 2 more threads\n",
            "2020-09-21 14:35:23,470 : INFO : worker thread finished; awaiting finish of 1 more threads\n",
            "2020-09-21 14:35:23,472 : INFO : worker thread finished; awaiting finish of 0 more threads\n",
            "2020-09-21 14:35:23,473 : INFO : EPOCH - 31 : training on 9227204 raw words (8222263 effective words) took 24.1s, 341143 effective words/s\n",
            "2020-09-21 14:35:24,524 : INFO : EPOCH 32 - PROGRESS: at 3.69% examples, 291031 words/s, in_qsize 15, out_qsize 0\n",
            "2020-09-21 14:35:25,554 : INFO : EPOCH 32 - PROGRESS: at 7.60% examples, 301066 words/s, in_qsize 16, out_qsize 5\n",
            "2020-09-21 14:35:26,556 : INFO : EPOCH 32 - PROGRESS: at 12.06% examples, 321715 words/s, in_qsize 14, out_qsize 1\n",
            "2020-09-21 14:35:27,605 : INFO : EPOCH 32 - PROGRESS: at 16.48% examples, 328363 words/s, in_qsize 15, out_qsize 0\n",
            "2020-09-21 14:35:28,678 : INFO : EPOCH 32 - PROGRESS: at 20.70% examples, 327408 words/s, in_qsize 13, out_qsize 6\n",
            "2020-09-21 14:35:29,679 : INFO : EPOCH 32 - PROGRESS: at 25.26% examples, 334920 words/s, in_qsize 15, out_qsize 0\n",
            "2020-09-21 14:35:30,688 : INFO : EPOCH 32 - PROGRESS: at 29.59% examples, 337488 words/s, in_qsize 14, out_qsize 1\n",
            "2020-09-21 14:35:31,701 : INFO : EPOCH 32 - PROGRESS: at 33.70% examples, 337046 words/s, in_qsize 16, out_qsize 0\n",
            "2020-09-21 14:35:32,740 : INFO : EPOCH 32 - PROGRESS: at 37.59% examples, 333878 words/s, in_qsize 16, out_qsize 2\n",
            "2020-09-21 14:35:33,759 : INFO : EPOCH 32 - PROGRESS: at 42.24% examples, 338628 words/s, in_qsize 15, out_qsize 0\n",
            "2020-09-21 14:35:34,793 : INFO : EPOCH 32 - PROGRESS: at 46.57% examples, 338649 words/s, in_qsize 15, out_qsize 0\n",
            "2020-09-21 14:35:35,865 : INFO : EPOCH 32 - PROGRESS: at 50.78% examples, 338034 words/s, in_qsize 15, out_qsize 0\n",
            "2020-09-21 14:35:36,874 : INFO : EPOCH 32 - PROGRESS: at 55.21% examples, 339291 words/s, in_qsize 16, out_qsize 0\n",
            "2020-09-21 14:35:37,932 : INFO : EPOCH 32 - PROGRESS: at 59.34% examples, 337892 words/s, in_qsize 13, out_qsize 2\n",
            "2020-09-21 14:35:38,947 : INFO : EPOCH 32 - PROGRESS: at 63.65% examples, 338761 words/s, in_qsize 15, out_qsize 0\n",
            "2020-09-21 14:35:39,971 : INFO : EPOCH 32 - PROGRESS: at 68.10% examples, 339858 words/s, in_qsize 16, out_qsize 0\n",
            "2020-09-21 14:35:40,972 : INFO : EPOCH 32 - PROGRESS: at 72.54% examples, 341282 words/s, in_qsize 12, out_qsize 0\n",
            "2020-09-21 14:35:41,974 : INFO : EPOCH 32 - PROGRESS: at 76.88% examples, 342063 words/s, in_qsize 15, out_qsize 0\n",
            "2020-09-21 14:35:43,077 : INFO : EPOCH 32 - PROGRESS: at 81.23% examples, 341003 words/s, in_qsize 15, out_qsize 0\n",
            "2020-09-21 14:35:44,086 : INFO : EPOCH 32 - PROGRESS: at 84.91% examples, 339012 words/s, in_qsize 14, out_qsize 5\n",
            "2020-09-21 14:35:45,089 : INFO : EPOCH 32 - PROGRESS: at 89.56% examples, 340994 words/s, in_qsize 14, out_qsize 1\n",
            "2020-09-21 14:35:46,163 : INFO : EPOCH 32 - PROGRESS: at 93.92% examples, 340542 words/s, in_qsize 15, out_qsize 0\n",
            "2020-09-21 14:35:47,169 : INFO : EPOCH 32 - PROGRESS: at 98.04% examples, 340378 words/s, in_qsize 14, out_qsize 1\n",
            "2020-09-21 14:35:47,409 : INFO : worker thread finished; awaiting finish of 7 more threads\n",
            "2020-09-21 14:35:47,441 : INFO : worker thread finished; awaiting finish of 6 more threads\n",
            "2020-09-21 14:35:47,446 : INFO : worker thread finished; awaiting finish of 5 more threads\n",
            "2020-09-21 14:35:47,465 : INFO : worker thread finished; awaiting finish of 4 more threads\n",
            "2020-09-21 14:35:47,505 : INFO : worker thread finished; awaiting finish of 3 more threads\n",
            "2020-09-21 14:35:47,506 : INFO : worker thread finished; awaiting finish of 2 more threads\n",
            "2020-09-21 14:35:47,507 : INFO : worker thread finished; awaiting finish of 1 more threads\n",
            "2020-09-21 14:35:47,516 : INFO : worker thread finished; awaiting finish of 0 more threads\n",
            "2020-09-21 14:35:47,519 : INFO : EPOCH - 32 : training on 9227204 raw words (8223457 effective words) took 24.0s, 342127 effective words/s\n",
            "2020-09-21 14:35:47,522 : INFO : training on a 295270528 raw words (263129220 effective words) took 771.1s, 341243 effective words/s\n"
          ],
          "name": "stderr"
        },
        {
          "output_type": "stream",
          "text": [
            "CPU times: user 24min 54s, sys: 6.87 s, total: 25min 1s\n",
            "Wall time: 12min 51s\n"
          ],
          "name": "stdout"
        },
        {
          "output_type": "execute_result",
          "data": {
            "text/plain": [
              "(263129220, 295270528)"
            ]
          },
          "metadata": {
            "tags": []
          },
          "execution_count": 24
        }
      ]
    },
    {
      "cell_type": "code",
      "metadata": {
        "trusted": true,
        "_uuid": "27cc2651c74227115d8bfd8c40e5618048e05edd",
        "id": "WUF3hfTcA59t",
        "colab_type": "code",
        "colab": {
          "base_uri": "https://localhost:8080/",
          "height": 310
        },
        "outputId": "ee717c60-fa2a-4aa1-e561-2f60ba07dec0"
      },
      "source": [
        "w2v_model.most_similar(\"love\")"
      ],
      "execution_count": 25,
      "outputs": [
        {
          "output_type": "stream",
          "text": [
            "/usr/local/lib/python3.6/dist-packages/ipykernel_launcher.py:1: DeprecationWarning: Call to deprecated `most_similar` (Method will be removed in 4.0.0, use self.wv.most_similar() instead).\n",
            "  \"\"\"Entry point for launching an IPython kernel.\n",
            "2020-09-21 14:36:13,181 : INFO : precomputing L2-norms of word weight vectors\n",
            "/usr/local/lib/python3.6/dist-packages/gensim/matutils.py:737: FutureWarning: Conversion of the second argument of issubdtype from `int` to `np.signedinteger` is deprecated. In future, it will be treated as `np.int64 == np.dtype(int).type`.\n",
            "  if np.issubdtype(vec.dtype, np.int):\n"
          ],
          "name": "stderr"
        },
        {
          "output_type": "execute_result",
          "data": {
            "text/plain": [
              "[('luv', 0.5677887797355652),\n",
              " ('loves', 0.5675803422927856),\n",
              " ('loved', 0.552112340927124),\n",
              " ('adore', 0.5208165645599365),\n",
              " ('amazing', 0.5197292566299438),\n",
              " ('looove', 0.48692429065704346),\n",
              " ('awesome', 0.4634316563606262),\n",
              " ('loveee', 0.4628618061542511),\n",
              " ('lovee', 0.45064693689346313),\n",
              " ('loooove', 0.4381788969039917)]"
            ]
          },
          "metadata": {
            "tags": []
          },
          "execution_count": 25
        }
      ]
    },
    {
      "cell_type": "markdown",
      "metadata": {
        "_uuid": "e13563644468037258598637b49373ca96b9b879",
        "id": "XCiK_FPlA59x",
        "colab_type": "text"
      },
      "source": [
        "### Tokenize Text"
      ]
    },
    {
      "cell_type": "code",
      "metadata": {
        "trusted": true,
        "_uuid": "6852bc709a7cd20173cbeeb218505078f8f37c57",
        "id": "jUmP-I1UA59y",
        "colab_type": "code",
        "colab": {
          "base_uri": "https://localhost:8080/",
          "height": 72
        },
        "outputId": "ad388548-1bff-4125-eb63-9699e96620f5"
      },
      "source": [
        "%%time\n",
        "tokenizer = Tokenizer()\n",
        "tokenizer.fit_on_texts(df_train.text)\n",
        "\n",
        "vocab_size = len(tokenizer.word_index) + 1\n",
        "print(\"Total words\", vocab_size)"
      ],
      "execution_count": 26,
      "outputs": [
        {
          "output_type": "stream",
          "text": [
            "Total words 290419\n",
            "CPU times: user 17.5 s, sys: 96 ms, total: 17.6 s\n",
            "Wall time: 17.7 s\n"
          ],
          "name": "stdout"
        }
      ]
    },
    {
      "cell_type": "code",
      "metadata": {
        "trusted": true,
        "_uuid": "45de439df3015030c71f84c2d170346936a1d68f",
        "id": "oZM1ybpYA591",
        "colab_type": "code",
        "colab": {
          "base_uri": "https://localhost:8080/",
          "height": 54
        },
        "outputId": "8cf8b6c2-bf81-4944-9b69-4fab158f74d8"
      },
      "source": [
        "%%time\n",
        "x_train = pad_sequences(tokenizer.texts_to_sequences(df_train.text), maxlen=SEQUENCE_LENGTH)\n",
        "x_test = pad_sequences(tokenizer.texts_to_sequences(df_test.text), maxlen=SEQUENCE_LENGTH)"
      ],
      "execution_count": 27,
      "outputs": [
        {
          "output_type": "stream",
          "text": [
            "CPU times: user 24.7 s, sys: 1.11 s, total: 25.8 s\n",
            "Wall time: 25.8 s\n"
          ],
          "name": "stdout"
        }
      ]
    },
    {
      "cell_type": "markdown",
      "metadata": {
        "_uuid": "03b35903fc6260e190d6928d240ef7432de117fc",
        "id": "TevV9mrkA595",
        "colab_type": "text"
      },
      "source": [
        "### Label Encoder "
      ]
    },
    {
      "cell_type": "code",
      "metadata": {
        "trusted": true,
        "_uuid": "33676e0efa39e97d89bd650b8b4eae933a22fbf0",
        "id": "4RxXiyp1A595",
        "colab_type": "code",
        "colab": {
          "base_uri": "https://localhost:8080/",
          "height": 0
        },
        "outputId": "dd0a6de7-265b-45d7-b415-c4a8275c347c"
      },
      "source": [
        "labels = df_train.target.unique().tolist()\n",
        "labels.append(NEUTRAL)\n",
        "labels"
      ],
      "execution_count": 28,
      "outputs": [
        {
          "output_type": "execute_result",
          "data": {
            "text/plain": [
              "['POSITIVE', 'NEGATIVE', 'NEUTRAL']"
            ]
          },
          "metadata": {
            "tags": []
          },
          "execution_count": 28
        }
      ]
    },
    {
      "cell_type": "code",
      "metadata": {
        "trusted": true,
        "_uuid": "04239a9bef76e7922fd86098a5601dfde8ee4665",
        "id": "7a4Pe08NA59-",
        "colab_type": "code",
        "colab": {
          "base_uri": "https://localhost:8080/",
          "height": 0
        },
        "outputId": "0c6bca0c-c7ef-4caa-9a3c-e2c89f497a12"
      },
      "source": [
        "encoder = LabelEncoder()\n",
        "encoder.fit(df_train.target.tolist())\n",
        "\n",
        "y_train = encoder.transform(df_train.target.tolist())\n",
        "y_test = encoder.transform(df_test.target.tolist())\n",
        "\n",
        "y_train = y_train.reshape(-1,1)\n",
        "y_test = y_test.reshape(-1,1)\n",
        "\n",
        "print(\"y_train\",y_train.shape)\n",
        "print(\"y_test\",y_test.shape)"
      ],
      "execution_count": 29,
      "outputs": [
        {
          "output_type": "stream",
          "text": [
            "y_train (1280000, 1)\n",
            "y_test (320000, 1)\n"
          ],
          "name": "stdout"
        }
      ]
    },
    {
      "cell_type": "code",
      "metadata": {
        "trusted": true,
        "_uuid": "04299c886911ca135583ab64878f213939a2990c",
        "id": "71HAmiu7A5-C",
        "colab_type": "code",
        "colab": {
          "base_uri": "https://localhost:8080/",
          "height": 0
        },
        "outputId": "a7f0ca30-0e4b-448a-d1ff-c6f7b69c18bd"
      },
      "source": [
        "print(\"x_train\", x_train.shape)\n",
        "print(\"y_train\", y_train.shape)\n",
        "print()\n",
        "print(\"x_test\", x_test.shape)\n",
        "print(\"y_test\", y_test.shape)"
      ],
      "execution_count": 30,
      "outputs": [
        {
          "output_type": "stream",
          "text": [
            "x_train (1280000, 300)\n",
            "y_train (1280000, 1)\n",
            "\n",
            "x_test (320000, 300)\n",
            "y_test (320000, 1)\n"
          ],
          "name": "stdout"
        }
      ]
    },
    {
      "cell_type": "code",
      "metadata": {
        "trusted": true,
        "_uuid": "232533fb27b7be99d9b8c2f8fb22c9c6bf121a6f",
        "id": "P2afCIN9A5-G",
        "colab_type": "code",
        "colab": {
          "base_uri": "https://localhost:8080/",
          "height": 0
        },
        "outputId": "43235a36-c4c2-4996-f21c-36429c022306"
      },
      "source": [
        "y_train[:10]"
      ],
      "execution_count": 31,
      "outputs": [
        {
          "output_type": "execute_result",
          "data": {
            "text/plain": [
              "array([[1],\n",
              "       [1],\n",
              "       [1],\n",
              "       [0],\n",
              "       [1],\n",
              "       [1],\n",
              "       [1],\n",
              "       [1],\n",
              "       [1],\n",
              "       [1]])"
            ]
          },
          "metadata": {
            "tags": []
          },
          "execution_count": 31
        }
      ]
    },
    {
      "cell_type": "markdown",
      "metadata": {
        "_uuid": "233c0ea94055a03e2e7df3e2a13d036ec963484f",
        "id": "ZkUFbjobA5-J",
        "colab_type": "text"
      },
      "source": [
        "### Embedding layer"
      ]
    },
    {
      "cell_type": "code",
      "metadata": {
        "trusted": true,
        "_uuid": "9ab488374b59e3f30f8b1ea92767d853c4846bac",
        "id": "-khcJ2HzA5-J",
        "colab_type": "code",
        "colab": {
          "base_uri": "https://localhost:8080/",
          "height": 0
        },
        "outputId": "49d408fe-f090-446c-fe46-b1a3f641fa24"
      },
      "source": [
        "embedding_matrix = np.zeros((vocab_size, W2V_SIZE))\n",
        "for word, i in tokenizer.word_index.items():\n",
        "  if word in w2v_model.wv:\n",
        "    embedding_matrix[i] = w2v_model.wv[word]\n",
        "print(embedding_matrix.shape)"
      ],
      "execution_count": 32,
      "outputs": [
        {
          "output_type": "stream",
          "text": [
            "(290419, 300)\n"
          ],
          "name": "stdout"
        }
      ]
    },
    {
      "cell_type": "code",
      "metadata": {
        "trusted": true,
        "_uuid": "833279d91e4286065968237fb5f2a0c2dd4d246c",
        "id": "o6viy3ImA5-M",
        "colab_type": "code",
        "colab": {}
      },
      "source": [
        "embedding_layer = Embedding(vocab_size, W2V_SIZE, weights=[embedding_matrix], input_length=SEQUENCE_LENGTH, trainable=False)"
      ],
      "execution_count": 33,
      "outputs": []
    },
    {
      "cell_type": "markdown",
      "metadata": {
        "_uuid": "b299ef78f94c2085942c993a2d58753a7476305a",
        "id": "4c4En0TbA5-P",
        "colab_type": "text"
      },
      "source": [
        "### Build Model"
      ]
    },
    {
      "cell_type": "code",
      "metadata": {
        "trusted": true,
        "_uuid": "e775ef4f1b74e6412457181383c39f2df554ef3f",
        "id": "TAHpFOvFA5-Q",
        "colab_type": "code",
        "colab": {
          "base_uri": "https://localhost:8080/",
          "height": 308
        },
        "outputId": "70c50df3-6e80-443c-86e3-7955a1ca7b35"
      },
      "source": [
        "model = Sequential()\n",
        "model.add(embedding_layer)\n",
        "model.add(Dropout(0.5))\n",
        "model.add(LSTM(100, dropout=0.2, recurrent_dropout=0.2))\n",
        "model.add(Dense(1, activation='sigmoid'))\n",
        "\n",
        "model.summary()"
      ],
      "execution_count": 34,
      "outputs": [
        {
          "output_type": "stream",
          "text": [
            "Model: \"sequential\"\n",
            "_________________________________________________________________\n",
            "Layer (type)                 Output Shape              Param #   \n",
            "=================================================================\n",
            "embedding (Embedding)        (None, 300, 300)          87125700  \n",
            "_________________________________________________________________\n",
            "dropout (Dropout)            (None, 300, 300)          0         \n",
            "_________________________________________________________________\n",
            "lstm (LSTM)                  (None, 100)               160400    \n",
            "_________________________________________________________________\n",
            "dense (Dense)                (None, 1)                 101       \n",
            "=================================================================\n",
            "Total params: 87,286,201\n",
            "Trainable params: 160,501\n",
            "Non-trainable params: 87,125,700\n",
            "_________________________________________________________________\n"
          ],
          "name": "stdout"
        }
      ]
    },
    {
      "cell_type": "markdown",
      "metadata": {
        "_uuid": "6bdfc0f6a6af5bebc0271d83dd7432c91001409b",
        "id": "L_mge7xtA5-c",
        "colab_type": "text"
      },
      "source": [
        "### Predict"
      ]
    },
    {
      "cell_type": "code",
      "metadata": {
        "trusted": true,
        "_uuid": "f0b0fa3d4b1bb14b3f5e3d169a369f3ebef29ae1",
        "id": "jLGr6gaAA5-d",
        "colab_type": "code",
        "colab": {}
      },
      "source": [
        "def decode_sentiment(score, include_neutral=True):\n",
        "    if include_neutral:        \n",
        "        label = NEUTRAL\n",
        "        if score <= SENTIMENT_THRESHOLDS[0]:\n",
        "            label = NEGATIVE\n",
        "        elif score >= SENTIMENT_THRESHOLDS[1]:\n",
        "            label = POSITIVE\n",
        "\n",
        "        return label\n",
        "    else:\n",
        "        return NEGATIVE if score < 0.5 else POSITIVE"
      ],
      "execution_count": 35,
      "outputs": []
    },
    {
      "cell_type": "code",
      "metadata": {
        "trusted": true,
        "_uuid": "ed4086d651f2f8cbed11d3c909a8873607d29a06",
        "id": "A2AggBmKA5-g",
        "colab_type": "code",
        "colab": {}
      },
      "source": [
        "def predict(text, include_neutral=True):\n",
        "    start_at = time.time()\n",
        "    # Tokenize text\n",
        "    x_test = pad_sequences(tokenizer.texts_to_sequences([text]), maxlen=SEQUENCE_LENGTH)\n",
        "    # Predict\n",
        "    score = model.predict([x_test])[0]\n",
        "    # Decode sentiment\n",
        "    label = decode_sentiment(score, include_neutral=include_neutral)\n",
        "\n",
        "    return {\"label\": label, \"score\": float(score),\n",
        "       \"elapsed_time\": time.time()-start_at}  "
      ],
      "execution_count": 36,
      "outputs": []
    },
    {
      "cell_type": "code",
      "metadata": {
        "trusted": true,
        "_uuid": "ca38b1e6c9b5acfed7467de2cf02a78333108872",
        "id": "puYqkPvdA5-i",
        "colab_type": "code",
        "colab": {
          "base_uri": "https://localhost:8080/",
          "height": 72
        },
        "outputId": "5386e26a-f7c5-4667-888d-6ddea825af07"
      },
      "source": [
        "predict(\"I love the music\")"
      ],
      "execution_count": 37,
      "outputs": [
        {
          "output_type": "execute_result",
          "data": {
            "text/plain": [
              "{'elapsed_time': 0.5802130699157715,\n",
              " 'label': 'NEUTRAL',\n",
              " 'score': 0.40379709005355835}"
            ]
          },
          "metadata": {
            "tags": []
          },
          "execution_count": 37
        }
      ]
    },
    {
      "cell_type": "code",
      "metadata": {
        "trusted": true,
        "_uuid": "0e5fe647533be0148850de349fea6ef6f71303d1",
        "id": "YKLRGchEA5-l",
        "colab_type": "code",
        "colab": {},
        "outputId": "28409f96-359f-4708-e19c-89e55927f8b1"
      },
      "source": [
        "predict(\"I hate the rain\")"
      ],
      "execution_count": null,
      "outputs": [
        {
          "output_type": "execute_result",
          "data": {
            "text/plain": [
              "{'label': 'NEGATIVE',\n",
              " 'score': 0.05240505933761597,\n",
              " 'elapsed_time': 0.0809934139251709}"
            ]
          },
          "metadata": {
            "tags": []
          },
          "execution_count": 60
        }
      ]
    },
    {
      "cell_type": "code",
      "metadata": {
        "trusted": true,
        "_uuid": "37064dffcc8920d34ccd54fac7c8b50e583a8269",
        "id": "6hPSkBSsA5-o",
        "colab_type": "code",
        "colab": {
          "base_uri": "https://localhost:8080/",
          "height": 72
        },
        "outputId": "b6df1953-e716-4d0d-88a8-a0db9e007147"
      },
      "source": [
        "predict(\"i don't know what i'm doing\")"
      ],
      "execution_count": 41,
      "outputs": [
        {
          "output_type": "execute_result",
          "data": {
            "text/plain": [
              "{'elapsed_time': 0.11736583709716797,\n",
              " 'label': 'NEUTRAL',\n",
              " 'score': 0.5161680579185486}"
            ]
          },
          "metadata": {
            "tags": []
          },
          "execution_count": 41
        }
      ]
    },
    {
      "cell_type": "markdown",
      "metadata": {
        "_uuid": "3ee72e47f84b6dbc32e02a783de5ec1661f157e1",
        "id": "YlctdOpDA5-q",
        "colab_type": "text"
      },
      "source": [
        "### Confusion Matrix"
      ]
    },
    {
      "cell_type": "code",
      "metadata": {
        "trusted": true,
        "_uuid": "0e920173eb05f04aecdd735bc5dff0f5be5f8d15",
        "id": "5kWQIOOtA5-r",
        "colab_type": "code",
        "colab": {
          "base_uri": "https://localhost:8080/",
          "height": 72
        },
        "outputId": "712b8d32-dd79-48f6-c09b-be9894c929e0"
      },
      "source": [
        "%%time\n",
        "y_pred_1d = []\n",
        "y_test_1d = list(df_test.target)\n",
        "scores = model.predict(x_test, verbose=1, batch_size=8000)\n",
        "y_pred_1d = [decode_sentiment(score, include_neutral=False) for score in scores]"
      ],
      "execution_count": 38,
      "outputs": [
        {
          "output_type": "stream",
          "text": [
            "40/40 [==============================] - 2150s 54s/step\n",
            "CPU times: user 26min 30s, sys: 26min, total: 52min 30s\n",
            "Wall time: 36min 19s\n"
          ],
          "name": "stdout"
        }
      ]
    },
    {
      "cell_type": "code",
      "metadata": {
        "trusted": true,
        "_uuid": "b3575191bb425ab871f3f41e83812ee84bb7e595",
        "id": "DHk5yVVxA5-u",
        "colab_type": "code",
        "colab": {}
      },
      "source": [
        "def plot_confusion_matrix(cm, classes,\n",
        "                          title='Confusion matrix',\n",
        "                          cmap=plt.cm.Blues):\n",
        "    \"\"\"\n",
        "    This function prints and plots the confusion matrix.\n",
        "    Normalization can be applied by setting `normalize=True`.\n",
        "    \"\"\"\n",
        "\n",
        "    cm = cm.astype('float') / cm.sum(axis=1)[:, np.newaxis]\n",
        "\n",
        "    plt.imshow(cm, interpolation='nearest', cmap=cmap)\n",
        "    plt.title(title, fontsize=30)\n",
        "    plt.colorbar()\n",
        "    tick_marks = np.arange(len(classes))\n",
        "    plt.xticks(tick_marks, classes, rotation=90, fontsize=22)\n",
        "    plt.yticks(tick_marks, classes, fontsize=22)\n",
        "\n",
        "    fmt = '.2f'\n",
        "    thresh = cm.max() / 2.\n",
        "    for i, j in itertools.product(range(cm.shape[0]), range(cm.shape[1])):\n",
        "        plt.text(j, i, format(cm[i, j], fmt),\n",
        "                 horizontalalignment=\"center\",\n",
        "                 color=\"white\" if cm[i, j] > thresh else \"black\")\n",
        "\n",
        "    plt.ylabel('True label', fontsize=25)\n",
        "    plt.xlabel('Predicted label', fontsize=25)"
      ],
      "execution_count": 42,
      "outputs": []
    },
    {
      "cell_type": "code",
      "metadata": {
        "trusted": true,
        "_uuid": "a57dc6f6211c144491a70f533225edfa95a2dc66",
        "id": "3oR6ENvbA5-z",
        "colab_type": "code",
        "colab": {
          "base_uri": "https://localhost:8080/",
          "height": 805
        },
        "outputId": "1ffa89ca-1749-41b3-ec19-35253203c7c5"
      },
      "source": [
        "%%time\n",
        "\n",
        "cnf_matrix = confusion_matrix(y_test_1d, y_pred_1d)\n",
        "plt.figure(figsize=(12,12))\n",
        "plot_confusion_matrix(cnf_matrix, classes=df_train.target.unique(), title=\"Confusion matrix\")\n",
        "plt.show()"
      ],
      "execution_count": 43,
      "outputs": [
        {
          "output_type": "display_data",
          "data": {
            "image/png": "[encoded data removed]",
            "text/plain": [
              "<Figure size 864x864 with 2 Axes>"
            ]
          },
          "metadata": {
            "tags": [],
            "needs_background": "light"
          }
        },
        {
          "output_type": "stream",
          "text": [
            "CPU times: user 1.22 s, sys: 13.9 ms, total: 1.24 s\n",
            "Wall time: 1.24 s\n"
          ],
          "name": "stdout"
        }
      ]
    },
    {
      "cell_type": "markdown",
      "metadata": {
        "_uuid": "e23b957348dcc084249d3cc7538b972da471c2cd",
        "id": "QSDsL258A5-2",
        "colab_type": "text"
      },
      "source": [
        "### Classification Report"
      ]
    },
    {
      "cell_type": "code",
      "metadata": {
        "trusted": true,
        "_uuid": "a7fe05b7caa1c984ff1deb0be2f7c6bc043df9f5",
        "id": "H4wbZulrA5-3",
        "colab_type": "code",
        "colab": {
          "base_uri": "https://localhost:8080/",
          "height": 181
        },
        "outputId": "1c691e68-e4fb-4ec6-ec2a-f24e5efacb2a"
      },
      "source": [
        "print(classification_report(y_test_1d, y_pred_1d))"
      ],
      "execution_count": 44,
      "outputs": [
        {
          "output_type": "stream",
          "text": [
            "              precision    recall  f1-score   support\n",
            "\n",
            "    NEGATIVE       0.51      0.67      0.58    159494\n",
            "    POSITIVE       0.53      0.37      0.43    160506\n",
            "\n",
            "    accuracy                           0.52    320000\n",
            "   macro avg       0.52      0.52      0.51    320000\n",
            "weighted avg       0.52      0.52      0.51    320000\n",
            "\n"
          ],
          "name": "stdout"
        }
      ]
    },
    {
      "cell_type": "markdown",
      "metadata": {
        "_uuid": "4eb300f0c6693a618587c7dcf32f77f5416cbfb9",
        "id": "dUNXqIhrA5-7",
        "colab_type": "text"
      },
      "source": [
        "### Accuracy Score"
      ]
    },
    {
      "cell_type": "code",
      "metadata": {
        "trusted": true,
        "_uuid": "5cf76e6e09f8a60ed25947932b94c772eda44d23",
        "id": "aNC0n-IZA5-8",
        "colab_type": "code",
        "colab": {
          "base_uri": "https://localhost:8080/",
          "height": 35
        },
        "outputId": "b4dead09-e6bc-483c-bbcf-dba819e6104b"
      },
      "source": [
        "accuracy_score(y_test_1d, y_pred_1d)"
      ],
      "execution_count": 45,
      "outputs": [
        {
          "output_type": "execute_result",
          "data": {
            "text/plain": [
              "0.517175"
            ]
          },
          "metadata": {
            "tags": []
          },
          "execution_count": 45
        }
      ]
    }
  ]
}